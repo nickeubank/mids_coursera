{
 "cells": [
  {
   "cell_type": "markdown",
   "metadata": {},
   "source": [
    "# Python: Numerical computing with `NumPy`\n",
    "\n",
    "So far, we've been talking to Python built in data types, classes, and modules, but this is a turning point where we begin to explore the world of numerical programming and data science that enhances Pythons built-in functionality with a series of important packages, namely [NumPy](http://www.numpy.org/), [matplotlib](https://matplotlib.org/), and [pandas](https://pandas.pydata.org/).\n",
    "\n",
    "Numpy is a library for computational programming. One of the main features is a new type of object, distinct from the built in Python objects we've talked about earlier such as the list. The core of numpy are arrays, specifically multidimensional arrays, which allow you to do all sorts of matrix mathematics extremely efficiently and much, much more.\n",
    "\n",
    "## Optional Reading\n",
    "For further reading, please read [Scipy Lecture Notes](https://www.scipy-lectures.org/intro/numpy/operations.html) and [Python Numpy Tutorial](http://cs231n.github.io/python-numpy-tutorial/#numpy) by Justin Johnson at Stanford's Vision Lab. Stanford's Vision Lab is a leader in the field of Computer Vision, and you'll encounter the work of the head of that Lab, Dr. Fei-Fei Li, as you explore the field of machine learning.\n",
    "\n",
    "## Attribution\n",
    "*This unit is modified from [SciPy Lecture Notes](http://www.scipy-lectures.org/index.html) under a Creative Commons CC BY 4.0 [license](https://creativecommons.org/licenses/by/4.0/).*\n",
    "\n",
    "## NumPy is different\n",
    "The most important thing to remember is that how we use NumPy will vary a little bit from how we use standard Python. It's critical to know both to successfully master Python-based data science, however. We'll walk through a lot of the key functionality, but it's common to mix up standard Python lists and NumPy array techniques as you're learning.\n",
    "\n",
    "## Importing NumPy"
   ]
  },
  {
   "cell_type": "markdown",
   "metadata": {},
   "source": [
    "As we discussed previously, there are many packages associated with Python. NumPy is one such package and the convention for importing it is:"
   ]
  },
  {
   "cell_type": "code",
   "execution_count": null,
   "metadata": {
    "collapsed": true
   },
   "outputs": [],
   "source": [
    "import numpy as np "
   ]
  },
  {
   "cell_type": "markdown",
   "metadata": {},
   "source": [
    "As a rule of thumb - place this import statement on the top of your file. You'll likely be using NumPy for most of your code, so always good to have it handy. You can access all of the NumPy functions and modules through dot notation as shown below to create a NumPy array:"
   ]
  },
  {
   "cell_type": "code",
   "execution_count": 33,
   "metadata": {},
   "outputs": [
    {
     "data": {
      "text/plain": [
       "array([0, 1, 2, 3])"
      ]
     },
     "execution_count": 33,
     "metadata": {},
     "output_type": "execute_result"
    }
   ],
   "source": [
    "import numpy as np         # This is the NumPy import convention using 'np'\n",
    "a = np.array([0, 1, 2, 3]) # This is how you access a numpy function - this function creates a NumPy array\n",
    "a"
   ]
  },
  {
   "cell_type": "markdown",
   "metadata": {},
   "source": [
    "## Creating Arrays \n",
    "NumPy arrays are memory-efficient containers that provides fast numerical operations. These can be one-dimensional. There are a number of helpful NumPy methods for determining the number of dimensions or the shape of the array:"
   ]
  },
  {
   "cell_type": "code",
   "execution_count": 35,
   "metadata": {},
   "outputs": [
    {
     "name": "stdout",
     "output_type": "stream",
     "text": [
      "[0 1 2 3]\n"
     ]
    }
   ],
   "source": [
    "a = np.array([0, 1, 2, 3]) # Create the array\n",
    "print(a)"
   ]
  },
  {
   "cell_type": "code",
   "execution_count": 36,
   "metadata": {},
   "outputs": [
    {
     "name": "stdout",
     "output_type": "stream",
     "text": [
      "1\n"
     ]
    }
   ],
   "source": [
    "print(a.ndim) # Get the number of dimensions of the array - for a 1-d array this is 1, for 2-d this is 2, etc."
   ]
  },
  {
   "cell_type": "code",
   "execution_count": 37,
   "metadata": {},
   "outputs": [
    {
     "name": "stdout",
     "output_type": "stream",
     "text": [
      "(4,)\n"
     ]
    }
   ],
   "source": [
    "print(a.shape) # Get the shape of the dimensions of the array (since this is a 1-d array, it's a one-element tuple)"
   ]
  },
  {
   "cell_type": "code",
   "execution_count": 38,
   "metadata": {},
   "outputs": [
    {
     "name": "stdout",
     "output_type": "stream",
     "text": [
      "4\n"
     ]
    }
   ],
   "source": [
    "print(len(a)) # And of course, we can still use some built-in functions here like len"
   ]
  },
  {
   "cell_type": "markdown",
   "metadata": {},
   "source": [
    "For a two dimensional array, we can also explore the array size using the same methods:"
   ]
  },
  {
   "cell_type": "code",
   "execution_count": 40,
   "metadata": {},
   "outputs": [
    {
     "name": "stdout",
     "output_type": "stream",
     "text": [
      "[[0 1 2]\n",
      " [3 4 5]]\n"
     ]
    }
   ],
   "source": [
    "b = np.array([[0, 1, 2], [3, 4, 5]])    # 2 x 3 array\n",
    "print(b)"
   ]
  },
  {
   "cell_type": "code",
   "execution_count": 41,
   "metadata": {},
   "outputs": [
    {
     "name": "stdout",
     "output_type": "stream",
     "text": [
      "2\n"
     ]
    }
   ],
   "source": [
    "print(b.ndim)"
   ]
  },
  {
   "cell_type": "code",
   "execution_count": 42,
   "metadata": {},
   "outputs": [
    {
     "name": "stdout",
     "output_type": "stream",
     "text": [
      "(2, 3)\n"
     ]
    }
   ],
   "source": [
    "print(b.shape)"
   ]
  },
  {
   "cell_type": "code",
   "execution_count": 43,
   "metadata": {},
   "outputs": [
    {
     "name": "stdout",
     "output_type": "stream",
     "text": [
      "2\n"
     ]
    }
   ],
   "source": [
    "print(len(b))     # note this returns the size of the first dimension"
   ]
  },
  {
   "cell_type": "markdown",
   "metadata": {},
   "source": [
    "And the same idea continues for 3-d arrays (and onto n-dimensional arrays)"
   ]
  },
  {
   "cell_type": "code",
   "execution_count": 44,
   "metadata": {},
   "outputs": [
    {
     "name": "stdout",
     "output_type": "stream",
     "text": [
      "[[[1]\n",
      "  [2]]\n",
      "\n",
      " [[3]\n",
      "  [4]]]\n"
     ]
    }
   ],
   "source": [
    "c = np.array([[[1], [2]], [[3], [4]]])  # Here's a three dimensional array\n",
    "print(c)"
   ]
  },
  {
   "cell_type": "code",
   "execution_count": 45,
   "metadata": {},
   "outputs": [
    {
     "name": "stdout",
     "output_type": "stream",
     "text": [
      "3\n"
     ]
    }
   ],
   "source": [
    "print(c.ndim)"
   ]
  },
  {
   "cell_type": "code",
   "execution_count": 46,
   "metadata": {},
   "outputs": [
    {
     "name": "stdout",
     "output_type": "stream",
     "text": [
      "(2, 2, 1)\n"
     ]
    }
   ],
   "source": [
    "print(c.shape)"
   ]
  },
  {
   "cell_type": "code",
   "execution_count": 47,
   "metadata": {},
   "outputs": [
    {
     "name": "stdout",
     "output_type": "stream",
     "text": [
      "2\n"
     ]
    }
   ],
   "source": [
    "print(len(c)) "
   ]
  },
  {
   "cell_type": "markdown",
   "metadata": {},
   "source": [
    "## Creating sequences of numbers"
   ]
  },
  {
   "cell_type": "markdown",
   "metadata": {},
   "source": [
    "Most of the time we don't enter data in arrays manually as shown above. We often load data from files, or end up generating data and sequences of numbers using NumPy functions. For example, `arange()` produces a list of values at regular intervals. It's important to note that the range is exclusive of the final value in the list and by default begins at zero (as do all indices in Python)."
   ]
  },
  {
   "cell_type": "code",
   "execution_count": 48,
   "metadata": {},
   "outputs": [
    {
     "name": "stdout",
     "output_type": "stream",
     "text": [
      "[0 1 2 3 4 5 6 7 8 9]\n"
     ]
    }
   ],
   "source": [
    "a = np.arange(10) # Starting at 0, print all values up to (but not including) 10, by a default step size of 1\n",
    "print(a)"
   ]
  },
  {
   "cell_type": "code",
   "execution_count": 49,
   "metadata": {},
   "outputs": [
    {
     "name": "stdout",
     "output_type": "stream",
     "text": [
      "[1 3 5 7]\n"
     ]
    }
   ],
   "source": [
    "b = np.arange(1, 9, 2) # Starting at 1, print all values up to (but not including) 9, by a step size of 2\n",
    "print(b)"
   ]
  },
  {
   "cell_type": "markdown",
   "metadata": {},
   "source": [
    "Alternatively, you can specify the number of numbers you'd like to generate linearly spaced between two values and have the `linspace()` function choose a step size for you:"
   ]
  },
  {
   "cell_type": "code",
   "execution_count": 50,
   "metadata": {},
   "outputs": [
    {
     "name": "stdout",
     "output_type": "stream",
     "text": [
      "[ 0.   0.2  0.4  0.6  0.8  1. ]\n"
     ]
    }
   ],
   "source": [
    "c = np.linspace(0, 1, 6)   # Starting at 0 and ending at 1, generate 6 evenly spaced numbers\n",
    "print(c)"
   ]
  },
  {
   "cell_type": "markdown",
   "metadata": {},
   "source": [
    "### Creating custom matrices"
   ]
  },
  {
   "cell_type": "markdown",
   "metadata": {},
   "source": [
    "There are a number of NumPy function for creating custom matrices to your specifications. For example, you can create an array of all ones (you just need to specify the size of the array you'd like)"
   ]
  },
  {
   "cell_type": "code",
   "execution_count": 9,
   "metadata": {},
   "outputs": [
    {
     "name": "stdout",
     "output_type": "stream",
     "text": [
      "[[ 1.  1.  1.]\n",
      " [ 1.  1.  1.]\n",
      " [ 1.  1.  1.]]\n"
     ]
    }
   ],
   "source": [
    "a = np.ones((3, 3))  # reminder: (3, 3) is a tuple\n",
    "print(a)"
   ]
  },
  {
   "cell_type": "markdown",
   "metadata": {},
   "source": [
    "Or you can get an array of zeros"
   ]
  },
  {
   "cell_type": "code",
   "execution_count": 13,
   "metadata": {},
   "outputs": [
    {
     "name": "stdout",
     "output_type": "stream",
     "text": [
      "[[ 0.  0.]\n",
      " [ 0.  0.]]\n"
     ]
    }
   ],
   "source": [
    "b = np.zeros((2, 2))\n",
    "print(b)"
   ]
  },
  {
   "cell_type": "markdown",
   "metadata": {
    "collapsed": true
   },
   "source": [
    "An identity matrix which is just a matrix with ones along the diagonal and zeros elsewhere."
   ]
  },
  {
   "cell_type": "code",
   "execution_count": 14,
   "metadata": {},
   "outputs": [
    {
     "name": "stdout",
     "output_type": "stream",
     "text": [
      "[[ 1.  0.  0.]\n",
      " [ 0.  1.  0.]\n",
      " [ 0.  0.  1.]]\n"
     ]
    }
   ],
   "source": [
    "c = np.eye(3)\n",
    "print(c)"
   ]
  },
  {
   "cell_type": "markdown",
   "metadata": {
    "collapsed": true
   },
   "source": [
    "Or a diagonal matrix specifying the values along the diagonal."
   ]
  },
  {
   "cell_type": "code",
   "execution_count": 15,
   "metadata": {},
   "outputs": [
    {
     "name": "stdout",
     "output_type": "stream",
     "text": [
      "[[1 0 0 0]\n",
      " [0 2 0 0]\n",
      " [0 0 3 0]\n",
      " [0 0 0 4]]\n"
     ]
    }
   ],
   "source": [
    "d = np.diag(np.array([1, 2, 3, 4]))\n",
    "print(d)"
   ]
  },
  {
   "cell_type": "markdown",
   "metadata": {},
   "source": [
    "## Random number generation"
   ]
  },
  {
   "cell_type": "markdown",
   "metadata": {},
   "source": [
    "Creating random numbers is useful for many aspect of data analysis and statistical analyses. For this we typically use the NumPy `random` module which has many helpful functions for generating random numbers. \n",
    "\n",
    "We can also easily create arrays of random numbers uniformly distributed between 0 and 1 (if this sounds unfamiliar, you'll explore it more in the statistics component of this course)"
   ]
  },
  {
   "cell_type": "code",
   "execution_count": 51,
   "metadata": {},
   "outputs": [
    {
     "name": "stdout",
     "output_type": "stream",
     "text": [
      "[ 0.53896468  0.21692611  0.0940325   0.49319938]\n"
     ]
    }
   ],
   "source": [
    "a = np.random.rand(4)       # uniformly distributed numbers between 0 and 1\n",
    "print(a)"
   ]
  },
  {
   "cell_type": "code",
   "execution_count": 52,
   "metadata": {},
   "outputs": [
    {
     "name": "stdout",
     "output_type": "stream",
     "text": [
      "[[ 0.48845168  0.46477088  0.6817313   0.56911317]\n",
      " [ 0.35675968  0.21181415  0.21403554  0.89906183]\n",
      " [ 0.85291504  0.96052645  0.14525873  0.47059806]\n",
      " [ 0.9737844   0.51138211  0.16393753  0.04320574]]\n"
     ]
    }
   ],
   "source": [
    "a = np.random.rand(4,4)       # uniformly distributed numbers between 0 and 1\n",
    "print(a)"
   ]
  },
  {
   "cell_type": "markdown",
   "metadata": {},
   "source": [
    "A very common type of random number is a Gaussian, or normal. You can generate normally distributed random numbers just as easily:"
   ]
  },
  {
   "cell_type": "code",
   "execution_count": 53,
   "metadata": {},
   "outputs": [
    {
     "name": "stdout",
     "output_type": "stream",
     "text": [
      "[-0.75826747  0.7269259  -0.49645876  0.11530049]\n"
     ]
    }
   ],
   "source": [
    "b = np.random.randn(4)      # Gaussian\n",
    "print(b)"
   ]
  },
  {
   "cell_type": "markdown",
   "metadata": {},
   "source": [
    "If we run the above code again, we'll get different values since the numbers are random"
   ]
  },
  {
   "cell_type": "code",
   "execution_count": 54,
   "metadata": {},
   "outputs": [
    {
     "name": "stdout",
     "output_type": "stream",
     "text": [
      "[-0.54388415 -0.2329432   1.6788681  -0.19156042]\n"
     ]
    }
   ],
   "source": [
    "b = np.random.randn(4)      # Gaussian\n",
    "print(b)"
   ]
  },
  {
   "cell_type": "markdown",
   "metadata": {},
   "source": [
    "However, if we want reproducible results, this behavior isn't desirable. We can fix this by setting what's known as a random seed. This generates random numbers, but if the random seed is set (meaning the `np.rand.seed` function is called), the code that follows it will produce the same random numbers each time it is executed. Below we demonstrate this by setting the random seed to a value of 42 (it doesn't matter what the seed is set to, as long as the two pieces of code have the same seed)."
   ]
  },
  {
   "cell_type": "code",
   "execution_count": 55,
   "metadata": {},
   "outputs": [
    {
     "name": "stdout",
     "output_type": "stream",
     "text": [
      "[ 0.49671415 -0.1382643   0.64768854  1.52302986]\n"
     ]
    }
   ],
   "source": [
    "np.random.seed(42)        # Setting the random seed\n",
    "b = np.random.randn(4)      # Gaussian\n",
    "print(b)"
   ]
  },
  {
   "cell_type": "code",
   "execution_count": 56,
   "metadata": {},
   "outputs": [
    {
     "name": "stdout",
     "output_type": "stream",
     "text": [
      "[ 0.49671415 -0.1382643   0.64768854  1.52302986]\n"
     ]
    }
   ],
   "source": [
    "np.random.seed(42)        # Setting the random seed\n",
    "b = np.random.randn(4)      # Gaussian\n",
    "print(b)"
   ]
  },
  {
   "cell_type": "markdown",
   "metadata": {},
   "source": [
    "## NumPy data types\n",
    "NumPy arrays have their own data types distinct from the built in Python data types.\n",
    "\n",
    "You may have noticed that, in some instances, array elements are displayed with a trailing dot (e.g. 2. vs 2). This is due to a difference in the data-type used:"
   ]
  },
  {
   "cell_type": "code",
   "execution_count": 18,
   "metadata": {},
   "outputs": [
    {
     "name": "stdout",
     "output_type": "stream",
     "text": [
      "int32\n",
      "float64\n"
     ]
    }
   ],
   "source": [
    "a = np.array([1, 2, 3])\n",
    "print(a.dtype)\n",
    "\n",
    "b = np.array([1., 2., 3.])\n",
    "print(b.dtype)"
   ]
  },
  {
   "cell_type": "markdown",
   "metadata": {},
   "source": [
    "Different data-types allow us to store data more compactly in memory, but most of the time we simply work with floating point numbers. Note that, in the example above, NumPy auto-detects the data-type from the input.\n",
    "\n",
    "You can explicitly specify which data-type you want:"
   ]
  },
  {
   "cell_type": "code",
   "execution_count": 19,
   "metadata": {},
   "outputs": [
    {
     "name": "stdout",
     "output_type": "stream",
     "text": [
      "float64\n"
     ]
    }
   ],
   "source": [
    "c = np.array([1, 2, 3], dtype=float)\n",
    "print(c.dtype)"
   ]
  },
  {
   "cell_type": "markdown",
   "metadata": {},
   "source": [
    "And there are other types:"
   ]
  },
  {
   "cell_type": "code",
   "execution_count": 20,
   "metadata": {},
   "outputs": [
    {
     "name": "stdout",
     "output_type": "stream",
     "text": [
      "bool\n"
     ]
    }
   ],
   "source": [
    "e = np.array([True, False, False, True])\n",
    "print(e.dtype)"
   ]
  },
  {
   "cell_type": "code",
   "execution_count": 24,
   "metadata": {},
   "outputs": [
    {
     "name": "stdout",
     "output_type": "stream",
     "text": [
      "<U7\n"
     ]
    }
   ],
   "source": [
    "f = np.array(['Bonjour', 'Hello', 'Hallo'])\n",
    "print(f.dtype)     # <--- strings containing max. 7 letters "
   ]
  },
  {
   "cell_type": "markdown",
   "metadata": {},
   "source": [
    "## Array indexing and slicing with NumPy\n",
    "The items of an array can be accessed and assigned to the same way as other Python sequences (e.g. lists):"
   ]
  },
  {
   "cell_type": "code",
   "execution_count": 28,
   "metadata": {},
   "outputs": [
    {
     "name": "stdout",
     "output_type": "stream",
     "text": [
      "[0 1 2 3 4 5 6 7 8 9]\n",
      "1\n",
      "(0, 2, 9)\n"
     ]
    }
   ],
   "source": [
    "a = np.arange(10)\n",
    "print(a)\n",
    "print(a[1])\n",
    "print((a[0], a[2], a[-1]))"
   ]
  },
  {
   "cell_type": "markdown",
   "metadata": {},
   "source": [
    "**Note: Indices begin at 0, like other Python sequences (and C/C++). In contrast, in Fortran or Matlab, indices begin at 1.**"
   ]
  },
  {
   "cell_type": "markdown",
   "metadata": {},
   "source": [
    "You can reverse a sequence:"
   ]
  },
  {
   "cell_type": "code",
   "execution_count": 30,
   "metadata": {},
   "outputs": [
    {
     "name": "stdout",
     "output_type": "stream",
     "text": [
      "[9 8 7 6 5 4 3 2 1 0]\n"
     ]
    }
   ],
   "source": [
    "print(a[::-1])"
   ]
  },
  {
   "cell_type": "markdown",
   "metadata": {},
   "source": [
    "For multidimensional arrays, indexes are tuples of integers:"
   ]
  },
  {
   "cell_type": "code",
   "execution_count": 32,
   "metadata": {},
   "outputs": [
    {
     "name": "stdout",
     "output_type": "stream",
     "text": [
      "[[0 0 0]\n",
      " [0 1 0]\n",
      " [0 0 2]]\n",
      "1\n",
      "1\n"
     ]
    }
   ],
   "source": [
    "a = np.diag(np.arange(3))\n",
    "print(a)\n",
    "print(a[(1, 1)])\n",
    "print(a[1,1]) # This is equivalent to the above code"
   ]
  },
  {
   "cell_type": "code",
   "execution_count": 33,
   "metadata": {},
   "outputs": [
    {
     "name": "stdout",
     "output_type": "stream",
     "text": [
      "[[ 0  0  0]\n",
      " [ 0  1  0]\n",
      " [ 0 10  2]]\n"
     ]
    }
   ],
   "source": [
    "a[2, 1] = 10 # third line, second column\n",
    "print(a)"
   ]
  },
  {
   "cell_type": "code",
   "execution_count": 34,
   "metadata": {},
   "outputs": [
    {
     "name": "stdout",
     "output_type": "stream",
     "text": [
      "[0 1 0]\n"
     ]
    }
   ],
   "source": [
    "print(a[1]) # Return the second row"
   ]
  },
  {
   "cell_type": "markdown",
   "metadata": {},
   "source": [
    "**Note: In 2D, the first dimension corresponds to rows, the second to columns.**"
   ]
  },
  {
   "cell_type": "markdown",
   "metadata": {},
   "source": [
    "Arrays, like other Python sequences can also be sliced:"
   ]
  },
  {
   "cell_type": "code",
   "execution_count": 37,
   "metadata": {},
   "outputs": [
    {
     "name": "stdout",
     "output_type": "stream",
     "text": [
      "[0 1 2 3 4 5 6 7 8 9]\n"
     ]
    }
   ],
   "source": [
    "a = np.arange(10)\n",
    "print(a)"
   ]
  },
  {
   "cell_type": "code",
   "execution_count": 38,
   "metadata": {},
   "outputs": [
    {
     "name": "stdout",
     "output_type": "stream",
     "text": [
      "[2 5 8]\n"
     ]
    }
   ],
   "source": [
    "print(a[2:9:3]) # [start:end:step]"
   ]
  },
  {
   "cell_type": "markdown",
   "metadata": {},
   "source": [
    "Note that the last index is not included"
   ]
  },
  {
   "cell_type": "code",
   "execution_count": 39,
   "metadata": {},
   "outputs": [
    {
     "name": "stdout",
     "output_type": "stream",
     "text": [
      "[0 1 2 3 4 5 6 7 8 9]\n"
     ]
    },
    {
     "data": {
      "text/plain": [
       "array([2, 5, 8])"
      ]
     },
     "execution_count": 39,
     "metadata": {},
     "output_type": "execute_result"
    }
   ],
   "source": [
    "a = np.arange(10)\n",
    "print(a)\n",
    "\n",
    "a[2:9:3] # [start:end:step]"
   ]
  },
  {
   "cell_type": "markdown",
   "metadata": {},
   "source": [
    "All three slice components are not required: by default, start is 0, end is the last and step is 1:"
   ]
  },
  {
   "cell_type": "code",
   "execution_count": 41,
   "metadata": {},
   "outputs": [
    {
     "name": "stdout",
     "output_type": "stream",
     "text": [
      "[1 2]\n",
      "[0 2 4 6 8]\n",
      "[3 4 5 6 7 8 9]\n"
     ]
    }
   ],
   "source": [
    "print(a[1:3])\n",
    "print(a[::2])\n",
    "print(a[3:])"
   ]
  },
  {
   "cell_type": "markdown",
   "metadata": {},
   "source": [
    "A small illustrated summary of NumPy indexing and slicing:\n",
    "\n",
    "<img src=\"img/numpy_indexing.png\">\n",
    "\n",
    "*Source: Image from [Scipy Lecture Notes](https://www.scipy-lectures.org/intro/numpy/array_object.html)*"
   ]
  },
  {
   "cell_type": "markdown",
   "metadata": {},
   "source": [
    "You can also combine assignment and slicing"
   ]
  },
  {
   "cell_type": "code",
   "execution_count": 42,
   "metadata": {},
   "outputs": [
    {
     "name": "stdout",
     "output_type": "stream",
     "text": [
      "[0 1 2 3 4 5 6 7 8 9]\n",
      "[ 0  1  2  3  4 10 10 10 10 10]\n"
     ]
    }
   ],
   "source": [
    "a = np.arange(10)\n",
    "print(a)\n",
    "a[5:] = 10\n",
    "print(a)"
   ]
  },
  {
   "cell_type": "code",
   "execution_count": 43,
   "metadata": {},
   "outputs": [
    {
     "name": "stdout",
     "output_type": "stream",
     "text": [
      "[0 1 2 3 4]\n",
      "[0 1 2 3 4 4 3 2 1 0]\n"
     ]
    }
   ],
   "source": [
    "b = np.arange(5)\n",
    "print(b)\n",
    "a[5:] = b[::-1]\n",
    "print(a)"
   ]
  },
  {
   "cell_type": "markdown",
   "metadata": {},
   "source": [
    "## Copies and views\n",
    "A slicing operation creates a view on the original array, which is just a way of accessing array data. Thus the original array is not copied in memory. When modifying the view, the original array is modified as well:"
   ]
  },
  {
   "cell_type": "code",
   "execution_count": 45,
   "metadata": {},
   "outputs": [
    {
     "name": "stdout",
     "output_type": "stream",
     "text": [
      "[0 1 2 3 4 5 6 7 8 9]\n",
      "[0 2 4 6 8]\n",
      "[12  2  4  6  8]\n",
      "[12  1  2  3  4  5  6  7  8  9]\n"
     ]
    }
   ],
   "source": [
    "a = np.arange(10)\n",
    "print(a)\n",
    "\n",
    "b = a[::2]\n",
    "print(b)\n",
    "\n",
    "b[0] = 12\n",
    "print(b)\n",
    "print(a)  # Careful not to overwrite your original data!"
   ]
  },
  {
   "cell_type": "markdown",
   "metadata": {},
   "source": [
    "You can avoid this overwriting process by creating a copy"
   ]
  },
  {
   "cell_type": "code",
   "execution_count": 46,
   "metadata": {},
   "outputs": [
    {
     "name": "stdout",
     "output_type": "stream",
     "text": [
      "[0 1 2 3 4 5 6 7 8 9]\n",
      "[0 2 4 6 8]\n",
      "[12  2  4  6  8]\n",
      "[0 1 2 3 4 5 6 7 8 9]\n"
     ]
    }
   ],
   "source": [
    "a = np.arange(10)\n",
    "print(a)\n",
    "\n",
    "c = a[::2].copy()  # force a copy, preventing the original data from being overwritten\n",
    "print(c)\n",
    "\n",
    "c[0] = 12\n",
    "print(c)\n",
    "print(a)"
   ]
  },
  {
   "cell_type": "markdown",
   "metadata": {},
   "source": [
    "## Fancy indexing\n",
    "NumPy arrays can be indexed with slices, but also with boolean or integer arrays (**masks**). This method is called **fancy indexing**. It creates **copies not views**.\n",
    "\n",
    "### Boolean masks\n",
    "Let's say we wanted to determine all of the values greater than 10 in a set of random integers, and set all of those values to a value of -1."
   ]
  },
  {
   "cell_type": "code",
   "execution_count": 48,
   "metadata": {},
   "outputs": [
    {
     "name": "stdout",
     "output_type": "stream",
     "text": [
      "[10  3  8  0 19 10 11  9 10  6  0 20 12  7 14]\n"
     ]
    }
   ],
   "source": [
    "# Generate the random array of integers\n",
    "np.random.seed(3) # We set a seed for demonstration purposes so that the random numbers are the same\n",
    "a = np.random.randint(0, 21, 15)\n",
    "print(a)"
   ]
  },
  {
   "cell_type": "markdown",
   "metadata": {},
   "source": [
    "Let's create a binary mask that represents whether the number is greater than 10"
   ]
  },
  {
   "cell_type": "code",
   "execution_count": 50,
   "metadata": {},
   "outputs": [
    {
     "name": "stdout",
     "output_type": "stream",
     "text": [
      "[False False False False  True False  True False False False False  True\n",
      "  True False  True]\n"
     ]
    }
   ],
   "source": [
    "mask = a > 10\n",
    "print(mask)"
   ]
  },
  {
   "cell_type": "markdown",
   "metadata": {},
   "source": [
    "We can use fancy indexing to just look at the values greater than 10. In this case, if the `mask` value is `True`, then the corresponding entry in the array `a` is returned, otherwise, it is not included."
   ]
  },
  {
   "cell_type": "code",
   "execution_count": 51,
   "metadata": {},
   "outputs": [
    {
     "name": "stdout",
     "output_type": "stream",
     "text": [
      "[19 11 20 12 14]\n"
     ]
    }
   ],
   "source": [
    "print(a[mask])"
   ]
  },
  {
   "cell_type": "markdown",
   "metadata": {},
   "source": [
    "This technique can be EXTREMELY helpful for data science computation. Now let's finish this by replacing each of these values with a value of -1"
   ]
  },
  {
   "cell_type": "code",
   "execution_count": 52,
   "metadata": {},
   "outputs": [
    {
     "name": "stdout",
     "output_type": "stream",
     "text": [
      "[10  3  8  0 -1 10 -1  9 10  6  0 -1 -1  7 -1]\n"
     ]
    }
   ],
   "source": [
    "a[mask] = -1\n",
    "print(a)"
   ]
  },
  {
   "cell_type": "markdown",
   "metadata": {},
   "source": [
    "### Indexing with an array of integers\n",
    "Indexing with integers allows us reference an entry in an array by the integer value (or values) associated with its position in the matrix. We can reference the same index multiple times and in a different order than the original array"
   ]
  },
  {
   "cell_type": "code",
   "execution_count": 53,
   "metadata": {},
   "outputs": [
    {
     "name": "stdout",
     "output_type": "stream",
     "text": [
      "[ 0 10 20 30 40 50 60 70 80 90]\n"
     ]
    }
   ],
   "source": [
    "# Let's start with a small array\n",
    "a = np.arange(0, 100, 10)\n",
    "print(a)"
   ]
  },
  {
   "cell_type": "markdown",
   "metadata": {},
   "source": [
    "Let's extract the 3rd and 5th entry in the array (remember that indexing starts at 0)"
   ]
  },
  {
   "cell_type": "code",
   "execution_count": 54,
   "metadata": {},
   "outputs": [
    {
     "data": {
      "text/plain": [
       "array([20, 40])"
      ]
     },
     "execution_count": 54,
     "metadata": {},
     "output_type": "execute_result"
    }
   ],
   "source": [
    "a[[2,4]]"
   ]
  },
  {
   "cell_type": "markdown",
   "metadata": {},
   "source": [
    "We can get much fancier than this, though:"
   ]
  },
  {
   "cell_type": "code",
   "execution_count": 55,
   "metadata": {},
   "outputs": [
    {
     "name": "stdout",
     "output_type": "stream",
     "text": [
      "[20 30 20 40 20]\n"
     ]
    }
   ],
   "source": [
    "print(a[[2, 3, 2, 4, 2]])"
   ]
  },
  {
   "cell_type": "markdown",
   "metadata": {},
   "source": [
    "And like the Boolean indexing example, we can assign new values using this technique"
   ]
  },
  {
   "cell_type": "code",
   "execution_count": 57,
   "metadata": {},
   "outputs": [
    {
     "name": "stdout",
     "output_type": "stream",
     "text": [
      "[ 0 10 20 30 40 50 60 -1 80 -1]\n"
     ]
    }
   ],
   "source": [
    "a[[9,7]] = -1\n",
    "print(a)"
   ]
  },
  {
   "cell_type": "markdown",
   "metadata": {},
   "source": [
    "When a new array is created by indexing with an array of integers, the new array has the same shape as the array of integers:"
   ]
  },
  {
   "cell_type": "code",
   "execution_count": 58,
   "metadata": {},
   "outputs": [
    {
     "name": "stdout",
     "output_type": "stream",
     "text": [
      "[0 1 2 3 4 5 6 7 8 9]\n",
      "(2, 2)\n",
      "[[3 4]\n",
      " [9 7]]\n"
     ]
    }
   ],
   "source": [
    "a = np.arange(10) # Original array\n",
    "print(a)\n",
    "\n",
    "my_integer_index = np.array([[3, 4],[9, 7]]) # The index we'll use to reference the array values\n",
    "print(my_integer_index.shape)\n",
    "\n",
    "print(a[my_integer_index]) # Our new array with integers referenced, in the same shape as the index"
   ]
  },
  {
   "cell_type": "markdown",
   "metadata": {},
   "source": [
    "A small illustrated summary of NumPy fancy indexing for a two-dimensional array:\n",
    "\n",
    "<img src=\"img/numpy_fancy_indexing.png\">\n",
    "\n",
    "*Source: Image from [Scipy Lecture Notes](https://www.scipy-lectures.org/intro/numpy/array_object.html)*"
   ]
  },
  {
   "cell_type": "markdown",
   "metadata": {},
   "source": [
    "## Elementwise array operations\n",
    "When working with NumPy arrays, you'll often want to perform basic operations on ALL of the elements in a matrix: adding to them, multiplying them by a constant, exponentiating, etc. This is extremely easy with NumPy arrays."
   ]
  },
  {
   "cell_type": "code",
   "execution_count": 62,
   "metadata": {},
   "outputs": [
    {
     "name": "stdout",
     "output_type": "stream",
     "text": [
      "[1 2 3 4]\n"
     ]
    }
   ],
   "source": [
    "a = np.array([1, 2, 3, 4])\n",
    "print(a)"
   ]
  },
  {
   "cell_type": "code",
   "execution_count": 66,
   "metadata": {},
   "outputs": [
    {
     "name": "stdout",
     "output_type": "stream",
     "text": [
      "[2 3 4 5]\n"
     ]
    }
   ],
   "source": [
    "print(a + 1)"
   ]
  },
  {
   "cell_type": "code",
   "execution_count": 69,
   "metadata": {},
   "outputs": [
    {
     "name": "stdout",
     "output_type": "stream",
     "text": [
      "[2 4 6 8]\n"
     ]
    }
   ],
   "source": [
    "print(a * 2)"
   ]
  },
  {
   "cell_type": "code",
   "execution_count": 67,
   "metadata": {},
   "outputs": [
    {
     "name": "stdout",
     "output_type": "stream",
     "text": [
      "[ 1  4  9 16]\n"
     ]
    }
   ],
   "source": [
    "print(a**2)    # Can raise all terms in an array to a power"
   ]
  },
  {
   "cell_type": "code",
   "execution_count": 68,
   "metadata": {},
   "outputs": [
    {
     "name": "stdout",
     "output_type": "stream",
     "text": [
      "[ 2  4  8 16]\n"
     ]
    }
   ],
   "source": [
    "print(2**a)    # Can raise a scalar to each of the powers in an array"
   ]
  },
  {
   "cell_type": "markdown",
   "metadata": {},
   "source": [
    "When working with two NumPy arrays of the same size, standard arithmetic operations are all performed elementwise:"
   ]
  },
  {
   "cell_type": "code",
   "execution_count": 73,
   "metadata": {},
   "outputs": [
    {
     "name": "stdout",
     "output_type": "stream",
     "text": [
      "[1 2 3 4]\n",
      "[2 2 2 2]\n"
     ]
    }
   ],
   "source": [
    "a = np.array([1, 2, 3, 4])\n",
    "b = np.full(4,2)          # handy function to make an array of all the same value\n",
    "print(a)\n",
    "print(b)"
   ]
  },
  {
   "cell_type": "code",
   "execution_count": 74,
   "metadata": {},
   "outputs": [
    {
     "name": "stdout",
     "output_type": "stream",
     "text": [
      "[3 4 5 6]\n"
     ]
    }
   ],
   "source": [
    "print(a + b)"
   ]
  },
  {
   "cell_type": "code",
   "execution_count": 75,
   "metadata": {},
   "outputs": [
    {
     "name": "stdout",
     "output_type": "stream",
     "text": [
      "[2 4 6 8]\n"
     ]
    }
   ],
   "source": [
    "print(a * b)"
   ]
  },
  {
   "cell_type": "code",
   "execution_count": 76,
   "metadata": {},
   "outputs": [
    {
     "name": "stdout",
     "output_type": "stream",
     "text": [
      "[ 0.5  1.   1.5  2. ]\n"
     ]
    }
   ],
   "source": [
    "print(a / b)"
   ]
  },
  {
   "cell_type": "code",
   "execution_count": 78,
   "metadata": {},
   "outputs": [
    {
     "name": "stdout",
     "output_type": "stream",
     "text": [
      "[ 2  6 14 30]\n"
     ]
    }
   ],
   "source": [
    "print(2 ** (a + 1) - b)"
   ]
  },
  {
   "cell_type": "markdown",
   "metadata": {},
   "source": [
    "## Vectorized code and performance improvements\n",
    "\n",
    "Vectorized code means working with operations directly on arrays of data rather than looping through the elements of those arrays. Vectorized code in NumPy is many times faster than non-vectorized Python code. \n",
    "\n",
    "These operations are much faster than if you did them in pure Python. Note in the speed boost from the example below:"
   ]
  },
  {
   "cell_type": "code",
   "execution_count": 8,
   "metadata": {},
   "outputs": [
    {
     "name": "stdout",
     "output_type": "stream",
     "text": [
      "Elapsed time = 1.99628 ms\n"
     ]
    }
   ],
   "source": [
    "import time\n",
    "\n",
    "# Using NumPy\n",
    "a = np.arange(1000000)\n",
    "\n",
    "start_time = time.time()\n",
    "\n",
    "a + 1\n",
    "\n",
    "end_time   = time.time()\n",
    "print('Elapsed time = {:0.5f} ms'.format(1000 * (end_time - start_time)))"
   ]
  },
  {
   "cell_type": "code",
   "execution_count": 9,
   "metadata": {},
   "outputs": [
    {
     "name": "stdout",
     "output_type": "stream",
     "text": [
      "Elapsed time = 163.76615 ms\n"
     ]
    }
   ],
   "source": [
    "# Using Python without NumPy\n",
    "start_time = time.time()\n",
    "\n",
    "[i+1 for i in a] \n",
    "\n",
    "end_time   = time.time()\n",
    "print('Elapsed time = {:0.5f} ms'.format(1000 * (end_time - start_time)))"
   ]
  },
  {
   "cell_type": "markdown",
   "metadata": {},
   "source": [
    "### Vectorized example\n",
    "Let's say we have an array of 10 million random numbers. We want to compute the sum of squares of that array of data:\n",
    "\n",
    "$y = \\sum_{i=1}^N x_i^2$\n",
    "\n",
    "How do we go about this? Think about this for yourself for a moment, and try it in Spyder before continuing on."
   ]
  },
  {
   "cell_type": "markdown",
   "metadata": {},
   "source": [
    "We'll start by creating an array using the NumPy random.randn module."
   ]
  },
  {
   "cell_type": "code",
   "execution_count": 5,
   "metadata": {
    "collapsed": true
   },
   "outputs": [],
   "source": [
    "import numpy as np\n",
    "import time\n",
    "\n",
    "# Generate the random samples - this will be our dataset\n",
    "np.random.seed(42)\n",
    "x = np.random.randn(10000000)"
   ]
  },
  {
   "cell_type": "markdown",
   "metadata": {},
   "source": [
    "Next, we'll compute the sum of the squares first in a for loop. Let's time how long it takes to compute each and report the results and report the output. (We'll compare this time to the vectorized approach next)\n",
    "\n",
    "*Note: a reminder that all code should be well commented, properly formatted. We'll use the `print()` function to help with that here*"
   ]
  },
  {
   "cell_type": "code",
   "execution_count": 15,
   "metadata": {},
   "outputs": [
    {
     "name": "stdout",
     "output_type": "stream",
     "text": [
      "Sum of squares = 10000271.6721\n",
      "Time [sec] (non-vectorized): 3.6572\n"
     ]
    }
   ],
   "source": [
    "# Compute the sum of squares in non-vectorized way (using a for loop):\n",
    "t0 = time.time()\n",
    "sum_of_squares_nonvectorized = 0\n",
    "for value in x:\n",
    "    sum_of_squares_nonvectorized += value**2\n",
    "t1 = time.time()\n",
    "time_nonvectorized = t1 - t0  \n",
    "\n",
    "print('Sum of squares = {:0.4f}'.format(sum_of_squares_nonvectorized))\n",
    "print('Time [sec] (non-vectorized): {:0.4f}'.format(time_nonvectorized))"
   ]
  },
  {
   "cell_type": "code",
   "execution_count": 16,
   "metadata": {},
   "outputs": [
    {
     "name": "stdout",
     "output_type": "stream",
     "text": [
      "Sum of squares = 10000271.6721\n",
      "Time [sec] (vectorized):     0.0469\n"
     ]
    }
   ],
   "source": [
    "# Compute the sum of squares the vectorized way (using numpy)\n",
    "t0 = time.time()\n",
    "sum_of_squares_vectorized = np.sum(x ** 2)\n",
    "t1 = time.time()\n",
    "time_vectorized = t1 - t0\n",
    "\n",
    "print('Sum of squares = {:0.4f}'.format(sum_of_squares_vectorized))\n",
    "print('Time [sec] (vectorized):     {:0.4f}'.format(time_vectorized))"
   ]
  },
  {
   "cell_type": "markdown",
   "metadata": {},
   "source": [
    "When we compare the time it takes for each, we can see just how much faster NumPy is!"
   ]
  },
  {
   "cell_type": "code",
   "execution_count": 17,
   "metadata": {},
   "outputs": [
    {
     "name": "stdout",
     "output_type": "stream",
     "text": [
      "The vectorized code is 78.0 times faster than the vectorized code\n"
     ]
    }
   ],
   "source": [
    "print('The vectorized code is {:0.1f} times faster than the vectorized code'.format(time_nonvectorized/time_vectorized))"
   ]
  },
  {
   "cell_type": "markdown",
   "metadata": {},
   "source": [
    "## Matrix multiplication"
   ]
  },
  {
   "cell_type": "markdown",
   "metadata": {},
   "source": [
    "Elementwise multiplication is NOT matrix multiplication. To perform matrix multiplication (which you'll dive deeply into during the linear algebra module), there are a number of methods that can be used, including, most simply, the `@` symbol."
   ]
  },
  {
   "cell_type": "markdown",
   "metadata": {},
   "source": [
    "Let's create two matrices to play with:"
   ]
  },
  {
   "cell_type": "code",
   "execution_count": 20,
   "metadata": {},
   "outputs": [
    {
     "name": "stdout",
     "output_type": "stream",
     "text": [
      "[[ 1.  1.  1.]\n",
      " [ 1.  2.  1.]\n",
      " [ 1.  1.  1.]]\n"
     ]
    }
   ],
   "source": [
    "matrix1 = np.ones((3, 3))\n",
    "matrix1[1,1] = 2 # Make a small tweak so that it's a more interesting matrix\n",
    "print(matrix1)"
   ]
  },
  {
   "cell_type": "code",
   "execution_count": 21,
   "metadata": {},
   "outputs": [
    {
     "name": "stdout",
     "output_type": "stream",
     "text": [
      "[[2 2 2]\n",
      " [2 2 2]\n",
      " [2 2 2]]\n"
     ]
    }
   ],
   "source": [
    "matrix2 = np.full((3, 3),2)\n",
    "print(matrix2)"
   ]
  },
  {
   "cell_type": "code",
   "execution_count": 23,
   "metadata": {},
   "outputs": [
    {
     "name": "stdout",
     "output_type": "stream",
     "text": [
      "[[ 2.  2.  2.]\n",
      " [ 2.  4.  2.]\n",
      " [ 2.  2.  2.]]\n"
     ]
    }
   ],
   "source": [
    "print(matrix1 * matrix2)       # Element-wise multiplication"
   ]
  },
  {
   "cell_type": "code",
   "execution_count": 24,
   "metadata": {},
   "outputs": [
    {
     "name": "stdout",
     "output_type": "stream",
     "text": [
      "[[ 6.  6.  6.]\n",
      " [ 8.  8.  8.]\n",
      " [ 6.  6.  6.]]\n"
     ]
    }
   ],
   "source": [
    "print(matrix1 @ matrix2)       # Matrix multiplication"
   ]
  },
  {
   "cell_type": "code",
   "execution_count": 25,
   "metadata": {},
   "outputs": [
    {
     "name": "stdout",
     "output_type": "stream",
     "text": [
      "[[ 6.  6.  6.]\n",
      " [ 8.  8.  8.]\n",
      " [ 6.  6.  6.]]\n"
     ]
    }
   ],
   "source": [
    "print(matrix1.dot(matrix2))    # Matrix multiplication (another way of doing it)"
   ]
  },
  {
   "cell_type": "code",
   "execution_count": 26,
   "metadata": {},
   "outputs": [
    {
     "name": "stdout",
     "output_type": "stream",
     "text": [
      "[[ 6.  6.  6.]\n",
      " [ 8.  8.  8.]\n",
      " [ 6.  6.  6.]]\n"
     ]
    }
   ],
   "source": [
    "print(np.dot(matrix1,matrix2)) # Matrix multiplication (yet another way of doing it)"
   ]
  },
  {
   "cell_type": "markdown",
   "metadata": {},
   "source": [
    "Another important matrix operation is the transpose. Let's create a matrix then take its transpose:"
   ]
  },
  {
   "cell_type": "code",
   "execution_count": 27,
   "metadata": {},
   "outputs": [
    {
     "name": "stdout",
     "output_type": "stream",
     "text": [
      "[[1 2 3]\n",
      " [4 5 6]]\n"
     ]
    }
   ],
   "source": [
    "x = np.array([[1,2,3],[4,5,6]])\n",
    "print(x)"
   ]
  },
  {
   "cell_type": "code",
   "execution_count": 28,
   "metadata": {},
   "outputs": [
    {
     "name": "stdout",
     "output_type": "stream",
     "text": [
      "[[1 4]\n",
      " [2 5]\n",
      " [3 6]]\n"
     ]
    }
   ],
   "source": [
    "print(x.T) # Transpose"
   ]
  },
  {
   "cell_type": "markdown",
   "metadata": {},
   "source": [
    "One important distinction is the difference between a 1-dimensional array and higher dimensional arrays. We just showed the transpose of a two dimensional array. If we have a one dimensional array and try to take the transpose, the shape of the array doesn't change since it only has 1 dimension. This is different than what you typically encounter in linear algebra, so it's important to be aware of the difference to avoid errors."
   ]
  },
  {
   "cell_type": "code",
   "execution_count": 29,
   "metadata": {},
   "outputs": [
    {
     "name": "stdout",
     "output_type": "stream",
     "text": [
      "[1 2 3]\n",
      "[1 2 3]\n"
     ]
    }
   ],
   "source": [
    "x = np.array([1,2,3])\n",
    "print(x)\n",
    "print(x.T)"
   ]
  },
  {
   "cell_type": "markdown",
   "metadata": {},
   "source": [
    "You can always see if a NumPy array is 1-D or 2-D by using the `shape` method. Here, we see a 1-element tuple returned."
   ]
  },
  {
   "cell_type": "code",
   "execution_count": 30,
   "metadata": {},
   "outputs": [
    {
     "name": "stdout",
     "output_type": "stream",
     "text": [
      "(3,)\n",
      "(3,)\n"
     ]
    }
   ],
   "source": [
    "print(x.shape)\n",
    "print(x.T.shape)"
   ]
  },
  {
   "cell_type": "markdown",
   "metadata": {},
   "source": [
    "Compare this to the case for a 2-d array, where there is a 2-element tuple."
   ]
  },
  {
   "cell_type": "code",
   "execution_count": 32,
   "metadata": {},
   "outputs": [
    {
     "name": "stdout",
     "output_type": "stream",
     "text": [
      "[[1 2 3]\n",
      " [4 5 6]]\n",
      "(2, 3)\n"
     ]
    }
   ],
   "source": [
    "x = np.array([[1,2,3],[4,5,6]])\n",
    "print(x)\n",
    "print(x.shape)"
   ]
  },
  {
   "cell_type": "markdown",
   "metadata": {},
   "source": [
    "Let's say you wanted the following product: \n",
    "\n",
    "\\begin{equation*}\n",
    "\\begin{bmatrix}\n",
    "1 \\\\\n",
    "2 \\\\\n",
    "3\n",
    "\\end{bmatrix}\n",
    "\\begin{bmatrix}\n",
    "1 & 2 & 3\n",
    "\\end{bmatrix}\n",
    "\\end{equation*}\n",
    "\n",
    "For this, one easy approach is to use the outer product function (again, a concept you'll dive more into in linear algebra, but NumPy provides many of the tools you need to work with linear algebra):"
   ]
  },
  {
   "cell_type": "code",
   "execution_count": 13,
   "metadata": {},
   "outputs": [
    {
     "name": "stdout",
     "output_type": "stream",
     "text": [
      "[[1 2 3]\n",
      " [2 4 6]\n",
      " [3 6 9]]\n"
     ]
    }
   ],
   "source": [
    "print(np.outer(x,x))"
   ]
  },
  {
   "cell_type": "markdown",
   "metadata": {},
   "source": [
    "Now, if we tried to do this operation using the `@` symbol for matrix multiplication, we can't because the `x` vector is one dimensional."
   ]
  },
  {
   "cell_type": "code",
   "execution_count": 14,
   "metadata": {},
   "outputs": [
    {
     "name": "stdout",
     "output_type": "stream",
     "text": [
      "14\n",
      "14\n"
     ]
    }
   ],
   "source": [
    "print(x.T @ x)\n",
    "print(x @ x.T)"
   ]
  },
  {
   "cell_type": "markdown",
   "metadata": {},
   "source": [
    "However, we can make `x` two dimensional using the `reshape()` method for NumPy arrays."
   ]
  },
  {
   "cell_type": "code",
   "execution_count": 15,
   "metadata": {},
   "outputs": [
    {
     "name": "stdout",
     "output_type": "stream",
     "text": [
      "[[1]\n",
      " [2]\n",
      " [3]]\n",
      "(3, 1)\n"
     ]
    }
   ],
   "source": [
    "y = x.reshape((3,1)) # The argument here could also have been (-1,1) where -1 means \"infer the value\"\n",
    "print(y)\n",
    "print(y.shape)"
   ]
  },
  {
   "cell_type": "markdown",
   "metadata": {},
   "source": [
    "Now this reshaped array will allow for an outer product"
   ]
  },
  {
   "cell_type": "code",
   "execution_count": 16,
   "metadata": {},
   "outputs": [
    {
     "name": "stdout",
     "output_type": "stream",
     "text": [
      "[[1 2 3]\n",
      " [2 4 6]\n",
      " [3 6 9]]\n"
     ]
    }
   ],
   "source": [
    "print(y @ y.T)"
   ]
  },
  {
   "cell_type": "markdown",
   "metadata": {},
   "source": [
    "You won't face this often, but this provides some insight into one of the idiosyncrasies of NumPy arrays that you may come up, and hopefully this will help you avoid some of these pitfalls."
   ]
  },
  {
   "cell_type": "markdown",
   "metadata": {},
   "source": [
    "## Helpful NumPy functions"
   ]
  },
  {
   "cell_type": "markdown",
   "metadata": {},
   "source": [
    "NumPy also has many helpful functions for working with arrays to calculate sums, minima, maxima, averages, etc., across the whole array or just specific rows or columns of a matrix. Let's create an array to demonstrate these features."
   ]
  },
  {
   "cell_type": "code",
   "execution_count": 17,
   "metadata": {},
   "outputs": [
    {
     "name": "stdout",
     "output_type": "stream",
     "text": [
      "[[0 1]\n",
      " [2 3]]\n"
     ]
    }
   ],
   "source": [
    "x = np.array([[0,1],[2,3]])\n",
    "print(x)"
   ]
  },
  {
   "cell_type": "code",
   "execution_count": 247,
   "metadata": {},
   "outputs": [
    {
     "name": "stdout",
     "output_type": "stream",
     "text": [
      "6\n"
     ]
    }
   ],
   "source": [
    "print(np.sum(x))          # Sum of all elements"
   ]
  },
  {
   "cell_type": "code",
   "execution_count": 248,
   "metadata": {},
   "outputs": [
    {
     "name": "stdout",
     "output_type": "stream",
     "text": [
      "[2 4]\n"
     ]
    }
   ],
   "source": [
    "print(np.sum(x, axis=0))  # Sum of each column"
   ]
  },
  {
   "cell_type": "code",
   "execution_count": 249,
   "metadata": {},
   "outputs": [
    {
     "name": "stdout",
     "output_type": "stream",
     "text": [
      "[1 5]\n"
     ]
    }
   ],
   "source": [
    "print(np.sum(x, axis=1))  # Sum of each row"
   ]
  },
  {
   "cell_type": "markdown",
   "metadata": {},
   "source": [
    "How sums (and `min`, `max`, `std` standard deviation, etc.) along axes are computed are summarized in this figure:\n",
    "\n",
    "<img src=\"img/sum_along_axes.png\" width=\"500\">\n",
    "\n",
    "These same techniques can be used with other NumPy functions that compute various statistics. For example, we can also easily take the `min`, `mean`, or `max`. All of these functions have a `np.<function name>()` version, and many others are a built in method for a data type which you can access by using dot notation:"
   ]
  },
  {
   "cell_type": "code",
   "execution_count": 253,
   "metadata": {},
   "outputs": [
    {
     "name": "stdout",
     "output_type": "stream",
     "text": [
      "[2 3]\n"
     ]
    }
   ],
   "source": [
    "print(np.max(x, axis=0))"
   ]
  },
  {
   "cell_type": "code",
   "execution_count": 252,
   "metadata": {},
   "outputs": [
    {
     "name": "stdout",
     "output_type": "stream",
     "text": [
      "[1 3]\n"
     ]
    }
   ],
   "source": [
    "print(x.max(axis=1))     # You can specify the axis to compute along as well (although this is optional)"
   ]
  },
  {
   "cell_type": "code",
   "execution_count": 251,
   "metadata": {},
   "outputs": [
    {
     "name": "stdout",
     "output_type": "stream",
     "text": [
      "0\n"
     ]
    }
   ],
   "source": [
    "print(x.min())"
   ]
  },
  {
   "cell_type": "code",
   "execution_count": 254,
   "metadata": {},
   "outputs": [
    {
     "name": "stdout",
     "output_type": "stream",
     "text": [
      "1.5\n"
     ]
    }
   ],
   "source": [
    "print(x.mean())"
   ]
  },
  {
   "cell_type": "code",
   "execution_count": 255,
   "metadata": {},
   "outputs": [
    {
     "name": "stdout",
     "output_type": "stream",
     "text": [
      "1.11803398875\n"
     ]
    }
   ],
   "source": [
    "print(np.std(x))  # Standard deviation"
   ]
  },
  {
   "cell_type": "markdown",
   "metadata": {},
   "source": [
    "# Practical Examples\n",
    "\n",
    "## Example: Counting values\n",
    "Let's say you have a matrix containing random integers between 0 and 9 as shown below:"
   ]
  },
  {
   "cell_type": "code",
   "execution_count": 12,
   "metadata": {},
   "outputs": [
    {
     "name": "stdout",
     "output_type": "stream",
     "text": [
      "[[6 3 7 4 6 9 2 6 7 4 3 7 7 2 5 4 1 7 5 1]\n",
      " [4 0 9 5 8 0 9 2 6 3 8 2 4 2 6 4 8 6 1 3]\n",
      " [8 1 9 8 9 4 1 3 6 7 2 0 3 1 7 3 1 5 5 9]\n",
      " [3 5 1 9 1 9 3 7 6 8 7 4 1 4 7 9 8 8 0 8]\n",
      " [6 8 7 0 7 7 2 0 7 2 2 0 4 9 6 9 8 6 8 7]\n",
      " [1 0 6 6 7 4 2 7 5 2 0 2 4 2 0 4 9 6 6 8]]\n"
     ]
    }
   ],
   "source": [
    "import numpy as np\n",
    "\n",
    "np.random.seed(42)\n",
    "matrix = np.random.randint(0,10,size=(6, 20))\n",
    "print(matrix)"
   ]
  },
  {
   "cell_type": "markdown",
   "metadata": {},
   "source": [
    "We want to know how many values of each kind are present in each row. For example - how many `1`'s are there, how many `2`'s are there, etc? Therefore if our input row was:\n",
    "```\n",
    "[2 1 1 5 9]\n",
    "```\n",
    "Then we'd want the output to be an array where each each entry represented how many values there were that equaled the index at that point:\n",
    "```\n",
    "Corresponding values: 0 1 2 3 4 5 6 7 8 9\n",
    "Desired output:      [0 2 1 0 0 1 0 0 0 1]\n",
    "```\n",
    "Let's create a function to do that for the above dataset"
   ]
  },
  {
   "cell_type": "code",
   "execution_count": 23,
   "metadata": {},
   "outputs": [
    {
     "data": {
      "text/plain": [
       "array([[ 0.,  2.,  2.,  2.,  3.,  2.,  3.,  5.,  0.,  1.],\n",
       "       [ 2.,  1.,  3.,  2.,  3.,  1.,  3.,  0.,  3.,  2.],\n",
       "       [ 1.,  4.,  1.,  3.,  1.,  2.,  1.,  2.,  2.,  3.],\n",
       "       [ 1.,  3.,  0.,  2.,  2.,  1.,  1.,  3.,  4.,  3.],\n",
       "       [ 3.,  0.,  3.,  0.,  1.,  0.,  3.,  5.,  3.,  2.],\n",
       "       [ 3.,  1.,  4.,  0.,  3.,  1.,  4.,  2.,  1.,  1.]])"
      ]
     },
     "execution_count": 23,
     "metadata": {},
     "output_type": "execute_result"
    }
   ],
   "source": [
    "def counts_values_in_each_row(array):\n",
    "    # Setup the size of the output array to be the same number of rows, and the number of columns\n",
    "    #  corresponding to the range of values in the matrix (in this case from 0 to 9)\n",
    "    maxvalue = np.max(array)\n",
    "    count    = np.zeros((array.shape[0],maxvalue + 1))\n",
    "    \n",
    "    # Here we use the enumerate function which as you recall provides the index as well as values\n",
    "    for row_index, row_values in enumerate(array):\n",
    "        (index,row_count) = np.unique(row_values, return_counts=True)\n",
    "        count[row_index,index] = row_count\n",
    "    return count\n",
    "\n",
    "counts_values_in_each_row(matrix)"
   ]
  },
  {
   "cell_type": "markdown",
   "metadata": {},
   "source": [
    "What we've basically implemented here is a very simple histogram. Of course, NumPy has a built-in histogram function that we could have used:"
   ]
  },
  {
   "cell_type": "code",
   "execution_count": 22,
   "metadata": {},
   "outputs": [
    {
     "data": {
      "text/plain": [
       "[[0, 2, 2, 2, 3, 2, 3, 5, 0, 1],\n",
       " [2, 1, 3, 2, 3, 1, 3, 0, 3, 2],\n",
       " [1, 4, 1, 3, 1, 2, 1, 2, 2, 3],\n",
       " [1, 3, 0, 2, 2, 1, 1, 3, 4, 3],\n",
       " [3, 0, 3, 0, 1, 0, 3, 5, 3, 2],\n",
       " [3, 1, 4, 0, 3, 1, 4, 2, 1, 1]]"
      ]
     },
     "execution_count": 22,
     "metadata": {},
     "output_type": "execute_result"
    }
   ],
   "source": [
    "def histogram_values_in_each_row(array):\n",
    "    # Setup the size of the output array to be the same number of rows, and the number of columns\n",
    "    #  corresponding to the range of values in the matrix (in this case from 0 to 9)\n",
    "    maxvalue = np.max(array)\n",
    "    count    = []\n",
    "    \n",
    "    # Here we use the enumerate function which as you recall provides the index as well as values\n",
    "    for row_index, row_values in enumerate(array):\n",
    "        # Here we use the histogram function to do our countin for us automatically. Also note\n",
    "        #   the use of the '_' character to accept the output that np.histogram produces, but that\n",
    "        #   we won't use\n",
    "        (row_count, _) = np.histogram(row_values, bins=maxvalue + 1, range=(-0.5,maxvalue + 0.5))\n",
    "        count.append(row_count.tolist())\n",
    "    return count\n",
    "\n",
    "histogram_values_in_each_row(matrix)"
   ]
  },
  {
   "cell_type": "markdown",
   "metadata": {},
   "source": [
    "## Example: Replacing values in an array\n",
    "Imagine you have a dataset and you want to find the two largest values and replace them with the two largest values in another dataset."
   ]
  },
  {
   "cell_type": "code",
   "execution_count": 58,
   "metadata": {},
   "outputs": [
    {
     "name": "stdout",
     "output_type": "stream",
     "text": [
      "[ 0.49671415 -0.1382643   0.64768854  1.52302986 -0.23415337 -0.23413696\n",
      "  1.57921282  0.76743473 -0.46947439  0.54256004]\n",
      "[59 20 32 11 57 21 43 24 48 26]\n"
     ]
    }
   ],
   "source": [
    "import numpy as np\n",
    "\n",
    "np.random.seed(42)\n",
    "original    = np.random.randn(10)\n",
    "replacement = np.random.randint(0,high=60,size=original.shape)\n",
    "\n",
    "print(original)\n",
    "print(replacement)"
   ]
  },
  {
   "cell_type": "code",
   "execution_count": 59,
   "metadata": {},
   "outputs": [
    {
     "name": "stdout",
     "output_type": "stream",
     "text": [
      "1.57921281551\n",
      "(array([6], dtype=int64),)\n"
     ]
    }
   ],
   "source": [
    "# Let's start by finding the max and the second largest. The max is easy:\n",
    "maxvalue = original.max()\n",
    "\n",
    "# Here we use the `where' function\n",
    "index    = np.where(original==maxvalue)\n",
    "print(maxvalue)\n",
    "print(index)"
   ]
  },
  {
   "cell_type": "code",
   "execution_count": 60,
   "metadata": {},
   "outputs": [
    {
     "name": "stdout",
     "output_type": "stream",
     "text": [
      "[6]\n",
      "6\n"
     ]
    }
   ],
   "source": [
    "# You'll notive that the `where' function produced an index that is a numpy array inside a tuple \n",
    "#  (this is why it's good to look at your data). We can extract it as follows:\n",
    "\n",
    "# This extracts the numpy array from the tuple \n",
    "print(index[0])\n",
    "\n",
    "# Then the first entry in the array is the index we want\n",
    "print(index[0][0])\n",
    "\n",
    "max_index = index[0][0]"
   ]
  },
  {
   "cell_type": "code",
   "execution_count": 62,
   "metadata": {},
   "outputs": [
    {
     "name": "stdout",
     "output_type": "stream",
     "text": [
      "[ 0.49671415 -0.1382643   0.64768854  1.52302986 -0.23415337 -0.23413696\n",
      "  1.57921282  0.76743473 -0.46947439  0.54256004]\n",
      "[  0.49671415  -0.1382643    0.64768854   1.52302986  -0.23415337\n",
      "  -0.23413696  43.           0.76743473  -0.46947439   0.54256004]\n"
     ]
    }
   ],
   "source": [
    "# Now we can replace the value of the maximum with the value at the same index in `replacement'\n",
    "new_array = original.copy()\n",
    "new_array[max_index] = replacement[max_index]\n",
    "print(original)\n",
    "print(new_array)"
   ]
  },
  {
   "cell_type": "markdown",
   "metadata": {},
   "source": [
    "Another way we could accomplish this same task is to use **logical indexing**, which is quite helpful here and really gets the job done in two simple lines of code:"
   ]
  },
  {
   "cell_type": "code",
   "execution_count": 64,
   "metadata": {},
   "outputs": [
    {
     "name": "stdout",
     "output_type": "stream",
     "text": [
      "[  0.49671415  -0.1382643    0.64768854   1.52302986  -0.23415337\n",
      "  -0.23413696  43.           0.76743473  -0.46947439   0.54256004]\n"
     ]
    }
   ],
   "source": [
    "new_array = original.copy()\n",
    "\n",
    "# This will produce an array of all `False' values except for where the maximum is, where it will be `True'\n",
    "boolean_index_of_max = original == original.max()\n",
    "\n",
    "\n",
    "new_array[boolean_index_of_max] = replacement[boolean_index_of_max]\n",
    "\n",
    "print(new_array)"
   ]
  },
  {
   "cell_type": "markdown",
   "metadata": {},
   "source": [
    "Great. But how do we replace the second largest value? Let's follow the lead of our second approach based on logical indexing here - a technique that is used frequently. We'll start by sorting our array to find the second largest value"
   ]
  },
  {
   "cell_type": "markdown",
   "metadata": {},
   "source": [
    "## Example: Numerical integration\n",
    "\n",
    "Let's say we want to estimate the integral of the function $f(x)$ on the interval $0\\leq x < 2.5$ assuming we only know the following points from $f$:\n",
    "\n",
    "*Table 1. Dataset containing n=5 observations*\n",
    "\n",
    "| $x_i$ | 0.0 | 0.5 | 1.0 | 1.5 | 2.0 |\n",
    "|-|-|-|-|-|-|\n",
    "| $y_i$ | 6 | 7 | 8 | 4 | 1 |"
   ]
  },
  {
   "cell_type": "code",
   "execution_count": 1,
   "metadata": {},
   "outputs": [
    {
     "name": "stdout",
     "output_type": "stream",
     "text": [
      "The integral of y is: 11.25\n"
     ]
    }
   ],
   "source": [
    "import numpy as np\n",
    "\n",
    "x = np.array([0,0.5,1.0,1.5,2.0])\n",
    "y = np.array([6,7,8,4,1])\n",
    "\n",
    "# Using a trapezoidal integration approach:\n",
    "y_dif = (y[:-1] + y[1:]) / 2\n",
    "dx = x[1:] - x[:-1]\n",
    "\n",
    "int_y = sum(y_dif * dx )\n",
    "\n",
    "print('The integral of y is: {:.4}'.format(int_y))"
   ]
  },
  {
   "cell_type": "markdown",
   "metadata": {},
   "source": [
    "## Next\n",
    "With NumPy's powerful and efficient computational tools, we can now make beautiful plots using the data analyzed with NumPy using matplotlib."
   ]
  }
 ],
 "metadata": {
  "kernelspec": {
   "display_name": "Python 3",
   "language": "python",
   "name": "python3"
  },
  "language_info": {
   "codemirror_mode": {
    "name": "ipython",
    "version": 3
   },
   "file_extension": ".py",
   "mimetype": "text/x-python",
   "name": "python",
   "nbconvert_exporter": "python",
   "pygments_lexer": "ipython3",
   "version": "3.8.2"
  },
  "varInspector": {
   "cols": {
    "lenName": 16,
    "lenType": 16,
    "lenVar": 40
   },
   "kernels_config": {
    "python": {
     "delete_cmd_postfix": "",
     "delete_cmd_prefix": "del ",
     "library": "var_list.py",
     "varRefreshCmd": "print(var_dic_list())"
    },
    "r": {
     "delete_cmd_postfix": ") ",
     "delete_cmd_prefix": "rm(",
     "library": "var_list.r",
     "varRefreshCmd": "cat(var_dic_list()) "
    }
   },
   "types_to_exclude": [
    "module",
    "function",
    "builtin_function_or_method",
    "instance",
    "_Feature"
   ],
   "window_display": false
  }
 },
 "nbformat": 4,
 "nbformat_minor": 2
}
