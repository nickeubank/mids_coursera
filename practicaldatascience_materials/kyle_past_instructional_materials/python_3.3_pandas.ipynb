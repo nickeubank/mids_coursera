{
 "cells": [
  {
   "cell_type": "markdown",
   "metadata": {},
   "source": [
    "# Python: Working with datasets using `pandas`\n",
    "Pandas is a package (or library) built on top of the NumPy package and extends its functionality to make it easier to work with datasets. Pandas provides a `DataFrame` object for convenient dataset manipulation. Pandas excels at reading and writing data from various file formats including CSV, text, Excel, and various database structures. There are numerous tools for slicing, subsetting, grouping, reshaping, merging, joining, and pivoting datasets. Additionally, this tool has been optimized for performance so the computations are quite efficient.\n",
    "\n",
    "*Fun fact: If you're wondering where the name `pandas` came from, it's from the term \"**pan**el **da**ta\" from statistics and econometrics.*\n",
    "\n",
    "## Required Reading\n",
    "Please read [10 Minutes to Pandas](https://pandas.pydata.org/pandas-docs/stable/10min.html#min). This text will provide an introduction to the functionality of the Pandas library, on how to load in and manipulate data frames, and how to automate tasks that would otherwise be extremely time consuming in point-and-click settings.\n",
    "\n",
    "## Optional Reading\n",
    "The Pandas website has numerous [tutorials and additional resources](https://pandas.pydata.org/pandas-docs/version/0.22.0/tutorials.html) to dive deeper into this content."
   ]
  }
 ],
 "metadata": {
  "kernelspec": {
   "display_name": "Python 3",
   "language": "python",
   "name": "python3"
  },
  "language_info": {
   "codemirror_mode": {
    "name": "ipython",
    "version": 3
   },
   "file_extension": ".py",
   "mimetype": "text/x-python",
   "name": "python",
   "nbconvert_exporter": "python",
   "pygments_lexer": "ipython3",
   "version": "3.6.1"
  }
 },
 "nbformat": 4,
 "nbformat_minor": 2
}
