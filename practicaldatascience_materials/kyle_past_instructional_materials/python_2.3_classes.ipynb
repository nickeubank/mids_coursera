{
 "cells": [
  {
   "cell_type": "markdown",
   "metadata": {},
   "source": [
    "# Python: Objects and Classes"
   ]
  },
  {
   "cell_type": "markdown",
   "metadata": {},
   "source": [
    "## Required Reading\n",
    "[Object-Oriented Programming](https://www.py4e.com/html3/14-objects) from Python for Everybody by Charles Severance. Supplementary videos [available here](https://www.py4e.com/lessons/Objects)."
   ]
  },
  {
   "cell_type": "markdown",
   "metadata": {},
   "source": [
    "# Practical Example"
   ]
  },
  {
   "cell_type": "markdown",
   "metadata": {},
   "source": [
    "## Bank account\n",
    "Think about a bank that's trying to represent their customers. Each customer in the bank is unique and will have different attributes, such as their name and the balance on their account. The majority of interactions with customers will be when the customer wishes to withdraw or deposit money, so those should be two methods for the customer. Let's go ahead and implement this.\n",
    "\n",
    "*The code for this example is adapted from [Jeff Knupp](https://jeffknupp.com/)*"
   ]
  },
  {
   "cell_type": "code",
   "execution_count": 38,
   "metadata": {
    "collapsed": true
   },
   "outputs": [],
   "source": [
    "class BankCustomer:\n",
    "    '''A customer of a bank with a checking account.\n",
    "    \n",
    "    Attributes:\n",
    "        name: name of the customer (string)\n",
    "        balance: amount of money in the account (float)\n",
    "    '''\n",
    "    \n",
    "    def __init__(self,name,balance=0.0):\n",
    "        self.name    = name\n",
    "        self.balance = balance\n",
    "        print('{}\\'s balance = ${}'.format(self.name, self.balance))        \n",
    "\n",
    "    def withdraw(self,amount):\n",
    "        if amount > self.balance:\n",
    "            print('Overdraft alert! Amount requested greater than available balance.')\n",
    "        self.balance -= amount\n",
    "        print('{}\\'s balance = ${}'.format(self.name, self.balance))\n",
    "        \n",
    "    def deposit(self,amount):\n",
    "        self.balance += amount\n",
    "        print('{}\\'s balance = ${}'.format(self.name, self.balance))"
   ]
  },
  {
   "cell_type": "markdown",
   "metadata": {},
   "source": [
    "You'll also notice that if the customer withdraws more money than in his or her account a message is output to announce an overdraft. Let's create a couple of customers and make some transactions."
   ]
  },
  {
   "cell_type": "code",
   "execution_count": 39,
   "metadata": {},
   "outputs": [
    {
     "name": "stdout",
     "output_type": "stream",
     "text": [
      "Bob's balance = $0.0\n",
      "Janet's balance = $100\n"
     ]
    }
   ],
   "source": [
    "bob   = BankCustomer('Bob')\n",
    "janet = BankCustomer('Janet',100) # Janet makes an initial deposit of $100"
   ]
  },
  {
   "cell_type": "code",
   "execution_count": 40,
   "metadata": {},
   "outputs": [
    {
     "name": "stdout",
     "output_type": "stream",
     "text": [
      "Bob's balance = $250.0\n",
      "Bob's balance = $150.0\n",
      "Bob's balance = $50.0\n",
      "Overdraft alert! Amount requested greater than available balance.\n",
      "Bob's balance = $-50.0\n"
     ]
    }
   ],
   "source": [
    "# Bob makes some transactions:\n",
    "bob.deposit(250)\n",
    "bob.withdraw(100)\n",
    "bob.withdraw(100)\n",
    "bob.withdraw(100)"
   ]
  },
  {
   "cell_type": "code",
   "execution_count": 41,
   "metadata": {},
   "outputs": [
    {
     "name": "stdout",
     "output_type": "stream",
     "text": [
      "Janet's balance = $50\n",
      "Janet's balance = $350\n"
     ]
    }
   ],
   "source": [
    "# Janet's transactions:\n",
    "janet.withdraw(50)\n",
    "janet.deposit(300)"
   ]
  },
  {
   "cell_type": "markdown",
   "metadata": {},
   "source": [
    "If I want to get the specific number of the balance on the account, we can always access one of the attributes."
   ]
  },
  {
   "cell_type": "code",
   "execution_count": 42,
   "metadata": {},
   "outputs": [
    {
     "data": {
      "text/plain": [
       "350"
      ]
     },
     "execution_count": 42,
     "metadata": {},
     "output_type": "execute_result"
    }
   ],
   "source": [
    "janet.balance"
   ]
  },
  {
   "cell_type": "markdown",
   "metadata": {},
   "source": [
    "There's a problem here, though. I'm repeating myself in the class since every method has the same line:\n",
    "```\n",
    "print('{}\\'s balance = ${}'.format(self.name, self.balance))\n",
    "```\n",
    "This is no good since this means we should probably streamline our approach to avoid repetition, so let's create a new method called `print_balance()` which takes care of this for us:"
   ]
  },
  {
   "cell_type": "code",
   "execution_count": 43,
   "metadata": {
    "collapsed": true
   },
   "outputs": [],
   "source": [
    "class BankCustomerModified:\n",
    "    '''A customer of a bank with a checking account.\n",
    "    \n",
    "    Attributes:\n",
    "        name: name of the customer (string)\n",
    "        balance: amount of money in the account (float)\n",
    "    '''\n",
    "    \n",
    "    def __init__(self,name,balance=0.0):\n",
    "        self.name    = name\n",
    "        self.balance = balance\n",
    "        self.get_balance()    \n",
    "\n",
    "    def withdraw(self,amount):\n",
    "        if amount > self.balance:\n",
    "            print('Overdraft alert! Amount requested greater than available balance.')\n",
    "        self.balance -= amount\n",
    "        self.get_balance()\n",
    "        \n",
    "    def deposit(self,amount):\n",
    "        self.balance += amount\n",
    "        self.get_balance()\n",
    "        \n",
    "    def get_balance(self):\n",
    "        print('{}\\'s balance = ${}'.format(self.name, self.balance))\n",
    "        return self.balance"
   ]
  },
  {
   "cell_type": "markdown",
   "metadata": {},
   "source": [
    "Now let's rerun the code to make sure everything operates the same:"
   ]
  },
  {
   "cell_type": "code",
   "execution_count": 44,
   "metadata": {},
   "outputs": [
    {
     "name": "stdout",
     "output_type": "stream",
     "text": [
      "Bob's balance = $0.0\n",
      "Janet's balance = $100\n"
     ]
    }
   ],
   "source": [
    "bob   = BankCustomerModified('Bob')\n",
    "janet = BankCustomerModified('Janet',100) # Janet makes an initial deposit of $100"
   ]
  },
  {
   "cell_type": "code",
   "execution_count": 45,
   "metadata": {},
   "outputs": [
    {
     "name": "stdout",
     "output_type": "stream",
     "text": [
      "Bob's balance = $250.0\n",
      "Bob's balance = $150.0\n",
      "Bob's balance = $50.0\n",
      "Overdraft alert! Amount requested greater than available balance.\n",
      "Bob's balance = $-50.0\n"
     ]
    }
   ],
   "source": [
    "# Bob makes some transactions:\n",
    "bob.deposit(250)\n",
    "bob.withdraw(100)\n",
    "bob.withdraw(100)\n",
    "bob.withdraw(100)"
   ]
  },
  {
   "cell_type": "code",
   "execution_count": 46,
   "metadata": {},
   "outputs": [
    {
     "name": "stdout",
     "output_type": "stream",
     "text": [
      "Janet's balance = $50\n",
      "Janet's balance = $350\n"
     ]
    }
   ],
   "source": [
    "# Janet's transactions:\n",
    "janet.withdraw(50)\n",
    "janet.deposit(300)"
   ]
  },
  {
   "cell_type": "code",
   "execution_count": 47,
   "metadata": {},
   "outputs": [
    {
     "name": "stdout",
     "output_type": "stream",
     "text": [
      "Janet's balance = $350\n"
     ]
    },
    {
     "data": {
      "text/plain": [
       "350"
      ]
     },
     "execution_count": 47,
     "metadata": {},
     "output_type": "execute_result"
    }
   ],
   "source": [
    "janet.get_balance()"
   ]
  },
  {
   "cell_type": "markdown",
   "metadata": {},
   "source": [
    "## Next\n",
    "As we write functions and classes, we need a way to check that they work correctly. This is what unit testing is for, and what we'll discuss in the next section."
   ]
  }
 ],
 "metadata": {
  "kernelspec": {
   "display_name": "Python 3",
   "language": "python",
   "name": "python3"
  },
  "language_info": {
   "codemirror_mode": {
    "name": "ipython",
    "version": 3
   },
   "file_extension": ".py",
   "mimetype": "text/x-python",
   "name": "python",
   "nbconvert_exporter": "python",
   "pygments_lexer": "ipython3",
   "version": "3.6.1"
  }
 },
 "nbformat": 4,
 "nbformat_minor": 2
}
