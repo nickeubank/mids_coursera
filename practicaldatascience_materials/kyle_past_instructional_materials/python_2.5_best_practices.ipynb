{
 "cells": [
  {
   "cell_type": "markdown",
   "metadata": {},
   "source": [
    "# Python: Best Practices\n",
    "\n",
    "## Required Reading\n",
    "1. [PEP8: The Python Style Guide](https://www.python.org/dev/peps/pep-0008/). The definitive guide to Python coding style best practices.\n",
    "2. [Wilson G, Bryan J, Cranston K, Kitzes J, Nederbragt L, Teal TK (2017) **Good enough practices in scientific computing**. PLoS Comput Biol 13(6): e1005510. https://doi.org/10.1371/journal.pcbi.1005510](https://doi.org/10.1371/journal.pcbi.1005510)\n",
    "3. [Wilson G, Aruliah DA, Brown CT, Chue Hong NP, Davis M, Guy RT, et al. (2014) **Best Practices for Scientific Computing**. PLoS Biol 12(1): e1001745. https://doi.org/10.1371/journal.pbio.1001745](https://doi.org/10.1371/journal.pbio.1001745)"
   ]
  },
  {
   "cell_type": "markdown",
   "metadata": {},
   "source": [
    "There are as many opinions about how code should be written as there are opinions of how a government should be run. While every particular project and work environment will present its own needs and challenges, there are some general guiding principles that help us to make sure that:\n",
    "1. When we go back to read our own code, we can remember what we did quickly.\n",
    "2. When someone else reads our code, they don't need us to sit down with them for 12 hours to be able to understand, use, and build upon it.\n",
    "3. That it's maintainable and extensible.\n",
    "\n",
    "This is the realm of best practices rather than strict rules, but they are generally worth following."
   ]
  },
  {
   "cell_type": "markdown",
   "metadata": {},
   "source": [
    "## Tales of woe\n",
    "There was obviously a lot of advice in the articles above, all of which is very good to consider. Here's a list of a number of specific situations that are often encountered in practice (and become problematic for programmers who don't plan ahead):\n",
    "1. I complete an analysis and create some beautiful figures for my big presentation. Two weeks later, I'm given new data, similar to the first dataset, and I'm asked to create some of those beautiful figures. But I hadn't saved the code to create the figures, only the analysis! This costs me 3 hours of valuable time. **If only I had saved the code for each figure I made, I could have easily reproduced the figures...**\n",
    "2. I've been creating an awesome module that implements a state-of-the-art deep learning system. As I've been developing this I've saved each version in a folder called `deep_learning_vX` where `X` increments with each save. I now have 37 versions. I started collaborating with a colleague some versions ago. They start coding from version 33 and add new features, as I continue to make changes. Our changes are conflicting, though and can't merge the code bases together! We also don't know where we diverged... **If only we would have used a version control system like git, we could have easily collaborated and maintained an organized version history...** Version control systems keep track of changes even when made by people working in teams. They are an effective way to collaborate without having dozens of files named something like `myfile_v1.py` and `myfile_v2.py`, etc. The most popular version control system at present is [git](https://git-scm.com/).\n",
    "3. I eagerly code a complex class with lots of methods that rely on one another. I spent a week coding it up, but I'm really excited to test it out. I didn't create any unit tests since that would have slowed me down, and I wrote it all at once as one big program. I go to test it and realize there are a lot of bugs and I have no idea where to start debugging. I pretty much have to throw the code away and start from scratch. **If only I had built the program incrementally and run unit tests on the small pieces, I could have built the code base with confidence...**\n",
    "4. I'm eager to get my analysis done, and I have 35 plots to make. I make the first plot, then copy and paste the code making small changes to each to generate all the plots I need. It looks great! Then I'm asked to make a small change to the plots to adjust the plotting style. This means editing 35 pieces of plotting code. It takes me an hour, but I do it. Then I'm asked to make 3 more changes!! I waste half a day editing plots. **If only I had made a function that made the plots for me that could be easily adjusted rather than repeating myself 35 times...**\n",
    "\n",
    "We could discuss tales of programming woe all day, but the idea is to present some actionable advice to help you to avoid the pitfalls that most programmers make at some point in their careers that are entirely avoidable."
   ]
  },
  {
   "cell_type": "markdown",
   "metadata": {},
   "source": [
    "## Readability\n",
    "\n",
    "Consider the two function examples below from [Software Carpentry's Programming with Python](http://swcarpentry.github.io/python-novice-inflammation/06-func/index.html). What you'll see is that both functions calculate the square root of a collection of numbers, but the function `std_dev()` is far more readable than the function `s()`. Imagine having to debug these functions: doing so for `std_dev()` would be considerably easier than for `s()`.\n",
    "\n",
    "In the example with `s()`, it's not clear what any of the variables are so when we get towards the bottom of the function in the for loop, it's entirely unclear what is happening and why it's happening - what do `d`, `v`, and `m` mean? In the `st_dev()` example on the other hand, it's quite clear that the sum of the square deviations is the sum of the squares of the difference of the values from the sample mean - you can literally read it off the code. That's what you want in your functions - clarity of meaning."
   ]
  },
  {
   "cell_type": "code",
   "execution_count": 1,
   "metadata": {
    "collapsed": true
   },
   "outputs": [],
   "source": [
    "def s(p):\n",
    "    a = 0\n",
    "    for v in p:\n",
    "        a += v\n",
    "    m = a / len(p)\n",
    "    d = 0\n",
    "    for v in p:\n",
    "        d += (v - m) ** 2\n",
    "    return (d / (len(p) - 1)) ** (1/2)"
   ]
  },
  {
   "cell_type": "code",
   "execution_count": 2,
   "metadata": {
    "collapsed": true
   },
   "outputs": [],
   "source": [
    "def std_dev(sample):\n",
    "    sample_sum = 0\n",
    "    for value in sample:\n",
    "        sample_sum += value\n",
    "\n",
    "    sample_mean = sample_sum / len(sample)\n",
    "\n",
    "    sum_squared_devs = 0\n",
    "    for value in sample:\n",
    "        sum_squared_devs += (value - sample_mean) ** 2\n",
    "\n",
    "    return (sum_squared_devs / (len(sample) - 1)) ** (1/2)"
   ]
  },
  {
   "cell_type": "markdown",
   "metadata": {},
   "source": [
    "Let's run a quick check to be sure these functions are equivalent:"
   ]
  },
  {
   "cell_type": "code",
   "execution_count": 3,
   "metadata": {},
   "outputs": [
    {
     "name": "stdout",
     "output_type": "stream",
     "text": [
      "20.59854363784003\n",
      "20.59854363784003\n"
     ]
    }
   ],
   "source": [
    "data = [1,3,6,23,50]\n",
    "print(s(data))\n",
    "print(std_dev(data))"
   ]
  },
  {
   "cell_type": "markdown",
   "metadata": {},
   "source": [
    "With this second function, if you stepped away from it for a few months before coming back, you could easily tell what you were trying to do because the name of each variable helps communicate what the variable does."
   ]
  },
  {
   "cell_type": "markdown",
   "metadata": {},
   "source": [
    "## Next\n",
    "With knowledge of core Python and programming concepts, you're ready to take on great challenges that are directly applicable to data science: computational programming, plotting, and dataset manipulation. In the next unit, we'll discuss three key packages for working with data in Python: NumPy, matplotlib, and pandas."
   ]
  }
 ],
 "metadata": {
  "kernelspec": {
   "display_name": "Python 3",
   "language": "python",
   "name": "python3"
  },
  "language_info": {
   "codemirror_mode": {
    "name": "ipython",
    "version": 3
   },
   "file_extension": ".py",
   "mimetype": "text/x-python",
   "name": "python",
   "nbconvert_exporter": "python",
   "pygments_lexer": "ipython3",
   "version": "3.6.6"
  }
 },
 "nbformat": 4,
 "nbformat_minor": 2
}
