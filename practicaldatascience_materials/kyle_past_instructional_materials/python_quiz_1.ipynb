{
 "cells": [
  {
   "cell_type": "markdown",
   "metadata": {},
   "source": [
    "# Python Unit 1 Quiz"
   ]
  },
  {
   "cell_type": "markdown",
   "metadata": {},
   "source": [
    "## Part 1: Basic Data Analysis\n",
    "Below, you're given a list of 500 random integers. Use that list to answer the following questions:\n",
    "\n",
    "**(1)** What is the difference between the largest and the smallest number in this list?\n",
    "\n",
    "**(2)** What is the mean of this list?\n",
    "\n",
    "**(3)** How many of the numbers in the list are multiples of 251? For example, since 251\\*2 = 502, then 502 is a multiple of 251.\n",
    "\n",
    "**(4)** What is the mean of the odd values in this list?"
   ]
  },
  {
   "cell_type": "code",
   "execution_count": 1,
   "metadata": {},
   "outputs": [
    {
     "name": "stdout",
     "output_type": "stream",
     "text": [
      "[117356  79193 402701 117143 285000 306938 482663 340715 187037 489099\n",
      " 361681 301630 237033 384878 202395 455706  66008 310263 272876 121377\n",
      " 364536 164101 393166 244875 302731  79361  61911 236629 243846 376358\n",
      " 271993 313446 268330 493289 426216   8772 427728  95557 332750 273582\n",
      "  68988  16146 130812 185335 153473 224416 213770 365756  49180 103414\n",
      " 172251 436012 294647  75763 274690   3965 348488 178281 490176 370571\n",
      " 100398 417520 305183 447380 386626 404538 385612 153806 211282 342374\n",
      "  60174 338873 423248 214698 168576 476438  43534 254276 165950 274763\n",
      "  65263 386490 268751  57949 343279 450493 298506   4431 211333 108723\n",
      " 270822 481845  16642 329868 165861 405362 323972 471053 211869  81750\n",
      " 313833 134546  79188 270712 137777 354212 274024 298962 291211  74549\n",
      "   3903 306390 288309 201028 494905 447463 403450 144433 423241 433646\n",
      " 112309 152164 285783 194007 463801 474381 306739   9276 452346 230477\n",
      " 481080  83746 366033  68800 426501 280396  45408 420537 135292 251291\n",
      " 118194  13085 249639  38281 156515 132476 417382 194205  74306 343248\n",
      " 263715 191233 354267   8348 495020 365868 471620 222228 152316 322068\n",
      " 217820  49359 285387  21583 350203 145641 101231 430336  59550 463147\n",
      " 183715 305827 302543 188453 237000  95144 372070  18455  69706 301087\n",
      " 493934  13652 275401 122461 315542 388819  60478 415747 406506 473085\n",
      " 150724  57940  94885 101176 198385 101413  71350 276904 280074 290324\n",
      " 178205 247621 284356 210916 487022  41202 230490 448883 277469 422523\n",
      " 144934 236785 312883 185775 335966  89719 234304  39807 168712 348289\n",
      "  63803  10550   6449 170069  35589 477263  14060 384474 357074  30968\n",
      " 187681 318956  23927 435999 166127  54628 101576 461472 340576 185647\n",
      " 260394  32365 336439 384599  48015 152403  16347 117748 403583 364162\n",
      " 211166 203736  49466 306523 428396 114866 261539 440881 362763 159729\n",
      " 425294 482596 299292 355930 111776  98824   3921 273758 118399 430826\n",
      " 438208 381271 339900  80657  50203 474743 471600 353567 450765 296258\n",
      "  33415 104288 367591 323201 354633 424392 131955  28204 313363 290467\n",
      " 376520 170149 214179 205539 163528  61034 322362 376660 184010 309345\n",
      " 286925 323248 474445 473328 477337 390292 214228 229392 324264  91835\n",
      " 390826 402078 335505 472759 155112 202409 283000 102724 196553 310444\n",
      " 262396 157409 199013 267656 484045 208658 201896 113097 347062 364805\n",
      " 250666 222504 376317 479592 493836 229781 359432 272322 341494  16717\n",
      " 280897  39074 334878 101829  67820 488769 247540 143353 285099 140820\n",
      " 300867 495427 373674  49985  69313 198232 223241 497281 421842  79169\n",
      " 496639 299713 255833 432043  12777 437581 291642 148043 477607 112096\n",
      "  67864  44283  69392 382337 284343 293189 180281 291319 363481 435428\n",
      " 459072 443134  11440 186101 275322 227867 324407 422703 482207 188337\n",
      "  32275  17736 451824 335077 479673   4951 421401 459572 355113 412146\n",
      " 249808 138691 314608 260414 376289 383590 162707 258334 434896  53880\n",
      " 374156 230751 374337 290961  66454 326880 488671 405650 313874 400569\n",
      "  32656 461726 304489  15001  33060 481390 181060  37369 412141 366134\n",
      "  85716 113532 246890 258636 391593 363026 282380 227961 367884 383101\n",
      " 267678  98615 153772 448604  44697 109702  55407  97120 170272  85218\n",
      " 362417  12991 315547  13608 191483 361957 473101  27746 369041 379912\n",
      " 360818 323716 109783  79343  86940  44999 263884 233513 130902 317999\n",
      " 353540 254496 241344 327760 175980 197694 457353 442152 181599 497937\n",
      " 346809 425322 325502 311691 289366 427003   5406 313027  79199 397995\n",
      "  98327 323324  68021 211022 331601 187769 479679 227348   5848 382203]\n"
     ]
    }
   ],
   "source": [
    "# Generate the 500 random numbers [DO NOT MODIFY THIS CODE]\n",
    "import numpy as np\n",
    "np.random.seed(14) # This guarantees the code will generate the same set of random numbers whenever executed\n",
    "random_integers = np.random.randint(1,high=500000, size=(500))\n",
    "\n",
    "print(random_integers)"
   ]
  },
  {
   "cell_type": "markdown",
   "metadata": {},
   "source": [
    "## Part 2: Implementing Equations\n",
    "**(5)** Implement the following equation as Python code, and determine what its value is for $x=1$. What is the value of $y$ to 5 decimal places? \n",
    "\n",
    "$$y = 4\\sum_{n=0}^{10^6} \\frac{(-1)^n}{2n+1}x^{2n+1}$$\n",
    "\n",
    "*Hint: if all goes well, you should see a familiar number*"
   ]
  },
  {
   "cell_type": "markdown",
   "metadata": {},
   "source": [
    "## Part 3: Working with text\n",
    "Wierd words. This will be a chance to do a little bit of simple text analysis using a list of words from [John Lawler's website](http://www-personal.umich.edu/~jlawler/wordlist.html), which contains 69,903 English words, many of which are archane, but will help us with an analysis.\n",
    "\n",
    "First, let's extract two samples of these words. You'll see some file loading techniques and import statements here that we'll discuss in later sections - it's not needed for completing this exercise, just for getting the list of words."
   ]
  },
  {
   "cell_type": "code",
   "execution_count": 8,
   "metadata": {
    "collapsed": true
   },
   "outputs": [],
   "source": [
    "import numpy as np\n",
    "import pandas as pd\n",
    "\n",
    "np.random.seed(42)\n",
    "all_words  = pd.read_table('./data/wordlist.txt', header=None)\n",
    "word_array = all_words.values.flatten()\n",
    "list1      = np.random.choice(word_array, size=(5000,), replace=False)\n",
    "list2      = np.random.choice(word_array, size=(5000,), replace=False)"
   ]
  },
  {
   "cell_type": "markdown",
   "metadata": {},
   "source": [
    "**(6)** How many words are common to both lists?\n",
    "\n",
    "**(7)** What is the last word alphabetically that is common to both lists?\n",
    "\n",
    "**(8)** For `list1`, how many of the words start with the letter 'b'?\n",
    "\n",
    "**(9)** For `list1`, what is the 6th word alphabetically that begins with the letter 'b'?\n",
    "\n",
    "**(10)** How many of the words in `list2` contain the character sequence 'the'?"
   ]
  }
 ],
 "metadata": {
  "kernelspec": {
   "display_name": "Python 3",
   "language": "python",
   "name": "python3"
  },
  "language_info": {
   "codemirror_mode": {
    "name": "ipython",
    "version": 3
   },
   "file_extension": ".py",
   "mimetype": "text/x-python",
   "name": "python",
   "nbconvert_exporter": "python",
   "pygments_lexer": "ipython3",
   "version": "3.6.1"
  }
 },
 "nbformat": 4,
 "nbformat_minor": 2
}
