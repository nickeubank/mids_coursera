{
 "cells": [
  {
   "cell_type": "markdown",
   "metadata": {},
   "source": [
    "# Python: the command line\n",
    "\n",
    "## Working on the command line\n",
    "Before jumping into working with Python directly, we need to know the basics of how to navigate the command line that you'll encounter at the terminal. For the tutorial below, please use the cmder terminal emulater. This emulates a Unix terminal, which is very similar to a Linux terminal and the MacOS terminal, so the skills will be transferable across operating systems.\n",
    "\n",
    "## Required Reading\n",
    "The readings for this section are from [The Unix Shell](http://swcarpentry.github.io/shell-novice/) from Software Carpentry. They also have provided a [quick reference](http://swcarpentry.github.io/shell-novice/reference/) to refer back to after completing the tutorial. **Before you begin**, download [data-shell.zip](http://swcarpentry.github.io/shell-novice/data/data-shell.zip) and unzip this folder onto your desktop. This means you want to have a folder on your desktop called `data-shell` with a number of folders and files inside it. Once this is the case, you're ready to begin the tutorial:\n",
    "\n",
    "Please read and complete each of the exercises for the following sections:\n",
    "1. [Introducing the Shell](http://swcarpentry.github.io/shell-novice/01-intro/index.html)\n",
    "2. [Navigating Files and Directories](http://swcarpentry.github.io/shell-novice/02-filedir/index.html)\n",
    "3. [Working with Files and Directories](http://swcarpentry.github.io/shell-novice/03-create/index.html)\n",
    "4. [Pipes and Filters](http://swcarpentry.github.io/shell-novice/04-pipefilter/index.html)"
   ]
  },
  {
   "cell_type": "markdown",
   "metadata": {},
   "source": [
    "## First steps on the Python interpreter\n",
    "*Section adapted from Charles R. Severance, \"Python for Everybody\" [Chapter 1](https://www.py4e.com/html3/01-intro)*\n",
    "\n",
    "Now that you have a handle on how to use the system shell and command line in general, we can dive into how to use Python on the command line via the Python shell starting with the most basic tool, Python's IDLE shell.\n",
    "\n",
    "To get started, open up a terminal, type `python`, and the fun begins:\n",
    "\n",
    "```\n",
    "Python 3.5.1 (v3.5.1:37a07cee5969, Dec  6 2015, 01:54:25)\n",
    "[MSC v.1900 64 bit (AMD64)] on win32\n",
    "Type \"help\", \"copyright\", \"credits\" or \"license\" for more information.\n",
    ">>>\n",
    "```\n",
    "\n",
    "The >>> prompt is the Python interpreter's way of asking you, \"What do you want me to do next?\" Python is ready to have a conversation with you. All you have to know is how to speak the Python language.\n",
    "\n",
    "Let's say for example that you did not know even the simplest Python language words or sentences. You might want to use the standard line that astronauts use when they land on a faraway planet and try to speak with the inhabitants of the planet:\n",
    "\n",
    "```\n",
    ">>> I come in peace, please take me to your leader\n",
    "  File \"<stdin>\", line 1\n",
    "    I come in peace, please take me to your leader\n",
    "         ^\n",
    "SyntaxError: invalid syntax\n",
    ">>>\n",
    "```\n",
    "\n",
    "Of course, this isn't valid Python syntax. But don't worry about the error - it doesn't do any harm. Let's try something that works on the Python interpreter (valid Python syntax):\n",
    "\n",
    "```\n",
    ">>> print('Hello world!')\n",
    "Hello world!\n",
    "```\n",
    "\n",
    "To leave the Python interpreter, you can type:\n",
    "```\n",
    ">>> quit()\n",
    "```\n",
    "\n",
    "### Important shell tip!\n",
    "If you're working on the command line and a process gets stuck, you can force-quit a process any time by holding down the control button and hitting the letter c (`control-c`). This will kill the process that's running. This applies to all command line / shell environments in this tutorial."
   ]
  },
  {
   "cell_type": "markdown",
   "metadata": {},
   "source": [
    "## The IPython Shell\n",
    "While IDLE is fine, what you'll want to use most of the time for interactive Python is the IPython shell, which you can access from the terminal by simply typing `ipython`. Once you're familiar with Python, you can use this to type and run code and it will execute after each command. \n",
    "\n",
    "As in the previous example with IDLE, you can type `print('Hello world!')` and the IPython shell will send the message `Hello world!` right back at you.\n",
    "\n",
    "```\n",
    ">>> print('Hello world!')\n",
    "Hello world!\n",
    "```\n",
    "\n",
    "To leave IPython, just type `quit` and hit enter.\n",
    "\n",
    "A resource on IPython's functionality can be found [here](http://ipython.readthedocs.io/en/stable/interactive/tutorial.html), and is helpful once you have basic Python experience.\n",
    "\n",
    "## Spyder\n",
    "To activate spyder, just type `spyder` from the command line. To close spyder close the Spyder IDE window (or close the terminal from which you launched spyder). For all of the programming exercises in this tutorial, use this by default unless instructed otherwise.\n",
    "\n",
    "## Jupyter Notebooks\n",
    "To launch a Jupyter Notebook, simply navigate to the directory that you'd like to work in on the command line then type `jupyter notebook`. Your web browser will likely open the Jupyter Notebook automatically, but if not, you can simply open a web browser and go to the address `http://localhost:8888` which should then launch the Jupyter Notebook. You can close your notebooks by opening the terminal where you typed `jupyter notebook` where you should now see the notebook process running, and simply hit `control-c` to quit the process.\n",
    "\n",
    "All of the lessons in this tutorial are constructed using Jupyter Notebooks so that you can play with the code examples and interactively learn more. You're encouraged to edit the code that's provided in these notebooks to explore the effects of different commands."
   ]
  }
 ],
 "metadata": {
  "kernelspec": {
   "display_name": "Python 3",
   "language": "python",
   "name": "python3"
  },
  "language_info": {
   "codemirror_mode": {
    "name": "ipython",
    "version": 3
   },
   "file_extension": ".py",
   "mimetype": "text/x-python",
   "name": "python",
   "nbconvert_exporter": "python",
   "pygments_lexer": "ipython3",
   "version": "3.6.1"
  }
 },
 "nbformat": 4,
 "nbformat_minor": 2
}
