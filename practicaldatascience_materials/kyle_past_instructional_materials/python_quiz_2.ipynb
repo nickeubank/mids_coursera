{
 "cells": [
  {
   "cell_type": "markdown",
   "metadata": {
    "collapsed": true
   },
   "source": [
    "# Python Unit 2 Quiz"
   ]
  },
  {
   "cell_type": "markdown",
   "metadata": {},
   "source": [
    "## Part 1: Sorting data\n",
    "\n",
    "We often want to sort data by some metric. We'll see later that with NumPy and pandas that this becomes much easier to do with other tools, but this exercise will walk you through how to do create your own functions to sort through data.\n",
    "\n",
    "You're given a dataset that includes a series of strings that include text from nonsensical words and an associated numerical score value that corresponds to each word. Your goal is to be able to sort the data by the numerical score and find the corresponding word. Your function should take as input three arguments: (1) a key value array (the scores) which provides the order to sort by, (2) the data array (the words), and (3) the rank of the word's score that you'd like. Here, the value `1` corresponds to the maximum score, the value `2` corresponds to the second highest score, etc. *Be careful here since Python's indexing starts at 0.*\n",
    "\n",
    "**(1)** What is the 42nd highest scoring word?\n",
    "\n",
    "*Tips*: Before setting off, you may want to learn more about the Python [`sorted`](https://docs.python.org/3/library/functions.html#sorted) function which will be helpful here. Let's say you have two lists and want to sort first by the values in one list, then if the values are equal, then by the other:"
   ]
  },
  {
   "cell_type": "code",
   "execution_count": 19,
   "metadata": {
    "collapsed": true
   },
   "outputs": [],
   "source": [
    "list1 = [2,2,1]\n",
    "list2 = [7,6,4]"
   ]
  },
  {
   "cell_type": "markdown",
   "metadata": {},
   "source": [
    "We can use `sorted` to sort each list individually:"
   ]
  },
  {
   "cell_type": "code",
   "execution_count": 20,
   "metadata": {},
   "outputs": [
    {
     "name": "stdout",
     "output_type": "stream",
     "text": [
      "[1, 2, 2]\n",
      "[4, 6, 7]\n"
     ]
    }
   ],
   "source": [
    "print(sorted(list1))\n",
    "print(sorted(list2))"
   ]
  },
  {
   "cell_type": "markdown",
   "metadata": {},
   "source": [
    "But to sort by one list first, then the other, we need to form some tuples. Let's say instead `list1` and `list2` were in pairs in a list of tuples. If we sort these pairs, we get the desired behavior:"
   ]
  },
  {
   "cell_type": "code",
   "execution_count": 21,
   "metadata": {},
   "outputs": [
    {
     "name": "stdout",
     "output_type": "stream",
     "text": [
      "[(1, 4), (2, 6), (2, 7)]\n"
     ]
    }
   ],
   "source": [
    "pairs = [(2,7),(2,6),(1,4)]\n",
    "print(sorted(pairs))"
   ]
  },
  {
   "cell_type": "markdown",
   "metadata": {},
   "source": [
    "The nice thing here is that the pairs stick together. We can create a list of tuples from the `zip` function, which can \"zip\" two lists together reminiscent of a zipper:"
   ]
  },
  {
   "cell_type": "code",
   "execution_count": 22,
   "metadata": {},
   "outputs": [
    {
     "data": {
      "text/plain": [
       "[(2, 7), (2, 6), (1, 4)]"
      ]
     },
     "execution_count": 22,
     "metadata": {},
     "output_type": "execute_result"
    }
   ],
   "source": [
    "list(zip(list1,list2))"
   ]
  },
  {
   "cell_type": "markdown",
   "metadata": {},
   "source": [
    "That sets up the basic pieces we'll need and our job now is to put them together and make them work in a function.\n",
    "\n",
    "I recommend you setup a little test for your code so you know this works on a simpler case. Consider the following mini dataset to validate that your function works:"
   ]
  },
  {
   "cell_type": "code",
   "execution_count": 17,
   "metadata": {
    "collapsed": true
   },
   "outputs": [],
   "source": [
    "test_words = ['swampnut','bengidog','fifleshaw','bodyhip','shringgle','pluutem','decrax','snivsviz']\n",
    "test_score = [-12.246,   34.235,    0.336,      97.346,   -61.959,    55.598,   -8.362,  67.887    ]"
   ]
  },
  {
   "cell_type": "markdown",
   "metadata": {},
   "source": [
    "If you write the function, `myrank(key,data,rank)`, then running `myrank(test_score,test_words,1)` should produce a value of `bodyhip`, since it corresponds to the value of 97.346, which is the largest score. For `rank = 3` this sound produce the result of `pluutem`, which corresponds to a value of 55.598, the third largest score. It's good practice to start with a unit testing function that can check our simple test cases - here's an example you can use below:"
   ]
  },
  {
   "cell_type": "code",
   "execution_count": null,
   "metadata": {
    "collapsed": true
   },
   "outputs": [],
   "source": [
    "# A simple unit testing function\n",
    "def test(result, expected):\n",
    "  if result == expected:\n",
    "    outcome = ' OK '\n",
    "  else:\n",
    "    outcome = ' X  '\n",
    "  print('{} result: {} expected: {}'.format(outcome,result,expected))\n",
    "\n",
    "# Run the tests:\n",
    "test(myrank(test_score,test_words,1),'bodyhip')\n",
    "test(myrank(test_score,test_words,3),'pluutem')"
   ]
  },
  {
   "cell_type": "markdown",
   "metadata": {},
   "source": [
    "With this in place - let's go ahead and load the data that you'll actually be working with. While some of the data loading tools may not yet be familiar to you, you'll be exploring how to use pandas in the next unit (and where we'll see how to do this exercise in just a couple of lines of code), so consider this a sneak preview."
   ]
  },
  {
   "cell_type": "code",
   "execution_count": 29,
   "metadata": {
    "collapsed": true
   },
   "outputs": [],
   "source": [
    "import pandas as pd\n",
    "\n",
    "df = pd.read_csv('./data/word_scores.csv')\n",
    "word  = df['word'].tolist()\n",
    "score = df['score'].tolist()"
   ]
  },
  {
   "cell_type": "markdown",
   "metadata": {},
   "source": [
    "Now you should be ready to go! Remember - your task is to identify the 42nd highest scoring word?"
   ]
  },
  {
   "cell_type": "markdown",
   "metadata": {},
   "source": [
    "## Part 2: Function for mixed numerical and text analysis\n",
    "Palindromes are words that are read the same way forwards and backwards. Just as you may have a word that is read the same forward and backwards, you may have a number that's read the same forwards and backwards. For example, `8008` is a palindrome, as is `131`. \n",
    "\n",
    "Your challenge: find the largest palindromic number from a list of random integers, provided below:"
   ]
  },
  {
   "cell_type": "code",
   "execution_count": 16,
   "metadata": {},
   "outputs": [
    {
     "name": "stdout",
     "output_type": "stream",
     "text": [
      "[117356  79193 402701 117143 285000 306938 482663 340715 187037 489099\n",
      " 361681 301630 237033 384878 202395 455706  66008 310263 272876 121377\n",
      " 364536 164101 393166 244875 302731  79361  61911 236629 243846 376358\n",
      " 271993 313446 268330 493289 426216   8772 427728  95557 332750 273582\n",
      "  68988  16146 130812 185335 153473 224416 213770 365756  49180 103414\n",
      " 172251 436012 294647  75763 274690   3965 348488 178281 490176 370571\n",
      " 100398 417520 305183 447380 386626 404538 385612 153806 211282 342374\n",
      "  60174 338873 423248 214698 168576 476438  43534 254276 165950 274763\n",
      "  65263 386490 268751  57949 343279 450493 298506   4431 211333 108723\n",
      " 270822 481845  16642 329868 165861 405362 323972 471053 211869  81750]\n"
     ]
    }
   ],
   "source": [
    "# Generate the 10000 random numbers [DO NOT MODIFY THIS CODE]\n",
    "import numpy as np\n",
    "np.random.seed(14) # This guarantees the code will generate the same set of random numbers whenever executed\n",
    "random_integers = np.random.randint(1,high=500000, size=(10000))\n",
    "\n",
    "print(random_integers[:100]) # Prints the first 100 numbers"
   ]
  },
  {
   "cell_type": "markdown",
   "metadata": {},
   "source": [
    "Let's break this problem down into a series a steps (for which you'll produce an answer for each) for this quiz.\n",
    "\n",
    "**(2)** Create a function that takes as input an integer and tests whether or not that integer is a palindrome. It should return `True` for a palindrome and `False` for any other number. What is the output of your function for the input integer 113234562267762265432311?\n",
    "\n",
    "**(3)** Find a list of all the palindromes in `random_integers`. How many palindromes are there out of this sample of 10,000?\n",
    "\n",
    "**(4)** What is the largest palindromic number in `random_integers`?\n",
    "\n",
    "Tip: Here, you may want to think about reversing the order of numbers and how you might do that. Perhaps consider how this might be achievable using text..."
   ]
  },
  {
   "cell_type": "markdown",
   "metadata": {},
   "source": [
    "## Part 3: Pascal's Triangle\n",
    "Pascal's Triangle forms a pattern that produces a triangular array of binomial coefficients, which occur in many problems in probability and statistics. What we're interested in here is in the interesting patterns of numbers they produce.\n",
    "\n",
    "<img src='./img/pascal.gif'>\n",
    "\n",
    "Each interior entry in the triangle is the sum of the two items directly above it, as shown in the image above, with the first and last value equalling 1. We generally index the initial row as row 0, and this row only contains the number 1. So we can index the first few rows of Pascal's triangle as follows:\n",
    "\n",
    "```\n",
    "row 0:     1\n",
    "row 1:    1 1\n",
    "row 2:   1 2 1 \n",
    "row 3:  1 3 3 1 \n",
    "row 4: 1 4 6 4 1 \n",
    "```\n",
    "\n",
    "**(5)** What's the sum of all of the values in the row 250 of Pascal's Triangle?"
   ]
  },
  {
   "cell_type": "markdown",
   "metadata": {},
   "source": [
    "*Tips*: Remember with lists, you can make a list of lists. So you could represent the above triangle as:"
   ]
  },
  {
   "cell_type": "code",
   "execution_count": 23,
   "metadata": {
    "collapsed": true
   },
   "outputs": [],
   "source": [
    "triangle = [[1],[1,1],[1,2,3],[1,3,3,1],[1,4,6,4,1]]"
   ]
  },
  {
   "cell_type": "markdown",
   "metadata": {},
   "source": [
    "Then, if you print this line by line, you get Pascal's triangle:"
   ]
  },
  {
   "cell_type": "code",
   "execution_count": 24,
   "metadata": {},
   "outputs": [
    {
     "name": "stdout",
     "output_type": "stream",
     "text": [
      "[1]\n",
      "[1, 1]\n",
      "[1, 2, 3]\n",
      "[1, 3, 3, 1]\n",
      "[1, 4, 6, 4, 1]\n"
     ]
    }
   ],
   "source": [
    "for line in triangle:\n",
    "    print(line)"
   ]
  },
  {
   "cell_type": "markdown",
   "metadata": {},
   "source": [
    "We can even print the row number with the `enumerate()` function:"
   ]
  },
  {
   "cell_type": "code",
   "execution_count": 25,
   "metadata": {},
   "outputs": [
    {
     "name": "stdout",
     "output_type": "stream",
     "text": [
      "row 0: [1]\n",
      "row 1: [1, 1]\n",
      "row 2: [1, 2, 3]\n",
      "row 3: [1, 3, 3, 1]\n",
      "row 4: [1, 4, 6, 4, 1]\n"
     ]
    }
   ],
   "source": [
    "for row, line in enumerate(triangle):\n",
    "    print('row {}: {}'.format(row,line))"
   ]
  },
  {
   "cell_type": "markdown",
   "metadata": {},
   "source": [
    "The first step is to write a function that takes as input the number of rows of Pascal's Triangle that you'd like to create and returns the triangle as shown earlier in the `triangle` variable."
   ]
  },
  {
   "cell_type": "markdown",
   "metadata": {},
   "source": [
    "## Part 4: Filtering with Classes\n",
    "Let's say we want to filter some data by different criterion:\n",
    "- Whether a value is greater than or less than a certain value\n",
    "- Removing entries equal to a specific value\n",
    "- Removing multiples of certian numbers (e.g. multiples of 2 for even values)\n",
    "\n",
    "To do this, let's create a class called `MyFilter` that has an attribute called `array` which stores our list of data, and a number of methods, outlined below, each of which accomplishes a different task as described below:"
   ]
  },
  {
   "cell_type": "code",
   "execution_count": null,
   "metadata": {
    "collapsed": true
   },
   "outputs": [],
   "source": [
    "class MyFilter():\n",
    "    def __init__(self, array):\n",
    "        self.array = array\n",
    "\n",
    "    def get_array(self):\n",
    "        '''returns the current value of the `array' attribute'''\n",
    "        return self.array\n",
    "    \n",
    "    def remove_greater_than(self, value):\n",
    "        '''remove entries in `array' greater than a value specified'''\n",
    "        pass\n",
    "    \n",
    "    def remove_less_than(self, value):\n",
    "        '''remove entries in `array' less than a value specified'''        \n",
    "        pass\n",
    "    \n",
    "    def remove_if_multiple(self, value_list):\n",
    "        '''remove entries in `array' that are multiples of any `value_list' entries'''        \n",
    "        pass\n",
    "    \n",
    "    def remove_if_equal(self, value_list):\n",
    "        '''remove entries in `array' that equal any value in `value_list' '''\n",
    "        pass"
   ]
  },
  {
   "cell_type": "markdown",
   "metadata": {},
   "source": [
    "Here's the familiar dataset we'll be using for this challenge:"
   ]
  },
  {
   "cell_type": "code",
   "execution_count": 5,
   "metadata": {},
   "outputs": [
    {
     "name": "stdout",
     "output_type": "stream",
     "text": [
      "[620 345 269 407 328 762 359 747 669 651 209 574 489 878 667  26 472 492\n",
      " 545 261 974 139 651 513 471  85 134 550 633 102  42 745 232 580 720 325\n",
      " 974 174 380 249 786 764 897 160 778 188  28 219 812 759 258 893 328 105\n",
      " 704 907  46 752  31 916 578  58 588 206 338 358 782 953 336 682 640 278\n",
      " 526 324  62 331 751 442 463 605 239 957 522 335 389 179 657 486 565 258\n",
      " 140 997 882 388 866  13 925 854 489 402]\n"
     ]
    }
   ],
   "source": [
    "# Generate the 10000 random numbers [DO NOT MODIFY THIS CODE]\n",
    "import numpy as np\n",
    "np.random.seed(14) # This guarantees the code will generate the same set of random numbers whenever executed\n",
    "random_integers = np.random.randint(1,high=1000, size=(10000))\n",
    "\n",
    "print(random_integers[:100]) # Prints the first 100 numbers"
   ]
  },
  {
   "cell_type": "markdown",
   "metadata": {},
   "source": [
    "**(6)** Using the `random_integers` data with your successful implementation of the class above, apply the methods in this class to do the following:\n",
    "1. Remove values greater than 777\n",
    "2. Remove values less than 10\n",
    "3. Remove values equal to 105, 31, 13, and 657\n",
    "4. Remove multiples of 2,3,4, and 5\n",
    "\n",
    "For the resulting list of numbers, report your result as the **average of the list**.\n",
    "\n",
    "*Tip*: As a starting point, create a dataset with which you can test your output and create a test function to do so. You should check the results of each method to make sure they are correct before using them together."
   ]
  }
 ],
 "metadata": {
  "kernelspec": {
   "display_name": "Python 3",
   "language": "python",
   "name": "python3"
  },
  "language_info": {
   "codemirror_mode": {
    "name": "ipython",
    "version": 3
   },
   "file_extension": ".py",
   "mimetype": "text/x-python",
   "name": "python",
   "nbconvert_exporter": "python",
   "pygments_lexer": "ipython3",
   "version": "3.6.1"
  }
 },
 "nbformat": 4,
 "nbformat_minor": 2
}
