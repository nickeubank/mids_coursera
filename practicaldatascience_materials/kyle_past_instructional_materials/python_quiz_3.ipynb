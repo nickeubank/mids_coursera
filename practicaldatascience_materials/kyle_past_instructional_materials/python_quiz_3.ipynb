{
 "cells": [
  {
   "cell_type": "markdown",
   "metadata": {},
   "source": [
    "# Python Unit 3 Quiz"
   ]
  },
  {
   "cell_type": "markdown",
   "metadata": {},
   "source": [
    "## Part 1: Exploring matrices\n",
    "For this question, we'll use the following matrix of data"
   ]
  },
  {
   "cell_type": "code",
   "execution_count": 52,
   "metadata": {
    "collapsed": true
   },
   "outputs": [],
   "source": [
    "# Generate a matrix of random numbers [DO NOT MODIFY THIS CODE]\n",
    "import numpy as np\n",
    "np.random.seed(14) # This guarantees the code will generate the same set of random numbers whenever executed\n",
    "random_integers = np.random.randint(1,high=50000, size=(500,500))"
   ]
  },
  {
   "cell_type": "markdown",
   "metadata": {},
   "source": [
    "**(1)** How many unique values are in the matrix?\n",
    "\n",
    "**(2)** What is the average of the elementwise square root of the values in the matrix?\n",
    "\n",
    "**(3)** What is the sum of the values in the last column of the matrix?\n",
    "\n",
    "**(4)** What is the maximum value in the second to last row of the matrix?"
   ]
  },
  {
   "cell_type": "markdown",
   "metadata": {},
   "source": [
    "## Part 2: Loading data and answering questions for a real dataset\n",
    "You'll find in the `data` folder a file called, `egrid2016.xlsx`. This is the dataset we'll be exploring through these exercises. This dataset is the Environmental Protection Agency's (EPA) [Emissions & Generation Resource Integrated Database (eGRID)](https://www.epa.gov/energy/emissions-generation-resource-integrated-database-egrid) containing information about all power plants in the United States, the amount of genereration they produce, what fuel they use, the location of the plant, and many more quantities. We'll be using a subset of those data.\n",
    "\n",
    "The fields we'll be using include:\t\t\t\t\t\n",
    "    \n",
    "|field    |description|\n",
    "|:-----   |:-----|\n",
    "|SEQPLT16 |eGRID2016 Plant file sequence number (the index)| \n",
    "|PSTATABB |Plant state abbreviation|\n",
    "|PNAME    |Plant name |\n",
    "|LAT      |Plant latitude |\n",
    "|LON      |Plant longitude|\n",
    "|PLPRMFL  |Plant primary fuel |\n",
    "|CAPFAC   |Plant capacity factor |\n",
    "|NAMEPCAP |Plant nameplate capacity (Megawatts MW)|\n",
    "|PLNGENAN |Plant annual net generation (Megawatt-hours MWh)|\n",
    "|PLCO2EQA |Plant annual CO2 equivalent emissions (tons)|\n",
    "\n",
    "For more details on the data, you can refer to the [eGrid technical documents](https://www.epa.gov/sites/production/files/2018-02/documents/egrid2016_technicalsupportdocument_0.pdf). For example, you may want to review page 45 and the section \"Plant Primary Fuel (PLPRMFL)\", which gives the full names of the fuel types including WND for wind, NG for natural gas, BIT for Bituminous coal, etc.\n",
    "\n",
    "### Your questions about this dataset\n",
    "For this dataset, your goal is answer the following questions about electricity generation in the United States:\n",
    "\n",
    "**(5)** Which plant has generated the most energy (measured in MWh)?\n",
    "\n",
    "**(6)** What is the name of the northern-most power plant in the United States?\n",
    "\n",
    "**(7)** What is the state where the northern-most power plant in the United States is located?\n",
    "\n",
    "**(8)** What is the ratio of the largest to the smallest number of tons of CO2 equivalent produced by a bituminous coal plant that generates more than the average net generation (in MWh) for bituminous coal plants? *Note: first determine the bituminous coal plants that produce at least the average net generation, then determine the ratio of the largest to smallest number of tons of CO2 equivalent produced.\n",
    "\n",
    "**(9)** Plot a bar plot of the amount of energy produced by each fuel type for the plant. From this plot, which fuel for generation is used to produce the most energy (MWh) in the United States?\n",
    "\n",
    "There also are a couple of \"gotchas\" to watch out for with this dataset:\n",
    "1. The headers are on the second row and you'll want to ignore the first row (they're more detailed descriptions of the headers).\n",
    "- NaN values represent blanks in the data. These will appear regularly in real-world data, so getting experience working with it will be important."
   ]
  }
 ],
 "metadata": {
  "kernelspec": {
   "display_name": "Python 3",
   "language": "python",
   "name": "python3"
  },
  "language_info": {
   "codemirror_mode": {
    "name": "ipython",
    "version": 3
   },
   "file_extension": ".py",
   "mimetype": "text/x-python",
   "name": "python",
   "nbconvert_exporter": "python",
   "pygments_lexer": "ipython3",
   "version": "3.6.1"
  }
 },
 "nbformat": 4,
 "nbformat_minor": 2
}
