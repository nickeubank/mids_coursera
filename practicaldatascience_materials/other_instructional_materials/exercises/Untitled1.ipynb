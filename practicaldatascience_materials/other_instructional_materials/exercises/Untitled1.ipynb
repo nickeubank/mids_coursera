{
 "cells": [
  {
   "cell_type": "code",
   "execution_count": 1,
   "metadata": {},
   "outputs": [
    {
     "name": "stderr",
     "output_type": "stream",
     "text": [
      "/Users/Nick/miniconda3/lib/python3.7/site-packages/distributed/node.py:155: UserWarning: Port 8787 is already in use.\n",
      "Perhaps you already have a cluster running?\n",
      "Hosting the HTTP server on port 50297 instead\n",
      "  http_address[\"port\"], self.http_server.port\n"
     ]
    }
   ],
   "source": [
    "\n",
    "from dask.distributed import Client\n",
    "client = Client()"
   ]
  },
  {
   "cell_type": "code",
   "execution_count": 2,
   "metadata": {},
   "outputs": [
    {
     "data": {
      "text/html": [
       "<table style=\"border: 2px solid white;\">\n",
       "<tr>\n",
       "<td style=\"vertical-align: top; border: 0px solid white\">\n",
       "<h3 style=\"text-align: left;\">Client</h3>\n",
       "<ul style=\"text-align: left; list-style: none; margin: 0; padding: 0;\">\n",
       "  <li><b>Scheduler: </b>tcp://127.0.0.1:50298</li>\n",
       "  <li><b>Dashboard: </b><a href='http://127.0.0.1:50297/status' target='_blank'>http://127.0.0.1:50297/status</a></li>\n",
       "</ul>\n",
       "</td>\n",
       "<td style=\"vertical-align: top; border: 0px solid white\">\n",
       "<h3 style=\"text-align: left;\">Cluster</h3>\n",
       "<ul style=\"text-align: left; list-style:none; margin: 0; padding: 0;\">\n",
       "  <li><b>Workers: </b>4</li>\n",
       "  <li><b>Cores: </b>16</li>\n",
       "  <li><b>Memory: </b>34.36 GB</li>\n",
       "</ul>\n",
       "</td>\n",
       "</tr>\n",
       "</table>"
      ],
      "text/plain": [
       "<Client: 'tcp://127.0.0.1:50298' processes=4 threads=16, memory=34.36 GB>"
      ]
     },
     "execution_count": 2,
     "metadata": {},
     "output_type": "execute_result"
    }
   ],
   "source": [
    "client"
   ]
  },
  {
   "cell_type": "code",
   "execution_count": 3,
   "metadata": {},
   "outputs": [
    {
     "name": "stdout",
     "output_type": "stream",
     "text": [
      "<Client: 'tcp://127.0.0.1:50298' processes=4 threads=16, memory=34.36 GB>\n"
     ]
    }
   ],
   "source": [
    "print(client)"
   ]
  },
  {
   "cell_type": "code",
   "execution_count": 4,
   "metadata": {},
   "outputs": [
    {
     "data": {
      "text/plain": [
       "\u001b[0;31mInit signature:\u001b[0m\n",
       "\u001b[0mClient\u001b[0m\u001b[0;34m(\u001b[0m\u001b[0;34m\u001b[0m\n",
       "\u001b[0;34m\u001b[0m    \u001b[0maddress\u001b[0m\u001b[0;34m=\u001b[0m\u001b[0;32mNone\u001b[0m\u001b[0;34m,\u001b[0m\u001b[0;34m\u001b[0m\n",
       "\u001b[0;34m\u001b[0m    \u001b[0mloop\u001b[0m\u001b[0;34m=\u001b[0m\u001b[0;32mNone\u001b[0m\u001b[0;34m,\u001b[0m\u001b[0;34m\u001b[0m\n",
       "\u001b[0;34m\u001b[0m    \u001b[0mtimeout\u001b[0m\u001b[0;34m=\u001b[0m\u001b[0;34m'__no_default__'\u001b[0m\u001b[0;34m,\u001b[0m\u001b[0;34m\u001b[0m\n",
       "\u001b[0;34m\u001b[0m    \u001b[0mset_as_default\u001b[0m\u001b[0;34m=\u001b[0m\u001b[0;32mTrue\u001b[0m\u001b[0;34m,\u001b[0m\u001b[0;34m\u001b[0m\n",
       "\u001b[0;34m\u001b[0m    \u001b[0mscheduler_file\u001b[0m\u001b[0;34m=\u001b[0m\u001b[0;32mNone\u001b[0m\u001b[0;34m,\u001b[0m\u001b[0;34m\u001b[0m\n",
       "\u001b[0;34m\u001b[0m    \u001b[0msecurity\u001b[0m\u001b[0;34m=\u001b[0m\u001b[0;32mNone\u001b[0m\u001b[0;34m,\u001b[0m\u001b[0;34m\u001b[0m\n",
       "\u001b[0;34m\u001b[0m    \u001b[0masynchronous\u001b[0m\u001b[0;34m=\u001b[0m\u001b[0;32mFalse\u001b[0m\u001b[0;34m,\u001b[0m\u001b[0;34m\u001b[0m\n",
       "\u001b[0;34m\u001b[0m    \u001b[0mname\u001b[0m\u001b[0;34m=\u001b[0m\u001b[0;32mNone\u001b[0m\u001b[0;34m,\u001b[0m\u001b[0;34m\u001b[0m\n",
       "\u001b[0;34m\u001b[0m    \u001b[0mheartbeat_interval\u001b[0m\u001b[0;34m=\u001b[0m\u001b[0;32mNone\u001b[0m\u001b[0;34m,\u001b[0m\u001b[0;34m\u001b[0m\n",
       "\u001b[0;34m\u001b[0m    \u001b[0mserializers\u001b[0m\u001b[0;34m=\u001b[0m\u001b[0;32mNone\u001b[0m\u001b[0;34m,\u001b[0m\u001b[0;34m\u001b[0m\n",
       "\u001b[0;34m\u001b[0m    \u001b[0mdeserializers\u001b[0m\u001b[0;34m=\u001b[0m\u001b[0;32mNone\u001b[0m\u001b[0;34m,\u001b[0m\u001b[0;34m\u001b[0m\n",
       "\u001b[0;34m\u001b[0m    \u001b[0mextensions\u001b[0m\u001b[0;34m=\u001b[0m\u001b[0;34m[\u001b[0m\u001b[0;34m<\u001b[0m\u001b[0;32mclass\u001b[0m \u001b[0;34m'distributed.pubsub.PubSubClientExtension'\u001b[0m\u001b[0;34m>\u001b[0m\u001b[0;34m]\u001b[0m\u001b[0;34m,\u001b[0m\u001b[0;34m\u001b[0m\n",
       "\u001b[0;34m\u001b[0m    \u001b[0mdirect_to_workers\u001b[0m\u001b[0;34m=\u001b[0m\u001b[0;32mNone\u001b[0m\u001b[0;34m,\u001b[0m\u001b[0;34m\u001b[0m\n",
       "\u001b[0;34m\u001b[0m    \u001b[0mconnection_limit\u001b[0m\u001b[0;34m=\u001b[0m\u001b[0;36m512\u001b[0m\u001b[0;34m,\u001b[0m\u001b[0;34m\u001b[0m\n",
       "\u001b[0;34m\u001b[0m    \u001b[0;34m**\u001b[0m\u001b[0mkwargs\u001b[0m\u001b[0;34m,\u001b[0m\u001b[0;34m\u001b[0m\n",
       "\u001b[0;34m\u001b[0m\u001b[0;34m)\u001b[0m\u001b[0;34m\u001b[0m\u001b[0;34m\u001b[0m\u001b[0m\n",
       "\u001b[0;31mDocstring:\u001b[0m     \n",
       "Connect to and submit computation to a Dask cluster\n",
       "\n",
       "The Client connects users to a Dask cluster.  It provides an asynchronous\n",
       "user interface around functions and futures.  This class resembles\n",
       "executors in ``concurrent.futures`` but also allows ``Future`` objects\n",
       "within ``submit/map`` calls.  When a Client is instantiated it takes over\n",
       "all ``dask.compute`` and ``dask.persist`` calls by default.\n",
       "\n",
       "It is also common to create a Client without specifying the scheduler\n",
       "address , like ``Client()``.  In this case the Client creates a\n",
       ":class:`LocalCluster` in the background and connects to that.  Any extra\n",
       "keywords are passed from Client to LocalCluster in this case.  See the\n",
       "LocalCluster documentation for more information.\n",
       "\n",
       "Parameters\n",
       "----------\n",
       "address: string, or Cluster\n",
       "    This can be the address of a ``Scheduler`` server like a string\n",
       "    ``'127.0.0.1:8786'`` or a cluster object like ``LocalCluster()``\n",
       "timeout: int\n",
       "    Timeout duration for initial connection to the scheduler\n",
       "set_as_default: bool (True)\n",
       "    Claim this scheduler as the global dask scheduler\n",
       "scheduler_file: string (optional)\n",
       "    Path to a file with scheduler information if available\n",
       "security: Security or bool, optional\n",
       "    Optional security information. If creating a local cluster can also\n",
       "    pass in ``True``, in which case temporary self-signed credentials will\n",
       "    be created automatically.\n",
       "asynchronous: bool (False by default)\n",
       "    Set to True if using this client within async/await functions or within\n",
       "    Tornado gen.coroutines.  Otherwise this should remain False for normal\n",
       "    use.\n",
       "name: string (optional)\n",
       "    Gives the client a name that will be included in logs generated on\n",
       "    the scheduler for matters relating to this client\n",
       "direct_to_workers: bool (optional)\n",
       "    Whether or not to connect directly to the workers, or to ask\n",
       "    the scheduler to serve as intermediary.\n",
       "heartbeat_interval: int\n",
       "    Time in milliseconds between heartbeats to scheduler\n",
       "**kwargs:\n",
       "    If you do not pass a scheduler address, Client will create a\n",
       "    ``LocalCluster`` object, passing any extra keyword arguments.\n",
       "\n",
       "Examples\n",
       "--------\n",
       "Provide cluster's scheduler node address on initialization:\n",
       "\n",
       ">>> client = Client('127.0.0.1:8786')  # doctest: +SKIP\n",
       "\n",
       "Use ``submit`` method to send individual computations to the cluster\n",
       "\n",
       ">>> a = client.submit(add, 1, 2)  # doctest: +SKIP\n",
       ">>> b = client.submit(add, 10, 20)  # doctest: +SKIP\n",
       "\n",
       "Continue using submit or map on results to build up larger computations\n",
       "\n",
       ">>> c = client.submit(add, a, b)  # doctest: +SKIP\n",
       "\n",
       "Gather results with the ``gather`` method.\n",
       "\n",
       ">>> client.gather(c)  # doctest: +SKIP\n",
       "33\n",
       "\n",
       "You can also call Client with no arguments in order to create your own\n",
       "local cluster.\n",
       "\n",
       ">>> client = Client()  # makes your own local \"cluster\" # doctest: +SKIP\n",
       "\n",
       "Extra keywords will be passed directly to LocalCluster\n",
       "\n",
       ">>> client = Client(processes=False, threads_per_worker=1)  # doctest: +SKIP\n",
       "\n",
       "See Also\n",
       "--------\n",
       "distributed.scheduler.Scheduler: Internal scheduler\n",
       "distributed.LocalCluster:\n",
       "\u001b[0;31mFile:\u001b[0m           ~/miniconda3/lib/python3.7/site-packages/distributed/client.py\n",
       "\u001b[0;31mType:\u001b[0m           type\n",
       "\u001b[0;31mSubclasses:\u001b[0m     Executor\n"
      ]
     },
     "metadata": {},
     "output_type": "display_data"
    }
   ],
   "source": [
    "Client?"
   ]
  },
  {
   "cell_type": "code",
   "execution_count": null,
   "metadata": {},
   "outputs": [],
   "source": []
  }
 ],
 "metadata": {
  "kernelspec": {
   "display_name": "Python 3",
   "language": "python",
   "name": "python3"
  },
  "language_info": {
   "codemirror_mode": {
    "name": "ipython",
    "version": 3
   },
   "file_extension": ".py",
   "mimetype": "text/x-python",
   "name": "python",
   "nbconvert_exporter": "python",
   "pygments_lexer": "ipython3",
   "version": "3.7.8"
  }
 },
 "nbformat": 4,
 "nbformat_minor": 4
}
