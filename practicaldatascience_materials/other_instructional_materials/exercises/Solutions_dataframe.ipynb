{
 "cells": [
  {
   "cell_type": "markdown",
   "metadata": {},
   "source": [
    "# Estimating Labor Market Returns to Education\n",
    "\n",
    "**Note:** Most students taking this class are Duke MIDS students who have worked with `pandas` previously. As a result, these exercises are very light on basic pandas Series and DataFrame manipulations. If you are new to `pandas`, I would advise looking into some addition practice opportunities with `pandas`, as discussed on the [Advice for Non-MIDS Students](../not_a_mids_student.ipynb) page, such as DataCamp's \"pandas Fundamentals\" course. \n",
    "\n",
    "In this exercise, we're going to use data from the [American Communities Survey (ACS)](https://usa.ipums.org/usa/acs.shtml) to study the relationship betwen educational attainment and wages. The ACS is a survey conducted by the United States Census Bureau (though it is not \"The Census,\" which is a counting of every person in the United States that takes place every 10 years) to measure numerous features of the US population. The data we will be working with includes about 100 variables from the 2017 ACS survey, and is a 10% sample of the ACS (which itself is a 1% sample of the US population, so we're working with about a 0.1% sample of the United States). \n",
    "\n",
    "This data comes from [IPUMS](https://usa.ipums.org/usa/), which provides a very useful tool for getting subsets of major survey datasets, not just from the US, but [from government statistical agencies the world over](https://international.ipums.org/international-action/sample_details).\n",
    "\n",
    "This is *real* data, meaning that you are being provided the data as it is provided by IPUMS. Documentation for all variables used in this data can be found [here](https://usa.ipums.org/usa-action/variables/group) (you can either search by variable name to figure out the meaning of a variable in this data, or search for something you want to see if a variable with the right name is in this data). \n",
    "\n",
    "Within this data is information on both the educational background and current earnings of a representative sample of Americans. We will now use this data to estimate the labor-market returns to graduating high school and college, and to learn something about the meaning of an educational degree. "
   ]
  },
  {
   "cell_type": "markdown",
   "metadata": {},
   "source": [
    "### Exercise 1\n",
    "\n",
    "Data for these [exercises can be found here](https://github.com/nickeubank/MIDS_Data/tree/master/US_AmericanCommunitySurvey). First, download `US_ACS_2017_10pct_sample.dta`. "
   ]
  },
  {
   "cell_type": "markdown",
   "metadata": {},
   "source": [
    "### Exercise 2\n",
    "\n",
    "Now import `US_ACS_2017_10pct_sample.dta` into a pandas DataFrame. This can be done with the command `pd.read_stata`, which will read in files created in the program Stata (and which uses the file suffix `.dta`). This is a format commonly used by social scientists."
   ]
  },
  {
   "cell_type": "code",
   "execution_count": 1,
   "metadata": {},
   "outputs": [],
   "source": [
    "%load_ext lab_black\n",
    "import pandas as pd\n",
    "import numpy as np\n",
    "\n",
    "# Download the data\n",
    "acs = pd.read_stata(\n",
    "    \"https://github.com/nickeubank/MIDS_Data/raw/master/US_AmericanCommunitySurvey/US_ACS_2017_10pct_sample.dta\"\n",
    ")"
   ]
  },
  {
   "cell_type": "markdown",
   "metadata": {},
   "source": [
    "## Getting to Know Your Data\n",
    "\n",
    "When you get a new dataset like this, it's good to start by trying to get a feel for its contents and organization. Toy datasets you sometimes get in classes are often very small, and easy to look at, but this is a pretty large dataset, so you can't just open it up and get a good sense of it. Here are some ways to get to know your data. "
   ]
  },
  {
   "cell_type": "markdown",
   "metadata": {},
   "source": [
    "**3)** How many rows are in your data?"
   ]
  },
  {
   "cell_type": "code",
   "execution_count": 2,
   "metadata": {},
   "outputs": [
    {
     "data": {
      "text/plain": [
       "319004"
      ]
     },
     "execution_count": 2,
     "metadata": {},
     "output_type": "execute_result"
    }
   ],
   "source": [
    "len(acs)\n",
    "# US population is a little over 300 million,\n",
    "# so 300,000 observations is about right."
   ]
  },
  {
   "cell_type": "markdown",
   "metadata": {},
   "source": [
    "**4)** How many columns are in your data?"
   ]
  },
  {
   "cell_type": "code",
   "execution_count": 3,
   "metadata": {},
   "outputs": [
    {
     "data": {
      "text/plain": [
       "104"
      ]
     },
     "execution_count": 3,
     "metadata": {},
     "output_type": "execute_result"
    }
   ],
   "source": [
    "len(acs.columns)"
   ]
  },
  {
   "cell_type": "markdown",
   "metadata": {},
   "source": [
    "**5)** Let's see what variables are in this dataset. First, try to see them all using the command:\n",
    "\n",
    "```\n",
    "acs.columns\n",
    "```\n"
   ]
  },
  {
   "cell_type": "code",
   "execution_count": 4,
   "metadata": {},
   "outputs": [
    {
     "data": {
      "text/plain": [
       "Index(['year', 'datanum', 'serial', 'cbserial', 'numprec', 'subsamp', 'hhwt',\n",
       "       'hhtype', 'cluster', 'adjust',\n",
       "       ...\n",
       "       'migcounty1', 'migmet131', 'vetdisab', 'diffrem', 'diffphys', 'diffmob',\n",
       "       'diffcare', 'diffsens', 'diffeye', 'diffhear'],\n",
       "      dtype='object', length=104)"
      ]
     },
     "execution_count": 4,
     "metadata": {},
     "output_type": "execute_result"
    }
   ],
   "source": [
    "acs.columns"
   ]
  },
  {
   "cell_type": "markdown",
   "metadata": {},
   "source": [
    "As you will see, `python` doesn't like to print out all the different variables. To get everything printed out, we can loop over all the columns and print them one at a time with the command:\n",
    "\n",
    "```\n",
    "for c in acs.columns: print(c)\n",
    "```\n",
    "\n",
    "Try it. "
   ]
  },
  {
   "cell_type": "code",
   "execution_count": 5,
   "metadata": {},
   "outputs": [
    {
     "name": "stdout",
     "output_type": "stream",
     "text": [
      "year\n",
      "datanum\n",
      "serial\n",
      "cbserial\n",
      "numprec\n",
      "subsamp\n",
      "hhwt\n",
      "hhtype\n",
      "cluster\n",
      "adjust\n",
      "cpi99\n",
      "region\n",
      "stateicp\n",
      "statefip\n",
      "countyicp\n",
      "countyfip\n",
      "metro\n",
      "city\n",
      "citypop\n",
      "strata\n",
      "gq\n",
      "farm\n",
      "ownershp\n",
      "ownershpd\n",
      "mortgage\n",
      "mortgag2\n",
      "mortamt1\n",
      "mortamt2\n",
      "respmode\n",
      "pernum\n",
      "cbpernum\n",
      "perwt\n",
      "slwt\n",
      "famunit\n",
      "sex\n",
      "age\n",
      "marst\n",
      "birthyr\n",
      "race\n",
      "raced\n",
      "hispan\n",
      "hispand\n",
      "bpl\n",
      "bpld\n",
      "citizen\n",
      "yrnatur\n",
      "yrimmig\n",
      "language\n",
      "languaged\n",
      "speakeng\n",
      "hcovany\n",
      "hcovpriv\n",
      "hinsemp\n",
      "hinspur\n",
      "hinstri\n",
      "hcovpub\n",
      "hinscaid\n",
      "hinscare\n",
      "hinsva\n",
      "hinsihs\n",
      "school\n",
      "educ\n",
      "educd\n",
      "gradeatt\n",
      "gradeattd\n",
      "schltype\n",
      "degfield\n",
      "degfieldd\n",
      "degfield2\n",
      "degfield2d\n",
      "empstat\n",
      "empstatd\n",
      "labforce\n",
      "occ\n",
      "ind\n",
      "classwkr\n",
      "classwkrd\n",
      "looking\n",
      "availble\n",
      "inctot\n",
      "ftotinc\n",
      "incwage\n",
      "incbus00\n",
      "incss\n",
      "incwelfr\n",
      "incinvst\n",
      "incretir\n",
      "incsupp\n",
      "incother\n",
      "incearn\n",
      "poverty\n",
      "migrate1\n",
      "migrate1d\n",
      "migplac1\n",
      "migcounty1\n",
      "migmet131\n",
      "vetdisab\n",
      "diffrem\n",
      "diffphys\n",
      "diffmob\n",
      "diffcare\n",
      "diffsens\n",
      "diffeye\n",
      "diffhear\n"
     ]
    }
   ],
   "source": [
    "for c in acs.columns:\n",
    "    print(c)"
   ]
  },
  {
   "cell_type": "markdown",
   "metadata": {},
   "source": [
    "**4)** That's a *lot* of variables, and definitely more than we need. In general, life is easier when working with these kinds of huge datasets if you can narrow down the number of variables a little. In this exercise, we will be looking at the relationship between education and wages, we need variables for: \n",
    "\n",
    "- Age\n",
    "- Income\n",
    "- Education\n",
    "- Employment status (is the person actually working)\n",
    "\n",
    "These quantities of interest correspond to the following variables in our data: `age`, `inctot`, `educ`, and `empstat`. \n",
    "\n",
    "Subset your data to just those variables. "
   ]
  },
  {
   "cell_type": "code",
   "execution_count": 6,
   "metadata": {},
   "outputs": [],
   "source": [
    "acs = acs[[\"age\", \"empstat\", \"inctot\", \"educ\"]]"
   ]
  },
  {
   "cell_type": "markdown",
   "metadata": {},
   "source": [
    "**5)** Now that we have a more manageable number of variables, it's often very useful to look at a handful of rows of your data. The easiest way to do this is probably the `.head()` method (which will show you the first five rows), or the `tail()` method, which will show you the last five rows. \n",
    "\n",
    "But to get a good sense of your data, it's often better to use the `sample()` command, which returns a random set of rows. As the first and last rows are sometimes not representative, a random set of rows can be very helpful. Try looking at a random sample of 20 rows (note: you don't have to run `.sample()` ten times to get ten rows. Look at the `.sample` help file if you're stuck. "
   ]
  },
  {
   "cell_type": "code",
   "execution_count": 7,
   "metadata": {},
   "outputs": [
    {
     "data": {
      "text/html": [
       "<div>\n",
       "<style scoped>\n",
       "    .dataframe tbody tr th:only-of-type {\n",
       "        vertical-align: middle;\n",
       "    }\n",
       "\n",
       "    .dataframe tbody tr th {\n",
       "        vertical-align: top;\n",
       "    }\n",
       "\n",
       "    .dataframe thead th {\n",
       "        text-align: right;\n",
       "    }\n",
       "</style>\n",
       "<table border=\"1\" class=\"dataframe\">\n",
       "  <thead>\n",
       "    <tr style=\"text-align: right;\">\n",
       "      <th></th>\n",
       "      <th>age</th>\n",
       "      <th>empstat</th>\n",
       "      <th>inctot</th>\n",
       "      <th>educ</th>\n",
       "    </tr>\n",
       "  </thead>\n",
       "  <tbody>\n",
       "    <tr>\n",
       "      <th>299688</th>\n",
       "      <td>15</td>\n",
       "      <td>n/a</td>\n",
       "      <td>0</td>\n",
       "      <td>grade 5, 6, 7, or 8</td>\n",
       "    </tr>\n",
       "    <tr>\n",
       "      <th>60572</th>\n",
       "      <td>18</td>\n",
       "      <td>employed</td>\n",
       "      <td>6000</td>\n",
       "      <td>grade 12</td>\n",
       "    </tr>\n",
       "    <tr>\n",
       "      <th>30162</th>\n",
       "      <td>42</td>\n",
       "      <td>not in labor force</td>\n",
       "      <td>0</td>\n",
       "      <td>1 year of college</td>\n",
       "    </tr>\n",
       "    <tr>\n",
       "      <th>203613</th>\n",
       "      <td>46</td>\n",
       "      <td>employed</td>\n",
       "      <td>68000</td>\n",
       "      <td>5+ years of college</td>\n",
       "    </tr>\n",
       "    <tr>\n",
       "      <th>169945</th>\n",
       "      <td>68</td>\n",
       "      <td>employed</td>\n",
       "      <td>46400</td>\n",
       "      <td>grade 12</td>\n",
       "    </tr>\n",
       "    <tr>\n",
       "      <th>267317</th>\n",
       "      <td>84</td>\n",
       "      <td>not in labor force</td>\n",
       "      <td>49000</td>\n",
       "      <td>grade 12</td>\n",
       "    </tr>\n",
       "    <tr>\n",
       "      <th>267598</th>\n",
       "      <td>62</td>\n",
       "      <td>not in labor force</td>\n",
       "      <td>19900</td>\n",
       "      <td>grade 12</td>\n",
       "    </tr>\n",
       "    <tr>\n",
       "      <th>225616</th>\n",
       "      <td>71</td>\n",
       "      <td>not in labor force</td>\n",
       "      <td>8900</td>\n",
       "      <td>grade 12</td>\n",
       "    </tr>\n",
       "    <tr>\n",
       "      <th>95262</th>\n",
       "      <td>1</td>\n",
       "      <td>n/a</td>\n",
       "      <td>9999999</td>\n",
       "      <td>n/a or no schooling</td>\n",
       "    </tr>\n",
       "    <tr>\n",
       "      <th>5717</th>\n",
       "      <td>71</td>\n",
       "      <td>not in labor force</td>\n",
       "      <td>94000</td>\n",
       "      <td>4 years of college</td>\n",
       "    </tr>\n",
       "    <tr>\n",
       "      <th>61423</th>\n",
       "      <td>53</td>\n",
       "      <td>employed</td>\n",
       "      <td>55000</td>\n",
       "      <td>grade 12</td>\n",
       "    </tr>\n",
       "    <tr>\n",
       "      <th>189520</th>\n",
       "      <td>36</td>\n",
       "      <td>employed</td>\n",
       "      <td>40000</td>\n",
       "      <td>4 years of college</td>\n",
       "    </tr>\n",
       "    <tr>\n",
       "      <th>94082</th>\n",
       "      <td>82</td>\n",
       "      <td>not in labor force</td>\n",
       "      <td>22700</td>\n",
       "      <td>grade 12</td>\n",
       "    </tr>\n",
       "    <tr>\n",
       "      <th>141775</th>\n",
       "      <td>16</td>\n",
       "      <td>not in labor force</td>\n",
       "      <td>500</td>\n",
       "      <td>grade 10</td>\n",
       "    </tr>\n",
       "    <tr>\n",
       "      <th>244018</th>\n",
       "      <td>10</td>\n",
       "      <td>n/a</td>\n",
       "      <td>9999999</td>\n",
       "      <td>nursery school to grade 4</td>\n",
       "    </tr>\n",
       "    <tr>\n",
       "      <th>18306</th>\n",
       "      <td>17</td>\n",
       "      <td>not in labor force</td>\n",
       "      <td>0</td>\n",
       "      <td>grade 11</td>\n",
       "    </tr>\n",
       "    <tr>\n",
       "      <th>216971</th>\n",
       "      <td>27</td>\n",
       "      <td>employed</td>\n",
       "      <td>46300</td>\n",
       "      <td>1 year of college</td>\n",
       "    </tr>\n",
       "    <tr>\n",
       "      <th>285635</th>\n",
       "      <td>57</td>\n",
       "      <td>employed</td>\n",
       "      <td>110000</td>\n",
       "      <td>4 years of college</td>\n",
       "    </tr>\n",
       "    <tr>\n",
       "      <th>55683</th>\n",
       "      <td>30</td>\n",
       "      <td>employed</td>\n",
       "      <td>34000</td>\n",
       "      <td>2 years of college</td>\n",
       "    </tr>\n",
       "    <tr>\n",
       "      <th>70139</th>\n",
       "      <td>34</td>\n",
       "      <td>employed</td>\n",
       "      <td>30000</td>\n",
       "      <td>n/a or no schooling</td>\n",
       "    </tr>\n",
       "  </tbody>\n",
       "</table>\n",
       "</div>"
      ],
      "text/plain": [
       "       age             empstat   inctot                       educ\n",
       "299688  15                 n/a        0        grade 5, 6, 7, or 8\n",
       "60572   18            employed     6000                   grade 12\n",
       "30162   42  not in labor force        0          1 year of college\n",
       "203613  46            employed    68000        5+ years of college\n",
       "169945  68            employed    46400                   grade 12\n",
       "267317  84  not in labor force    49000                   grade 12\n",
       "267598  62  not in labor force    19900                   grade 12\n",
       "225616  71  not in labor force     8900                   grade 12\n",
       "95262    1                 n/a  9999999        n/a or no schooling\n",
       "5717    71  not in labor force    94000         4 years of college\n",
       "61423   53            employed    55000                   grade 12\n",
       "189520  36            employed    40000         4 years of college\n",
       "94082   82  not in labor force    22700                   grade 12\n",
       "141775  16  not in labor force      500                   grade 10\n",
       "244018  10                 n/a  9999999  nursery school to grade 4\n",
       "18306   17  not in labor force        0                   grade 11\n",
       "216971  27            employed    46300          1 year of college\n",
       "285635  57            employed   110000         4 years of college\n",
       "55683   30            employed    34000         2 years of college\n",
       "70139   34            employed    30000        n/a or no schooling"
      ]
     },
     "execution_count": 7,
     "metadata": {},
     "output_type": "execute_result"
    }
   ],
   "source": [
    "acs.sample(20)"
   ]
  },
  {
   "cell_type": "markdown",
   "metadata": {},
   "source": [
    "**6)** Do you see any immediate problems? Write them down with your partner. "
   ]
  },
  {
   "cell_type": "code",
   "execution_count": 8,
   "metadata": {},
   "outputs": [],
   "source": [
    "# Uh, yup! People have incomes of 9 million?! And those people tend to be children?"
   ]
  },
  {
   "cell_type": "markdown",
   "metadata": {},
   "source": [
    "**7)** One problem is that many people seem to have incomes of $9,999,999. Moreover, people with those incomes seem to be very young children. \n",
    "\n",
    "What you are seeing is one method (a relatively old one) for representing missing data. In this case, the value 9999999 is used to denote observations for which there is no data (Or more specifically, in this case observations where the person is too young to work, so their income value is missing). \n",
    "\n",
    "So let's begin by dropping anyone who has `inctot` equal to 9999999. "
   ]
  },
  {
   "cell_type": "code",
   "execution_count": 9,
   "metadata": {},
   "outputs": [],
   "source": [
    "acs = acs.loc[acs[\"inctot\"] != 9999999]"
   ]
  },
  {
   "cell_type": "markdown",
   "metadata": {},
   "source": [
    "**8)** OK, the other potential problem is that our data includes lots of people who are unemployed and people who are not in the labor force (this means they not only don't have a job, but also aren't looking for a job). For this analysis, we want to focus on the wages of people who are currently employed. So subset the dataset for the people for whom `empstat` is equal to \"employed\". \n",
    "\n",
    "Note that our decision to only look at people who are employed impacts how we should interpret the relationship we estimate between education and income. Because we are only looking at employed people, we will be estimating the relationship between education and income *for people who are employed*. That means that if education affects the *likelihood* someone is employed, we won't capture that in this analysis. (Economists all this the \"intensive margin\", while looking at whether people get jobs in the first place is called the \"extensive margin\".)"
   ]
  },
  {
   "cell_type": "code",
   "execution_count": 10,
   "metadata": {},
   "outputs": [
    {
     "data": {
      "text/html": [
       "<div>\n",
       "<style scoped>\n",
       "    .dataframe tbody tr th:only-of-type {\n",
       "        vertical-align: middle;\n",
       "    }\n",
       "\n",
       "    .dataframe tbody tr th {\n",
       "        vertical-align: top;\n",
       "    }\n",
       "\n",
       "    .dataframe thead th {\n",
       "        text-align: right;\n",
       "    }\n",
       "</style>\n",
       "<table border=\"1\" class=\"dataframe\">\n",
       "  <thead>\n",
       "    <tr style=\"text-align: right;\">\n",
       "      <th></th>\n",
       "      <th>age</th>\n",
       "      <th>empstat</th>\n",
       "      <th>inctot</th>\n",
       "      <th>educ</th>\n",
       "    </tr>\n",
       "  </thead>\n",
       "  <tbody>\n",
       "    <tr>\n",
       "      <th>187997</th>\n",
       "      <td>45</td>\n",
       "      <td>employed</td>\n",
       "      <td>139000</td>\n",
       "      <td>4 years of college</td>\n",
       "    </tr>\n",
       "    <tr>\n",
       "      <th>306335</th>\n",
       "      <td>34</td>\n",
       "      <td>employed</td>\n",
       "      <td>60000</td>\n",
       "      <td>2 years of college</td>\n",
       "    </tr>\n",
       "    <tr>\n",
       "      <th>119915</th>\n",
       "      <td>21</td>\n",
       "      <td>employed</td>\n",
       "      <td>6050</td>\n",
       "      <td>grade 12</td>\n",
       "    </tr>\n",
       "    <tr>\n",
       "      <th>43453</th>\n",
       "      <td>31</td>\n",
       "      <td>employed</td>\n",
       "      <td>50000</td>\n",
       "      <td>5+ years of college</td>\n",
       "    </tr>\n",
       "    <tr>\n",
       "      <th>64370</th>\n",
       "      <td>37</td>\n",
       "      <td>employed</td>\n",
       "      <td>80000</td>\n",
       "      <td>4 years of college</td>\n",
       "    </tr>\n",
       "    <tr>\n",
       "      <th>159325</th>\n",
       "      <td>42</td>\n",
       "      <td>employed</td>\n",
       "      <td>100000</td>\n",
       "      <td>5+ years of college</td>\n",
       "    </tr>\n",
       "    <tr>\n",
       "      <th>312097</th>\n",
       "      <td>65</td>\n",
       "      <td>employed</td>\n",
       "      <td>18000</td>\n",
       "      <td>grade 12</td>\n",
       "    </tr>\n",
       "    <tr>\n",
       "      <th>121154</th>\n",
       "      <td>55</td>\n",
       "      <td>employed</td>\n",
       "      <td>120000</td>\n",
       "      <td>5+ years of college</td>\n",
       "    </tr>\n",
       "    <tr>\n",
       "      <th>199340</th>\n",
       "      <td>28</td>\n",
       "      <td>employed</td>\n",
       "      <td>22000</td>\n",
       "      <td>grade 12</td>\n",
       "    </tr>\n",
       "    <tr>\n",
       "      <th>104422</th>\n",
       "      <td>56</td>\n",
       "      <td>employed</td>\n",
       "      <td>32800</td>\n",
       "      <td>grade 12</td>\n",
       "    </tr>\n",
       "  </tbody>\n",
       "</table>\n",
       "</div>"
      ],
      "text/plain": [
       "       age   empstat  inctot                 educ\n",
       "187997  45  employed  139000   4 years of college\n",
       "306335  34  employed   60000   2 years of college\n",
       "119915  21  employed    6050             grade 12\n",
       "43453   31  employed   50000  5+ years of college\n",
       "64370   37  employed   80000   4 years of college\n",
       "159325  42  employed  100000  5+ years of college\n",
       "312097  65  employed   18000             grade 12\n",
       "121154  55  employed  120000  5+ years of college\n",
       "199340  28  employed   22000             grade 12\n",
       "104422  56  employed   32800             grade 12"
      ]
     },
     "execution_count": 10,
     "metadata": {},
     "output_type": "execute_result"
    }
   ],
   "source": [
    "acs = acs.loc[\n",
    "    acs.empstat == \"employed\",\n",
    "]\n",
    "acs.sample(10)"
   ]
  },
  {
   "cell_type": "markdown",
   "metadata": {},
   "source": [
    "**9)** Now let's turn to education. The `educ` variable seems to have a lot of discrete values. Let's see what values exist, and their distribution, using the `value_counts()` method. This is an *extremely* useful tool you'll use a lot! Try the following code (modified for the name of your dataset, of course):\n",
    "\n",
    "```\n",
    "acs['educ'].value_counts()\n",
    "```"
   ]
  },
  {
   "cell_type": "code",
   "execution_count": 11,
   "metadata": {},
   "outputs": [
    {
     "data": {
      "text/plain": [
       "grade 12                     47815\n",
       "4 years of college           33174\n",
       "1 year of college            22899\n",
       "5+ years of college          20995\n",
       "2 years of college           14077\n",
       "grade 11                      2747\n",
       "grade 5, 6, 7, or 8           2092\n",
       "grade 10                      1910\n",
       "n/a or no schooling           1291\n",
       "grade 9                       1290\n",
       "nursery school to grade 4      468\n",
       "Name: educ, dtype: int64"
      ]
     },
     "execution_count": 11,
     "metadata": {},
     "output_type": "execute_result"
    }
   ],
   "source": [
    "acs[\"educ\"].value_counts()"
   ]
  },
  {
   "cell_type": "code",
   "execution_count": 12,
   "metadata": {},
   "outputs": [
    {
     "data": {
      "text/plain": [
       "\u001b[0;31mSignature:\u001b[0m\n",
       "\u001b[0mpd\u001b[0m\u001b[0;34m.\u001b[0m\u001b[0mread_fwf\u001b[0m\u001b[0;34m(\u001b[0m\u001b[0;34m\u001b[0m\n",
       "\u001b[0;34m\u001b[0m    \u001b[0mfilepath_or_buffer\u001b[0m\u001b[0;34m:\u001b[0m \u001b[0mUnion\u001b[0m\u001b[0;34m[\u001b[0m\u001b[0mstr\u001b[0m\u001b[0;34m,\u001b[0m \u001b[0mpathlib\u001b[0m\u001b[0;34m.\u001b[0m\u001b[0mPath\u001b[0m\u001b[0;34m,\u001b[0m \u001b[0mIO\u001b[0m\u001b[0;34m[\u001b[0m\u001b[0;34m~\u001b[0m\u001b[0mAnyStr\u001b[0m\u001b[0;34m]\u001b[0m\u001b[0;34m]\u001b[0m\u001b[0;34m,\u001b[0m\u001b[0;34m\u001b[0m\n",
       "\u001b[0;34m\u001b[0m    \u001b[0mcolspecs\u001b[0m\u001b[0;34m=\u001b[0m\u001b[0;34m'infer'\u001b[0m\u001b[0;34m,\u001b[0m\u001b[0;34m\u001b[0m\n",
       "\u001b[0;34m\u001b[0m    \u001b[0mwidths\u001b[0m\u001b[0;34m=\u001b[0m\u001b[0;32mNone\u001b[0m\u001b[0;34m,\u001b[0m\u001b[0;34m\u001b[0m\n",
       "\u001b[0;34m\u001b[0m    \u001b[0minfer_nrows\u001b[0m\u001b[0;34m=\u001b[0m\u001b[0;36m100\u001b[0m\u001b[0;34m,\u001b[0m\u001b[0;34m\u001b[0m\n",
       "\u001b[0;34m\u001b[0m    \u001b[0;34m**\u001b[0m\u001b[0mkwds\u001b[0m\u001b[0;34m,\u001b[0m\u001b[0;34m\u001b[0m\n",
       "\u001b[0;34m\u001b[0m\u001b[0;34m)\u001b[0m\u001b[0;34m\u001b[0m\u001b[0;34m\u001b[0m\u001b[0m\n",
       "\u001b[0;31mDocstring:\u001b[0m\n",
       "Read a table of fixed-width formatted lines into DataFrame.\n",
       "\n",
       "Also supports optionally iterating or breaking of the file\n",
       "into chunks.\n",
       "\n",
       "Additional help can be found in the `online docs for IO Tools\n",
       "<https://pandas.pydata.org/pandas-docs/stable/user_guide/io.html>`_.\n",
       "\n",
       "Parameters\n",
       "----------\n",
       "filepath_or_buffer : str, path object or file-like object\n",
       "    Any valid string path is acceptable. The string could be a URL. Valid\n",
       "    URL schemes include http, ftp, s3, and file. For file URLs, a host is\n",
       "    expected. A local file could be:\n",
       "    ``file://localhost/path/to/table.csv``.\n",
       "\n",
       "    If you want to pass in a path object, pandas accepts any\n",
       "    ``os.PathLike``.\n",
       "\n",
       "    By file-like object, we refer to objects with a ``read()`` method,\n",
       "    such as a file handler (e.g. via builtin ``open`` function)\n",
       "    or ``StringIO``.\n",
       "colspecs : list of tuple (int, int) or 'infer'. optional\n",
       "    A list of tuples giving the extents of the fixed-width\n",
       "    fields of each line as half-open intervals (i.e.,  [from, to[ ).\n",
       "    String value 'infer' can be used to instruct the parser to try\n",
       "    detecting the column specifications from the first 100 rows of\n",
       "    the data which are not being skipped via skiprows (default='infer').\n",
       "widths : list of int, optional\n",
       "    A list of field widths which can be used instead of 'colspecs' if\n",
       "    the intervals are contiguous.\n",
       "infer_nrows : int, default 100\n",
       "    The number of rows to consider when letting the parser determine the\n",
       "    `colspecs`.\n",
       "\n",
       "    .. versionadded:: 0.24.0\n",
       "**kwds : optional\n",
       "    Optional keyword arguments can be passed to ``TextFileReader``.\n",
       "\n",
       "Returns\n",
       "-------\n",
       "DataFrame or TextParser\n",
       "    A comma-separated values (csv) file is returned as two-dimensional\n",
       "    data structure with labeled axes.\n",
       "\n",
       "See Also\n",
       "--------\n",
       "DataFrame.to_csv : Write DataFrame to a comma-separated values (csv) file.\n",
       "read_csv : Read a comma-separated values (csv) file into DataFrame.\n",
       "\n",
       "Examples\n",
       "--------\n",
       ">>> pd.read_fwf('data.csv')  # doctest: +SKIP\n",
       "\u001b[0;31mFile:\u001b[0m      ~/miniconda3/lib/python3.7/site-packages/pandas/io/parsers.py\n",
       "\u001b[0;31mType:\u001b[0m      function\n"
      ]
     },
     "metadata": {},
     "output_type": "display_data"
    }
   ],
   "source": [
    "a = acs[\"educ\"]\n",
    "a = [1, 3, 2]\n",
    "pd.read_fwf?"
   ]
  },
  {
   "cell_type": "markdown",
   "metadata": {},
   "source": [
    "**10)** There are a lot of values in here, so let's just check a couple. What is the average value of `inctot` for people whose highest grade level is \"grade 12\" (in the US, that is someone who has graduated high school)?"
   ]
  },
  {
   "cell_type": "code",
   "execution_count": 13,
   "metadata": {},
   "outputs": [
    {
     "name": "stdout",
     "output_type": "stream",
     "text": [
      "Object `mean` not found.\n"
     ]
    }
   ],
   "source": [
    "acs.loc[acs['educ']=='grade 12', 'inctot'].mean?"
   ]
  },
  {
   "cell_type": "markdown",
   "metadata": {},
   "source": [
    "**11)** What is the average income of someone who graduated college (\"4 years of college\")? What does that suggest is the value of getting a college degree after graduating high school?"
   ]
  },
  {
   "cell_type": "code",
   "execution_count": 14,
   "metadata": {},
   "outputs": [
    {
     "data": {
      "text/plain": [
       "75485.05293301983"
      ]
     },
     "execution_count": 14,
     "metadata": {},
     "output_type": "execute_result"
    }
   ],
   "source": [
    "acs.loc[acs[\"educ\"] == \"4 years of college\", \"inctot\"].mean()"
   ]
  },
  {
   "cell_type": "code",
   "execution_count": 15,
   "metadata": {},
   "outputs": [],
   "source": [
    "# That's a LOT better than the average high school income."
   ]
  },
  {
   "cell_type": "markdown",
   "metadata": {},
   "source": [
    "**12)** What is the average income for someone who has not finished high school? What does that suggest is the value of a high school diploma?"
   ]
  },
  {
   "cell_type": "code",
   "execution_count": 16,
   "metadata": {},
   "outputs": [
    {
     "data": {
      "text/plain": [
       "26226.45692998571"
      ]
     },
     "execution_count": 16,
     "metadata": {},
     "output_type": "execute_result"
    }
   ],
   "source": [
    "# Hasn't finished:\n",
    "acs.loc[\n",
    "    (acs[\"educ\"] == \"n/a or no schooling\")\n",
    "    | (acs[\"educ\"] == \"nursery school to grade 4\")\n",
    "    | (acs[\"educ\"] == \"grade 5, 6, 7, or 8\")\n",
    "    | (acs[\"educ\"] == \"grade 9\")\n",
    "    | (acs[\"educ\"] == \"grade 10\")\n",
    "    | (acs[\"educ\"] == \"grade 11\"),\n",
    "    \"inctot\",\n",
    "].mean()"
   ]
  },
  {
   "cell_type": "code",
   "execution_count": 17,
   "metadata": {},
   "outputs": [
    {
     "data": {
      "text/plain": [
       "26226.45692998571"
      ]
     },
     "execution_count": 17,
     "metadata": {},
     "output_type": "execute_result"
    }
   ],
   "source": [
    "# Or the other way around:\n",
    "\n",
    "acs.loc[\n",
    "    ~(\n",
    "        (acs[\"educ\"] == \"grade 12\")\n",
    "        | (acs[\"educ\"] == \"1 year of college\")\n",
    "        | (acs[\"educ\"] == \"2 years of college\")\n",
    "        | (acs[\"educ\"] == \"4 years of college\")\n",
    "        | (acs[\"educ\"] == \"5+ years of college\")\n",
    "    ),\n",
    "    \"inctot\",\n",
    "].mean()"
   ]
  },
  {
   "cell_type": "code",
   "execution_count": 18,
   "metadata": {},
   "outputs": [
    {
     "data": {
      "text/plain": [
       "26226.45692998571"
      ]
     },
     "execution_count": 18,
     "metadata": {},
     "output_type": "execute_result"
    }
   ],
   "source": [
    "# Or if you want to use a little trick:\n",
    "less_than_college = [\n",
    "    \"n/a or no schooling\",\n",
    "    \"nursery school to grade 4\",\n",
    "    \"grade 5, 6, 7, or 8\",\n",
    "    \"grade 9\",\n",
    "    \"grade 10\",\n",
    "    \"grade 11\",\n",
    "]\n",
    "\n",
    "acs.loc[acs[\"educ\"].isin(less_than_college), \"inctot\"].mean()"
   ]
  },
  {
   "cell_type": "code",
   "execution_count": 19,
   "metadata": {},
   "outputs": [
    {
     "data": {
      "text/plain": [
       "0.48543779276265"
      ]
     },
     "execution_count": 19,
     "metadata": {},
     "output_type": "execute_result"
    }
   ],
   "source": [
    "# High school diploma is also worth a lot -- they earn almost 50% more than\n",
    "# those without a high school degree\n",
    "\n",
    "(38957.76 - 26226.45) / 26226.45"
   ]
  },
  {
   "cell_type": "markdown",
   "metadata": {},
   "source": [
    "**13)** Complete the following table:\n",
    "\n",
    "- Average income for someone who has not finished high school: _________\n",
    "- Average income for someone who only completed 9th grade: _________\n",
    "- Average income for someone who only completed 10th grade: _________\n",
    "- Average income for someone who only completed 11th grade: _________\n",
    "- Average income for someone who finished high school (12th grade) but never started college: _________\n",
    "- Average income for someone who completed 4 year of college (in the US, this means graduating college): _________"
   ]
  },
  {
   "cell_type": "code",
   "execution_count": 20,
   "metadata": {},
   "outputs": [
    {
     "name": "stdout",
     "output_type": "stream",
     "text": [
      "those who have finished grade 9 earn 27,171.91\n",
      "those who have finished grade 10 earn 23,018.80\n",
      "those who have finished grade 11 earn 21,541.69\n",
      "those who have finished grade 12 earn 38,957.76\n",
      "those who have finished 4 years of college earn 75,485.05\n"
     ]
    }
   ],
   "source": [
    "for level in [\"grade 9\", \"grade 10\", \"grade 11\", \"grade 12\", \"4 years of college\"]:\n",
    "    avg_income = acs.loc[acs[\"educ\"] == level, \"inctot\"].mean()\n",
    "    print(\"those who have finished {} earn {:,.2f}\".format(level, avg_income))"
   ]
  },
  {
   "cell_type": "markdown",
   "metadata": {},
   "source": [
    "**14)** Why do you think there is no benefit from moving from grade 9 to grade 10, or grade 10 to grade 11, but there is a huge benefit to moving from grade 11 to graduating high school (grade 12)?"
   ]
  },
  {
   "cell_type": "code",
   "execution_count": 21,
   "metadata": {},
   "outputs": [],
   "source": [
    "# I mean... the answer is below."
   ]
  },
  {
   "cell_type": "markdown",
   "metadata": {},
   "source": [
    "## Take-aways\n",
    "\n",
    "Congratulations! You just discovered \"the sheepskin effect!\": people with degrees tend to earn substantially more than people who have *almost* as much education, but don't have an actual degree. \n",
    "\n",
    "In economics, this is viewed as evidence that the reason employers pay people with high school degrees more than those without degree is *not* that they think those who graduated high school have learned specific, useful skills. If that were the case, we would expect employee earnings to rise with every year of high school, since in each year of high school we learn more. \n",
    "\n",
    "Instead, this suggests employees pay high school graduates more because they think *the kind of people* who can finish high school are the *kind of people* who are likely to succeed at their jobs. Finishing high school, in other words, isn't about accumulating specific knowledge; it's about showing that you *are the kind of person* who can rise to the challenge of finishing high school, also suggesting you are also the kind of person who can succeed as an employee. \n",
    "\n",
    "(Obviously, this does not tell us whether that is an *accurate* inference, just that that seems to be how employeers think.) \n",
    "\n",
    "In other words, in the eyes of employers, a high school degree is a *signal* about the kind of person you are, not certification that you've learned a specific set of skills (an idea that earned [Michael Spence](https://en.wikipedia.org/wiki/Michael_Spence) a Nobel Prize in Economics). "
   ]
  },
  {
   "cell_type": "markdown",
   "metadata": {},
   "source": [
    "## Want More Practice?\n",
    "\n",
    "**(14)** The US Census isn't the only organization that published surveys of their populations -- most countries in the world conduct regular surveys, and most publish versions of their data online. \n",
    "\n",
    "In addition to making US Census data available to researchers, IPUMS (through \"IPUMS International\") also makes survey data available from a wide range of countries. \n",
    "\n",
    "So if you'd like more practice with basic data manipulations, go to [IPUMS International](https://international.ipums.org/international-action/variables/group) and download information on income and education from the country of your choice:\n",
    "\n",
    "1. Click \"Select Samples\" to pick the country and year from which you would like data, then click \"Submit Sample Selections\". *Note that most countries don't include income as a variable! Asking income is very sensitive, so is often left off surveys*. You can get income directly from surveys of Mexico, Israel, Canada, India (in 2004), Italy, Panama, and Venezuela. But you *can* get \"income proxies\" (variables that are very correlated with income) like household construction materials (people with unfinished dirt floors tend to be poorer than people with concrete floors) for other countries like most African and Latin American surveys. Also: note there are non-IPUMS surveys which often *do* provide this data, they just aren't here. \n",
    "2. Select variables (most likely under the \"Person\" tab) for education and income, or under \"Dwelling Characteristics\" if you're looking for wealth proxies. \n",
    "3. Click \"View Cart\"\n",
    "4. Click \"Select Data Extract\"\n",
    "5. Change the data format to .dta or to .csv.\n",
    "6. Click \"Submit Extract\"\n",
    "7. Login with the IPUMS account you created during week 1 (if you didn't do that (as assigned!!), register for IPUMS now). \n",
    "8. When extract is ready, download!"
   ]
  },
  {
   "cell_type": "markdown",
   "metadata": {},
   "source": [
    "**(15)** Repeat these exercises for your new dataset!"
   ]
  }
 ],
 "metadata": {
  "kernelspec": {
   "display_name": "Python 3",
   "language": "python",
   "name": "python3"
  },
  "language_info": {
   "codemirror_mode": {
    "name": "ipython",
    "version": 3
   },
   "file_extension": ".py",
   "mimetype": "text/x-python",
   "name": "python",
   "nbconvert_exporter": "python",
   "pygments_lexer": "ipython3",
   "version": "3.7.8"
  }
 },
 "nbformat": 4,
 "nbformat_minor": 4
}
