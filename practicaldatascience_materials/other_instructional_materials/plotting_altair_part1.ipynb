{
 "cells": [
  {
   "cell_type": "markdown",
   "source": [
    "# Plotting with Altair\n",
    "\n",
    "## Plotting Libraries in Python\n",
    "\n",
    "The linchpin library for plotting in Python is without a doubt `matplotlib`. While infinitely flexible, however, for many applications `matplotlib` lacks user-friendly tools for quickly making common types of figures (scatter plots, linear fits, histograms, etc.). With that in mind, several other packages (most of which are actually built on `matplotlib`) have been created to provide a more user-friendly interface. Unlike in `matplotlib`, where you have to think in terms of the geometric objects you want to place on axes, all three of these alternative libraries allow for higher-level, more \"declarative\" code: \n",
    "\n",
    "**Imperative:**\n",
    "\n",
    "\n",
    "**Declarative:**\n",
    "\n",
    "- **[altair](https://altair-viz.github.io/)**: `altair`, like `plotnine` also has a clear philosophy that underlies its syntax, and seems to be relatively popular among pure python users. \n",
    "- **[plotnine](https://plotnine.readthedocs.io/en/stable/index.html)** `plotnine` is designed to replicate the syntax of the extremely popular R package `ggplot` in Python. In most cases it works wonderfully. As a result, if you are already familiar with `ggplot`, `plotnine` is hard to beat.\n",
    "- **[seaborn](https://seaborn.pydata.org/)**: `seaborn` is also a declarative plotting language, although its syntax is a little less modular than `plotnine` or `altair` -- e.g. there is a distinct command for plotting histograms, a command for kernel densities, a command for bivariate fits, etc. But still *much* easier than `matplotlib`.\n",
    "\n"
   ],
   "metadata": {
    "deletable": true,
    "editable": true
   }
  },
  {
   "cell_type": "markdown",
   "source": [
    "## Why Do We Plot Data?"
   ],
   "metadata": {}
  },
  {
   "cell_type": "markdown",
   "source": [
    "## Grammer of Graphics\n",
    "\n",
    "\n",
    "- Data\n",
    "- Transformations (skip for now?)\n",
    "- Mark\n",
    "- Encoding\n",
    "- Scale\n",
    "- Guide\n"
   ],
   "metadata": {}
  },
  {
   "cell_type": "markdown",
   "source": [
    "## Building a Scatterplot\n",
    "\n",
    "\n",
    "### Making Interactive"
   ],
   "metadata": {}
  },
  {
   "cell_type": "markdown",
   "source": [
    "### Saving a Plot"
   ],
   "metadata": {}
  },
  {
   "cell_type": "markdown",
   "source": [
    "## What's Going on Beneath the Hood?\n",
    "\n",
    "Altair --> Vega-Lite --> Vega --> D3 (javascript)"
   ],
   "metadata": {}
  },
  {
   "cell_type": "markdown",
   "source": [
    "## Exercises!\n",
    "\n",
    "*If you are enrolled in Practical Data Science at Duke, don't do these exercises on your own -- we'll do them in class!*\n",
    "\n",
    "[Plotting Exercises, Part 1](exercises/Exercise_plotting_part1.ipynb)"
   ],
   "metadata": {}
  }
 ],
 "metadata": {
  "kernelspec": {
   "display_name": "Python 3",
   "language": "python",
   "name": "python3"
  },
  "language_info": {
   "codemirror_mode": {
    "name": "ipython",
    "version": 3
   },
   "file_extension": ".py",
   "mimetype": "text/x-python",
   "name": "python",
   "nbconvert_exporter": "python",
   "pygments_lexer": "ipython3",
   "version": "3.7.3"
  }
 },
 "nbformat": 4,
 "nbformat_minor": 4
}