{
    "cells": [
        {
            "cell_type": "markdown",
            "metadata": {},
            "source": [
                "## Checking If An Array is a View or Copy\n",
                "\n",
                "In all the examples above, I showed whether we were working with a view or a copy by making an edit to the array in question and then looking at whether the original data had changed. But surely there's a more direct way to check if an array is a view or a copy, right?\n",
                "\n",
                "Well... kind of. There is a way to identify when an array references data that was not created at the moment that array was created. Thus, in a sense, you can identify views. And we detail how that works below. **But:** crucially, this method is only able to identify arrays that reference other data, **not** whether the array is **sharing data with another array.** In other words, while we know (from our discussion above) that the creation of a view is best thought of as creating a mutual relationship between two arrays, the tool numpy provides to interrogate an array's view-copy status does not respect the mutuality of this relationship. \n",
                "\n",
                "### .base\n",
                "\n",
                "All numpy arrays have a property called `.base` which points back to the original data referenced by the array if the array is a view (it is referencing data that wasn't created when it was created). If an array is not a view of some other array, then `.base` returns `None`."
            ]
        },
        {
            "cell_type": "code",
            "execution_count": 66,
            "metadata": {},
            "outputs": [
                {
                    "data": {
                        "text/plain": [
                            "True"
                        ]
                    },
                    "execution_count": 66,
                    "metadata": {},
                    "output_type": "execute_result"
                }
            ],
            "source": [
                "my_vector = np.array([1, 2, 3, 4])\n",
                "my_vector.base is None"
            ]
        },
        {
            "cell_type": "markdown",
            "metadata": {},
            "source": [
                "Given that, we can define a simple function that tells us if an array is a view or not:"
            ]
        },
        {
            "cell_type": "code",
            "execution_count": 67,
            "metadata": {},
            "outputs": [
                {
                    "name": "stdout",
                    "output_type": "stream",
                    "text": [
                        "Not a view!\n"
                    ]
                }
            ],
            "source": [
                "def array_is_a_view(x):\n",
                "    if x.base is None:\n",
                "        print(\"Not a view!\")\n",
                "    else:\n",
                "        print(\"This is a view.\")\n",
                "\n",
                "array_is_a_view(my_vector)"
            ]
        },
        {
            "cell_type": "markdown",
            "metadata": {},
            "source": [
                "Now we can use this function to confirm that simple indexing gets views:"
            ]
        },
        {
            "cell_type": "code",
            "execution_count": 68,
            "metadata": {},
            "outputs": [
                {
                    "name": "stdout",
                    "output_type": "stream",
                    "text": [
                        "This is a view.\n"
                    ]
                }
            ],
            "source": [
                "array_is_a_view(my_vector[1:2])"
            ]
        },
        {
            "cell_type": "markdown",
            "metadata": {},
            "source": [
                "And fancy indexing does not:"
            ]
        },
        {
            "cell_type": "code",
            "execution_count": 69,
            "metadata": {},
            "outputs": [
                {
                    "name": "stdout",
                    "output_type": "stream",
                    "text": [
                        "Not a view!\n"
                    ]
                }
            ],
            "source": [
                "array_is_a_view(my_vector[[2, 1]])"
            ]
        },
        {
            "cell_type": "markdown",
            "metadata": {},
            "source": [
                "### Views and Copies in Practice\n",
                "\n",
                "But while this trick is useful for confirming your logic of what does and does not return a view, its usefulness in practice is a little limited.\n",
                "\n",
                "That's because the reason we care about views and copies is because **we are interested in knowing whether the changes that we make to an array may propagate to other arrays.** And that's not something this function can really tell us. \n",
                "\n",
                "The reason is twofold. First, when a view is created, from numpy's perspective the newly created array is a view on the old array, while the original array is *not* a view:"
            ]
        },
        {
            "cell_type": "code",
            "execution_count": 70,
            "metadata": {},
            "outputs": [
                {
                    "name": "stdout",
                    "output_type": "stream",
                    "text": [
                        "Not a view!\n"
                    ]
                }
            ],
            "source": [
                "original_vector = np.array([1, 2, 3])\n",
                "new_vector = original_vector[0:2]\n",
                "\n",
                "array_is_a_view(original_vector)"
            ]
        },
        {
            "cell_type": "code",
            "execution_count": 71,
            "metadata": {},
            "outputs": [
                {
                    "name": "stdout",
                    "output_type": "stream",
                    "text": [
                        "This is a view.\n"
                    ]
                }
            ],
            "source": [
                "array_is_a_view(new_vector)"
            ]
        },
        {
            "cell_type": "markdown",
            "metadata": {},
            "source": [
                "But as we've discussed repeatedly, that doesn't mean that changes to `original_vector` won't impact other arrays, and that changes to other arrays (e.g., `new_vector`) might not impact `original_vector`. In other words, this trick tells us something about how numpy has implemented the view, but not about *the existence of relationships between arrays*."
            ]
        },
        {
            "cell_type": "markdown",
            "metadata": {},
            "source": [
                "The second reason is that you can have things that, from an implementation perspective, are views, but where there is *no* danger of changes to the array impacting anything else. This actually happens a lot when you re-assign a subset to the original variable:"
            ]
        },
        {
            "cell_type": "code",
            "execution_count": 72,
            "metadata": {},
            "outputs": [
                {
                    "name": "stdout",
                    "output_type": "stream",
                    "text": [
                        "Not a view!\n"
                    ]
                }
            ],
            "source": [
                "my_vector = np.array([1, 2, 3, 4])\n",
                "array_is_a_view(my_vector)"
            ]
        },
        {
            "cell_type": "code",
            "execution_count": 73,
            "metadata": {},
            "outputs": [
                {
                    "name": "stdout",
                    "output_type": "stream",
                    "text": [
                        "This is a view.\n"
                    ]
                }
            ],
            "source": [
                "my_vector = my_vector[2:4]\n",
                "array_is_a_view(my_vector)"
            ]
        },
        {
            "cell_type": "markdown",
            "metadata": {},
            "source": [
                "Here we created an array with values 1, 2, 3, and 4, then subset the third and fourth entries. This subset is a view of the original data, and so `.base` is not `None`. But because we assigned the subset back to the vector `my_vector`, while that original array of 1, 2, 3, and 4 still exists in memory, nothing can access it except through the variable `my_vector`, and so you don't have to worry about any changes elsewhere in your code propagating to `my_vector` even if it technically is a view."
            ]
        },
        {
            "cell_type": "markdown",
            "metadata": {},
            "source": [
                "So in conclusion, yes, numpy has some tools to tell you about what is a view and what's a copy *from an implementation perspective*. But given that what matters from the perspective of a data scientist is whether changes to an array may propagate to other arrays, or changes to other arrays may propagate back, that tooling isn't particularly helpful."
            ]
        }
    ],
    "metadata": {
        "interpreter": {
            "hash": "3e0a5228cb9726a24d36227c69ed0d3aac98cecda769d1c9adb080711d57f90d"
        },
        "kernelspec": {
            "display_name": "R",
            "language": "python",
            "name": "python3"
        },
        "language_info": {
            "codemirror_mode": {
                "name": "ipython",
                "version": 3
            },
            "file_extension": ".py",
            "mimetype": "text/x-python",
            "name": "python",
            "nbconvert_exporter": "python",
            "pygments_lexer": "ipython3",
            "version": "3.9.7"
        },
        "orig_nbformat": 4
    },
    "nbformat": 4,
    "nbformat_minor": 2
}
