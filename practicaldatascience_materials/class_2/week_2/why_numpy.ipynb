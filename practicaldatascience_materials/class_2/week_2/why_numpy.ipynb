{
 "cells": [
  {
   "cell_type": "markdown",
   "source": [
    "# numpy: Enabling Data Science in Python"
   ],
   "metadata": {}
  },
  {
   "cell_type": "markdown",
   "source": [
    "It comes as a surprise to many students to learn that, on its own, Python is actually poorly suited to data science -- it is a beautiful, concise, and accessible language, but the core Python library (\"vanilla Python\") doesn't have any of the tooling required for high performance numerical computing.\n",
    "\n",
    "To some degree, this shouldn't be that surprising -- Python was developed in the 1980s to be a concise, accessible language. At the time, C and Fortran had a monopoly on high performance programming, and the term \"data science\" didn't even exist.\n",
    "\n",
    "But as Python's balance of flexibility and accessibility resulted in its rapid rise in popularity, in the mid-1990s, a group of proto-data-scientists realized the potential of Python to become the foundation for a more accessible approach to numerical computing (the catch-all term for programming that is mostly about doing mathematical operations -- what we now often call data science -- rather than writing software libraries). So in the mid-1990s they created a library called *Numeric* that later became *numpy*, and which today is the basis of all data science done in Python. \n",
    "\n",
    "The huge innovation of numpy is to provide Python with tools for doing fast numerical computations on vectors, matrices, and arrays. "
   ],
   "metadata": {}
  }
 ],
 "metadata": {
  "orig_nbformat": 4,
  "language_info": {
   "name": "python"
  }
 },
 "nbformat": 4,
 "nbformat_minor": 2
}