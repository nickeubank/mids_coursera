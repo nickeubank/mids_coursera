{
 "cells": [
  {
   "cell_type": "markdown",
   "metadata": {},
   "source": [
    "# Summarizing Arrays"
   ]
  },
  {
   "cell_type": "markdown",
   "metadata": {},
   "source": [
    "Arrays of numbers are very useful tools for storing and organizing large collections of data. Often, however, we want to summarize these collections of information to provide a sense of the data as a whole. We often do this instinctively in our daily lives. For example - want to know if we're getting a good price on buying a car? Look at the average price of that care in the area and compare the asking price. Want to know if your home is at risk of being flooded? Look at the maximum flood height in the area over the past 200 years and compare that to your home. We use data summaries every day for decision making: these are all data-driven approaches to decision-making. In other words, rudimentary data science.\n",
    "\n",
    "Therefore, we want to be able to summarize a collection of numerical data by calculating sums, minima, maxima, averages, standard deviations, or even counts of the number of elements in a collection. For each of these, Numpy has methods that are ready to help!\n",
    "\n",
    "Your core summarization functions are as follows:\n",
    "1. Sum: `sum`\n",
    "2. Minimum: `min`\n",
    "3. Maximum: `max`\n",
    "4. Average: `mean`\n",
    "5. Median: `median`\n",
    "6. Size/Length/cardinality/number of elements: `size`\n",
    "7. Number of nonzero elements: `count_nonzero`\n",
    "8. Standard deviation: `std`\n",
    "\n",
    "Let's create an simple array to demonstrate these features. (As a best practice, it's always good to start with a simple example that you can verify or compute by hand, if possible, to make sure your code is working as expected - think test-driven development as was discussed in the last course)"
   ]
  },
  {
   "cell_type": "code",
   "execution_count": 23,
   "metadata": {},
   "outputs": [],
   "source": [
    "import numpy as np"
   ]
  },
  {
   "cell_type": "code",
   "execution_count": 24,
   "metadata": {},
   "outputs": [],
   "source": [
    "x = np.array([0,1,0,-2,12])"
   ]
  },
  {
   "cell_type": "markdown",
   "metadata": {},
   "source": [
    "This simple array shows that each of the summarization methods shrink the data down to a single number. A data science term for this is dimensionality reduction - we can represent the array `x` with any one of these summary quantities."
   ]
  },
  {
   "cell_type": "code",
   "execution_count": 25,
   "metadata": {},
   "outputs": [
    {
     "name": "stdout",
     "output_type": "stream",
     "text": [
      "Sum    = 11\n",
      "Mean   = 2.2\n",
      "Min    = -2\n",
      "Max    = 12\n",
      "Median = 0.0\n",
      "Size   = 5\n",
      "Count nonzero      = 3\n",
      "Standard Deviation = 4.995998398718719\n"
     ]
    }
   ],
   "source": [
    "print('Sum    =', np.sum(x))\n",
    "print('Mean   =', np.mean(x))\n",
    "print('Min    =', np.min(x))\n",
    "print('Max    =', np.max(x))\n",
    "print('Median =', np.median(x))\n",
    "print('Size   =', np.size(x))\n",
    "print('Count nonzero      =', np.count_nonzero(x))\n",
    "print('Standard Deviation =', np.std(x))"
   ]
  },
  {
   "cell_type": "markdown",
   "metadata": {},
   "source": [
    "Summarizing 1-dimensional arrays is pretty straightforward. This same concept can be used on arrays of far higher dimensionality. In those cases we just have to be careful to adjust the parameters accordingly. Let's define a new array `y` that is a 2-dimensional matrix. Remember, this is an array of arrays."
   ]
  },
  {
   "cell_type": "code",
   "execution_count": 26,
   "metadata": {},
   "outputs": [
    {
     "name": "stdout",
     "output_type": "stream",
     "text": [
      "[[0 1]\n",
      " [2 3]]\n"
     ]
    }
   ],
   "source": [
    "y = np.array([[0,1],[2,3]])\n",
    "print(y)"
   ]
  },
  {
   "cell_type": "markdown",
   "metadata": {},
   "source": [
    "In this case we have an array of two entries; each entry is an array: the first array has the values 0 and 1, and the second array has the values 2 and 3. We typically describe this array as having two rows (where the first row is `[0 1]` and the second row is `[2 3]`) and two columns (the first column is `[0 2]` and the second column is `[1 3]`)."
   ]
  },
  {
   "cell_type": "markdown",
   "metadata": {},
   "source": [
    "Now let's run each of the summary functions again and see what happens:"
   ]
  },
  {
   "cell_type": "code",
   "execution_count": 27,
   "metadata": {},
   "outputs": [
    {
     "name": "stdout",
     "output_type": "stream",
     "text": [
      "Sum    = 6\n",
      "Mean   = 1.5\n",
      "Min    = 0\n",
      "Max    = 3\n",
      "Median = 1.5\n",
      "Size   = 4\n",
      "Count nonzero      = 3\n",
      "Standard Deviation = 1.118033988749895\n"
     ]
    }
   ],
   "source": [
    "print('Sum    =', np.sum(y))\n",
    "print('Mean   =', np.mean(y))\n",
    "print('Min    =', np.min(y))\n",
    "print('Max    =', np.max(y))\n",
    "print('Median =', np.median(y))\n",
    "print('Size   =', np.size(y))\n",
    "print('Count nonzero      =', np.count_nonzero(y))\n",
    "print('Standard Deviation =', np.std(y))"
   ]
  },
  {
   "cell_type": "markdown",
   "metadata": {},
   "source": [
    "We can see that these functions operate across **all** elements in the array, regardless of which row or column they are a part of. We could do this on any size matrix we wishes.\n",
    "\n",
    "Sometimes, however, we want to perform these summarization operations just down each column or just across each row. This is often the case when we are working with tabular data. Imagine each row represents a patient and each column represents a different characteristic of that patient (weight, height, temperature). We may want the average weight, height, and temperature of the patients. We can do that, we just need to specify which axis along which to perform the summarization along. For a matrix of data axis 0 is down the columns and axis 1 is across the rows (see the figure below).\n",
    "\n",
    "Let's take an example using our matrix `y` above:"
   ]
  },
  {
   "cell_type": "code",
   "execution_count": 28,
   "metadata": {},
   "outputs": [
    {
     "name": "stdout",
     "output_type": "stream",
     "text": [
      "6\n"
     ]
    }
   ],
   "source": [
    "print(np.sum(y))          # Sum of all elements"
   ]
  },
  {
   "cell_type": "code",
   "execution_count": 29,
   "metadata": {},
   "outputs": [
    {
     "name": "stdout",
     "output_type": "stream",
     "text": [
      "[2 4]\n"
     ]
    }
   ],
   "source": [
    "print(np.sum(y, axis=0))  # Sum of each column"
   ]
  },
  {
   "cell_type": "code",
   "execution_count": 30,
   "metadata": {},
   "outputs": [
    {
     "name": "stdout",
     "output_type": "stream",
     "text": [
      "[1 5]\n"
     ]
    }
   ],
   "source": [
    "print(np.sum(y, axis=1))  # Sum of each row"
   ]
  },
  {
   "cell_type": "markdown",
   "metadata": {},
   "source": [
    "How these summarization functions are computed are described in this figure:\n",
    "\n",
    "<img src=\"img/sum_along_axes.png\" width=\"500\">\n",
    "\n",
    "These same techniques can be used with other numpy functions that compute various statistics. \n",
    "\n",
    "**Aside**. All of the functions we described above have the functional form `np.<function name>(<input array>)`. However, you may also see some of these functions accessed as a method of the `ndarray` object class (the standard object type that `numpy` uses for representing arrays. Just as we discussed earlier around object oriented programming, a method is a function associated with an object. For those methods of `ndarray` objects in `numpy`, they can be accessed by using the alternative syntax of: `<input array>.<method name>()`. Here's an example with the `max` function:"
   ]
  },
  {
   "cell_type": "code",
   "execution_count": 31,
   "metadata": {},
   "outputs": [
    {
     "name": "stdout",
     "output_type": "stream",
     "text": [
      "3\n"
     ]
    }
   ],
   "source": [
    "print(np.max(y))"
   ]
  },
  {
   "cell_type": "code",
   "execution_count": 32,
   "metadata": {},
   "outputs": [
    {
     "name": "stdout",
     "output_type": "stream",
     "text": [
      "3\n"
     ]
    }
   ],
   "source": [
    "print(y.max())     # Here we access the \"max\" method of the \"array\" object"
   ]
  },
  {
   "cell_type": "code",
   "execution_count": 33,
   "metadata": {},
   "outputs": [
    {
     "name": "stdout",
     "output_type": "stream",
     "text": [
      "[1 3]\n"
     ]
    }
   ],
   "source": [
    "print(y.max(axis=1))     # You can specify the axis to compute along as well as was done with np.max(y, axis=1)"
   ]
  },
  {
   "cell_type": "markdown",
   "metadata": {},
   "source": [
    "Which should you choose? For summary functions, either will yield the same result so pick the one that keeps your code easier to read. There are other `ndarray` methods such as `x.sort()` that will operate on your array in-place, meaning that it replaces the content of the orginal array while the function `np.sort(x)` returns a sorted copy, leaving `x` unchanged."
   ]
  },
  {
   "cell_type": "markdown",
   "metadata": {},
   "source": [
    "# Practical Example: counting like-values\n",
    "\n",
    "Let's flex our `numpy` array summarization muscles now and combine them with other tools that we've learned. Let's say we have a matrix containing random integers between 0 and 9 as shown below:"
   ]
  },
  {
   "cell_type": "code",
   "execution_count": 41,
   "metadata": {},
   "outputs": [
    {
     "name": "stdout",
     "output_type": "stream",
     "text": [
      "[[6 3 7 4 6 9 2 6 7 4]\n",
      " [3 7 7 2 5 4 1 7 5 1]\n",
      " [4 0 9 5 8 0 9 2 6 3]\n",
      " [8 2 4 2 6 4 8 6 1 3]\n",
      " [8 1 9 8 9 4 1 3 6 7]\n",
      " [2 0 3 1 7 3 1 5 5 9]]\n"
     ]
    }
   ],
   "source": [
    "import numpy as np\n",
    "\n",
    "np.random.seed(42) # This ensures that the random data don't change from run to run (we'll discuss more later)\n",
    "random_digits_matrix = np.random.randint(0,10,size=(6, 10))\n",
    "print(random_digits_matrix)"
   ]
  },
  {
   "cell_type": "markdown",
   "metadata": {},
   "source": [
    "This matrix has 6 rows and 10 columns. We want to know how many values *of each kind* are present in *each row*. That means there are two steps to what we're trying to do here. First, (1) determine how many of each kind of number there are in an array (a row), then (2) repeat this for each row. We'll see later how to do this in just a few lines of code using `pandas`. Let's create a function for part (1).\n",
    "\n",
    "For the first question around how many of each kind are there, we want to know how many `1`'s are in a given row (array), how many `2`'s are there, etc.? Therefore if our input row was:\n",
    "```\n",
    "[2 1 1 5 9]\n",
    "```\n",
    "Then we'd want the output to be an array where each each entry represented how many values there were that equaled the index at that point:\n",
    "```\n",
    "Corresponding values: 0 1 2 3 4 5 6 7 8 9\n",
    "Desired output:      [0 2 1 0 0 1 0 0 0 1]\n",
    "```\n",
    "From this we can see that there are two 1's, and one each of 2, 5, and 9, which is correct. Let's create a function to do that automatically for the above dataset and test it out on our known example.\n",
    "\n"
   ]
  },
  {
   "cell_type": "code",
   "execution_count": 42,
   "metadata": {},
   "outputs": [],
   "source": [
    "def count_values(array):\n",
    "    counts = np.zeros(10) # Create an array of 10 zeros, one for each value we'll want to count\n",
    "    # Each entry corresponds to one of the 10 possible values: [0,1,2,3,4,5,6,7,8,9]\n",
    "    \n",
    "    # For each value in the array, increment the count of the value corresponding to that number\n",
    "    for value in array:\n",
    "        counts[value] += 1\n",
    "        \n",
    "    return counts"
   ]
  },
  {
   "cell_type": "markdown",
   "metadata": {},
   "source": [
    "Let's test our function out:"
   ]
  },
  {
   "cell_type": "code",
   "execution_count": 43,
   "metadata": {},
   "outputs": [
    {
     "data": {
      "text/plain": [
       "array([0., 2., 1., 0., 0., 1., 0., 0., 0., 1.])"
      ]
     },
     "execution_count": 43,
     "metadata": {},
     "output_type": "execute_result"
    }
   ],
   "source": [
    "test_input = [2, 1, 1, 5, 9]\n",
    "count_values(test_input)"
   ]
  },
  {
   "cell_type": "markdown",
   "metadata": {},
   "source": [
    "It works! Really what we have here is a very basic histogram function. But this was only the first step. The second step was to apply this to every row in our `random_digits_matrix` above. Let's create a new function, that makes use of our function to count the values in each row:"
   ]
  },
  {
   "cell_type": "code",
   "execution_count": 44,
   "metadata": {},
   "outputs": [],
   "source": [
    "def count_values_in_each_row(matrix):\n",
    "    # For each row, count the values and output that as a matrix\n",
    "    row_counts = [] # start with an empty array that we will add to as we traverse each row\n",
    "    \n",
    "    for row in matrix:\n",
    "        counts = count_values(row)\n",
    "        row_counts.append(counts) # add the result to the output\n",
    "        \n",
    "    return row_counts"
   ]
  },
  {
   "cell_type": "markdown",
   "metadata": {},
   "source": [
    "Let's give it a try and apply this function to `random_digits_matrix`:"
   ]
  },
  {
   "cell_type": "code",
   "execution_count": 45,
   "metadata": {},
   "outputs": [
    {
     "data": {
      "text/plain": [
       "[array([0., 0., 1., 1., 2., 0., 3., 2., 0., 1.]),\n",
       " array([0., 2., 1., 1., 1., 2., 0., 3., 0., 0.]),\n",
       " array([2., 0., 1., 1., 1., 1., 1., 0., 1., 2.]),\n",
       " array([0., 1., 2., 1., 2., 0., 2., 0., 2., 0.]),\n",
       " array([0., 2., 0., 1., 1., 0., 1., 1., 2., 2.]),\n",
       " array([1., 2., 1., 2., 0., 2., 0., 1., 0., 1.])]"
      ]
     },
     "execution_count": 45,
     "metadata": {},
     "output_type": "execute_result"
    }
   ],
   "source": [
    "count_values_in_each_row(random_digits_matrix)"
   ]
  },
  {
   "cell_type": "markdown",
   "metadata": {},
   "source": [
    "Recalling that the first row of `random_digits_matrix` was `[6 3 7 4 6 9 2 6 7 4]`, we indeed see that there is indicated one each of 2, 3, and 9, two each of 4 and 7 and the entries of 6."
   ]
  },
  {
   "cell_type": "markdown",
   "metadata": {},
   "source": [
    "In data science, we will be constantly summarizing collections of data in ways simple and complex. These basic tools will be the building blocks for those approaches."
   ]
  }
 ],
 "metadata": {
  "kernelspec": {
   "display_name": "Python 3",
   "language": "python",
   "name": "python3"
  },
  "language_info": {
   "codemirror_mode": {
    "name": "ipython",
    "version": 3
   },
   "file_extension": ".py",
   "mimetype": "text/x-python",
   "name": "python",
   "nbconvert_exporter": "python",
   "pygments_lexer": "ipython3",
   "version": "3.8.2"
  },
  "varInspector": {
   "cols": {
    "lenName": 16,
    "lenType": 16,
    "lenVar": 40
   },
   "kernels_config": {
    "python": {
     "delete_cmd_postfix": "",
     "delete_cmd_prefix": "del ",
     "library": "var_list.py",
     "varRefreshCmd": "print(var_dic_list())"
    },
    "r": {
     "delete_cmd_postfix": ") ",
     "delete_cmd_prefix": "rm(",
     "library": "var_list.r",
     "varRefreshCmd": "cat(var_dic_list()) "
    }
   },
   "types_to_exclude": [
    "module",
    "function",
    "builtin_function_or_method",
    "instance",
    "_Feature"
   ],
   "window_display": false
  }
 },
 "nbformat": 4,
 "nbformat_minor": 2
}
