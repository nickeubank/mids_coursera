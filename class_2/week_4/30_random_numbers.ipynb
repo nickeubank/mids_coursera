{
 "cells": [
  {
   "cell_type": "markdown",
   "metadata": {},
   "source": [
    "# Random numbers"
   ]
  },
  {
   "cell_type": "markdown",
   "metadata": {},
   "source": [
    "We encounter randomness in many aspects of life in both explicit and implicit ways. The former can be seen clearly in the lottery and other games of chance that involve dice or the dealing of cards. We also encounter randomness in far more subtle ways such as the date of someone's birthday, the height of a group of teenagers, or the number of raindrops that lands in a cup during a shower.\n",
    "\n",
    "While we often seen to quantify or better understand patterns in randomness through data science, generating random numbers is surprisingly useful for many aspect of data analysis and statistical analyses INSERT 2-3 EXAMPLES HERE. While there is a native Python library for generating [random numbers](https://docs.python.org/3/library/random.html), Numpy provides a versatile [`random` module](https://numpy.org/doc/1.16/reference/routines.random.html) which has many helpful functions for generating random numbers and performing random sampling.\n",
    "\n",
    "In this section, we will present two common applications:\n",
    "1. Generating random numbers\n",
    "2. Using random numbers to randomly sample from arrays\n",
    "\n",
    "## Generating random numbers\n",
    "We can easily create arrays of random numbers uniformly distributed between 0 and 1 using the `rand` method."
   ]
  },
  {
   "cell_type": "code",
   "execution_count": 3,
   "metadata": {},
   "outputs": [],
   "source": [
    "import numpy as np\n"
   ]
  },
  {
   "cell_type": "code",
   "execution_count": 4,
   "metadata": {},
   "outputs": [
    {
     "name": "stdout",
     "output_type": "stream",
     "text": [
      "[0.71400632 0.93076241 0.62778082 0.85068275]\n"
     ]
    }
   ],
   "source": [
    "a = np.random.rand(4)  # uniformly distributed numbers between 0 and 1\n",
    "print(a)\n"
   ]
  },
  {
   "cell_type": "markdown",
   "metadata": {},
   "source": [
    "The argument tells you how many random numbers to include in the array. If provide additional dimensions, this function creates a matrix of random numbers for you:"
   ]
  },
  {
   "cell_type": "code",
   "execution_count": 5,
   "metadata": {},
   "outputs": [
    {
     "name": "stdout",
     "output_type": "stream",
     "text": [
      "[[0.13741131 0.72827182 0.84001341 0.64919033]\n",
      " [0.29291931 0.80692563 0.33916311 0.17634793]\n",
      " [0.47996682 0.26453588 0.3412374  0.08121133]\n",
      " [0.65074994 0.32496058 0.00464008 0.97575393]]\n"
     ]
    }
   ],
   "source": [
    "a = np.random.rand(4, 4)  # uniformly distributed numbers between 0 and 1\n",
    "print(a)\n"
   ]
  },
  {
   "cell_type": "markdown",
   "metadata": {},
   "source": [
    "A very common type of random number is a Gaussian, or normal random number. Using the technique we learned earlier to generate a histogram of the data, we can generate normally distributed random numbers just as easily:"
   ]
  },
  {
   "cell_type": "code",
   "execution_count": 6,
   "metadata": {},
   "outputs": [
    {
     "name": "stdout",
     "output_type": "stream",
     "text": [
      "[0.31594058 0.20012996 0.40667697 2.07852943]\n"
     ]
    }
   ],
   "source": [
    "b = np.random.randn(4)  # Gaussian\n",
    "print(b)\n"
   ]
  },
  {
   "cell_type": "markdown",
   "metadata": {},
   "source": [
    "If we produce a histogram of these values, as we learned in a previous section, they follow a familiar \"Bell Curve\". Let's generate 10,000 normally distributed random numbers and produce a histogram of those values:"
   ]
  },
  {
   "cell_type": "code",
   "execution_count": 14,
   "metadata": {},
   "outputs": [],
   "source": [
    "# Generate an array of 10,000 random normal numbers\n",
    "random_array = np.random.randn(10000)\n",
    "\n",
    "# Output a histogram of the data with 10 bins\n",
    "bins = np.arange(-3.5, 3.5, 0.25)\n",
    "hist, bin_edges = np.histogram(random_array, bins=bins)\n"
   ]
  },
  {
   "cell_type": "markdown",
   "metadata": {},
   "source": [
    "We can see the distribution of these values clearly with a simple plot that clearly reveals the familiar Bell Curve structure of these random numbers."
   ]
  },
  {
   "cell_type": "code",
   "execution_count": 16,
   "metadata": {},
   "outputs": [
    {
     "data": {
      "image/png": "[encoded data removed]",
      "text/plain": [
       "<Figure size 640x480 with 1 Axes>"
      ]
     },
     "metadata": {},
     "output_type": "display_data"
    }
   ],
   "source": [
    "# Plot the results:\n",
    "import matplotlib.pyplot as plt\n",
    "\n",
    "plt.bar(bin_edges[:-1] + 0.125, hist)\n",
    "plt.xlabel(\"Value\")\n",
    "plt.ylabel(\"Count\")\n",
    "plt.show()\n"
   ]
  },
  {
   "cell_type": "markdown",
   "metadata": {},
   "source": [
    "What we get is the count of how many of the random numbers fell into each "
   ]
  },
  {
   "cell_type": "markdown",
   "metadata": {},
   "source": [
    "## Reproducible randomness"
   ]
  },
  {
   "cell_type": "markdown",
   "metadata": {},
   "source": [
    "If we run the code to generate our random numbers twice, we'll get different values each time since the numbers are random. This is often how we want the code to work."
   ]
  },
  {
   "cell_type": "code",
   "execution_count": 10,
   "metadata": {},
   "outputs": [
    {
     "name": "stdout",
     "output_type": "stream",
     "text": [
      "[-0.23415337 -0.23413696  1.57921282  0.76743473]\n",
      "[-0.46947439  0.54256004 -0.46341769 -0.46572975]\n"
     ]
    }
   ],
   "source": [
    "b = np.random.randn(4)  # Gaussian\n",
    "print(b)\n",
    "c = np.random.randn(4)  # Gaussian\n",
    "print(c)\n"
   ]
  },
  {
   "cell_type": "markdown",
   "metadata": {},
   "source": [
    "However, sometimes we don't want these values to change from run to run: for example, for reproducibility in a project, you may sometimes want your code to produce the same exact results each time. In such cases, this behavior isn't desirable. We can fix this by setting what's known as a random seed. This generates random numbers, but if the random seed is set (meaning the `np.rand.seed` function is called), the code that follows it will produce the same random numbers each time it is executed. Below we demonstrate this by setting the random seed to a value of 42 (it doesn't matter what the seed is set to, as long as the two pieces of code have the same seed)."
   ]
  },
  {
   "cell_type": "code",
   "execution_count": 8,
   "metadata": {},
   "outputs": [
    {
     "name": "stdout",
     "output_type": "stream",
     "text": [
      "[ 0.49671415 -0.1382643   0.64768854  1.52302986]\n"
     ]
    }
   ],
   "source": [
    "np.random.seed(42)  # Setting the random seed\n",
    "b = np.random.randn(4)  # Gaussian\n",
    "print(b)\n"
   ]
  },
  {
   "cell_type": "markdown",
   "metadata": {},
   "source": [
    "If we run it again (setting the same random seed), we get identical results."
   ]
  },
  {
   "cell_type": "code",
   "execution_count": 9,
   "metadata": {},
   "outputs": [
    {
     "name": "stdout",
     "output_type": "stream",
     "text": [
      "[ 0.49671415 -0.1382643   0.64768854  1.52302986]\n"
     ]
    }
   ],
   "source": [
    "np.random.seed(42)  # Setting the random seed\n",
    "b = np.random.randn(4)  # Gaussian\n",
    "print(b)\n"
   ]
  }
 ],
 "metadata": {
  "kernelspec": {
   "display_name": "Python 3",
   "language": "python",
   "name": "python3"
  },
  "language_info": {
   "codemirror_mode": {
    "name": "ipython",
    "version": 3
   },
   "file_extension": ".py",
   "mimetype": "text/x-python",
   "name": "python",
   "nbconvert_exporter": "python",
   "pygments_lexer": "ipython3",
   "version": "3.8.2"
  },
  "varInspector": {
   "cols": {
    "lenName": 16,
    "lenType": 16,
    "lenVar": 40
   },
   "kernels_config": {
    "python": {
     "delete_cmd_postfix": "",
     "delete_cmd_prefix": "del ",
     "library": "var_list.py",
     "varRefreshCmd": "print(var_dic_list())"
    },
    "r": {
     "delete_cmd_postfix": ") ",
     "delete_cmd_prefix": "rm(",
     "library": "var_list.r",
     "varRefreshCmd": "cat(var_dic_list()) "
    }
   },
   "types_to_exclude": [
    "module",
    "function",
    "builtin_function_or_method",
    "instance",
    "_Feature"
   ],
   "window_display": false
  }
 },
 "nbformat": 4,
 "nbformat_minor": 2
}
