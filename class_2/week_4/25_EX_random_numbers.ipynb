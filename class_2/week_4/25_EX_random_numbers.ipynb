{
 "cells": [
  {
   "cell_type": "markdown",
   "metadata": {},
   "source": [
    "# Exercise 1: Calculating the mean and variance of common random variables\n",
    "Earlier we discussed summary statistics.\n",
    "\n",
    "1. Given what we discussed about the standard normal and uniform (between 0 and 1) distribution in the previous lesson, what would you anticipate the mean of each distribution was?\n",
    "2. Generate 10,000 samples from a standard normal distribution using the Numpy `randn` and `rand` methods and calculate their means to check your guesses"
   ]
  },
  {
   "cell_type": "code",
   "execution_count": 1,
   "metadata": {},
   "outputs": [
    {
     "name": "stdout",
     "output_type": "stream",
     "text": [
      "Normal mean =  0.0017771832320605178\n",
      "Uniform mean =  0.49960517335268817\n"
     ]
    }
   ],
   "source": [
    "import numpy as np\n",
    "\n",
    "normal = np.random.randn(10000)\n",
    "uniform = np.random.rand(10000)\n",
    "print('Normal mean = ', np.mean(normal))\n",
    "print('Uniform mean = ', np.mean(uniform))"
   ]
  },
  {
   "cell_type": "markdown",
   "metadata": {},
   "source": [
    "# Exercise 2: Phrase templates\n",
    "Using the list below randomly sample 5 words without replacement (i.e. no duplication). Then, using the print function, randomly place them into the following places indicated in this sentence (this will be a preview of an exercise to come later in this series):\n",
    "\n",
    "\"In eons past, there lived a wise woman who was very proud of the ancient _____ that she protected. When a village elder came to ask her advice on how to best ensure of strong harvest and offered her the _____ as an offering, her eyes opened wide and she shouted one word, \"_______\". She called the village together and for the next 100 days, at her urging, the villagers searched the forest for a ______. On the 101st day, the youngest child of the village found what they had been looking for and all rushed to the wise woman to give it to her. With a smile from ear-to-ear, and singing songs of celebration, the wise woman looked about her kinfolk and said, \"Now has come the time of feasting - no one shall ever go without _____ again!\" There was much rejoicing.\""
   ]
  },
  {
   "cell_type": "code",
   "execution_count": null,
   "metadata": {},
   "outputs": [],
   "source": [
    "word_list =['settlement','separation','difference','application','attitude','vegetable','empire','reception','ignorance','biography','vision',\n",
    "            'police officer','rehearsal','performance','presentation','relative','justification','philosophy','direction','beneficiary','battery','ceremony','agony','recovery','literacy',\n",
    "            'delivery','reservoir','volunteer','deposit','bowling pin','enemy','announcement','sugary candy','lightning strike','balloon','blanket','discovery','penalty',\n",
    "            'general','alpaca','advantage','hot dog','gown','math','variant']"
   ]
  }
 ],
 "metadata": {
  "interpreter": {
   "hash": "a8f7447a67778e188a9289d5afd8f46b343fa90d5cd10b8a7763899ed796f96a"
  },
  "kernelspec": {
   "display_name": "Python 3.9.6 64-bit ('ds': conda)",
   "language": "python",
   "name": "python3"
  },
  "language_info": {
   "codemirror_mode": {
    "name": "ipython",
    "version": 3
   },
   "file_extension": ".py",
   "mimetype": "text/x-python",
   "name": "python",
   "nbconvert_exporter": "python",
   "pygments_lexer": "ipython3",
   "version": "3.9.6"
  },
  "orig_nbformat": 4
 },
 "nbformat": 4,
 "nbformat_minor": 2
}
