{
 "cells": [
  {
   "cell_type": "markdown",
   "metadata": {},
   "source": [
    "# Week 4 Assessment\n",
    "\n",
    "## Exercise 1\n",
    "For the following, **do not use Python: figure out what each expression would produce**. If the expression would produce an error, write \"error\". Use the array below for the following problems:"
   ]
  },
  {
   "cell_type": "code",
   "execution_count": 1,
   "metadata": {},
   "outputs": [],
   "source": [
    "import numpy as np\n",
    "\n",
    "x = np.array([\n",
    "    [3,6,-2],\n",
    "    [-9,7,4],\n",
    "    [8,2,0]\n",
    "])"
   ]
  },
  {
   "cell_type": "markdown",
   "metadata": {},
   "source": [
    "1a)"
   ]
  },
  {
   "cell_type": "code",
   "execution_count": 2,
   "metadata": {},
   "outputs": [
    {
     "data": {
      "text/plain": [
       "-9"
      ]
     },
     "execution_count": 2,
     "metadata": {},
     "output_type": "execute_result"
    }
   ],
   "source": [
    "np.min(x)"
   ]
  },
  {
   "cell_type": "markdown",
   "metadata": {},
   "source": [
    "1b)"
   ]
  },
  {
   "cell_type": "code",
   "execution_count": 4,
   "metadata": {},
   "outputs": [
    {
     "data": {
      "text/plain": [
       "0"
      ]
     },
     "execution_count": 4,
     "metadata": {},
     "output_type": "execute_result"
    }
   ],
   "source": [
    "y = np.min(x, axis=1)\n",
    "y[2]"
   ]
  },
  {
   "cell_type": "markdown",
   "metadata": {},
   "source": [
    "## Exercise 2\n",
    "\n",
    "You are given the function below, `gen_random_number`, that is a random number generator from a very specific distribution (the nature of that distribution is not relevant here). You don't know what the data look like, but you want to summarize them in some way, in this case by **finding the mean and standard deviation**. You'll need a lot of samples to get a good estimate, so make sure you use at least one million."
   ]
  },
  {
   "cell_type": "code",
   "execution_count": 39,
   "metadata": {},
   "outputs": [],
   "source": [
    "import numpy as np\n",
    "def gen_random_number(n):\n",
    "    return np.random.gamma(shape=0.5,scale=1.3,size=n)"
   ]
  },
  {
   "cell_type": "code",
   "execution_count": 40,
   "metadata": {},
   "outputs": [
    {
     "data": {
      "text/plain": [
       "0.6498734548298313"
      ]
     },
     "execution_count": 40,
     "metadata": {},
     "output_type": "execute_result"
    }
   ],
   "source": [
    "rands = gen_random_number(5_000_000)\n",
    "np.mean(rands)"
   ]
  },
  {
   "cell_type": "code",
   "execution_count": 41,
   "metadata": {},
   "outputs": [
    {
     "data": {
      "text/plain": [
       "0.9185886287123601"
      ]
     },
     "execution_count": 41,
     "metadata": {},
     "output_type": "execute_result"
    }
   ],
   "source": [
    "np.std(rands)"
   ]
  },
  {
   "cell_type": "markdown",
   "metadata": {},
   "source": [
    "## Exercise 3\n",
    "\n",
    "You're helping a colleague run a Monte Carlo simulation and they need some random numbers. They want your help in creating a collection of 10 million random values. They're going to rerun their analysis multiple times, but they want the random values to be the same each time they run it (since they're going to apply different scenarios to the simulation). Which pathway(s) would successfully meet that objective?\n",
    "1. Create code that creates the random numbers with numpy and do not set a random seed\n",
    "2. Create code that creates the random numbers with numpy and set a random seed to ensure reproducibility\n",
    "3. Generate the random numbers and save them into a separate file that will be loaded each time the program is run\n",
    "4. Options (1), (2), or (3) are all equally suited approaches\n",
    "5. Options (2) or (3) are equally suited approaches\n",
    "6. Options (1) or (3) are equally suited approaches"
   ]
  }
 ],
 "metadata": {
  "interpreter": {
   "hash": "a8f7447a67778e188a9289d5afd8f46b343fa90d5cd10b8a7763899ed796f96a"
  },
  "kernelspec": {
   "display_name": "Python 3.9.6 64-bit ('ds': conda)",
   "language": "python",
   "name": "python3"
  },
  "language_info": {
   "codemirror_mode": {
    "name": "ipython",
    "version": 3
   },
   "file_extension": ".py",
   "mimetype": "text/x-python",
   "name": "python",
   "nbconvert_exporter": "python",
   "pygments_lexer": "ipython3",
   "version": "3.9.6"
  },
  "orig_nbformat": 4
 },
 "nbformat": 4,
 "nbformat_minor": 2
}
