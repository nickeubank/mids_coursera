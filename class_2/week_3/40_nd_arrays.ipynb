{
 "cells": [
  {
   "cell_type": "markdown",
   "metadata": {},
   "source": [
    "## Arrays\n",
    "\n",
    "As we saw above, generalizing the way we subset vectors to subsetting matrices was quite easy -- we just subset our matrices by doing what we did with vectors, but with two terms in in our square brackets separated by a comma (e.g. `[1, 1]` instead of just `[1]`). \n",
    "\n",
    "But guess what? Just as it was easy to generalize from one dimension to two, it turns out that we can also generalize from two dimensions to N dimensions the same way! In fact, rather than thinking of vectors and matrices as to different thing, we can think of them as special cases (the case of N=1 and N=2) of a more general data structure: **Arrays**. \n",
    "\n",
    "Arrays are collections of data of the same type with a regular structure organized into N dimensions (which is why they are sometimes referred to as **ND-Arrays** instead of just arrays). When N=1, an array is the equivalent of a vector:"
   ]
  },
  {
   "cell_type": "code",
   "execution_count": 2,
   "metadata": {},
   "outputs": [
    {
     "data": {
      "text/plain": [
       "array([ 0,  1,  2,  3,  4,  5,  6,  7,  8,  9, 10, 11, 12, 13, 14, 15, 16,\n",
       "       17, 18, 19])"
      ]
     },
     "execution_count": 2,
     "metadata": {},
     "output_type": "execute_result"
    }
   ],
   "source": [
    "import numpy as np\n",
    "\n",
    "np.arange(20)"
   ]
  },
  {
   "cell_type": "markdown",
   "metadata": {},
   "source": [
    "And when N=2, an array is just a matrix:"
   ]
  },
  {
   "cell_type": "code",
   "execution_count": 3,
   "metadata": {},
   "outputs": [
    {
     "data": {
      "text/plain": [
       "array([[ 0,  1,  2,  3],\n",
       "       [ 4,  5,  6,  7],\n",
       "       [ 8,  9, 10, 11],\n",
       "       [12, 13, 14, 15],\n",
       "       [16, 17, 18, 19]])"
      ]
     },
     "execution_count": 3,
     "metadata": {},
     "output_type": "execute_result"
    }
   ],
   "source": [
    "np.arange(20).reshape(5, 4)"
   ]
  },
  {
   "cell_type": "markdown",
   "metadata": {},
   "source": [
    "But when N > 2, things start to get a little harder to visualize, but also a lot more powerful. \n",
    "\n",
    "![nd array examples](img/arrays_w_axis_and_indexing.png)\n",
    "\n",
    "*But WHY*, I hear you asking, *would I ever want more than two dimensions?!* \n",
    "\n",
    "Well, let's start with use-cases for N=3. Suppose that you wanted to build a climate model. One thing that you would have to do is come up with a way to store the temperature at different points within a 3D space! And you could do that with a three-dimensional array where the first two dimensions are used to store the x and y coordinates of a point on the ground, the third could represent an elevation above that point, and the value in that entry would be the temperature. \n",
    "\n",
    "For example, let's create a 3 x 3 x 10 array filled with random temperatures generated with `np.random.uniform()`, where we're imagining the first dimension to be, say, number of kilometers North of a reference point (say, the center of Duke's campus), the second dimension is the number of kilometers East of the center of Duke's campus, and the third dimension is kilometers elevation. (Obviously if this weren't an exercise, we'd be using real temperatures to fill our array!):"
   ]
  },
  {
   "cell_type": "code",
   "execution_count": 4,
   "metadata": {},
   "outputs": [
    {
     "data": {
      "text/plain": [
       "array([79.94710475, 68.23934175, 72.32326838, 75.81860421, 62.96841955,\n",
       "       60.97983669, 76.75621054, 79.04651647, 88.14958444, 69.11608937,\n",
       "       55.88446373, 58.26697655, 83.54209443, 87.64586519, 78.24642105,\n",
       "       85.73084813, 77.12867963, 72.80813844, 69.53242787, 84.52667002,\n",
       "       84.01047428, 69.8177732 , 62.50789533, 59.02550639, 81.27894576,\n",
       "       72.36410289, 80.31594572, 76.34317969, 70.83134448, 51.10017641,\n",
       "       68.38715306, 87.38255704, 82.10956059, 74.79239554, 61.99098843,\n",
       "       72.54041241, 91.27946486, 71.68456345, 81.30911766, 64.7311513 ,\n",
       "       70.53755537, 79.05897712, 78.82911882, 75.36710775, 73.97320714,\n",
       "       63.98971959, 62.73948223, 64.4001467 , 65.22192767, 60.35242931,\n",
       "       92.87821648, 79.66541208, 70.2421698 , 65.54375353, 73.32283213,\n",
       "       67.72820031, 60.07366192, 78.02330448, 72.87822932, 58.08359329,\n",
       "       74.14982111, 60.04086757, 81.64815577, 75.45484489, 64.62446814,\n",
       "       72.41553209, 74.64894132, 64.22266321, 78.13953306, 72.11908386,\n",
       "       59.81726608, 49.71087655, 56.7970598 , 62.65955611, 75.0734993 ,\n",
       "       59.84026427, 59.79882736, 66.69600082, 80.54627743, 79.81128081,\n",
       "       69.25504326, 72.11075781, 54.38050631, 80.735412  , 51.1105615 ,\n",
       "       68.08319113, 73.70646344, 76.77949789, 73.30025609, 62.68124293])"
      ]
     },
     "execution_count": 4,
     "metadata": {},
     "output_type": "execute_result"
    }
   ],
   "source": [
    "# Make random temperatures.\n",
    "# In a real world application\n",
    "# you'd have measured these or\n",
    "# started with seed values based on\n",
    "# measured values.\n",
    "\n",
    "# using a reasonable farenheit mean (70) and sd (10)\n",
    "rand_temps = np.random.normal(loc=70, scale=10, size=90)\n",
    "rand_temps"
   ]
  },
  {
   "cell_type": "code",
   "execution_count": 5,
   "metadata": {},
   "outputs": [
    {
     "data": {
      "text/plain": [
       "array([[[79.94710475, 68.23934175, 72.32326838, 75.81860421,\n",
       "         62.96841955, 60.97983669, 76.75621054, 79.04651647,\n",
       "         88.14958444, 69.11608937],\n",
       "        [55.88446373, 58.26697655, 83.54209443, 87.64586519,\n",
       "         78.24642105, 85.73084813, 77.12867963, 72.80813844,\n",
       "         69.53242787, 84.52667002],\n",
       "        [84.01047428, 69.8177732 , 62.50789533, 59.02550639,\n",
       "         81.27894576, 72.36410289, 80.31594572, 76.34317969,\n",
       "         70.83134448, 51.10017641]],\n",
       "\n",
       "       [[68.38715306, 87.38255704, 82.10956059, 74.79239554,\n",
       "         61.99098843, 72.54041241, 91.27946486, 71.68456345,\n",
       "         81.30911766, 64.7311513 ],\n",
       "        [70.53755537, 79.05897712, 78.82911882, 75.36710775,\n",
       "         73.97320714, 63.98971959, 62.73948223, 64.4001467 ,\n",
       "         65.22192767, 60.35242931],\n",
       "        [92.87821648, 79.66541208, 70.2421698 , 65.54375353,\n",
       "         73.32283213, 67.72820031, 60.07366192, 78.02330448,\n",
       "         72.87822932, 58.08359329]],\n",
       "\n",
       "       [[74.14982111, 60.04086757, 81.64815577, 75.45484489,\n",
       "         64.62446814, 72.41553209, 74.64894132, 64.22266321,\n",
       "         78.13953306, 72.11908386],\n",
       "        [59.81726608, 49.71087655, 56.7970598 , 62.65955611,\n",
       "         75.0734993 , 59.84026427, 59.79882736, 66.69600082,\n",
       "         80.54627743, 79.81128081],\n",
       "        [69.25504326, 72.11075781, 54.38050631, 80.735412  ,\n",
       "         51.1105615 , 68.08319113, 73.70646344, 76.77949789,\n",
       "         73.30025609, 62.68124293]]])"
      ]
     },
     "execution_count": 5,
     "metadata": {},
     "output_type": "execute_result"
    }
   ],
   "source": [
    "temperatures = rand_temps.reshape((3, 3, 10))\n",
    "temperatures"
   ]
  },
  {
   "cell_type": "markdown",
   "metadata": {},
   "source": [
    "Now because `temperatures` has three dimensions, it's hard to print out, but it's easy to extract values. Suppose wanted to know the temperature 1 km North of Duke, 2km East, and at an elevation of 10km:"
   ]
  },
  {
   "cell_type": "code",
   "execution_count": 6,
   "metadata": {},
   "outputs": [
    {
     "data": {
      "text/plain": [
       "84.52667002288548"
      ]
     },
     "execution_count": 6,
     "metadata": {},
     "output_type": "execute_result"
    }
   ],
   "source": [
    "temperatures[0, 1, 9]"
   ]
  },
  {
   "cell_type": "markdown",
   "metadata": {},
   "source": [
    "Ta-Da! I could also get the temperature at all elevations at the point 1km North and 2km East:"
   ]
  },
  {
   "cell_type": "code",
   "execution_count": 7,
   "metadata": {},
   "outputs": [
    {
     "data": {
      "text/plain": [
       "array([55.88446373, 58.26697655, 83.54209443, 87.64586519, 78.24642105,\n",
       "       85.73084813, 77.12867963, 72.80813844, 69.53242787, 84.52667002])"
      ]
     },
     "execution_count": 7,
     "metadata": {},
     "output_type": "execute_result"
    }
   ],
   "source": [
    "temperatures[0, 1, :]"
   ]
  },
  {
   "cell_type": "markdown",
   "metadata": {},
   "source": [
    "Or the temperature at 5km elevation across all ground locations: "
   ]
  },
  {
   "cell_type": "code",
   "execution_count": 8,
   "metadata": {},
   "outputs": [
    {
     "data": {
      "text/plain": [
       "array([[62.96841955, 78.24642105, 81.27894576],\n",
       "       [61.99098843, 73.97320714, 73.32283213],\n",
       "       [64.62446814, 75.0734993 , 51.1105615 ]])"
      ]
     },
     "execution_count": 8,
     "metadata": {},
     "output_type": "execute_result"
    }
   ],
   "source": [
    "temperatures[:, :, 4]"
   ]
  },
  {
   "cell_type": "markdown",
   "metadata": {},
   "source": [
    "As you can see, this is a *really* powerful idea, and honestly arrays are probably the most fundamental data structure in data science. \n",
    "\n",
    "### Other Uses for Arrays\n",
    "\n",
    "Not into climate modeling? OK, here are some other uses of arrays with more than 2 dimensions:\n",
    "\n",
    "- **Color Images:** In our last reading, we saw that black and white images can be thought of as matrices, as each cell can contain the greyscale value for a given pixel. When working with color images, however, we often work with three-dimensional arrays, where the first two dimensions are the x-y coordinates of each pixel, and the third dimension is used to differentiate between the value for red in a pixel, the value of green in a pixel, the value of blue in a pixel, and the luminance (brightness) of the pixel. \n",
    "- **Repeated measurements over time:** Just as a single survey is easily represented as a matrix, so too can repeated surveys be easily represented by making time a third dimension. This makes it easy to pull out a single wave of the survey, or to pick out all the responses for a given person over time. \n",
    "- **Brain Scans:** fMRI scan the entire volume of the brain, and that volumetric data is most naturally stored in the three-dimensional array, just like the temperature data above. Obviously not all social scientists will end up working with brain scans, but there's certainly a lot of cutting-edge work in this area!\n",
    "- **3D measurements that evolve over time:** just as we can model survey data that evolves over time in three dimensions, we can also model three-dimensional volumetric data that evolves over time (e.g. not just a slice of a climate model, but its evoluation) in a four-dimensional array!\n",
    "- **Satellite Data:** Satellite image data usually comes in the form of sets of 2-dimensional images, where each image includes information about light intensity at a given wavelength. When these images are stacked to, say, generate a color image, or identify wavelength combinations common to certain types of pollution, flood waters, or specific crops, you get a three-dimensional array.\n",
    "\n",
    "So yeah, high dimensional arrays are a SUPER powerful data structure, and one you shouldn't shy away."
   ]
  }
 ],
 "metadata": {
  "interpreter": {
   "hash": "3e0a5228cb9726a24d36227c69ed0d3aac98cecda769d1c9adb080711d57f90d"
  },
  "kernelspec": {
   "display_name": "Python 3.9.7 64-bit ('base': conda)",
   "language": "python",
   "name": "python3"
  },
  "language_info": {
   "codemirror_mode": {
    "name": "ipython",
    "version": 3
   },
   "file_extension": ".py",
   "mimetype": "text/x-python",
   "name": "python",
   "nbconvert_exporter": "python",
   "pygments_lexer": "ipython3",
   "version": "3.9.7"
  },
  "orig_nbformat": 4
 },
 "nbformat": 4,
 "nbformat_minor": 2
}
