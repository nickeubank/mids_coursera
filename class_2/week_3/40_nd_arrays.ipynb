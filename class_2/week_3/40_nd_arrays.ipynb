{
 "cells": [
  {
   "cell_type": "markdown",
   "metadata": {},
   "source": [
    "## Arrays\n",
    "\n",
    "As we saw above, generalizing the way we subset vectors to subsetting matrices was quite easy -- we just subset our matrices by doing what we did with vectors, but with two terms in in our square brackets separated by a comma (e.g. `[1, 1]` instead of just `[1]`). \n",
    "\n",
    "But guess what? Just as it was easy to generalize from one dimension to two, it turns out that we can also generalize from two dimensions to N dimensions the same way! In fact, rather than thinking of vectors and matrices as to different thing, we can think of them as special cases (the case of N=1 and N=2) of a more general data structure: **Arrays**. \n",
    "\n",
    "Arrays are collections of data of the same type with a regular structure organized into N dimensions. When N=1, an array is the equivalent of a vector:"
   ]
  },
  {
   "cell_type": "code",
   "execution_count": 3,
   "metadata": {},
   "outputs": [
    {
     "data": {
      "text/plain": [
       "array([ 0,  1,  2,  3,  4,  5,  6,  7,  8,  9, 10, 11, 12, 13, 14, 15, 16,\n",
       "       17, 18, 19])"
      ]
     },
     "execution_count": 3,
     "metadata": {},
     "output_type": "execute_result"
    }
   ],
   "source": [
    "import numpy as np\n",
    "\n",
    "np.arange(20)\n"
   ]
  },
  {
   "cell_type": "markdown",
   "metadata": {},
   "source": [
    "And when N=2, an array is just a matrix:"
   ]
  },
  {
   "cell_type": "code",
   "execution_count": 4,
   "metadata": {},
   "outputs": [
    {
     "data": {
      "text/plain": [
       "array([[ 0,  1,  2,  3],\n",
       "       [ 4,  5,  6,  7],\n",
       "       [ 8,  9, 10, 11],\n",
       "       [12, 13, 14, 15],\n",
       "       [16, 17, 18, 19]])"
      ]
     },
     "execution_count": 4,
     "metadata": {},
     "output_type": "execute_result"
    }
   ],
   "source": [
    "np.arange(20).reshape(5, 4)\n"
   ]
  },
  {
   "cell_type": "markdown",
   "metadata": {},
   "source": [
    "But when N > 2, things start to get a little harder to visualize, but also a lot more powerful. \n",
    "\n",
    "*But WHY*, I hear you asking, *would I ever want more than two dimensions?!* \n",
    "\n",
    "Well, let's start with use-cases for N=3. Suppose that you wanted to build a climate model. One thing that you would have to do is come up with a way to store the temperature at different points within a 3D space! And you could do that with a three-dimensional array where the first two dimensions are used to store the x and y coordinates of a point on the ground, the third could represent an elevation above that point, and the value in that entry would be the temperature. \n",
    "\n",
    "For example, let's create a 3 x 3 x 10 array filled with random temperatures generated with `np.random.uniform()`, where we're imagining the first dimension to be, say, number of kilometers North of a reference point (say, the center of Duke's campus), the second dimension is the number of kilometers East of the center of Duke's campus, and the third dimension is kilometers elevation. (Obviously if this weren't an exercise, we'd be using real temperatures to fill our array!):"
   ]
  },
  {
   "cell_type": "code",
   "execution_count": 7,
   "metadata": {},
   "outputs": [
    {
     "data": {
      "text/plain": [
       "array([74.4805914 , 63.4636685 , 76.57108736, 74.73777105, 69.5091633 ,\n",
       "       60.23823657, 69.12935326, 67.55646317, 65.10868325, 64.58053686,\n",
       "       79.07979103, 82.21836456, 74.92904092, 69.15802631, 54.63349454,\n",
       "       67.93559111, 72.62280125, 78.94457043, 70.50896904, 73.79335368,\n",
       "       75.36353838, 76.99135483, 67.67623238, 69.42428859, 71.21606243,\n",
       "       86.89645753, 48.33803445, 75.46721846, 78.86047331, 84.59021349,\n",
       "       79.95296623, 61.9922921 , 64.33604576, 81.62034998, 75.35339524,\n",
       "       69.23745221, 58.70209583, 75.01664044, 71.16015887, 70.19108603,\n",
       "       75.7114543 , 49.31545425, 85.71400994, 68.53578825, 59.84809671,\n",
       "       60.92305415, 61.60753433, 82.82671149, 69.55628355, 64.49613608,\n",
       "       69.84175434, 71.78339683, 76.92045085, 65.63166412, 70.35045024,\n",
       "       71.93352092, 70.06825931, 80.36982052, 59.68859737, 72.71113089,\n",
       "       65.49021116, 78.52684681, 66.89187906, 83.02452446, 58.41207515,\n",
       "       71.71369369, 90.19331332, 69.31810151, 87.8016218 , 90.54921243,\n",
       "       62.71209298, 64.98194613, 74.18086847, 65.95238615, 86.31893806,\n",
       "       59.90745292, 60.31536392, 73.2834715 , 76.18107467, 88.6701437 ,\n",
       "       52.78339604, 77.41893347, 68.54993761, 66.93646838, 60.6086747 ,\n",
       "       68.62165925, 78.25796138, 76.92744031, 72.57526973, 78.78760607])"
      ]
     },
     "execution_count": 7,
     "metadata": {},
     "output_type": "execute_result"
    }
   ],
   "source": [
    "# Make random temperatures.\n",
    "# In a real world application\n",
    "# you'd have measured these or\n",
    "# started with seed values based on\n",
    "# measured values.\n",
    "\n",
    "# using a reasonable farenheit mean (70) and sd (10)\n",
    "rand_temps = np.random.normal(loc=70, scale=10, size=90)\n",
    "rand_temps\n"
   ]
  },
  {
   "cell_type": "code",
   "execution_count": 8,
   "metadata": {},
   "outputs": [
    {
     "data": {
      "text/plain": [
       "array([[[74.4805914 , 63.4636685 , 76.57108736, 74.73777105,\n",
       "         69.5091633 , 60.23823657, 69.12935326, 67.55646317,\n",
       "         65.10868325, 64.58053686],\n",
       "        [79.07979103, 82.21836456, 74.92904092, 69.15802631,\n",
       "         54.63349454, 67.93559111, 72.62280125, 78.94457043,\n",
       "         70.50896904, 73.79335368],\n",
       "        [75.36353838, 76.99135483, 67.67623238, 69.42428859,\n",
       "         71.21606243, 86.89645753, 48.33803445, 75.46721846,\n",
       "         78.86047331, 84.59021349]],\n",
       "\n",
       "       [[79.95296623, 61.9922921 , 64.33604576, 81.62034998,\n",
       "         75.35339524, 69.23745221, 58.70209583, 75.01664044,\n",
       "         71.16015887, 70.19108603],\n",
       "        [75.7114543 , 49.31545425, 85.71400994, 68.53578825,\n",
       "         59.84809671, 60.92305415, 61.60753433, 82.82671149,\n",
       "         69.55628355, 64.49613608],\n",
       "        [69.84175434, 71.78339683, 76.92045085, 65.63166412,\n",
       "         70.35045024, 71.93352092, 70.06825931, 80.36982052,\n",
       "         59.68859737, 72.71113089]],\n",
       "\n",
       "       [[65.49021116, 78.52684681, 66.89187906, 83.02452446,\n",
       "         58.41207515, 71.71369369, 90.19331332, 69.31810151,\n",
       "         87.8016218 , 90.54921243],\n",
       "        [62.71209298, 64.98194613, 74.18086847, 65.95238615,\n",
       "         86.31893806, 59.90745292, 60.31536392, 73.2834715 ,\n",
       "         76.18107467, 88.6701437 ],\n",
       "        [52.78339604, 77.41893347, 68.54993761, 66.93646838,\n",
       "         60.6086747 , 68.62165925, 78.25796138, 76.92744031,\n",
       "         72.57526973, 78.78760607]]])"
      ]
     },
     "execution_count": 8,
     "metadata": {},
     "output_type": "execute_result"
    }
   ],
   "source": [
    "temperatures = rand_temps.reshape((3, 3, 10))\n",
    "temperatures\n"
   ]
  },
  {
   "cell_type": "markdown",
   "metadata": {},
   "source": [
    "Now because `temperatures` has three dimensions, it's hard to print out, but it's easy to extract values. Suppose wanted to know the temperature 1 km North of Duke, 2km East, and at an elevation of 10km:"
   ]
  },
  {
   "cell_type": "code",
   "execution_count": 9,
   "metadata": {},
   "outputs": [
    {
     "data": {
      "text/plain": [
       "73.79335367808505"
      ]
     },
     "execution_count": 9,
     "metadata": {},
     "output_type": "execute_result"
    }
   ],
   "source": [
    "temperatures[0, 1, 9]\n"
   ]
  },
  {
   "cell_type": "markdown",
   "metadata": {},
   "source": [
    "Ta-Da! I could also get the temperature at all elevations at the point 1km North and 2km East:"
   ]
  },
  {
   "cell_type": "code",
   "execution_count": 10,
   "metadata": {},
   "outputs": [
    {
     "data": {
      "text/plain": [
       "array([79.07979103, 82.21836456, 74.92904092, 69.15802631, 54.63349454,\n",
       "       67.93559111, 72.62280125, 78.94457043, 70.50896904, 73.79335368])"
      ]
     },
     "execution_count": 10,
     "metadata": {},
     "output_type": "execute_result"
    }
   ],
   "source": [
    "temperatures[0, 1, :]\n"
   ]
  },
  {
   "cell_type": "markdown",
   "metadata": {},
   "source": [
    "Or the temperature at 5km elevation across all ground locations: "
   ]
  },
  {
   "cell_type": "code",
   "execution_count": 11,
   "metadata": {},
   "outputs": [
    {
     "data": {
      "text/plain": [
       "array([[69.5091633 , 54.63349454, 71.21606243],\n",
       "       [75.35339524, 59.84809671, 70.35045024],\n",
       "       [58.41207515, 86.31893806, 60.6086747 ]])"
      ]
     },
     "execution_count": 11,
     "metadata": {},
     "output_type": "execute_result"
    }
   ],
   "source": [
    "temperatures[:, :, 4]\n"
   ]
  },
  {
   "cell_type": "markdown",
   "metadata": {},
   "source": [
    "As you can see, this is a *really* powerful idea, and honestly arrays are probably the most fundamental data structure in data science. \n",
    "\n",
    "### Other Uses for Arrays\n",
    "\n",
    "Not into climate modeling? OK, here are some other uses of arrays with more than 2 dimensions:\n",
    "\n",
    "- **Color Images:** In our last reading, we saw that black and white images can be thought of as matrices, as each cell can contain the greyscale value for a given pixel. When working with color images, however, we often work with three-dimensional arrays, where the first two dimensions are the x-y coordinates of each pixel, and the third dimension is used to differentiate between the value for red in a pixel, the value of green in a pixel, the value of blue in a pixel, and the luminance (brightness) of the pixel. \n",
    "- **Repeated measurements over time:** Just as a single survey is easily represented as a matrix, so too can repeated surveys be easily represented by making time a third dimension. This makes it easy to pull out a single wave of the survey, or to pick out all the responses for a given person over time. \n",
    "- **Brain Scans:** fMRI scan the entire volume of the brain, and that volumetric data is most naturally stored in the three-dimensional array, just like the temperature data above. Obviously not all social scientists will end up working with brain scans, but there's certainly a lot of cutting-edge work in this area!\n",
    "- **3D measurements that evolve over time:** just as we can model survey data that evolves over time in three dimensions, we can also model three-dimensional volumetric data that evolves over time (e.g. not just a slice of a climate model, but its evoluation) in a four-dimensional array!\n",
    "- **Satellite Data:** Satellite image data usually comes in the form of sets of 2-dimensional images, where each image includes information about light intensity at a given wavelength. When these images are stacked to, say, generate a color image, or identify wavelength combinations common to certain types of pollution, flood waters, or specific crops, you get a three-dimensional array.\n",
    "\n",
    "So yeah, high dimensional arrays are a SUPER powerful data structure, and one you shouldn't shy away."
   ]
  },
  {
   "cell_type": "markdown",
   "metadata": {},
   "source": [
    "## Moving Between Dimensions\n",
    "\n",
    "Now that we've embraced the fact that there's nothing fundamentally special about an array that's one, two, or three-dimensional from the perspective of numpy (even if we tend to use arrays of different dimensions for different purposes), it's worth pausing to talk a little about challenges that can arise when moving between arrays of different dimensionality.  \n",
    "\n",
    "### Narrow Matrices v. 1-Dimensional Vectors\n",
    "\n",
    "In numpy, there is a distinction between a 1-dimensional vector (the data structure we've been working with up until now), and a 2-dimensional matrix with only 1 row or 1 column.\n",
    "\n",
    "To illustrate, let's start by creating a simple vector and getting its `.shape`:"
   ]
  },
  {
   "cell_type": "code",
   "execution_count": 12,
   "metadata": {},
   "outputs": [
    {
     "data": {
      "text/plain": [
       "array([1, 2, 3])"
      ]
     },
     "execution_count": 12,
     "metadata": {},
     "output_type": "execute_result"
    }
   ],
   "source": [
    "my_vector = np.array([1, 2, 3])\n",
    "my_vector\n"
   ]
  },
  {
   "cell_type": "code",
   "execution_count": 13,
   "metadata": {},
   "outputs": [
    {
     "data": {
      "text/plain": [
       "(3,)"
      ]
     },
     "execution_count": 13,
     "metadata": {},
     "output_type": "execute_result"
    }
   ],
   "source": [
    "my_vector.shape\n"
   ]
  },
  {
   "cell_type": "markdown",
   "metadata": {},
   "source": [
    "As we can see, numpy only reports the size of our vector in one dimension (the trailing comma is included so you know that it's a list with one entry, not a weirdly formatted 3). One value is given because our data is one-dimensional. "
   ]
  },
  {
   "cell_type": "markdown",
   "metadata": {},
   "source": [
    "But if we create a matrix with one row and three columns (note I'm passing a list within a list to `np.array`), we get a data structure that *looks* similar, but is actually different in an important way, as evident from the output of `.shape`:"
   ]
  },
  {
   "cell_type": "code",
   "execution_count": 14,
   "metadata": {},
   "outputs": [
    {
     "data": {
      "text/plain": [
       "array([[1, 2, 3]])"
      ]
     },
     "execution_count": 14,
     "metadata": {},
     "output_type": "execute_result"
    }
   ],
   "source": [
    "skinny_matrix = np.array([[1, 2, 3]])\n",
    "skinny_matrix\n"
   ]
  },
  {
   "cell_type": "code",
   "execution_count": null,
   "metadata": {},
   "outputs": [
    {
     "data": {
      "text/plain": [
       "(1, 3)"
      ]
     },
     "metadata": {},
     "output_type": "display_data"
    }
   ],
   "source": [
    "skinny_matrix.shape\n"
   ]
  },
  {
   "cell_type": "markdown",
   "metadata": {},
   "source": [
    "As we can see, this matrix is two-dimensional, as evidenced by the fact the `.shape` is reporting two numbers. \n",
    "\n",
    "If we want to make our skinny_matrix into a one-dimensional vector, we can do so with reshape: "
   ]
  },
  {
   "cell_type": "code",
   "execution_count": 19,
   "metadata": {},
   "outputs": [
    {
     "data": {
      "text/plain": [
       "array([1, 2, 3])"
      ]
     },
     "execution_count": 19,
     "metadata": {},
     "output_type": "execute_result"
    }
   ],
   "source": [
    "now_a_vector = skinny_matrix.reshape(3)\n",
    "now_a_vector\n"
   ]
  },
  {
   "cell_type": "code",
   "execution_count": 21,
   "metadata": {},
   "outputs": [
    {
     "data": {
      "text/plain": [
       "(3,)"
      ]
     },
     "execution_count": 21,
     "metadata": {},
     "output_type": "execute_result"
    }
   ],
   "source": [
    "now_a_vector.shape\n"
   ]
  },
  {
   "cell_type": "markdown",
   "metadata": {},
   "source": [
    "Or we could use `.reshape` to make our original one dimensional vector a matrix:"
   ]
  },
  {
   "cell_type": "code",
   "execution_count": 23,
   "metadata": {},
   "outputs": [
    {
     "data": {
      "text/plain": [
       "array([[1, 2, 3]])"
      ]
     },
     "execution_count": 23,
     "metadata": {},
     "output_type": "execute_result"
    }
   ],
   "source": [
    "now_a_matrix = my_vector.reshape((1, 3))\n",
    "now_a_matrix\n"
   ]
  },
  {
   "cell_type": "code",
   "execution_count": 25,
   "metadata": {},
   "outputs": [
    {
     "data": {
      "text/plain": [
       "(1, 3)"
      ]
     },
     "execution_count": 25,
     "metadata": {},
     "output_type": "execute_result"
    }
   ],
   "source": [
    "now_a_matrix.shape\n"
   ]
  }
 ],
 "metadata": {
  "interpreter": {
   "hash": "3e0a5228cb9726a24d36227c69ed0d3aac98cecda769d1c9adb080711d57f90d"
  },
  "kernelspec": {
   "display_name": "Python 3.9.7 64-bit ('base': conda)",
   "language": "python",
   "name": "python3"
  },
  "language_info": {
   "codemirror_mode": {
    "name": "ipython",
    "version": 3
   },
   "file_extension": ".py",
   "mimetype": "text/x-python",
   "name": "python",
   "nbconvert_exporter": "python",
   "pygments_lexer": "ipython3",
   "version": "3.9.7"
  },
  "orig_nbformat": 4
 },
 "nbformat": 4,
 "nbformat_minor": 2
}
