{
    "cells": [
        {
            "cell_type": "markdown",
            "metadata": {},
            "source": [
                "# Views and Copies\n",
                "\n",
                "In our previous reading, we talked about how we could not just look at subsets of vectors, but also store those subsets in a new variable. For example, we could pull the middle entry of one vector and assign it to a new vector:"
            ]
        },
        {
            "cell_type": "code",
            "execution_count": 1,
            "metadata": {},
            "outputs": [
                {
                    "data": {
                        "text/plain": [
                            "array([42, 47, -1])"
                        ]
                    },
                    "execution_count": 1,
                    "metadata": {},
                    "output_type": "execute_result"
                }
            ],
            "source": [
                "import numpy as np\n",
                "a = np.array([42, 47, -1])\n",
                "a"
            ]
        },
        {
            "cell_type": "code",
            "execution_count": 2,
            "metadata": {},
            "outputs": [
                {
                    "data": {
                        "text/plain": [
                            "47"
                        ]
                    },
                    "execution_count": 2,
                    "metadata": {},
                    "output_type": "execute_result"
                }
            ],
            "source": [
                "new = a[1]\n",
                "new"
            ]
        },
        {
            "cell_type": "markdown",
            "metadata": {},
            "source": [
                "At the time, we illustrated what was happening with this set of pictures:\n",
                "\n",
                "![vector_subsetting1](../week_2/img/C2W2-30_subsetting_part1.png)\n",
                "![vector_subsetting2](../week_2/img/C2W2-30_subsetting_part2.png)\n",
                "![vector_subsetting3](../week_2/img/C2W2-30_subsetting_part3.png)\n",
                "\n",
                "And that was *close* to the truth about what was going on, but it wasn't quite the *full* truth. \n",
                "\n",
                "The reality is that when we create a subset in numpy and assign it to a new variable, what is *actually* happening is not that the variable is being assigned a *copy* of the values being the subset, but rather the variable is being assigned a *reference* to the subset, something that looks more like this:\n",
                "\n",
                "[new image with referring arrow]\n",
                "\n",
                "When numpy creates a reference to a subset of an existing array, that reference is called a *view*, because it's not a copy of the data in the original array, but an easy way to referring back to the original array -- it provides a *view* onto a subset of the original array. \n",
                "\n",
                "Why is this distinction important? It's important because it means that both variables -- `a` and `new` are actually both referencing the same data, and so changes make through one variable will propagate to the other. \n",
                "\n",
                "To illustrate in more detail, let's create two new vectors: `my_vector` and `my_subset`, where `my_subset` (as the name implies) is just a subset of `my_vector`:"
            ]
        },
        {
            "cell_type": "code",
            "execution_count": 3,
            "metadata": {},
            "outputs": [
                {
                    "data": {
                        "text/plain": [
                            "array([1, 2, 3, 4])"
                        ]
                    },
                    "execution_count": 3,
                    "metadata": {},
                    "output_type": "execute_result"
                }
            ],
            "source": [
                "my_vector = np.array([1, 2, 3, 4])\n",
                "my_vector"
            ]
        },
        {
            "cell_type": "code",
            "execution_count": 4,
            "metadata": {},
            "outputs": [
                {
                    "data": {
                        "text/plain": [
                            "array([2, 3])"
                        ]
                    },
                    "execution_count": 4,
                    "metadata": {},
                    "output_type": "execute_result"
                }
            ],
            "source": [
                "my_subset = my_vector[1:3]\n",
                "my_subset"
            ]
        },
        {
            "cell_type": "markdown",
            "metadata": {},
            "source": [
                "[MIGHT NEED ANOTHER PIC HERE?]"
            ]
        },
        {
            "cell_type": "markdown",
            "metadata": {},
            "source": [
                "Now suppose we change the first entry of `my_subset` to be `-99`:"
            ]
        },
        {
            "cell_type": "code",
            "execution_count": 5,
            "metadata": {},
            "outputs": [],
            "source": [
                "my_subset[0] = -99"
            ]
        },
        {
            "cell_type": "markdown",
            "metadata": {},
            "source": [
                "Since the first entry in `my_subset` is just a reference to the second entry in `my_vector`, the change I made to `my_subset` will also propagate to `my_vector`:"
            ]
        },
        {
            "cell_type": "code",
            "execution_count": 6,
            "metadata": {},
            "outputs": [
                {
                    "data": {
                        "text/plain": [
                            "array([  1, -99,   3,   4])"
                        ]
                    },
                    "execution_count": 6,
                    "metadata": {},
                    "output_type": "execute_result"
                }
            ],
            "source": [
                "my_vector"
            ]
        },
        {
            "cell_type": "markdown",
            "metadata": {},
            "source": [
                "And just as edits to `my_subset` will propagate to `my_vector`, so too will edits to `my_vector` propagate forward to `my_subset`:"
            ]
        },
        {
            "cell_type": "code",
            "execution_count": 29,
            "metadata": {},
            "outputs": [
                {
                    "data": {
                        "text/plain": [
                            "array([-99,  42])"
                        ]
                    },
                    "execution_count": 29,
                    "metadata": {},
                    "output_type": "execute_result"
                }
            ],
            "source": [
                "my_vector[2] = 42\n",
                "my_subset"
            ]
        },
        {
            "cell_type": "markdown",
            "metadata": {},
            "source": [
                "### Why? Why Would Numpy Do This?\n",
                "\n",
                "It is not uncommon, when they are first introduced to this behavior, for students to feel a little betrayed by numpy. \"*Why*,\" they ask, \"why would numpy do something that makes it so much harder to keep track of the consequences of changes I make to my data?\"\n",
                "\n",
                "The short answer, as with most things in numpy, is that it's all about speed. Creating a new copy of the data contained in the subset of a vector takes time, and so creating *views* instead of copies makes numpy faster."
            ]
        },
        {
            "cell_type": "markdown",
            "metadata": {},
            "source": [
                "## When do I get a view, and when do I get a copy?\n",
                "\n",
                "Because numpy will *usually* create views when you subset a vector, and changes to views will propagate to the vectors associated with other variables, it's really important to keep track of when the object you're working with is a copy. \n",
                "\n",
                "Which brings us to the next slightly frustrating thing about numpy: the way that you ask for a subset will determine whether you get a view or a copy.\n",
                "\n",
                "\n",
                "### Views and Copies from Subsetting\n",
                "\n",
                "Generally speaking, **numpy will give you a *view* if you ask for a simple slice of an array,** but it will provide a *copy* if you use any other methods. A \"simple slice\" is when you pass a single index, or a range of indices separated by a `:`. So `my_vector[2]` is a simple slice, and so it `my_vector[2:4]`.\n",
                "\n",
                "So, for example, this slice returns a view:"
            ]
        },
        {
            "cell_type": "code",
            "execution_count": 18,
            "metadata": {},
            "outputs": [
                {
                    "data": {
                        "text/plain": [
                            "array([2, 3])"
                        ]
                    },
                    "execution_count": 18,
                    "metadata": {},
                    "output_type": "execute_result"
                }
            ],
            "source": [
                "my_array = np.array([1, 2, 3])\n",
                "my_slice = my_array[1:3]\n",
                "my_slice"
            ]
        },
        {
            "cell_type": "code",
            "execution_count": 19,
            "metadata": {},
            "outputs": [
                {
                    "data": {
                        "text/plain": [
                            "array([ 1, -1,  3])"
                        ]
                    },
                    "execution_count": 19,
                    "metadata": {},
                    "output_type": "execute_result"
                }
            ],
            "source": [
                "my_slice[0] = -1\n",
                "my_array"
            ]
        },
        {
            "cell_type": "markdown",
            "metadata": {},
            "source": [
                "But if you ask for a subset any other way—such as with \"fancy indexing\" (where you pass a list when making your slice) or Boolean subsetting—you will NOT get a view, you will get a copy. As a result, changes made to your subset will not propagate back to `my_array`:"
            ]
        },
        {
            "cell_type": "code",
            "execution_count": 23,
            "metadata": {},
            "outputs": [
                {
                    "data": {
                        "text/plain": [
                            "array([1, 2, 3])"
                        ]
                    },
                    "execution_count": 23,
                    "metadata": {},
                    "output_type": "execute_result"
                }
            ],
            "source": [
                "my_array = np.array([1, 2, 3])\n",
                "my_slice = my_array[[1,2]]\n",
                "my_slice[0] = -1\n",
                "my_array"
            ]
        },
        {
            "cell_type": "code",
            "execution_count": 24,
            "metadata": {},
            "outputs": [
                {
                    "data": {
                        "text/plain": [
                            "array([1, 2, 3])"
                        ]
                    },
                    "execution_count": 24,
                    "metadata": {},
                    "output_type": "execute_result"
                }
            ],
            "source": [
                "my_array = np.array([1, 2, 3])\n",
                "my_slice = my_array[my_array >= 2]\n",
                "my_slice[0] = -1\n",
                "my_array"
            ]
        },
        {
            "cell_type": "markdown",
            "metadata": {},
            "source": [
                "### Views and Copies When Editing"
            ]
        },
        {
            "cell_type": "markdown",
            "metadata": {},
            "source": [
                "We established above that numpy will only return a view when you subset with simple slices, but not when you use fancy indexing or Boolean subsetting. \n",
                "\n",
                "But it's also important to understand what types of modifications of a view will result in changes that propagate back to the original array. \n",
                "\n",
                "But if you modify a view with a simple slice on the left-hand side of the assignment indicator (e.g., `my_slice[0] = ...` or `my_slice[0:2] = ...`), that change will propagate back to the original array (`my_array`).\n",
                "\n",
                "But if we modify our vector and assign it to `my_slice` *without* that simple slice on the left-hand side of the assignment operator, numpy will actually just create a new vector and assign it to the variable, not modify entries in our current vector. So in the following example, when numpy sees `my_slice * 2` it just creates a new vector with values equal to double the values in `my_slice`, then assigns that vector to the variable `my_slice`—it doesn't modify the data originally associated with `my_slice` (which is the same data underlying `my_array`):"
            ]
        },
        {
            "cell_type": "code",
            "execution_count": 25,
            "metadata": {},
            "outputs": [
                {
                    "data": {
                        "text/plain": [
                            "array([4, 6])"
                        ]
                    },
                    "execution_count": 25,
                    "metadata": {},
                    "output_type": "execute_result"
                }
            ],
            "source": [
                "my_array = np.array([1, 2, 3])\n",
                "my_slice = my_array[1:3]\n",
                "my_slice = my_slice * 2\n",
                "my_slice"
            ]
        },
        {
            "cell_type": "code",
            "execution_count": 26,
            "metadata": {},
            "outputs": [
                {
                    "data": {
                        "text/plain": [
                            "array([1, 2, 3])"
                        ]
                    },
                    "execution_count": 26,
                    "metadata": {},
                    "output_type": "execute_result"
                }
            ],
            "source": [
                "my_array"
            ]
        },
        {
            "cell_type": "markdown",
            "metadata": {},
            "source": [
                "If you want ever do want to do a full-array manipulation and preserve your view, you can just use square brackets on the left side of the assignment operator with just `:`:"
            ]
        },
        {
            "cell_type": "code",
            "execution_count": 27,
            "metadata": {},
            "outputs": [
                {
                    "data": {
                        "text/plain": [
                            "array([4, 6])"
                        ]
                    },
                    "execution_count": 27,
                    "metadata": {},
                    "output_type": "execute_result"
                }
            ],
            "source": [
                "my_array = np.array([1, 2, 3])\n",
                "my_slice = my_array[1:3]\n",
                "my_slice[:] = my_slice * 2\n",
                "my_slice"
            ]
        },
        {
            "cell_type": "code",
            "execution_count": 28,
            "metadata": {},
            "outputs": [
                {
                    "data": {
                        "text/plain": [
                            "array([1, 4, 6])"
                        ]
                    },
                    "execution_count": 28,
                    "metadata": {},
                    "output_type": "execute_result"
                }
            ],
            "source": [
                "my_array"
            ]
        },
        {
            "cell_type": "markdown",
            "metadata": {},
            "source": [
                "## Making a Copy"
            ]
        },
        {
            "cell_type": "markdown",
            "metadata": {},
            "source": [
                "Of course, this type of propagating behavior is not always desirable, and so if one wishes to pull a subset of a vector (or array) that is a full copy and not a view, one can just use the `.copy()` method:"
            ]
        },
        {
            "cell_type": "code",
            "execution_count": 14,
            "metadata": {},
            "outputs": [
                {
                    "data": {
                        "text/plain": [
                            "array([2, 3])"
                        ]
                    },
                    "execution_count": 14,
                    "metadata": {},
                    "output_type": "execute_result"
                }
            ],
            "source": [
                "my_vector = np.array([1, 2, 3, 4])\n",
                "my_subset = my_vector[1:3].copy()\n",
                "my_subset"
            ]
        },
        {
            "cell_type": "code",
            "execution_count": 15,
            "metadata": {},
            "outputs": [
                {
                    "data": {
                        "text/plain": [
                            "array([-99,   3])"
                        ]
                    },
                    "execution_count": 15,
                    "metadata": {},
                    "output_type": "execute_result"
                }
            ],
            "source": [
                "my_subset[0] = -99\n",
                "my_subset"
            ]
        },
        {
            "cell_type": "code",
            "execution_count": 16,
            "metadata": {},
            "outputs": [
                {
                    "data": {
                        "text/plain": [
                            "array([1, 2, 3, 4])"
                        ]
                    },
                    "execution_count": 16,
                    "metadata": {},
                    "output_type": "execute_result"
                }
            ],
            "source": [
                "my_vector"
            ]
        },
        {
            "cell_type": "markdown",
            "metadata": {},
            "source": [
                "## Checking If An Array is a View or Copy\n",
                "\n",
                "In all the examples above, I showed whether we were working with a view or a copy by making an edit to the array in question and then looking at whether the original data had changed. But surely there's a more direct way to check if an array is a view or a copy, right?!\n",
                "\n",
                "Well... kind of. But... well, it gets really complicated. In fact, it gets so complicated that we don't actually think it's worth learning. So if you're just curious, please read on, but **don't feel like you need to wrestle with what follows if you don't want to!**\n",
                "\n",
                "All numpy arrays have a property called `.base` which points back to the original data it references. If you ask for `.base` (e.g., `my_array.base`) and you get back `None`, then you can be confident that what you're working with is not a view of a different array:"
            ]
        },
        {
            "cell_type": "code",
            "execution_count": 31,
            "metadata": {},
            "outputs": [
                {
                    "data": {
                        "text/plain": [
                            "True"
                        ]
                    },
                    "execution_count": 31,
                    "metadata": {},
                    "output_type": "execute_result"
                }
            ],
            "source": [
                "my_vector = np.array([1, 2, 3, 4])\n",
                "my_vector.base is None"
            ]
        },
        {
            "cell_type": "markdown",
            "metadata": {},
            "source": [
                "*But* that doesn't mean that there aren't other arrays that are views of `my_vector` which, if edited, would change `my_vector`, or that edits to `my_vector` wouldn't impact other arrays that are views of `my_vector`!"
            ]
        },
        {
            "cell_type": "code",
            "execution_count": 32,
            "metadata": {},
            "outputs": [
                {
                    "data": {
                        "text/plain": [
                            "array([-99,   2,   3,   4])"
                        ]
                    },
                    "execution_count": 32,
                    "metadata": {},
                    "output_type": "execute_result"
                }
            ],
            "source": [
                "my_slice = my_vector[0:2]\n",
                "my_slice[0] = -99\n",
                "my_vector"
            ]
        },
        {
            "cell_type": "markdown",
            "metadata": {},
            "source": [
                "So yes, if you create a new array and immediately check `.base`, then if it is `None` then you know you just created a copy. \n",
                "\n",
                "But it isn't necessarily the case that if `.base` is *not* `None` that you need to worry. While finding that `.base` is not `None` does mean you're working with a view, it's possible that nothing else points to the original underlying data, and so changes to your array can't impact anything else (and no changes elsewhere in your code). \n",
                "\n",
                "To illustrate, consider the following example:"
            ]
        },
        {
            "cell_type": "code",
            "execution_count": 34,
            "metadata": {},
            "outputs": [
                {
                    "data": {
                        "text/plain": [
                            "True"
                        ]
                    },
                    "execution_count": 34,
                    "metadata": {},
                    "output_type": "execute_result"
                }
            ],
            "source": [
                "my_vector = np.array([1, 2, 3, 4])\n",
                "my_vector.base is None"
            ]
        },
        {
            "cell_type": "code",
            "execution_count": 35,
            "metadata": {},
            "outputs": [
                {
                    "data": {
                        "text/plain": [
                            "False"
                        ]
                    },
                    "execution_count": 35,
                    "metadata": {},
                    "output_type": "execute_result"
                }
            ],
            "source": [
                "my_vector = my_vector[2:4]\n",
                "my_vector.base is None"
            ]
        },
        {
            "cell_type": "markdown",
            "metadata": {},
            "source": [
                "Here we created an array with values 1, 2, 3, and 4, then subset the third and fourth entries. This subset is a view of the original data, and so `.base` is not `None`. But because we assigned the subset back to the vector `my_vector`, while that original array of 1, 2, 3, and 4 still exists in memory, nothing can access it except through the variable `my_vector`, and so you don't have to worry about any changes elsewhere in your code propagating to `my_vector` even if it technically is a view."
            ]
        }
    ],
    "metadata": {
        "interpreter": {
            "hash": "3e0a5228cb9726a24d36227c69ed0d3aac98cecda769d1c9adb080711d57f90d"
        },
        "kernelspec": {
            "display_name": "R",
            "language": "python",
            "name": "python3"
        },
        "language_info": {
            "codemirror_mode": {
                "name": "ipython",
                "version": 3
            },
            "file_extension": ".py",
            "mimetype": "text/x-python",
            "name": "python",
            "nbconvert_exporter": "python",
            "pygments_lexer": "ipython3",
            "version": "3.9.7"
        },
        "orig_nbformat": 4
    },
    "nbformat": 4,
    "nbformat_minor": 2
}
