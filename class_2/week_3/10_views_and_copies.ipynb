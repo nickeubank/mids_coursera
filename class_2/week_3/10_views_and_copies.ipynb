{
    "cells": [
        {
            "cell_type": "markdown",
            "metadata": {},
            "source": [
                "# Views and Copies\n",
                "\n",
                "In our previous reading, we talked about how we could not just look at subsets of vectors, but also store those subsets in a new variable. For example, we could make a short vector with 4 entries, then store the middle two entries in a new vector `my_subset`:"
            ]
        },
        {
            "cell_type": "code",
            "execution_count": 5,
            "metadata": {},
            "outputs": [
                {
                    "data": {
                        "text/plain": [
                            "array([1, 2, 3, 4])"
                        ]
                    },
                    "execution_count": 5,
                    "metadata": {},
                    "output_type": "execute_result"
                }
            ],
            "source": [
                "import numpy as np\n",
                "my_vector = np.array([1, 2, 3, 4])\n",
                "my_vector"
            ]
        },
        {
            "cell_type": "code",
            "execution_count": 6,
            "metadata": {},
            "outputs": [
                {
                    "data": {
                        "text/plain": [
                            "array([2, 3])"
                        ]
                    },
                    "execution_count": 6,
                    "metadata": {},
                    "output_type": "execute_result"
                }
            ],
            "source": [
                "my_subset = my_vector[1:3]\n",
                "my_subset"
            ]
        },
        {
            "cell_type": "markdown",
            "metadata": {},
            "source": [
                "Now, at the time, we drew a picture that looked like this:\n",
                "\n",
                "![subset to new var](../week_2/img/vector_subsetting1.png)\n",
                "![subset to new var](../week_2/img/vector_subsetting2.png)\n",
                "![subset to new var](../week_2/img/vector_subsetting3.png)\n",
                "\n",
                "And that was *close* to the truth about what was going on, but it wasn't quite the *full* truth. \n",
                "\n",
                "The reality is that when we create a subset in numpy and assign it to a new variable, what is *actually* happening is not that the variable is being assigned a copy of the value of the subset, but rather the variable is being assigned a *reference* to the subset, something that looks more like this:\n",
                "\n",
                "[new image with referring arrow]\n",
                "\n",
                "When numpy creates a reference to a subset of an existing array, that reference is called a *view*, because it's not a copy of the data in the original array, but an easy way to referring back to the original array -- it provides a *view* onto a subset of the original array. \n",
                "\n",
                "Why is this distinction important? It's important because it means that both variables -- `my_vector` and `my_subset` are actually both referencing the same data, and so changes make through one variable will propagate to the other. \n",
                "\n",
                "For example, if I change the first entry in `my_subset`, it will of course change what I see with `my_subset`:"
            ]
        },
        {
            "cell_type": "code",
            "execution_count": 7,
            "metadata": {},
            "outputs": [
                {
                    "data": {
                        "text/plain": [
                            "array([-99,   3])"
                        ]
                    },
                    "execution_count": 7,
                    "metadata": {},
                    "output_type": "execute_result"
                }
            ],
            "source": [
                "my_subset[0] = -99\n",
                "my_subset"
            ]
        },
        {
            "cell_type": "markdown",
            "metadata": {},
            "source": [
                "But since the first entry in `my_subset` is just a reference to the second entry in `my_vector`, the change I made to `my_subset` will also propagate to `my_vector`:"
            ]
        },
        {
            "cell_type": "code",
            "execution_count": 8,
            "metadata": {},
            "outputs": [
                {
                    "data": {
                        "text/plain": [
                            "array([  1, -99,   3,   4])"
                        ]
                    },
                    "execution_count": 8,
                    "metadata": {},
                    "output_type": "execute_result"
                }
            ],
            "source": [
                "my_vector"
            ]
        },
        {
            "cell_type": "markdown",
            "metadata": {},
            "source": [
                "### Why? Why Would Numpy Do This?\n",
                "\n",
                "The short answer is, as with most things in numpy, speed. Creating a new copy of the data contained in the subset of a vector takes time, and so creating views as numpy's default behavior makes numpy faster."
            ]
        },
        {
            "cell_type": "markdown",
            "metadata": {},
            "source": [
                "## When do you get a view, and when do you get a copy?\n",
                "\n",
                "OK, now the *really* annoying thing: when do I get a view, and when do I get a copy?\n",
                "\n",
                "Generally speaking: \n",
                "\n",
                "- **you get a view if you do a plain, basic slice of an array,** and \n",
                "- **the view remains a view if you edit it by modifying it using basic indexing (i.e. you use `[]` on the left side of the assignment operator).** \n",
                "\n",
                "Outside of those two behaviors, you will usually get a copy. \n",
                "\n",
                "So, for example, this slice will get you a view:"
            ]
        },
        {
            "cell_type": "code",
            "execution_count": null,
            "metadata": {},
            "outputs": [
                {
                    "data": {
                        "text/plain": [
                            "array([ 1, -1,  3])"
                        ]
                    },
                    "metadata": {},
                    "output_type": "display_data"
                }
            ],
            "source": [
                "my_array = np.array([1, 2, 3])\n",
                "my_slice = my_array[1:3]\n",
                "my_slice[0] = -1\n",
                "my_array"
            ]
        },
        {
            "cell_type": "markdown",
            "metadata": {},
            "source": [
                "But if you use \"fancy indexing\" (where you pass a list when making your slice), you will NOT get a view:"
            ]
        },
        {
            "cell_type": "code",
            "execution_count": null,
            "metadata": {},
            "outputs": [
                {
                    "data": {
                        "text/plain": [
                            "array([1, 2, 3])"
                        ]
                    },
                    "metadata": {},
                    "output_type": "display_data"
                }
            ],
            "source": [
                "my_array = np.array([1, 2, 3])\n",
                "my_slice = my_array[[1,2]]\n",
                "my_slice[0] = -1\n",
                "my_array"
            ]
        },
        {
            "cell_type": "markdown",
            "metadata": {},
            "source": [
                "Similarly, if you edit using basic indexing (like we did above), those edits will propogate from the slice back to the originally array (or the other way around). \n",
                "\n",
                "But if you modify a slice without using basic indexing, you get a copy, so changes won't propagate:"
            ]
        },
        {
            "cell_type": "code",
            "execution_count": null,
            "metadata": {},
            "outputs": [
                {
                    "data": {
                        "text/plain": [
                            "array([4, 6])"
                        ]
                    },
                    "metadata": {},
                    "output_type": "display_data"
                }
            ],
            "source": [
                "my_array = np.array([1, 2, 3])\n",
                "my_slice = my_array[1:3]\n",
                "my_slice = my_slice * 2\n",
                "my_slice"
            ]
        },
        {
            "cell_type": "code",
            "execution_count": null,
            "metadata": {},
            "outputs": [
                {
                    "data": {
                        "text/plain": [
                            "array([1, 2, 3])"
                        ]
                    },
                    "metadata": {},
                    "output_type": "display_data"
                }
            ],
            "source": [
                "my_array"
            ]
        },
        {
            "cell_type": "markdown",
            "metadata": {},
            "source": [
                "(If you want to do a full-array manipulation and preserve your view, always use square brackets on the left side of the assignment operator (`=`):"
            ]
        },
        {
            "cell_type": "code",
            "execution_count": null,
            "metadata": {},
            "outputs": [
                {
                    "data": {
                        "text/plain": [
                            "array([4, 6])"
                        ]
                    },
                    "metadata": {},
                    "output_type": "display_data"
                }
            ],
            "source": [
                "my_array = np.array([1, 2, 3])\n",
                "my_slice = my_array[1:3]\n",
                "my_slice[:] = my_slice * 2\n",
                "my_slice"
            ]
        },
        {
            "cell_type": "code",
            "execution_count": null,
            "metadata": {},
            "outputs": [
                {
                    "data": {
                        "text/plain": [
                            "array([1, 4, 6])"
                        ]
                    },
                    "metadata": {},
                    "output_type": "display_data"
                }
            ],
            "source": [
                "my_array"
            ]
        },
        {
            "cell_type": "markdown",
            "metadata": {},
            "source": [
                "## Making a Copy"
            ]
        },
        {
            "cell_type": "markdown",
            "metadata": {},
            "source": [
                "Of course, this type of propagating behavior is not always desirable, and so if one wishes to pull a subset of a vector (or array) that is a full copy and not a view, one can just use the `.copy()` method:"
            ]
        },
        {
            "cell_type": "code",
            "execution_count": 15,
            "metadata": {},
            "outputs": [
                {
                    "data": {
                        "text/plain": [
                            "array([2, 3])"
                        ]
                    },
                    "execution_count": 15,
                    "metadata": {},
                    "output_type": "execute_result"
                }
            ],
            "source": [
                "my_vector = np.array([1, 2, 3, 4])\n",
                "my_subset = my_vector[1:3].copy()\n",
                "my_subset"
            ]
        },
        {
            "cell_type": "code",
            "execution_count": 16,
            "metadata": {},
            "outputs": [
                {
                    "data": {
                        "text/plain": [
                            "array([-99,   3])"
                        ]
                    },
                    "execution_count": 16,
                    "metadata": {},
                    "output_type": "execute_result"
                }
            ],
            "source": [
                "my_subset[0] = -99\n",
                "my_subset"
            ]
        },
        {
            "cell_type": "code",
            "execution_count": 17,
            "metadata": {},
            "outputs": [
                {
                    "data": {
                        "text/plain": [
                            "array([1, 2, 3, 4])"
                        ]
                    },
                    "execution_count": 17,
                    "metadata": {},
                    "output_type": "execute_result"
                }
            ],
            "source": [
                "my_vector"
            ]
        }
    ],
    "metadata": {
        "interpreter": {
            "hash": "3e0a5228cb9726a24d36227c69ed0d3aac98cecda769d1c9adb080711d57f90d"
        },
        "kernelspec": {
            "display_name": "R",
            "language": "python",
            "name": "python3"
        },
        "language_info": {
            "codemirror_mode": {
                "name": "ipython",
                "version": 3
            },
            "file_extension": ".py",
            "mimetype": "text/x-python",
            "name": "python",
            "nbconvert_exporter": "python",
            "pygments_lexer": "ipython3",
            "version": "3.9.7"
        },
        "orig_nbformat": 4
    },
    "nbformat": 4,
    "nbformat_minor": 2
}
