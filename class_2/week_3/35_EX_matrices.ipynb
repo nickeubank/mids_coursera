{
    "cells": [
        {
            "cell_type": "markdown",
            "metadata": {},
            "source": [
                "# Matrix Exercises\n",
                "\n",
                "For the following matrix manipulation exercises, begin by building the following matrix (you'll probably want to just copy-paste this code), which we can imagine is a survey of age, education and income:"
            ]
        },
        {
            "cell_type": "code",
            "execution_count": 1,
            "metadata": {},
            "outputs": [
                {
                    "data": {
                        "text/plain": [
                            "array([[ 22000,     20,     12],\n",
                            "       [ 65000,     35,     16],\n",
                            "       [ 19000,     55,     11],\n",
                            "       [110000,     35,     22],\n",
                            "       [ 14000,     21,     12],\n",
                            "       [     0,     56,      8],\n",
                            "       [ 35000,     42,     12]])"
                        ]
                    },
                    "execution_count": 1,
                    "metadata": {},
                    "output_type": "execute_result"
                }
            ],
            "source": [
                "import numpy as np\n",
                "\n",
                "svy = np.array(\n",
                "    [\n",
                "        [22_000, 20, 12],\n",
                "        [65_000, 35, 16],\n",
                "        [19_000, 55, 11],\n",
                "        [11_0000, 35, 22],\n",
                "        [14_000, 21, 12],\n",
                "        [0, 56, 8],\n",
                "        [35_000, 42, 12],\n",
                "    ]\n",
                ")\n",
                "svy\n"
            ]
        },
        {
            "cell_type": "markdown",
            "metadata": {},
            "source": [
                "## Exercise 1: Summarizing Data\n",
                "\n",
                "1. What is the average age of all respondents?\n",
                "2. What is the average income of respondents over 30?\n",
                "3. What is the average education of respondents with incomes above the average income for all respondents?\n",
                "\n",
                "## Exercise 2: Editing Data\n",
                "\n",
                "@Nick: this is going to run into a copy view problem...\n",
                "\n",
                "The US government is thinking about offering a 10,000 tax credit to anyone making less than 20,000 a year. \n",
                "\n",
                "Using `np.hstack`, add a new column to the matrix called \"after_tax_income\" populated with the incomes individuals will get *after* receiving the tax credit if they are eligible. Hint: you may wish to break this down into several steps."
            ]
        }
    ],
    "metadata": {
        "interpreter": {
            "hash": "3e0a5228cb9726a24d36227c69ed0d3aac98cecda769d1c9adb080711d57f90d"
        },
        "kernelspec": {
            "display_name": "R",
            "language": "python",
            "name": "python3"
        },
        "language_info": {
            "codemirror_mode": {
                "name": "ipython",
                "version": 3
            },
            "file_extension": ".py",
            "mimetype": "text/x-python",
            "name": "python",
            "nbconvert_exporter": "python",
            "pygments_lexer": "ipython3",
            "version": "3.9.7"
        },
        "orig_nbformat": 4
    },
    "nbformat": 4,
    "nbformat_minor": 2
}
