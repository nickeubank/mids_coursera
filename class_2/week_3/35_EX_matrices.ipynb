{
    "cells": [
        {
            "cell_type": "markdown",
            "metadata": {},
            "source": [
                "# Matrix Exercises\n",
                "\n",
                "For the following matrix manipulation exercises, begin by building the following matrix (you'll probably want to just copy-paste this code), which we can imagine is a survey of age, education and income:"
            ]
        },
        {
            "cell_type": "code",
            "execution_count": 1,
            "metadata": {},
            "outputs": [
                {
                    "data": {
                        "text/plain": [
                            "array([[ 22000,     20,     12],\n",
                            "       [ 65000,     35,     16],\n",
                            "       [ 19000,     55,     11],\n",
                            "       [110000,     35,     22],\n",
                            "       [ 14000,     21,     12],\n",
                            "       [     0,     56,      8],\n",
                            "       [ 35000,     42,     12]])"
                        ]
                    },
                    "execution_count": 1,
                    "metadata": {},
                    "output_type": "execute_result"
                }
            ],
            "source": [
                "import numpy as np\n",
                "\n",
                "svy = np.array(\n",
                "    [\n",
                "        [22_000, 20, 12],\n",
                "        [65_000, 35, 16],\n",
                "        [19_000, 55, 11],\n",
                "        [11_0000, 35, 22],\n",
                "        [14_000, 21, 12],\n",
                "        [0, 56, 8],\n",
                "        [35_000, 42, 12],\n",
                "    ]\n",
                ")\n",
                "svy"
            ]
        },
        {
            "cell_type": "markdown",
            "metadata": {},
            "source": [
                "## Exercise 1: Summarizing Data\n",
                "\n",
                "1. What is the average age of all respondents?\n",
                "2. What is the average income of respondents over 30?\n",
                "3. What is the average education of respondents with incomes above the average income for all respondents?\n",
                "\n",
                "## Exercise 2: Editing Data\n",
                "\n",
                "@Nick: this is going to run into a copy view problem...\n",
                "\n",
                "The US government is thinking about offering a 10,000 tax credit to anyone making less than 20,000 a year. \n",
                "\n",
                "To solve this problem, you'll want to use the `np.hstack` function. As detailed in the [numpy documentation](https://numpy.org/doc/stable/reference/generated/numpy.hstack.html) (seriously, go take a look—numpy documentation is really good and helpful!), `hstack` concatenates (\"stacks\") arrays horizontally to make new arrays. Just put the arrays you want to concatenate in a list (they must have the same number of rows!) and pass them to `hstack`:\n"
            ]
        },
        {
            "cell_type": "code",
            "execution_count": 2,
            "metadata": {},
            "outputs": [
                {
                    "data": {
                        "text/plain": [
                            "array([[1, 2, 3],\n",
                            "       [4, 5, 6]])"
                        ]
                    },
                    "execution_count": 2,
                    "metadata": {},
                    "output_type": "execute_result"
                }
            ],
            "source": [
                "import numpy as np\n",
                "array1 = np.array([[1, 2, 3], [4, 5, 6]])\n",
                "array1"
            ]
        },
        {
            "cell_type": "code",
            "execution_count": 3,
            "metadata": {},
            "outputs": [
                {
                    "data": {
                        "text/plain": [
                            "array([[-10, -11],\n",
                            "       [-98, -99]])"
                        ]
                    },
                    "execution_count": 3,
                    "metadata": {},
                    "output_type": "execute_result"
                }
            ],
            "source": [
                "array2 = np.array([[-10, -11], [-98, -99]])\n",
                "array2"
            ]
        },
        {
            "cell_type": "code",
            "execution_count": 5,
            "metadata": {},
            "outputs": [
                {
                    "data": {
                        "text/plain": [
                            "array([[  1,   2,   3, -10, -11],\n",
                            "       [  4,   5,   6, -98, -99]])"
                        ]
                    },
                    "execution_count": 5,
                    "metadata": {},
                    "output_type": "execute_result"
                }
            ],
            "source": [
                "np.hstack([array1, array2])"
            ]
        },
        {
            "cell_type": "markdown",
            "metadata": {},
            "source": [
                "(There's also a function called `np.vstack` to stack matrices or arrays vertically). \n",
                "\n",
                "Now use `hstack` to add a new column to the matrix called \"after_tax_income\" populated with the incomes individuals will get *after* receiving the tax credit if they are eligible. \n",
                "\n",
                "Hint: you will want to break this down into several steps."
            ]
        }
    ],
    "metadata": {
        "interpreter": {
            "hash": "3e0a5228cb9726a24d36227c69ed0d3aac98cecda769d1c9adb080711d57f90d"
        },
        "kernelspec": {
            "display_name": "R",
            "language": "python",
            "name": "python3"
        },
        "language_info": {
            "codemirror_mode": {
                "name": "ipython",
                "version": 3
            },
            "file_extension": ".py",
            "mimetype": "text/x-python",
            "name": "python",
            "nbconvert_exporter": "python",
            "pygments_lexer": "ipython3",
            "version": "3.9.7"
        },
        "orig_nbformat": 4
    },
    "nbformat": 4,
    "nbformat_minor": 2
}
