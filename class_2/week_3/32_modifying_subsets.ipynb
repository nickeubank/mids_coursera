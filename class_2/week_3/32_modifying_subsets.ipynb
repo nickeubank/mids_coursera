{
    "cells": [
        {
            "cell_type": "markdown",
            "metadata": {},
            "source": [
                "# Editing Subsets"
            ]
        },
        {
            "cell_type": "markdown",
            "metadata": {},
            "source": [
                "Sometimes we want to modify a *part* of a matrix. For example, suppose we were working with our survey data, and we want to multiple all the income values by `1.02` to adjust for inflation that has occurred since the survey. Obviously, if we just multiplied the matrix by `1.02`, we'd also modify things like education and age:"
            ]
        },
        {
            "cell_type": "code",
            "execution_count": 1,
            "metadata": {},
            "outputs": [
                {
                    "data": {
                        "text/plain": [
                            "array([[   20, 22000,    12],\n",
                            "       [   35, 65000,    16],\n",
                            "       [   55, 19000,    11],\n",
                            "       [   45, 35000,    12]])"
                        ]
                    },
                    "execution_count": 1,
                    "metadata": {},
                    "output_type": "execute_result"
                }
            ],
            "source": [
                "import numpy as np\n",
                "\n",
                "\n",
                "survey = np.array(\n",
                "    [[20, 22_000, 12], [35, 65_000, 16], [55, 19_000, 11], [45, 35_000, 12]]\n",
                ")\n",
                "\n",
                "survey"
            ]
        },
        {
            "cell_type": "code",
            "execution_count": 2,
            "metadata": {},
            "outputs": [
                {
                    "data": {
                        "text/plain": [
                            "array([[2.040e+01, 2.244e+04, 1.224e+01],\n",
                            "       [3.570e+01, 6.630e+04, 1.632e+01],\n",
                            "       [5.610e+01, 1.938e+04, 1.122e+01],\n",
                            "       [4.590e+01, 3.570e+04, 1.224e+01]])"
                        ]
                    },
                    "execution_count": 2,
                    "metadata": {},
                    "output_type": "execute_result"
                }
            ],
            "source": [
                "survey * 1.02"
            ]
        },
        {
            "cell_type": "markdown",
            "metadata": {},
            "source": [
                "What we can do instead is extract the column with income, modify it, then replace the old income column with our updated column:"
            ]
        },
        {
            "cell_type": "code",
            "execution_count": 3,
            "metadata": {},
            "outputs": [
                {
                    "data": {
                        "text/plain": [
                            "array([[   20, 22440,    12],\n",
                            "       [   35, 66300,    16],\n",
                            "       [   55, 19380,    11],\n",
                            "       [   45, 35700,    12]])"
                        ]
                    },
                    "execution_count": 3,
                    "metadata": {},
                    "output_type": "execute_result"
                }
            ],
            "source": [
                "income_column = survey[:, 1]  # Extract income\n",
                "adjusted_income = income_column * 1.02  # Adjust income\n",
                "survey[:, 1] = adjusted_income  # Replace income with new values!\n",
                "survey"
            ]
        },
        {
            "cell_type": "markdown",
            "metadata": {},
            "source": [
                "Or, if we wanted, we could actually do all this in one step:"
            ]
        },
        {
            "cell_type": "code",
            "execution_count": 4,
            "metadata": {},
            "outputs": [],
            "source": [
                "# Re-make survey so it hasn't been adjusted for inflation\n",
                "survey = np.array(\n",
                "    [[20, 22_000, 12], [35, 65_000, 16], [55, 19_000, 11], [45, 35_000, 12]]\n",
                ")"
            ]
        },
        {
            "cell_type": "code",
            "execution_count": 5,
            "metadata": {},
            "outputs": [
                {
                    "data": {
                        "text/plain": [
                            "array([[   20, 22440,    12],\n",
                            "       [   35, 66300,    16],\n",
                            "       [   55, 19380,    11],\n",
                            "       [   45, 35700,    12]])"
                        ]
                    },
                    "execution_count": 5,
                    "metadata": {},
                    "output_type": "execute_result"
                }
            ],
            "source": [
                "# Now adjust income in one step!\n",
                "survey[:, 1] = survey[:, 1] * 1.02\n",
                "survey"
            ]
        },
        {
            "cell_type": "markdown",
            "metadata": {},
            "source": [
                "And this is *especially* powerful if we subset on BOTH rows and columns. Suppose, for example, we wanted to see what people's incomes would look like if anyone who didn't finish high school (`education < 12`) got a tax credit of 10,000 dollars?"
            ]
        },
        {
            "cell_type": "code",
            "execution_count": 6,
            "metadata": {},
            "outputs": [],
            "source": [
                "survey[survey[:, 2] < 12, 1] = survey[survey[:, 2] < 12, 1] + 10000"
            ]
        },
        {
            "cell_type": "code",
            "execution_count": 7,
            "metadata": {},
            "outputs": [
                {
                    "data": {
                        "text/plain": [
                            "array([[   20, 22440,    12],\n",
                            "       [   35, 66300,    16],\n",
                            "       [   55, 29380,    11],\n",
                            "       [   45, 35700,    12]])"
                        ]
                    },
                    "execution_count": 7,
                    "metadata": {},
                    "output_type": "execute_result"
                }
            ],
            "source": [
                "survey"
            ]
        },
        {
            "cell_type": "markdown",
            "metadata": {},
            "source": [
                "And that's it! Now you're a matrix pro. "
            ]
        },
        {
            "cell_type": "markdown",
            "metadata": {},
            "source": [
                "## Exercises\n",
                "\n",
                "[TO DO]"
            ]
        }
    ],
    "metadata": {
        "interpreter": {
            "hash": "3e0a5228cb9726a24d36227c69ed0d3aac98cecda769d1c9adb080711d57f90d"
        },
        "kernelspec": {
            "display_name": "R",
            "language": "python",
            "name": "python3"
        },
        "language_info": {
            "codemirror_mode": {
                "name": "ipython",
                "version": 3
            },
            "file_extension": ".py",
            "mimetype": "text/x-python",
            "name": "python",
            "nbconvert_exporter": "python",
            "pygments_lexer": "ipython3",
            "version": "3.9.7"
        },
        "orig_nbformat": 4
    },
    "nbformat": 4,
    "nbformat_minor": 2
}
