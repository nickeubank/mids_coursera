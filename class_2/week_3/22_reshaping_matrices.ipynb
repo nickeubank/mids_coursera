{
    "cells": [
        {
            "cell_type": "markdown",
            "metadata": {},
            "source": [
                "# Folding and Reshaping Matrices"
            ]
        },
        {
            "cell_type": "markdown",
            "metadata": {},
            "source": [
                "To really understand arrays (be they vectors, matrices, or arrays with more dimensions), it helps to understand how arrays are actually conceptualized in numpy.\n",
                "\n",
                "In numpy, arrays are thought of as a one-dimensional string of entries + information about how that data should be \"folded\". The one dimensional vectors we've been working with, in other words, are just one dimensional strings of data + information saying they shouldn't be folded. A matrix is a one dimensional string of data that gets wrapped into rows and columns. That, in fact, is what is stored in `.shape` -- directions on how numpy should think about the data being wrapped.\n",
                "\n",
                "One consequence of this is that it's very easy to re-fold data in lots of different ways with `numpy`. For example, I can take a 4 x 3 matrix, and make it 3 x 4:"
            ]
        },
        {
            "cell_type": "code",
            "execution_count": 12,
            "metadata": {},
            "outputs": [
                {
                    "data": {
                        "text/plain": [
                            "array([[ 1,  2,  3],\n",
                            "       [ 4,  5,  6],\n",
                            "       [ 7,  8,  9],\n",
                            "       [10, 11, 12]])"
                        ]
                    },
                    "execution_count": 12,
                    "metadata": {},
                    "output_type": "execute_result"
                }
            ],
            "source": [
                "import numpy as np\n",
                "\n",
                "my_matrix = np.array([[1, 2, 3], [4, 5, 6], [7, 8, 9], [10, 11, 12]])\n",
                "my_matrix"
            ]
        },
        {
            "cell_type": "code",
            "execution_count": 13,
            "metadata": {},
            "outputs": [
                {
                    "data": {
                        "text/plain": [
                            "array([[ 1,  2,  3,  4],\n",
                            "       [ 5,  6,  7,  8],\n",
                            "       [ 9, 10, 11, 12]])"
                        ]
                    },
                    "execution_count": 13,
                    "metadata": {},
                    "output_type": "execute_result"
                }
            ],
            "source": [
                "my_matrix.reshape((3, 4))"
            ]
        },
        {
            "cell_type": "markdown",
            "metadata": {},
            "source": [
                "As you can see, numpy thinks of the data as all the numbers along one row (the first dimension) followed by the numbers in the second row, etc., and `reshape` is just changing where each row ends and where the next one begins. "
            ]
        },
        {
            "cell_type": "markdown",
            "metadata": {},
            "source": [
                "Indeed, we could even make our data 1 x 12:"
            ]
        },
        {
            "cell_type": "code",
            "execution_count": 14,
            "metadata": {},
            "outputs": [
                {
                    "data": {
                        "text/plain": [
                            "array([[ 1,  2,  3,  4,  5,  6,  7,  8,  9, 10, 11, 12]])"
                        ]
                    },
                    "execution_count": 14,
                    "metadata": {},
                    "output_type": "execute_result"
                }
            ],
            "source": [
                "my_matrix.reshape((1, 12))"
            ]
        },
        {
            "cell_type": "markdown",
            "metadata": {},
            "source": [
                "Numpy isn't limited to changing where each row ends and the next one begins, however; it can also change when one *dimension* ends and where the next one begins. So far we've only explicitly worked with 1 and 2 dimensional arrays, but as we noted before, arrays can organize data along arbitrarily many dimensions. We'll talk about this in detail later, but for the moment, let's just take a look at how we can use `reshape` to make our 2-dimensional matrix a 3-dimensional array (namely a 2 x 2 x 3 array):"
            ]
        },
        {
            "cell_type": "code",
            "execution_count": 15,
            "metadata": {},
            "outputs": [
                {
                    "data": {
                        "text/plain": [
                            "array([[[ 1,  2,  3],\n",
                            "        [ 4,  5,  6]],\n",
                            "\n",
                            "       [[ 7,  8,  9],\n",
                            "        [10, 11, 12]]])"
                        ]
                    },
                    "execution_count": 15,
                    "metadata": {},
                    "output_type": "execute_result"
                }
            ],
            "source": [
                "my_matrix.reshape((2, 2, 3))"
            ]
        },
        {
            "cell_type": "markdown",
            "metadata": {},
            "source": [
                "So remember: in numpy, an array is always just a string of data that is being folded, and the way the data is folded is indicated by `.shape`, and can always be changed with `.reshape()`."
            ]
        },
        {
            "cell_type": "markdown",
            "metadata": {},
            "source": [
                "### Reshape and arange"
            ]
        },
        {
            "cell_type": "markdown",
            "metadata": {},
            "source": [
                "One place this reshape trick can be very useful is in working with `np.arange()`. Unlike `ones` and `zeros`, to which you can pass the output dimensions you want, `np.arange()` will always return 1 dimensional data. That means that if you want a sequence of numbers in a matrix, you have to combine `np.arange()` with `.reshape()`:"
            ]
        },
        {
            "cell_type": "code",
            "execution_count": 16,
            "metadata": {},
            "outputs": [
                {
                    "data": {
                        "text/plain": [
                            "array([ 0,  1,  2,  3,  4,  5,  6,  7,  8,  9, 10, 11, 12, 13, 14, 15, 16,\n",
                            "       17, 18, 19])"
                        ]
                    },
                    "execution_count": 16,
                    "metadata": {},
                    "output_type": "execute_result"
                }
            ],
            "source": [
                "np.arange(20)"
            ]
        },
        {
            "cell_type": "code",
            "execution_count": 17,
            "metadata": {},
            "outputs": [
                {
                    "data": {
                        "text/plain": [
                            "array([[ 0,  1,  2,  3,  4],\n",
                            "       [ 5,  6,  7,  8,  9],\n",
                            "       [10, 11, 12, 13, 14],\n",
                            "       [15, 16, 17, 18, 19]])"
                        ]
                    },
                    "execution_count": 17,
                    "metadata": {},
                    "output_type": "execute_result"
                }
            ],
            "source": [
                "np.arange(20).reshape((4, 5))"
            ]
        },
        {
            "cell_type": "markdown",
            "metadata": {},
            "source": [
                "### Transpose\n",
                "\n",
                "OK, one other cool trick that's related to reshape that often comes up when working with `np.arange()`: `.transpose()`. The transpose of a matrix is what you get when you make rows into columns and columns into rows. For example:"
            ]
        },
        {
            "cell_type": "code",
            "execution_count": 18,
            "metadata": {},
            "outputs": [
                {
                    "data": {
                        "text/plain": [
                            "array([[1, 2, 3],\n",
                            "       [4, 5, 6]])"
                        ]
                    },
                    "execution_count": 18,
                    "metadata": {},
                    "output_type": "execute_result"
                }
            ],
            "source": [
                "my_matrix = np.array([[1, 2, 3], [4, 5, 6]])\n",
                "my_matrix"
            ]
        },
        {
            "cell_type": "code",
            "execution_count": 19,
            "metadata": {},
            "outputs": [
                {
                    "data": {
                        "text/plain": [
                            "array([[1, 4],\n",
                            "       [2, 5],\n",
                            "       [3, 6]])"
                        ]
                    },
                    "execution_count": 19,
                    "metadata": {},
                    "output_type": "execute_result"
                }
            ],
            "source": [
                "my_matrix.transpose()"
            ]
        },
        {
            "cell_type": "markdown",
            "metadata": {},
            "source": [
                "Transpose is often combined with `np.array()` and `.reshape()` because otherwise those two tools will always generate sequences that move across rows, then wrap to the next row:"
            ]
        },
        {
            "cell_type": "code",
            "execution_count": 20,
            "metadata": {},
            "outputs": [
                {
                    "data": {
                        "text/plain": [
                            "array([[0, 1, 2],\n",
                            "       [3, 4, 5]])"
                        ]
                    },
                    "execution_count": 20,
                    "metadata": {},
                    "output_type": "execute_result"
                }
            ],
            "source": [
                "np.arange(6).reshape((2, 3))"
            ]
        },
        {
            "cell_type": "markdown",
            "metadata": {},
            "source": [
                "So if you want your sequence to move down your *columns* instead of across your *rows*, you have to transpose your result:"
            ]
        },
        {
            "cell_type": "code",
            "execution_count": 21,
            "metadata": {},
            "outputs": [
                {
                    "data": {
                        "text/plain": [
                            "array([[0, 3],\n",
                            "       [1, 4],\n",
                            "       [2, 5]])"
                        ]
                    },
                    "execution_count": 21,
                    "metadata": {},
                    "output_type": "execute_result"
                }
            ],
            "source": [
                "np.arange(6).reshape((2, 3)).transpose()"
            ]
        },
        {
            "cell_type": "markdown",
            "metadata": {},
            "source": [
                "Indeed, `.transpose()` is so frequently used in numpy that you can call it with `.T`:"
            ]
        },
        {
            "cell_type": "code",
            "execution_count": 22,
            "metadata": {},
            "outputs": [
                {
                    "data": {
                        "text/plain": [
                            "array([[0, 3],\n",
                            "       [1, 4],\n",
                            "       [2, 5]])"
                        ]
                    },
                    "execution_count": 22,
                    "metadata": {},
                    "output_type": "execute_result"
                }
            ],
            "source": [
                "np.arange(6).reshape((2, 3)).T"
            ]
        },
        {
            "cell_type": "markdown",
            "metadata": {},
            "source": [
                "## Exercises \n",
                "\n",
                "[to do]"
            ]
        }
    ],
    "metadata": {
        "interpreter": {
            "hash": "3e0a5228cb9726a24d36227c69ed0d3aac98cecda769d1c9adb080711d57f90d"
        },
        "kernelspec": {
            "display_name": "R",
            "language": "python",
            "name": "python3"
        },
        "language_info": {
            "codemirror_mode": {
                "name": "ipython",
                "version": 3
            },
            "file_extension": ".py",
            "mimetype": "text/x-python",
            "name": "python",
            "nbconvert_exporter": "python",
            "pygments_lexer": "ipython3",
            "version": "3.9.7"
        },
        "orig_nbformat": 4
    },
    "nbformat": 4,
    "nbformat_minor": 2
}
