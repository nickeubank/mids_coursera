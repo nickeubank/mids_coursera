{
    "cells": [
        {
            "cell_type": "markdown",
            "metadata": {},
            "source": [
                "## Recap\n",
                "\n",
                "- Subsetting matrices is just like subsetting vectors, except with two entries between the square brackets: `[ , ]`.\n",
                "- The first entry in the square brackets relates to rows, the second to columns.\n",
                "- Like vectors, you can subset by index or boolean vector. \n",
                "- You can mix how you subset, and use a boolean for rows and a name for columns. \n",
                "- If you subset a row, or subset a column you get back a vector.\n",
                "- Subsetting on both rows and column allows you to edit matrices in very powerful ways. "
            ]
        }
    ],
    "metadata": {
        "interpreter": {
            "hash": "3e0a5228cb9726a24d36227c69ed0d3aac98cecda769d1c9adb080711d57f90d"
        },
        "kernelspec": {
            "display_name": "R",
            "language": "python",
            "name": "python3"
        },
        "language_info": {
            "codemirror_mode": {
                "name": "ipython",
                "version": 3
            },
            "file_extension": ".py",
            "mimetype": "text/x-python",
            "name": "python",
            "nbconvert_exporter": "python",
            "pygments_lexer": "ipython3",
            "version": "3.9.7"
        },
        "orig_nbformat": 4
    },
    "nbformat": 4,
    "nbformat_minor": 2
}
