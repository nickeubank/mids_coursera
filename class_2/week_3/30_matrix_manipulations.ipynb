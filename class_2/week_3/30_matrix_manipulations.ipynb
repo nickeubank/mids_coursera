{
    "cells": [
        {
            "cell_type": "markdown",
            "metadata": {},
            "source": [
                "# Manipulating Matrices"
            ]
        },
        {
            "cell_type": "markdown",
            "metadata": {},
            "source": [
                "The great thing about matrices is that since they are just generalizations of vectors from one dimension to two, subsetting matrices works *almost* the same way it works with vectors. Basically, instead of subsetting by passing an index or a logical array into a set of square brackets (e.g. `[1]`), we just put a comma in those square brackets and specify a location with *two* indices / logical arrays (e.g. `[1, 1]`)."
            ]
        },
        {
            "cell_type": "markdown",
            "metadata": {},
            "source": [
                "## Subsetting by Index\n",
                "\n",
                "Suppose we have the following matrix:"
            ]
        },
        {
            "cell_type": "code",
            "execution_count": 1,
            "metadata": {},
            "outputs": [
                {
                    "data": {
                        "text/plain": [
                            "array([[ 0,  1,  2,  3],\n",
                            "       [ 4,  5,  6,  7],\n",
                            "       [ 8,  9, 10, 11]])"
                        ]
                    },
                    "execution_count": 1,
                    "metadata": {},
                    "output_type": "execute_result"
                }
            ],
            "source": [
                "import numpy as np\n",
                "\n",
                "our_matrix = np.arange(12).reshape((3, 4))\n",
                "our_matrix\n"
            ]
        },
        {
            "cell_type": "markdown",
            "metadata": {},
            "source": [
                "To subset, we just pass a location along the x-axis (rows) and a location along the y-axis (columns). For example, if we wanted the entry from the second row and third column (as always, remembering the first entry in each dimension has index `0`), we'd type:"
            ]
        },
        {
            "cell_type": "code",
            "execution_count": 2,
            "metadata": {},
            "outputs": [
                {
                    "data": {
                        "text/plain": [
                            "6"
                        ]
                    },
                    "execution_count": 2,
                    "metadata": {},
                    "output_type": "execute_result"
                }
            ],
            "source": [
                "our_matrix[1, 2]\n"
            ]
        },
        {
            "cell_type": "markdown",
            "metadata": {},
            "source": [
                "The one new thing is that if you want ALL entries along a specific dimension, you still put in a comma and type `:` for the dimension on which you want all observations. So if I wanted to second row, I'd just type:"
            ]
        },
        {
            "cell_type": "code",
            "execution_count": 4,
            "metadata": {},
            "outputs": [
                {
                    "data": {
                        "text/plain": [
                            "array([4, 5, 6, 7])"
                        ]
                    },
                    "execution_count": 4,
                    "metadata": {},
                    "output_type": "execute_result"
                }
            ],
            "source": [
                "our_matrix[1, :]\n"
            ]
        },
        {
            "cell_type": "markdown",
            "metadata": {},
            "source": [
                "Or if I wanted the third column, I'd type:"
            ]
        },
        {
            "cell_type": "code",
            "execution_count": 5,
            "metadata": {},
            "outputs": [
                {
                    "data": {
                        "text/plain": [
                            "array([ 2,  6, 10])"
                        ]
                    },
                    "execution_count": 5,
                    "metadata": {},
                    "output_type": "execute_result"
                }
            ],
            "source": [
                "our_matrix[:, 2]\n"
            ]
        },
        {
            "cell_type": "markdown",
            "metadata": {},
            "source": [
                "Note that if you pull out a subset of your matrix that is one dimensional, it just becomes a vector!"
            ]
        },
        {
            "cell_type": "markdown",
            "metadata": {},
            "source": [
                "Finally, just like with vectors, we can subset with ranges of indices if we want (remembering the final value in a range is NOT returned):"
            ]
        },
        {
            "cell_type": "code",
            "execution_count": 8,
            "metadata": {},
            "outputs": [
                {
                    "data": {
                        "text/plain": [
                            "array([[2, 3],\n",
                            "       [6, 7]])"
                        ]
                    },
                    "execution_count": 8,
                    "metadata": {},
                    "output_type": "execute_result"
                }
            ],
            "source": [
                "our_matrix[0:2, 2:4]\n"
            ]
        },
        {
            "cell_type": "markdown",
            "metadata": {},
            "source": [
                "## Subsetting with Logicals\n",
                "\n",
                "Subsetting with logical vectors also generalizes from vectors to matrices in the same way. To illustrate, let's go back to our toy matrix of survey responses where each row represents a different person, and the columns represent respondent age, income, and years of education:\n"
            ]
        },
        {
            "cell_type": "code",
            "execution_count": 9,
            "metadata": {},
            "outputs": [
                {
                    "data": {
                        "text/plain": [
                            "array([[   20, 22000,    12],\n",
                            "       [   35, 65000,    16],\n",
                            "       [   55, 19000,    11],\n",
                            "       [   45, 35000,    12]])"
                        ]
                    },
                    "execution_count": 9,
                    "metadata": {},
                    "output_type": "execute_result"
                }
            ],
            "source": [
                "import numpy as np\n",
                "\n",
                "survey = np.array(\n",
                "    [[20, 22_000, 12], [35, 65_000, 16], [55, 19_000, 11], [45, 35_000, 12]]\n",
                ")\n",
                "\n",
                "survey\n"
            ]
        },
        {
            "cell_type": "markdown",
            "metadata": {},
            "source": [
                "If we wanted to select all the rows where income was less than the US median income (about 64,000), we would first extract the income column, then create a logical column that's `TRUE` if income is below 65,000, then put that in the first position of our square brackets:"
            ]
        },
        {
            "cell_type": "code",
            "execution_count": 10,
            "metadata": {},
            "outputs": [
                {
                    "data": {
                        "text/plain": [
                            "array([22000, 65000, 19000, 35000])"
                        ]
                    },
                    "execution_count": 10,
                    "metadata": {},
                    "output_type": "execute_result"
                }
            ],
            "source": [
                "income = survey[:, 1]\n",
                "income\n"
            ]
        },
        {
            "cell_type": "code",
            "execution_count": 11,
            "metadata": {},
            "outputs": [
                {
                    "data": {
                        "text/plain": [
                            "array([ True, False,  True,  True])"
                        ]
                    },
                    "execution_count": 11,
                    "metadata": {},
                    "output_type": "execute_result"
                }
            ],
            "source": [
                "below_median = income < 64000\n",
                "below_median\n"
            ]
        },
        {
            "cell_type": "code",
            "execution_count": 12,
            "metadata": {},
            "outputs": [
                {
                    "data": {
                        "text/plain": [
                            "array([[   20, 22000,    12],\n",
                            "       [   55, 19000,    11],\n",
                            "       [   45, 35000,    12]])"
                        ]
                    },
                    "execution_count": 12,
                    "metadata": {},
                    "output_type": "execute_result"
                }
            ],
            "source": [
                "survey[below_median, :]\n"
            ]
        },
        {
            "cell_type": "markdown",
            "metadata": {},
            "source": [
                "Or, of course, we could do that all in one line instead of breaking out the steps:"
            ]
        },
        {
            "cell_type": "code",
            "execution_count": 13,
            "metadata": {},
            "outputs": [
                {
                    "data": {
                        "text/plain": [
                            "array([[   20, 22000,    12],\n",
                            "       [   55, 19000,    11],\n",
                            "       [   45, 35000,    12]])"
                        ]
                    },
                    "execution_count": 13,
                    "metadata": {},
                    "output_type": "execute_result"
                }
            ],
            "source": [
                "survey[survey[:, 1] < 64000, :]\n"
            ]
        },
        {
            "cell_type": "markdown",
            "metadata": {},
            "source": [
                "## Subsetting by Row and Column Simultaneously"
            ]
        },
        {
            "cell_type": "markdown",
            "metadata": {},
            "source": [
                "Often, we don't just want to subset rows or columns, but both at once. For example, suppose I wanted the education levels of everyone with incomes below the US median. I could do this in two steps by subsetting rows and then subsetting columns:"
            ]
        },
        {
            "cell_type": "code",
            "execution_count": 14,
            "metadata": {},
            "outputs": [
                {
                    "data": {
                        "text/plain": [
                            "array([12, 11, 12])"
                        ]
                    },
                    "execution_count": 14,
                    "metadata": {},
                    "output_type": "execute_result"
                }
            ],
            "source": [
                "below_median = survey[survey[:, 1] < 64000, :]\n",
                "below_median[:, 2]\n"
            ]
        },
        {
            "cell_type": "markdown",
            "metadata": {},
            "source": [
                "Or I can do it all in one command!"
            ]
        },
        {
            "cell_type": "code",
            "execution_count": 15,
            "metadata": {},
            "outputs": [
                {
                    "data": {
                        "text/plain": [
                            "array([12, 11, 12])"
                        ]
                    },
                    "execution_count": 15,
                    "metadata": {},
                    "output_type": "execute_result"
                }
            ],
            "source": [
                "survey[survey[:, 1] < 64000, 2]\n"
            ]
        },
        {
            "cell_type": "markdown",
            "metadata": {},
            "source": [
                "So what is the average education of people earning less than the median income in the US in our toy data?"
            ]
        },
        {
            "cell_type": "code",
            "execution_count": 16,
            "metadata": {},
            "outputs": [
                {
                    "data": {
                        "text/plain": [
                            "11.666666666666666"
                        ]
                    },
                    "execution_count": 16,
                    "metadata": {},
                    "output_type": "execute_result"
                }
            ],
            "source": [
                "np.mean(survey[survey[:, 1] < 64000, 2])\n"
            ]
        },
        {
            "cell_type": "markdown",
            "metadata": {},
            "source": [
                "OK -- I know we've just covered a lot, but hopefully that example makes clear how quickly we can start doing really, really powerful analyses and answering substantive questions *just by subsetting our data carefully.*"
            ]
        },
        {
            "cell_type": "markdown",
            "metadata": {},
            "source": [
                "### Naming Rows and Columns\n",
                "\n",
                "If you've worked with matrices or data frames in other languages, at this point you may be saying \"Why do I have to identify my columns by index?! Can't I give them nice, human-readable names?\" \n",
                "\n",
                "The answer is yes, numpy does provides some utilities for naming rows and columns. However, they're a little clunky, and so most people interested in being able to name their columns end up using a different library called *pandas* that will be the focus of one of our later courses. Pandas is a library that is built on top of numpy -- so it's really important we learn numpy before we learn pandas! -- and provides a lot of tools to make numpy easier to use, like the ability to easily give your columns human-readable names. "
            ]
        },
        {
            "cell_type": "markdown",
            "metadata": {},
            "source": [
                "## Using Subsets to Modify Data\n",
                "\n",
                "Sometimes we want to modify a *part* of a matrix. For example, suppose we were working with our survey data, and we want to multiple all the income values by `1.02` to adjust for inflation that has occurred since the survey. Obviously, if we just multiplied the matrix by `1.02`, we'd also modify things like education and age:"
            ]
        },
        {
            "cell_type": "code",
            "execution_count": 17,
            "metadata": {},
            "outputs": [
                {
                    "data": {
                        "text/plain": [
                            "array([[2.040e+01, 2.244e+04, 1.224e+01],\n",
                            "       [3.570e+01, 6.630e+04, 1.632e+01],\n",
                            "       [5.610e+01, 1.938e+04, 1.122e+01],\n",
                            "       [4.590e+01, 3.570e+04, 1.224e+01]])"
                        ]
                    },
                    "execution_count": 17,
                    "metadata": {},
                    "output_type": "execute_result"
                }
            ],
            "source": [
                "survey * 1.02\n"
            ]
        },
        {
            "cell_type": "markdown",
            "metadata": {},
            "source": [
                "What we can do instead is extract the column with income, modify it, then replace the old income column with our updated column:"
            ]
        },
        {
            "cell_type": "code",
            "execution_count": 18,
            "metadata": {},
            "outputs": [
                {
                    "data": {
                        "text/plain": [
                            "array([[   20, 22440,    12],\n",
                            "       [   35, 66300,    16],\n",
                            "       [   55, 19380,    11],\n",
                            "       [   45, 35700,    12]])"
                        ]
                    },
                    "execution_count": 18,
                    "metadata": {},
                    "output_type": "execute_result"
                }
            ],
            "source": [
                "income_column = survey[:, 1]  # Extract income\n",
                "adjusted_income = income_column * 1.02  # Adjust income\n",
                "survey[:, 1] = adjusted_income  # Replace income with new values!\n",
                "survey\n"
            ]
        },
        {
            "cell_type": "markdown",
            "metadata": {},
            "source": [
                "Or, if we wanted, we could actually do all this in one step:"
            ]
        },
        {
            "cell_type": "code",
            "execution_count": 19,
            "metadata": {},
            "outputs": [],
            "source": [
                "# Re-make survey so it hasn't been adjusted for inflation\n",
                "survey = np.array(\n",
                "    [[20, 22_000, 12], [35, 65_000, 16], [55, 19_000, 11], [45, 35_000, 12]]\n",
                ")\n"
            ]
        },
        {
            "cell_type": "code",
            "execution_count": 20,
            "metadata": {},
            "outputs": [
                {
                    "data": {
                        "text/plain": [
                            "array([[   20, 22440,    12],\n",
                            "       [   35, 66300,    16],\n",
                            "       [   55, 19380,    11],\n",
                            "       [   45, 35700,    12]])"
                        ]
                    },
                    "execution_count": 20,
                    "metadata": {},
                    "output_type": "execute_result"
                }
            ],
            "source": [
                "# Now adjust income in one step!\n",
                "survey[:, 1] = survey[:, 1] * 1.02\n",
                "survey\n"
            ]
        },
        {
            "cell_type": "markdown",
            "metadata": {},
            "source": [
                "And this is *especially* powerful if we subset on BOTH rows and columns. Suppose, for example, we wanted to see what people's incomes would look like if anyone who didn't finish high school (`education < 12`) got a tax credit of 10,000 dollars?"
            ]
        },
        {
            "cell_type": "code",
            "execution_count": 21,
            "metadata": {},
            "outputs": [],
            "source": [
                "survey[survey[:, 2] < 12, 1] = survey[survey[:, 2] < 12, 1] + 10000\n"
            ]
        },
        {
            "cell_type": "code",
            "execution_count": 22,
            "metadata": {},
            "outputs": [
                {
                    "data": {
                        "text/plain": [
                            "array([[   20, 22440,    12],\n",
                            "       [   35, 66300,    16],\n",
                            "       [   55, 29380,    11],\n",
                            "       [   45, 35700,    12]])"
                        ]
                    },
                    "execution_count": 22,
                    "metadata": {},
                    "output_type": "execute_result"
                }
            ],
            "source": [
                "survey\n"
            ]
        },
        {
            "cell_type": "markdown",
            "metadata": {},
            "source": [
                "And that's it! Now you're a matrix pro. "
            ]
        },
        {
            "cell_type": "markdown",
            "metadata": {},
            "source": [
                "## Recap\n",
                "\n",
                "- Subsetting matrices is just like subsetting vectors, except with two entries between the square brackets: `[ , ]`.\n",
                "- The first entry in the square brackets relates to rows, the second to columns.\n",
                "- Like vectors, you can subset by index or boolean vector. \n",
                "- You can mix how you subset, and use a boolean for rows and a name for columns. \n",
                "- If you subset a row, or subset a column you get back a vector.\n",
                "- Subsetting on both rows and column allows you to edit matrices in very powerful ways. "
            ]
        },
        {
            "cell_type": "markdown",
            "metadata": {},
            "source": [
                "## Exercises\n",
                "\n",
                "Now that we've familiarized ourselves with matrices and matrix manipulation, [it's time to do some exercises!](./exercises/exercise_matrices.ipynb)"
            ]
        }
    ],
    "metadata": {
        "interpreter": {
            "hash": "3e0a5228cb9726a24d36227c69ed0d3aac98cecda769d1c9adb080711d57f90d"
        },
        "kernelspec": {
            "display_name": "R",
            "language": "python",
            "name": "python3"
        },
        "language_info": {
            "codemirror_mode": {
                "name": "ipython",
                "version": 3
            },
            "file_extension": ".py",
            "mimetype": "text/x-python",
            "name": "python",
            "nbconvert_exporter": "python",
            "pygments_lexer": "ipython3",
            "version": "3.9.7"
        },
        "orig_nbformat": 4
    },
    "nbformat": 4,
    "nbformat_minor": 2
}
