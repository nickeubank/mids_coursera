{
    "cells": [
        {
            "cell_type": "markdown",
            "metadata": {},
            "source": [
                "## Vector Exercise 1: Favorite Numbers"
            ]
        },
        {
            "cell_type": "markdown",
            "metadata": {},
            "source": [
                "@Michael: I think I will either need to add another set of exercise before these, or modify them so that they are deterministic (i.e. don't let the students pick what the numbers are in the vector) so that I can set up an auto grader to provide the students with better feedback."
            ]
        },
        {
            "cell_type": "markdown",
            "metadata": {},
            "source": [
                "\n",
                "1. Make a vector called `my_favorite_numbers` with at least 6 of your favorite numbers.\n",
                "2. Use the `np.mean()` function to find out the average of your favorite numbers. \n",
                "3. How many numbers did you put in your vector? Find out using the `len` function!\n",
                "4. Create a vector will all the numbers from 1-10 *without* typing out all the numbers from 1 to 10 called `first_ten` (note I'm asking for all of the numbers from **1** to 10, not zero to 10).\n",
                "5. Now double all the values of `first_ten` in one operation.\n",
                "6. Now create a new variable by adding `first_ten` to itself."
            ]
        },
        {
            "cell_type": "markdown",
            "metadata": {},
            "source": [
                "## Vector Exercise 2: The US Income Distribution\n",
                "\n",
                "In these exercises, we will load and work with a vector they contains estimates of the total income (from all sources) of a random sample of Americans collected by the U.S. Census Bureau between 2015 and 2019.\n",
                "\n",
                "(Apologies to people who are not from the United States -- most of our users come from the US, so picking the United States seemed like the least bad option. However, if you are interested in completing these same exercises for your own country, head over to [IPUMS International](https://international.ipums.org/international/) to see if analogous income data has been made available by your country's Census Bureau. Simply click on the \"Browse Data\" button, then \"Select Sample\" in the top left to find the most recent data available for your country. Then see if you can find income data under the \"Select Harmonized Variables\" \"PERSON\" or \"HOUSEHOLD\" drop-down menus. Note that income data is hard to collect, so it's probably not available for most countries.)\n",
                "\n",
                "1. Estimate your own *household's* gross (pretax) income and write it down (we will be working with household gross income, so if multiple people in your household work add up their incomes.) \n",
                "   - If you aren't an American, head over to [this OECD website](https://data.oecd.org/conversion/purchasing-power-parities-ppp.htm) to find the Purchasing Power Parity (PPP) exchange-rate between your currency and the US dollar in 2019. Note that this exchange rate may be quite different from the official exchange rate -- [PPP is a method of calculating exchange rates](https://en.wikipedia.org/wiki/Purchasing_power_parity) that is meant to take into account differences in cost-of-living and labor across countries to generate an exchange rate that accurately reflects buying power.\n",
                "2. Now make a guess about what share of American households make more money than you.\n",
                "3. We are now going to load a vector of total incomes for a representative sample of US households between 2015 and 2019. Use the command `np.loadtxt(\"data/us_household_incomes.txt\")` to load the vector. Make sure to assign the result of that command to a new variable.\n",
                "4. What was the mean (average) household income in the United States between 2015 and 2019?\n",
                "5. What was the median household income in the United States during this period? (hint: if `np.mean()` returns the mean of a vector, you can probably guess how to get the median... :) ). The median income is the income of the household that earned more than 50% of American households, and earned less than 50% of American households.\n",
                "   -  You will notice that the median household income is significantly less than the average -- that's because there are a small amount of households in the US that earn a great deal of money and pull up the average.\n",
                "6. Now let's see if your impression of where *your* household sat in the US income distribution was correct! The function `np.percentile(v, p)` returns the value for which the percent of observations `p` in the vector `v` have values less than the return value. So for example, `np.percentile(incomes, 10)` will return the household income (if I named the vector that I got in question 3 `incomes`) that is greater than 10% of the values in `incomes` (and implicitly the income that is less than the income of the other ~90% of households). If you plug in the percentile that you guessed in question 2, does that look like your household's gross income? \n",
                "   - Odds are that you guessed that you are somewhere near the middle of the US income distribution, but that you are not -- this is actually [a well-documented sociological phenomenon!](https://www.theatlantic.com/politics/archive/2013/08/why-americans-all-believe-they-are-middle-class/278240/).\n",
                "7. Try out different percentiles until you find where *your* household fits into the US income distribution!"
            ]
        },
        {
            "cell_type": "markdown",
            "metadata": {},
            "source": []
        }
    ],
    "metadata": {
        "interpreter": {
            "hash": "3e0a5228cb9726a24d36227c69ed0d3aac98cecda769d1c9adb080711d57f90d"
        },
        "kernelspec": {
            "display_name": "R",
            "language": "python",
            "name": "python3"
        },
        "language_info": {
            "codemirror_mode": {
                "name": "ipython",
                "version": 3
            },
            "file_extension": ".py",
            "mimetype": "text/x-python",
            "name": "python",
            "nbconvert_exporter": "python",
            "pygments_lexer": "ipython3",
            "version": "3.9.7"
        },
        "orig_nbformat": 4
    },
    "nbformat": 4,
    "nbformat_minor": 2
}
