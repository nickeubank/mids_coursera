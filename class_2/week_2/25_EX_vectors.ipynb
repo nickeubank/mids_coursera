{
    "cells": [
        {
            "cell_type": "markdown",
            "metadata": {},
            "source": [
                "# Vector Exercise 1: Favorite Numbers"
            ]
        },
        {
            "cell_type": "markdown",
            "metadata": {},
            "source": [
                "\n",
                "1. Make a vector called `my_favorite_numbers` with at least 6 of your favorite numbers.\n",
                "2. Use the `np.mean()` function to find out the average of your favorite numbers. \n",
                "3. How many numbers did you put in your vector? Find out using the `len` function!\n",
                "4. Create a vector will all the numbers from 1-10 *without* typing out all the numbers from 1 to 10 called `first_ten` (note I'm asking for all of the numbers from **1** to 10, not zero to 10).\n",
                "5. Now double all the values of `first_ten` in one operation.\n",
                "6. Now create a new variable by adding `first_ten` to itself."
            ]
        },
        {
            "cell_type": "markdown",
            "metadata": {},
            "source": []
        }
    ],
    "metadata": {
        "kernelspec": {
            "display_name": "R",
            "name": "ir"
        },
        "language_info": {
            "name": "R"
        },
        "orig_nbformat": 4
    },
    "nbformat": 4,
    "nbformat_minor": 2
}
