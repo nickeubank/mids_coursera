{
    "cells": [
        {
            "cell_type": "markdown",
            "metadata": {},
            "source": [
                "# Vector Exercises: Working With Subsets"
            ]
        },
        {
            "cell_type": "markdown",
            "metadata": {},
            "source": [
                "## Income Inequality\n",
                "\n",
                "In these exercises, we will return to the vector with estimates of the total income (from all sources) of a random sample of American households collected by the U.S. Census Bureau between 2015 and 2019 as part of the American Community Survey (ACS).\n",
                "\n",
                "(As before, apologies to people who are not from the United States -- most of our users come from the US, so picking the United States seemed like the least bad option. However, if you are interested in completing these same exercises for your own country, head over to [IPUMS International](https://international.ipums.org/international/) to see if analogous income data has been made available by your country's Census Bureau. Simply click on the \"Browse Data\" button, then \"Select Sample\" in the top left to find the most recent data available for your country. Then see if you can find income data under the \"Select Harmonized Variables\" \"PERSON\" or \"HOUSEHOLD\" drop-down menus. Note that income data is hard to collect, so it's probably not available for most countries.)\n",
                "\n",
                "\n",
                "### Gini Index\n",
                "\n",
                "A standard measure of income inequality is the [Gini Index / Gini Coefficient](https://en.wikipedia.org/wiki/Gini_coefficient). The measure takes on a value of 0 when everyone in a population has the same income, and a value of 1 when all the income in population accrues to a single person.\n",
                "\n",
                "For discrete data, the definition of the Gini Index is given below -- if this type of notation is unfamiliar, don't worry! You don't need to understand it for the following exercises:\n",
                "\n",
                "$$Gini\\ Index = \\frac{2 \\sum_{i=1}^n i y_i}{n \\sum_{i=1}^n y_i} -\\frac{n+1}{n}$$\n",
                "\n",
                "Where $i$ is each households' rank ordering from poorest to richest, and $y_i$ is the income of household $i$. \n",
                "\n",
                "We can calculate the Gini Index from a vector of incomes with the following function:"
            ]
        },
        {
            "cell_type": "markdown",
            "metadata": {},
            "source": [
                "```python\n",
                "def gini(incomes):\n",
                "\n",
                "    # Get number of observations\n",
                "    n = len(incomes)\n",
                "\n",
                "    # Generate rankings i\n",
                "    sorted_incomes = np.sort(incomes)\n",
                "    ranks = np.arange(1, n + 1)\n",
                "    \n",
                "    # Top term of left part of equation\n",
                "    top = 2 * (sorted_incomes * ranks).sum()\n",
                "\n",
                "    # Bottom term of left part of equation\n",
                "    bottom = np.sum(sorted_incomes) * n\n",
                "\n",
                "    # Right part of equation\n",
                "    correction = (n + 1) / n\n",
                "\n",
                "    return top / bottom - correction\n",
                "```\n",
                "\n"
            ]
        },
        {
            "cell_type": "markdown",
            "metadata": {},
            "source": [
                "0. If you are familiar with the mathematical summation notation used in the definition of the Gini Index above, take a moment and see if you can work through how the function you have been given is doing the same thing laid out in the equation. This is an example of this style of programming called *vectorization* in which one works with vectors instead of writing out loops.\n",
                "1. Use the command `np.loadtxt(\"data/us_household_incomes.txt\")` to load the vector of incomes, and make sure to assign the result of that command to a new variable. \n",
                "2. The US poverty line is *about* $18,000 a year. What share of households in these data fall below the US poverty line?\n",
                "   - (I say \"about\" because the actual poverty line for household income depends on the number of people in the household, which we have not included in these data.)\n",
                "3. Using the `gini` function above, calculate the Gini Index of income inequality in the US. \n",
                "4. Go compare your estimate to that of [other countries here.](https://www.indexmundi.com/facts/indicators/SI.POV.GINI/rankings) (Note: in this table, estimated Gini values have been multiplied 100. In addition, as a result of sampling variation, income binning, differences in the exact methods used to calculate income, year of data, availability of data on top incomes, etc., your Gini for the US will be somewhat different from the Gini for the US in this table. It *should* be close to the data from the [US Census Bureau](https://www.statista.com/statistics/219643/gini-coefficient-for-us-individuals-families-and-households/)). How does the US compare to other countries? Is that what you expected? \n",
                "   - **Note:** The Gini Index of income is only one metric of inequality! Results would be very different if we were to calculate, for example, the ratio of the income of the top 0.1% of earners to the income of the lowest-earning 10% of the population, or if we calculated this metric using wealth instead of income!\n",
                "5. Congratulations! You have been hired by the President of the United States to advise them on their efforts to reduce income inequality. The first policy that the president has asked you to evaluate is whether income inequality would be decreased more by giving every household that makes less than $40,000 a check for $5,000 or giving every household that makes less than $30,000 a check for $7,000. Modify the household incomes in our data to reflect these policies and calculate the resulting Gini Indices. Which is more effective?\n",
                "   - **Note:** Vectors are mutable (like lists), so each time you want to modify the vector of incomes, first create a clean copy with the `.copy()` method (e.g. `experiment1 = income_vector.copy()`). \n",
                "6. Now the president would like to know whether income inequality can be reduced more through these transfers or by applying a tax of 5% to households making more than $250,000 and use the money to pay down the National Debt. (In other words, reduce the income of any households earning more than $250,000 by 5%.) Calculate the consequence of such a tax on the Gini Index. Would that policy be more or less effective than transfers to low earners?\n",
                "7. Now suppose we were thinking about applying a 5% tax to people making more than $250,000 and *evenly distributed that tax revenue* to households earning less than $30,000. To estimate the effective such a policy on inequality, first calculate the total amount of money that would be generated by this tax (i.e.the total amount that incomes have been decreased).\n",
                "   - **Note:** because these data are just a *sample* of households in the US, the quantity you calculate isn't the actual revenue such a tax would generate in the real world; if you want to calculate the real amount that would be raised, you can multiply the quantity you calculate by 137 (our data include about 1 out of every 137 households in the US).\n",
                "8. Now calculate the total number of households earning less than $30,000 in these data, and divide the revenue generated by the tax by the number of households earning less than $30,000. \n",
                "   - **Note:** this quantity *is* a good estimate of the amount of money that would be available for each household if we imposed this tax on the real world -- the revenue quantity you calculated in Question 7 was 1/137th the amount of revenue that would have been generated in the real world, but the number of households that earn less than $30,000 in these data are also 1/137th the number of households that earn that amount in the United States, so when we divide the revenue by the number of houses, those 1/137ths cancel out. \n",
                "9. Finally, update the incomes in our data *as if* we had enacted this policy -- reduce the incomes of households earning more than $250,000 by 5% and increase the incomes of households earning less than $30,000 by the quantity you estimated in Question 8. What is the resulting Gini Index?\n",
                "10. Now, suppose that you distributed the revenue generated with this tax evenly to all households earning less than $40,000. Would that have a larger or smaller effect on the Gini Index?\n",
                "11. If the President asked you whether you could better reduce inequality (as measured by the Gini Index) by re-distributing the tax revenue from taxing households earning more than $250,000 even to households earning less than $30,000 or households earning less than $40,000, which would you recommend?\n"
            ]
        },
        {
            "cell_type": "markdown",
            "metadata": {},
            "source": [
                "### Data Citation\n",
                "\n",
                "The ACS data used in this exercise are a subsample of the IPUMS USA data available from [usa.ipums.org.](usa.ipums.org)\n",
                "\n",
                "Please cite use of the data as follows: Steven Ruggles, Sarah Flood, Sophia Foster, Ronald Goeken, Jose Pacas, Megan Schouweiler and Matthew Sobek. IPUMS USA: Version 11.0 [dataset]. Minneapolis, MN: IPUMS, 2021. https://doi.org/10.18128/D010.V11.0\n",
                "\n",
                "These data are intended for this exercise only. Individuals analyzing the data for other purposes must submit a separate data extract request directly via IPUMS USA.\n",
                "\n",
                "Individuals are not to redistribute the data without permission. Contact ipums@umn.edu for redistribution requests."
            ]
        },
        {
            "cell_type": "markdown",
            "metadata": {},
            "source": [
                "## Solutions"
            ]
        },
        {
            "cell_type": "code",
            "execution_count": 1,
            "metadata": {},
            "outputs": [],
            "source": [
                "# Question 1\n",
                "\n",
                "import numpy as np\n",
                "incomes = np.loadtxt(\"data/us_household_incomes.txt\")\n"
            ]
        },
        {
            "cell_type": "code",
            "execution_count": 2,
            "metadata": {},
            "outputs": [
                {
                    "data": {
                        "text/plain": [
                            "0.12965475878097238"
                        ]
                    },
                    "execution_count": 2,
                    "metadata": {},
                    "output_type": "execute_result"
                }
            ],
            "source": [
                "# Question 2\n",
                "\n",
                "# This can be calculated a number of ways. Here are two:\n",
                "np.mean(incomes < 18_000)"
            ]
        },
        {
            "cell_type": "code",
            "execution_count": 3,
            "metadata": {},
            "outputs": [
                {
                    "data": {
                        "text/plain": [
                            "0.12965475878097238"
                        ]
                    },
                    "execution_count": 3,
                    "metadata": {},
                    "output_type": "execute_result"
                }
            ],
            "source": [
                "len(incomes[incomes < 18_000]) / len(incomes)"
            ]
        },
        {
            "cell_type": "code",
            "execution_count": 4,
            "metadata": {},
            "outputs": [
                {
                    "data": {
                        "text/plain": [
                            "0.4810920394460463"
                        ]
                    },
                    "execution_count": 4,
                    "metadata": {},
                    "output_type": "execute_result"
                }
            ],
            "source": [
                "# Question 3\n",
                "\n",
                "def gini(incomes):\n",
                "\n",
                "    # Get number of observations\n",
                "    n = len(incomes)\n",
                "\n",
                "    # Generate rankings i\n",
                "    sorted_incomes = np.sort(incomes)\n",
                "    ranks = np.arange(1, n + 1)\n",
                "    \n",
                "    # Top term of left part of equation\n",
                "    top = 2 * (sorted_incomes * ranks).sum()\n",
                "\n",
                "    # Bottom term of left part of equation\n",
                "    bottom = np.sum(sorted_incomes) * n\n",
                "\n",
                "    # Right part of equation\n",
                "    correction = (n + 1) / n\n",
                "\n",
                "    return top / bottom - correction\n",
                "\n",
                "gini(incomes)"
            ]
        },
        {
            "cell_type": "code",
            "execution_count": 5,
            "metadata": {},
            "outputs": [
                {
                    "data": {
                        "text/plain": [
                            "0.4602463578326137"
                        ]
                    },
                    "execution_count": 5,
                    "metadata": {},
                    "output_type": "execute_result"
                }
            ],
            "source": [
                "# Question 5\n",
                "\n",
                "experiment1 = incomes.copy()\n",
                "cutoff = 40_000\n",
                "experiment1[experiment1 < cutoff] = experiment1[experiment1 < cutoff] + 5_000\n",
                "gini(experiment1)"
            ]
        },
        {
            "cell_type": "code",
            "execution_count": 6,
            "metadata": {},
            "outputs": [
                {
                    "data": {
                        "text/plain": [
                            "0.4582816870668216"
                        ]
                    },
                    "execution_count": 6,
                    "metadata": {},
                    "output_type": "execute_result"
                }
            ],
            "source": [
                "# Could also be done with +=, but haven't shown that trick explicitly so not doing.\n",
                "\n",
                "experiment2 = incomes.copy()\n",
                "cutoff = 30_000\n",
                "experiment2[experiment2 < cutoff] = experiment2[experiment2 < cutoff] + 7_000\n",
                "gini(experiment2)\n",
                "\n",
                "# So the 7K to < 30_000 helps more. "
            ]
        },
        {
            "cell_type": "code",
            "execution_count": 7,
            "metadata": {},
            "outputs": [
                {
                    "data": {
                        "text/plain": [
                            "0.47561687501193584"
                        ]
                    },
                    "execution_count": 7,
                    "metadata": {},
                    "output_type": "execute_result"
                }
            ],
            "source": [
                "# Question 6\n",
                "\n",
                "experiment3 = incomes.copy()\n",
                "cutoff = 250_000\n",
                "experiment3[experiment3 > cutoff] = experiment3[experiment3 > cutoff] * 0.95\n",
                "gini(experiment3)\n"
            ]
        },
        {
            "cell_type": "code",
            "execution_count": 8,
            "metadata": {},
            "outputs": [],
            "source": [
                "# Well that barely did anything at all!"
            ]
        },
        {
            "cell_type": "code",
            "execution_count": 9,
            "metadata": {},
            "outputs": [
                {
                    "data": {
                        "text/plain": [
                            "929623340.85"
                        ]
                    },
                    "execution_count": 9,
                    "metadata": {},
                    "output_type": "execute_result"
                }
            ],
            "source": [
                "# Question 7\n",
                "experiment4 = incomes.copy()\n",
                "tax_cutoff = 250_000\n",
                "tax = 0.05\n",
                "\n",
                "# Calculate transfers\n",
                "tax_revenue = np.sum(tax * experiment4[experiment4 > tax_cutoff])\n",
                "tax_revenue\n"
            ]
        },
        {
            "cell_type": "code",
            "execution_count": 10,
            "metadata": {},
            "outputs": [
                {
                    "data": {
                        "text/plain": [
                            "4208.230382379836"
                        ]
                    },
                    "execution_count": 10,
                    "metadata": {},
                    "output_type": "execute_result"
                }
            ],
            "source": [
                "# Question 8\n",
                "\n",
                "credit_cutoff = 30_000\n",
                "num_hh_under_30k = np.sum(experiment4 < credit_cutoff)\n",
                "per_hh = tax_revenue / num_hh_under_30k\n",
                "per_hh\n"
            ]
        },
        {
            "cell_type": "code",
            "execution_count": 14,
            "metadata": {},
            "outputs": [
                {
                    "data": {
                        "text/plain": [
                            "0.4438414596083735"
                        ]
                    },
                    "execution_count": 14,
                    "metadata": {},
                    "output_type": "execute_result"
                }
            ],
            "source": [
                "# Question 9\n",
                "\n",
                "experiment4[experiment4 < credit_cutoff] = experiment4[experiment4 < credit_cutoff] + per_hh\n",
                "experiment4[experiment4 > tax_cutoff] = experiment4[experiment4 > tax_cutoff] * (1 - tax)\n",
                "gini(experiment4)"
            ]
        },
        {
            "cell_type": "code",
            "execution_count": 12,
            "metadata": {},
            "outputs": [
                {
                    "data": {
                        "text/plain": [
                            "3065.8580323397687"
                        ]
                    },
                    "execution_count": 12,
                    "metadata": {},
                    "output_type": "execute_result"
                }
            ],
            "source": [
                "# Question 10\n",
                "\n",
                "experiment5 = incomes.copy()\n",
                "credit_cutoff = 40_000\n",
                "num_hh_under_40k = np.sum(experiment5 < credit_cutoff)\n",
                "per_hh = tax_revenue / num_hh_under_40k\n",
                "per_hh\n"
            ]
        },
        {
            "cell_type": "code",
            "execution_count": 13,
            "metadata": {},
            "outputs": [
                {
                    "data": {
                        "text/plain": [
                            "0.462648124141809"
                        ]
                    },
                    "execution_count": 13,
                    "metadata": {},
                    "output_type": "execute_result"
                }
            ],
            "source": [
                "experiment5[experiment5 < credit_cutoff] = experiment5[experiment5 < credit_cutoff] + per_hh\n",
                "experiment5[experiment5 > tax_cutoff] = experiment5[experiment5 > tax_cutoff] * (1 - tax)\n",
                "gini(experiment5)"
            ]
        },
        {
            "cell_type": "code",
            "execution_count": 15,
            "metadata": {},
            "outputs": [],
            "source": [
                "## Question 11\n",
                "\n",
                "# Redistribution to households earning less than 30,000."
            ]
        },
        {
            "cell_type": "markdown",
            "metadata": {},
            "source": []
        }
    ],
    "metadata": {
        "interpreter": {
            "hash": "3e0a5228cb9726a24d36227c69ed0d3aac98cecda769d1c9adb080711d57f90d"
        },
        "kernelspec": {
            "display_name": "R",
            "language": "python",
            "name": "python3"
        },
        "language_info": {
            "codemirror_mode": {
                "name": "ipython",
                "version": 3
            },
            "file_extension": ".py",
            "mimetype": "text/x-python",
            "name": "python",
            "nbconvert_exporter": "python",
            "pygments_lexer": "ipython3",
            "version": "3.9.7"
        },
        "orig_nbformat": 4
    },
    "nbformat": 4,
    "nbformat_minor": 2
}
