{
    "cells": [
        {
            "cell_type": "markdown",
            "metadata": {},
            "source": [
                "# Vector Exercise 2: Subsetting Your Favorites"
            ]
        },
        {
            "cell_type": "markdown",
            "metadata": {},
            "source": [
                "In our previous exercise, you created a vector with at least six of your favorite numbers called `my_favorite_numbers`. In this exercise we will work with that vector (which you will need to re-create here), but instead of manipulating the entire vector as a single object like we did before, in this exercise we will do some subsetting and manipulation of components of this vector.\n",
                "\n",
                "0. Re-create your `my_favorite_numbers` vector with at least six of your favorite numbers.\n",
                "1. Now let's make a vector of True/False values. Create a Boolean vector that is true if the number is greater than `5` called `big`. If you look at `big`, do the values make sense?\n",
                "2. Now use `big` to return only the values of `my_favorite_numbers` that are greater than 5.\n",
                "3. Now, using the same logic, try and get all the values of `my_favorite_numbers` that are bigger than the average of `my_favorite_numbers`. (Hint: you'll need to use a function we've seen.)\n",
                "4. Now, if you used more than one line to do number 3, try and do it in one line of code."
            ]
        },
        {
            "cell_type": "markdown",
            "metadata": {},
            "source": [
                "# Vector Exercise 3: Family and Friends"
            ]
        },
        {
            "cell_type": "markdown",
            "metadata": {},
            "source": [
                "Create a vector that represents the age of at least four different family members or friends. You can name it whatever you want.\n",
                "\n",
                "1. What is the mean age of the people in your vector? Find out in two ways,\n",
                "with and without using the `np.mean()` command.\n",
                "\n",
                "2. How old is the youngest person in your vector? (Use a numpy command to find out.)\n",
                "\n",
                "3. What is the age gap between the youngest person and the oldest person in your vector?\n",
                "(Again use numpy to find out, and try to be as general as possible in the sense that\n",
                "your code should work even if the elements in your vector, or their order, change.)\n",
                "\n",
                "4. How many people in your vector are above age 25? (Again, try to make your code\n",
                "work even in the case that your vector changes.)\n",
                "\n",
                "5. Replace the age of the oldest person in your vector with the age of someone\n",
                "else you know.\n",
                "\n",
                "6. Create a new vector that indicates how old each person in your vector\n",
                "will be in 10 years.\n",
                "\n",
                "7. Create a new vector that indicates what year each person in your vector\n",
                "will turn 100 years old.\n"
            ]
        }
    ],
    "metadata": {
        "kernelspec": {
            "display_name": "R",
            "language": "R",
            "name": "ir"
        },
        "language_info": {
            "name": "R"
        },
        "orig_nbformat": 4
    },
    "nbformat": 4,
    "nbformat_minor": 2
}
