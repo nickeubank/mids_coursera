{
 "cells": [
  {
   "cell_type": "markdown",
   "metadata": {},
   "source": [
    "# Modifying Subsets of Vectors\n",
    "\n",
    "The subsetting logic from the previous reading isn't just for extracting subsets of vectors to analyze -- it's also useful for modifying vectors. The idea is that instead of keeping elements that meet a logical condition or occur at a specific index, we can change them. For example, let's consider the vector of the ages we worked with in the last reading. Suppose we mis-entered grandpa's age -- how would we correct that mistake without re-creating the full vector? \n",
    "\n",
    "The answer is that we can fix it using indexing, a logical statement, or naming."
   ]
  },
  {
   "cell_type": "code",
   "execution_count": null,
   "metadata": {},
   "outputs": [
    {
     "data": {
      "text/plain": [
       "array([50, 55, 80])"
      ]
     },
     "metadata": {},
     "output_type": "display_data"
    }
   ],
   "source": [
    "import numpy as np\n",
    "\n",
    "# Create a vector with ages\n",
    "age = np.array([50, 55, 80])\n",
    "age"
   ]
  },
  {
   "cell_type": "code",
   "execution_count": null,
   "id": "b7089dd5",
   "metadata": {},
   "outputs": [
    {
     "data": {
      "text/plain": [
       "array([50, 55, 82])"
      ]
     },
     "metadata": {},
     "output_type": "display_data"
    }
   ],
   "source": [
    "age[age == 80] = 82 # using a logical statement\n",
    "age"
   ]
  },
  {
   "cell_type": "code",
   "execution_count": null,
   "id": "c431fc04",
   "metadata": {},
   "outputs": [
    {
     "data": {
      "text/plain": [
       "array([50, 45, 82])"
      ]
     },
     "metadata": {},
     "output_type": "display_data"
    }
   ],
   "source": [
    "age[1] = 45         # using indexing\n",
    "age"
   ]
  },
  {
   "cell_type": "markdown",
   "id": "1c8811bb",
   "metadata": {},
   "source": [
    "Note that we can also make modifications to subsets of rows by using subsets on BOTH sides of the assignment operator. \n",
    "\n",
    "For example, say we wanted to see how old everyone would be in five years, but Grandpa says we're not allowed to change his age because he's decided he wants to keep saying he's 80 until he dies. Oh, Grandpa.\n",
    "\n",
    "So what we want to do is take our ages and increase them all by 5. If Grandpa weren't so annoying, we could just do:\n",
    "\n",
    "```python\n",
    "ages = ages + 5\n",
    "```\n",
    "\n",
    "But Grandpa says we can't increase his age. So we have to (a) pull out the ages that are less than 80, (b) increment them up by 5, and (c) re-insert them, replacing the older age values for people under 80."
   ]
  },
  {
   "cell_type": "code",
   "execution_count": null,
   "id": "fb835c6c",
   "metadata": {},
   "outputs": [
    {
     "data": {
      "text/plain": [
       "array([50, 55])"
      ]
     },
     "metadata": {},
     "output_type": "display_data"
    }
   ],
   "source": [
    "age = np.array([50, 55, 80])\n",
    "\n",
    "# Get younger ages\n",
    "younger_ages = age[age < 80]\n",
    "younger_ages"
   ]
  },
  {
   "cell_type": "code",
   "execution_count": null,
   "id": "ab3789d3",
   "metadata": {},
   "outputs": [
    {
     "data": {
      "text/plain": [
       "array([55, 60])"
      ]
     },
     "metadata": {},
     "output_type": "display_data"
    }
   ],
   "source": [
    "# Make them all five years older\n",
    "new_ages = younger_ages + 5\n",
    "new_ages"
   ]
  },
  {
   "cell_type": "code",
   "execution_count": null,
   "id": "8b81a224",
   "metadata": {},
   "outputs": [
    {
     "data": {
      "text/plain": [
       "array([55, 60, 80])"
      ]
     },
     "metadata": {},
     "output_type": "display_data"
    }
   ],
   "source": [
    "# Re-insert\n",
    "age[age < 80] = new_ages\n",
    "age"
   ]
  },
  {
   "cell_type": "markdown",
   "id": "7b284ec8",
   "metadata": {},
   "source": [
    "Note that this last operation worked because the vector on the left side of the assignment operator had a length of two, and the new vector on the right-hand side was also of length two, so numpy could match the entries being subset on the left to entries on the right one-to-one.\n",
    "\n",
    "But while we *can* do this is all these separate steps, we can also collapse this:"
   ]
  },
  {
   "cell_type": "code",
   "execution_count": null,
   "id": "9abba1be",
   "metadata": {},
   "outputs": [],
   "source": [
    "age = np.array([50, 55, 80])"
   ]
  },
  {
   "cell_type": "code",
   "execution_count": null,
   "id": "f63de605",
   "metadata": {},
   "outputs": [
    {
     "data": {
      "text/plain": [
       "array([55, 60, 80])"
      ]
     },
     "metadata": {},
     "output_type": "display_data"
    }
   ],
   "source": [
    "age[age < 80] = age[age < 80] + 5\n",
    "age"
   ]
  },
  {
   "cell_type": "markdown",
   "id": "cd9435a3",
   "metadata": {},
   "source": [
    "Again, note this only worked because we were careful to ensure that the vector on the right of the assignment operator \"fit\" into the space being subset on the left! This is a trick we use a lot in data science, so make sure you're comfortable with it before proceeding."
   ]
  },
  {
   "cell_type": "markdown",
   "id": "f819d442",
   "metadata": {},
   "source": [
    "## Modifying Vectors and Data Types"
   ]
  },
  {
   "cell_type": "markdown",
   "id": "d7b66a0d",
   "metadata": {},
   "source": [
    "You may not have noticed, but up till now we've only being doing \"like-for-like\" substitutions. For example, when we changed an entry in `age`, we were always replacing one `int` with another.\n",
    "\n",
    "This is important, because as we discussed in our last reading, vectors are *homogeneously typed*, meaning that unlike lists, you can't put different types of data in an array.\n",
    "\n",
    "Now when we're *creating* a vector, numpy will use type promotion to pick a type that accommodates everything you're putting into an array. For example, if I pass both bools and integers to `np.array()`, it will just type promote everything to be integers:"
   ]
  },
  {
   "cell_type": "code",
   "execution_count": null,
   "id": "bb3fd18c",
   "metadata": {},
   "outputs": [
    {
     "data": {
      "text/plain": [
       "array([1, 0, 7])"
      ]
     },
     "metadata": {},
     "output_type": "display_data"
    }
   ],
   "source": [
    "np.array([True, False, 7])"
   ]
  },
  {
   "cell_type": "markdown",
   "id": "7137445b",
   "metadata": {},
   "source": [
    "But once a vector has been created, numpy stops being so considerate: if you try and cram data of a different type into a vector of a given type, it will try to *coerce* the data into the established type of the array. \n",
    "\n",
    "For example, if we try and cram 7 into an array that's already of type `bool`, numpy will *coerce* 7 into type bool (e.g. run `Boolean(7)`), which will turn `7` into `True` *even though this is causing information to be lost*:"
   ]
  },
  {
   "cell_type": "code",
   "execution_count": null,
   "id": "0b596a71",
   "metadata": {},
   "outputs": [
    {
     "data": {
      "text/plain": [
       "array([ True, False])"
      ]
     },
     "metadata": {},
     "output_type": "display_data"
    }
   ],
   "source": [
    "bool_vector = np.array([True, False])\n",
    "bool_vector"
   ]
  },
  {
   "cell_type": "code",
   "execution_count": null,
   "id": "73c3357d",
   "metadata": {},
   "outputs": [
    {
     "data": {
      "text/plain": [
       "array([ True,  True])"
      ]
     },
     "metadata": {},
     "output_type": "display_data"
    }
   ],
   "source": [
    "bool_vector[1] = 7\n",
    "bool_vector"
   ]
  },
  {
   "cell_type": "markdown",
   "id": "481ab511",
   "metadata": {},
   "source": [
    "Similarly, if you try and put a floating point number into an integer vector, that float will be type coerced into an integer, which is accomplished by just truncating any information after the decimal:"
   ]
  },
  {
   "cell_type": "code",
   "execution_count": null,
   "id": "4d0c32ca",
   "metadata": {},
   "outputs": [
    {
     "data": {
      "text/plain": [
       "array([1, 2, 3])"
      ]
     },
     "metadata": {},
     "output_type": "display_data"
    }
   ],
   "source": [
    "int_vector = np.array([1, 2, 3])\n",
    "int_vector"
   ]
  },
  {
   "cell_type": "code",
   "execution_count": null,
   "id": "2df72f63",
   "metadata": {},
   "outputs": [
    {
     "data": {
      "text/plain": [
       "array([42,  2,  3])"
      ]
     },
     "metadata": {},
     "output_type": "display_data"
    }
   ],
   "source": [
    "int_vector[0] = 42.989723798729874\n",
    "int_vector"
   ]
  },
  {
   "cell_type": "markdown",
   "id": "245c2e9f",
   "metadata": {},
   "source": [
    "This is why, as we mentioned in the last reading, you might not always want to let numpy pick your datatypes for you. Suppose in the example above, for example, you know you might later need to put a floating point number into `int_vector` -- you could instead tell numpy to make it a floating point number vector *at creation*:"
   ]
  },
  {
   "cell_type": "code",
   "execution_count": null,
   "id": "199166d1",
   "metadata": {},
   "outputs": [
    {
     "data": {
      "text/plain": [
       "array([42.9897238,  2.       ,  3.       ])"
      ]
     },
     "metadata": {},
     "output_type": "display_data"
    }
   ],
   "source": [
    "no_longer_an_int_vector = np.array([1, 2, 3], dtype=\"float\")\n",
    "no_longer_an_int_vector[0] = 42.989723798729874\n",
    "no_longer_an_int_vector"
   ]
  },
  {
   "cell_type": "markdown",
   "id": "0e56b8ec",
   "metadata": {},
   "source": [
    "I know this can be a little confusing, so here's a recap:\n",
    "\n",
    "- When *creating* a vector, numpy will do everything it can to ensure that you don't lose any information by type *promoting* your data to the lowest type that *preserves all the information in your data*. \n",
    "- Once a vector has been created, numpy's hands are tied, so it will use type *coercion* to force the data you're trying to put into your existing vector into the established type, *even if that causes information loss.*"
   ]
  }
 ],
 "metadata": {
  "language_info": {
   "name": "python"
  },
  "orig_nbformat": 4
 },
 "nbformat": 4,
 "nbformat_minor": 2
}
