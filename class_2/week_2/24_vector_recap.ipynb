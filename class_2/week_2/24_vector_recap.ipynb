{
 "cells": [
  {
   "cell_type": "markdown",
   "id": "10edb29d",
   "metadata": {},
   "source": [
    "# Vector Recap\n",
    "\n",
    "- Vectors are collections of data of the same type. \n",
    "- Vectors can be created with the `np.array()` function. \n",
    "- You can easily do math between any vector and a vector of length 1, or a vector of the same length. \n",
    "- You *can* do math between vectors of different lengths that aren't length 1, but... the way it works is weird, so don't. \n",
    "- If data of different types are passed to the `np.array()` function, it will type promote them to the lowest type that can store all the input types. "
   ]
  },
  {
   "cell_type": "markdown",
   "id": "7c5d0044",
   "metadata": {},
   "source": [
    "## Next Steps\n",
    "\n",
    "Now that we're familiar with vectors, [let's do some exercises!](25_EX_vectors.ipynb)"
   ]
  }
 ],
 "metadata": {
  "language_info": {
   "name": "python"
  },
  "orig_nbformat": 4
 },
 "nbformat": 4,
 "nbformat_minor": 2
}
