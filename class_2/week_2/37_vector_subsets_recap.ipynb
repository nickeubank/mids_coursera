{
 "cells": [
  {
   "cell_type": "markdown",
   "metadata": {},
   "source": [
    "# Recap\n",
    "\n",
    "- Like lists, vectors can be subset by index or with Boolean vectors.\n",
    "- Subsetting with Booleans allows you to extract subsets based on the *values* of vector elements.\n",
    "- Assigning values to a vector subset will result in modification of a subset of entries in the original vector. But this only works if the values being assigned have length 1, or the same length as the subset to which the values are being assigned."
   ]
  }
 ],
 "metadata": {
  "language_info": {
   "name": "python"
  },
  "orig_nbformat": 4
 },
 "nbformat": 4,
 "nbformat_minor": 2
}
