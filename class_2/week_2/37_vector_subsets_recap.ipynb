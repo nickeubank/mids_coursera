{
 "cells": [
  {
   "cell_type": "markdown",
   "metadata": {},
   "source": [
    "# Recap\n",
    "\n",
    "- Vectors can be subset by index, with a logical, or by name\n",
    "- Subsetting with Booleans allows you to extract subsets based on the values of vector elements. \n",
    "- Assigning values to subsets modifies subsets of vectors. "
   ]
  }
 ],
 "metadata": {
  "language_info": {
   "name": "python"
  },
  "orig_nbformat": 4
 },
 "nbformat": 4,
 "nbformat_minor": 2
}
