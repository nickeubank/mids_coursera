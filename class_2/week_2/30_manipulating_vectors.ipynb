{
 "cells": [
  {
   "cell_type": "markdown",
   "metadata": {},
   "source": [
    "# Manipulating Vectors"
   ]
  },
  {
   "cell_type": "markdown",
   "metadata": {},
   "source": [
    "In our last reading, we learned what vectors are, and how to do operations on entire vectors. But often times we want to work with *subsets* of a vector. Indeed, extracting a subset of elements from a vector is an extremely important task, not least because it generalizes nicely to datasets (which are at the heart of data science). This process --- whether applied to a vector or a dataset --- is often referred to as \"taking a subset\", \"subsetting\", or \"filtering\". If there is one skill you need to master as quickly as possible, it's this.\n",
    "\n",
    "Subsetting can be accomplished in two ways: \n",
    "\n",
    "- By index\n",
    "- By boolean vectors"
   ]
  },
  {
   "cell_type": "markdown",
   "metadata": {},
   "source": [
    "## What is Subsetting?\n",
    "\n",
    "As you've probably already realized, vectors don't just contain a jumble of data -- they also have a concept of \"order\". In particular, vector data is organized along a single dimension (in a line, just as data is organized in a list). So when I create a vector with `42, 47, -1`, I have in mind that 42 is the first entry, 47 is the second, and -1 is the third. And we can use that concept of order to subset vectors by passing the index (order number) of an entry we want to our vector in square brackets. For example, consider the following vector:"
   ]
  },
  {
   "cell_type": "code",
   "execution_count": 1,
   "metadata": {},
   "outputs": [
    {
     "data": {
      "text/plain": [
       "array([42, 47, -1])"
      ]
     },
     "execution_count": 1,
     "metadata": {},
     "output_type": "execute_result"
    }
   ],
   "source": [
    "import numpy as np\n",
    "a = np.array([42, 47, -1])\n",
    "a"
   ]
  },
  {
   "cell_type": "markdown",
   "metadata": {},
   "source": [
    "If I wanted to pull out the second entry in that vector, I could do so with *array indexing* using square brackets `[]` (remember that indexes start at 0 in Python, so the second entry is at index `1`):"
   ]
  },
  {
   "cell_type": "code",
   "execution_count": 2,
   "metadata": {},
   "outputs": [
    {
     "data": {
      "text/plain": [
       "47"
      ]
     },
     "execution_count": 2,
     "metadata": {},
     "output_type": "execute_result"
    }
   ],
   "source": [
    "a[1]"
   ]
  },
  {
   "cell_type": "markdown",
   "metadata": {},
   "source": [
    "And if I want to assign that second entry to a new variable, I can!"
   ]
  },
  {
   "cell_type": "code",
   "execution_count": 3,
   "metadata": {},
   "outputs": [
    {
     "data": {
      "text/plain": [
       "47"
      ]
     },
     "execution_count": 3,
     "metadata": {},
     "output_type": "execute_result"
    }
   ],
   "source": [
    "new = a[1]\n",
    "new"
   ]
  },
  {
   "cell_type": "markdown",
   "metadata": {},
   "source": [
    "But what, exactly, is happening when I subset? Let's return to the idea that a variable is just a box holding some data, and walk-through the following block of code:"
   ]
  },
  {
   "cell_type": "markdown",
   "metadata": {},
   "source": [
    "```r\n",
    "a = np.array([1, 2, 3])\n",
    "new = a[2]\n",
    "```"
   ]
  },
  {
   "cell_type": "markdown",
   "metadata": {},
   "source": [
    "In the first line of code, we create a new vector with three entries and assign it to the variable `a`. Just as in our previous reading, we can think of the variable `a` as a box that is holding this new vector.\n",
    "\n",
    "OBVIOUSLY NEED TO UPDATE TO MATCH HOW DREW AND GENEVIEVE ARE DRAWING AND TO NUMPY SYNTAX\n",
    "\n",
    "![vector_subsetting1](images/vector_subsetting1.png)\n",
    "\n",
    "In the second line, the first thing that happens is R evaluates the expression on the right side of the assignment operator: `a[1]`. The use of `a` and square brackets indicates to R that we're not trying to access a portion of the data stored in the box labelled `a`. In particular, by putting a `1` between the square brackets, we're telling R we want the second item in the box `a`: `47`. \n",
    "\n",
    "![vector_subsetting2](images/vector_subsetting2.png)\n",
    "\n",
    "Then when we assign that value -- 47 -- to `new`, we create a new variable, and insert our data into that box:\n",
    "\n",
    "![vector_subsetting3](images/vector_subsetting3.png)"
   ]
  },
  {
   "cell_type": "markdown",
   "metadata": {},
   "source": [
    "This `variable[]` notation is something we'll use a *lot* with numpy, and it will always mean the same thing: we're trying to access some data in the data stored in the box `variable`.\n",
    "\n",
    "**Note:** we're making one small simplification in the discussion above that, if you've worked with numpy a lot, you may notice. Don't worry -- we'll address that in a later reading!"
   ]
  },
  {
   "cell_type": "markdown",
   "metadata": {},
   "source": [
    "## Subsetting By Index\n",
    "\n"
   ]
  },
  {
   "cell_type": "markdown",
   "metadata": {},
   "source": [
    "What we just did is an example of subsetting by index, where we just specify the location (index) of the data we want:"
   ]
  },
  {
   "cell_type": "code",
   "execution_count": 4,
   "metadata": {},
   "outputs": [
    {
     "data": {
      "text/plain": [
       "47"
      ]
     },
     "execution_count": 4,
     "metadata": {},
     "output_type": "execute_result"
    }
   ],
   "source": [
    "a = np.array([42, 47, -1])\n",
    "a[1]"
   ]
  },
  {
   "cell_type": "markdown",
   "metadata": {},
   "source": [
    "But we can also pass a list or numpy array of indices to get a subset of entries:"
   ]
  },
  {
   "cell_type": "code",
   "execution_count": 5,
   "id": "89b0a447",
   "metadata": {},
   "outputs": [
    {
     "data": {
      "text/plain": [
       "array([42, -1])"
      ]
     },
     "execution_count": 5,
     "metadata": {},
     "output_type": "execute_result"
    }
   ],
   "source": [
    "a[[0, 2]]"
   ]
  },
  {
   "cell_type": "markdown",
   "id": "d631c5f4",
   "metadata": {},
   "source": [
    "Or with an array:"
   ]
  },
  {
   "cell_type": "code",
   "execution_count": 6,
   "metadata": {},
   "outputs": [
    {
     "data": {
      "text/plain": [
       "array([0, 2])"
      ]
     },
     "execution_count": 6,
     "metadata": {},
     "output_type": "execute_result"
    }
   ],
   "source": [
    "zero_and_two = np.array([0, 2])\n",
    "zero_and_two\n"
   ]
  },
  {
   "cell_type": "code",
   "execution_count": 7,
   "id": "66638342",
   "metadata": {},
   "outputs": [
    {
     "data": {
      "text/plain": [
       "array([42, -1])"
      ]
     },
     "execution_count": 7,
     "metadata": {},
     "output_type": "execute_result"
    }
   ],
   "source": [
    "a[zero_and_two]"
   ]
  },
  {
   "cell_type": "markdown",
   "metadata": {},
   "source": [
    "Also, you don't have to subset entries in order! If you pass indices out of order, you'll get a vector with a new order!"
   ]
  },
  {
   "cell_type": "code",
   "execution_count": 8,
   "metadata": {},
   "outputs": [
    {
     "data": {
      "text/plain": [
       "array([-1, 42])"
      ]
     },
     "execution_count": 8,
     "metadata": {},
     "output_type": "execute_result"
    }
   ],
   "source": [
    "a[[2, 0]]"
   ]
  },
  {
   "cell_type": "markdown",
   "metadata": {},
   "source": [
    "Again, this is all working the same was as our example with just one entry -- Python interprets the square brackets as a request for some data in the box `a`, and if we pass multiple indices, it just grabs multiple items from that box. "
   ]
  },
  {
   "cell_type": "markdown",
   "metadata": {},
   "source": [
    "## Subsetting with Logicals"
   ]
  },
  {
   "cell_type": "markdown",
   "metadata": {},
   "source": [
    "Subsetting with logicals is a little hard to explain, so instead let's jump right into an example. \n",
    "\n",
    "Suppose we have a character vector with only two elements (\"apple\" and \"banana\"). Subsetting it to \"apple\" could be done by passing a logical vector as follows:"
   ]
  },
  {
   "cell_type": "code",
   "execution_count": 9,
   "metadata": {},
   "outputs": [
    {
     "data": {
      "text/plain": [
       "array(['apple'], dtype='<U6')"
      ]
     },
     "execution_count": 9,
     "metadata": {},
     "output_type": "execute_result"
    }
   ],
   "source": [
    "fruits = np.array([\"apple\", \"banana\"])\n",
    "fruits[[True, False]]"
   ]
  },
  {
   "cell_type": "markdown",
   "metadata": {},
   "source": [
    "Within these brackets is a vector with the same number of logical elements as there are elements in the vector you want to subset. Elements across the two vectors are matched by order: elements that match with `True` are kept while elements that match with `False` are dropped.\n",
    "\n",
    "Visualized with the same tools we used before, we can draw out what's happening in this block of code:"
   ]
  },
  {
   "cell_type": "code",
   "execution_count": 10,
   "metadata": {},
   "outputs": [
    {
     "data": {
      "text/plain": [
       "array([42, -1])"
      ]
     },
     "execution_count": 10,
     "metadata": {},
     "output_type": "execute_result"
    }
   ],
   "source": [
    "a = np.array([42, 47, -1])\n",
    "my_subset = np.array([True, False, True])\n",
    "b = a[my_subset]\n",
    "b"
   ]
  },
  {
   "cell_type": "markdown",
   "metadata": {},
   "source": [
    "First we create `a`:\n",
    "\n",
    "![logical_subset_1](images/logical_subset_1.png)\n",
    "\n",
    "Then we create `my_subset`:\n",
    "\n",
    "![logical_subset_2](images/logical_subset_2.png)\n",
    "\n",
    "Then the magic: R lines up the entries in the data in the box labelled `a` and the data in the box labelled `my_subset`, and keeps any entries from `a` that line up with values of `my_subset` that are `TRUE`. \n",
    "\n",
    "Then it assigns the values in `a` that line up with `TRUE`s in `my_subset` to a new variable `b`:\n",
    "\n",
    "![logical_subset_3](images/logical_subset_3.png)"
   ]
  },
  {
   "cell_type": "markdown",
   "metadata": {},
   "source": [
    "### Logical Operations"
   ]
  },
  {
   "cell_type": "markdown",
   "metadata": {},
   "source": [
    "\n",
    "\n",
    "This process is extremely useful when combined with a *logical operation* to combine multiple conditions. For example, we can use the logical \"equals\" (written `==`) say \"be true if values are equal\", and the logical \"not equals (written `!=`) to say \"be true if values are not equal\".\n",
    "\n",
    "However, when working with numpy arrays, we can't use the logical operations `or`, `and`, and `not` we previously learned in Python. Instead we have to use `&` for \"and\", `|` for \"or\", and `~` for \"not\".\n",
    "\n",
    "To illustrate, let's, using a logical operation we can filter a large vector of numbers:"
   ]
  },
  {
   "cell_type": "code",
   "execution_count": 11,
   "id": "bd104199",
   "metadata": {},
   "outputs": [
    {
     "data": {
      "text/plain": [
       "array([ 10,  20,  30,  40,  50,  60,  70,  80,  90, 100])"
      ]
     },
     "execution_count": 11,
     "metadata": {},
     "output_type": "execute_result"
    }
   ],
   "source": [
    "# Create a numeric vector\n",
    "numbers = np.arange(10, 110, 10)\n",
    "numbers\n"
   ]
  },
  {
   "cell_type": "code",
   "execution_count": 12,
   "id": "2a375b98",
   "metadata": {},
   "outputs": [
    {
     "data": {
      "text/plain": [
       "array([10, 20, 30, 40, 50])"
      ]
     },
     "execution_count": 12,
     "metadata": {},
     "output_type": "execute_result"
    }
   ],
   "source": [
    "# Get small numbers:\n",
    "numbers[numbers <= 50]"
   ]
  },
  {
   "cell_type": "markdown",
   "id": "3abf7e93",
   "metadata": {},
   "source": [
    "And we can also combine logical conditions. When we do so, however, note that we have to wrap each test in `()` so numpy parses them correctly. For example:"
   ]
  },
  {
   "cell_type": "code",
   "execution_count": 13,
   "id": "8c507536",
   "metadata": {},
   "outputs": [
    {
     "data": {
      "text/plain": [
       "array([ 10,  20, 100])"
      ]
     },
     "execution_count": 13,
     "metadata": {},
     "output_type": "execute_result"
    }
   ],
   "source": [
    "numbers[(numbers < 30) | (numbers == 100)]"
   ]
  },
  {
   "cell_type": "markdown",
   "id": "360c4d8b",
   "metadata": {},
   "source": [
    "If you don't wrap your two tests in parenthesis, you'll run into trouble and get this error:"
   ]
  },
  {
   "cell_type": "markdown",
   "id": "76c31a2b",
   "metadata": {},
   "source": [
    "```python\n",
    "numbers[numbers < 30 | numbers == 100]\n",
    "\n",
    "---------------------------------------------------------------------------\n",
    "ValueError                                Traceback (most recent call last)\n",
    "/var/folders/tj/s8f2_ks15h315z5thvtnhz8r0000gp/T/ipykernel_13964/3746007904.py in <module>\n",
    "----> 1 numbers[numbers < 30 | numbers == 100]\n",
    "\n",
    "ValueError: The truth value of an array with more than one element is ambiguous. Use a.any() or a.all()\n",
    "```"
   ]
  },
  {
   "cell_type": "markdown",
   "id": "eb9e8688",
   "metadata": {},
   "source": [
    "(Why? Well... that gets *really* complicated fast, but basically numpy parses the `|` before anything else, and while we use `|` as the logical \"or\", when you use it when neither array is of type bool, it actually does some weird bit-level manipulations, generating a new array of numbers instead of an array booleans. So... just use the parentheses. 🤷‍♂️ )"
   ]
  },
  {
   "cell_type": "markdown",
   "id": "dd12f2ac",
   "metadata": {},
   "source": [
    "Note that there's nothing magic about putting these booleans inside square brackets -- Python is just evaluating the code inside the square brackets, returning an array of type `bool`, and then using that to subset the original array. Indeed, we can move the construction of these `bool` arrays outside of the square brackets if we want:"
   ]
  },
  {
   "cell_type": "code",
   "execution_count": 15,
   "metadata": {},
   "outputs": [
    {
     "data": {
      "text/plain": [
       "array([False, False, False,  True,  True,  True,  True, False, False,\n",
       "       False])"
      ]
     },
     "execution_count": 15,
     "metadata": {},
     "output_type": "execute_result"
    }
   ],
   "source": [
    "# Get only the middle set of numbers\n",
    "\n",
    "middle_number = (30 < numbers) & (numbers < 80)\n",
    "middle_number"
   ]
  },
  {
   "cell_type": "code",
   "execution_count": 16,
   "id": "9422f2a2",
   "metadata": {},
   "outputs": [
    {
     "data": {
      "text/plain": [
       "array([40, 50, 60, 70])"
      ]
     },
     "execution_count": 16,
     "metadata": {},
     "output_type": "execute_result"
    }
   ],
   "source": [
    "numbers[middle_number]"
   ]
  },
  {
   "cell_type": "markdown",
   "metadata": {},
   "source": [
    "## Using Subsetting to Modifying Vectors\n",
    "\n",
    "The subsetting logic from above isn't just for extracting subsets of vectors to analyze -- it's also useful for modifying vectors. The idea here is that instead of keeping elements that meet a logical condition or occur at a specific index, we can change them. For example, what if we had mis-entered grandpa's age above? We can fix it using indexing, a logical statement, or naming. "
   ]
  },
  {
   "cell_type": "code",
   "execution_count": 17,
   "metadata": {},
   "outputs": [
    {
     "data": {
      "text/plain": [
       "array([50, 55, 80])"
      ]
     },
     "execution_count": 17,
     "metadata": {},
     "output_type": "execute_result"
    }
   ],
   "source": [
    "# Recreate vector with age values\n",
    "age = np.array([50, 55, 80])\n",
    "age"
   ]
  },
  {
   "cell_type": "code",
   "execution_count": 18,
   "id": "b7089dd5",
   "metadata": {},
   "outputs": [
    {
     "data": {
      "text/plain": [
       "array([50, 55, 82])"
      ]
     },
     "execution_count": 18,
     "metadata": {},
     "output_type": "execute_result"
    }
   ],
   "source": [
    "age[age == 80] = 82 # using a logical statement\n",
    "age"
   ]
  },
  {
   "cell_type": "code",
   "execution_count": 19,
   "id": "c431fc04",
   "metadata": {},
   "outputs": [
    {
     "data": {
      "text/plain": [
       "array([50, 45, 82])"
      ]
     },
     "execution_count": 19,
     "metadata": {},
     "output_type": "execute_result"
    }
   ],
   "source": [
    "age[1] = 45         # using indexing\n",
    "age"
   ]
  },
  {
   "cell_type": "markdown",
   "id": "1c8811bb",
   "metadata": {},
   "source": [
    "Note that we can also make modifications to subsets of rows by using subsets on BOTH sides of the assignment operator. \n",
    "\n",
    "For example, say we wanted to see how old everyone would be in five years, but Grandpa says we're not allowed to change his age because he's decided he wants to keep saying he's 80 until he dies. Oh, Grandpa.\n",
    "\n",
    "So what we want to do is take our ages and increase them all by 5. If Grandpa weren't so annoying, we could just do:\n",
    "\n",
    "```python\n",
    "ages = ages + 5\n",
    "```\n",
    "\n",
    "But Grandpa says we can't increase his age. So we have to (a) pull out the ages that are less than 80, (b) increment them up by 5, and (c) re-insert them, replacing the older age values for people under 80."
   ]
  },
  {
   "cell_type": "code",
   "execution_count": 20,
   "id": "fb835c6c",
   "metadata": {},
   "outputs": [
    {
     "data": {
      "text/plain": [
       "array([50, 55])"
      ]
     },
     "execution_count": 20,
     "metadata": {},
     "output_type": "execute_result"
    }
   ],
   "source": [
    "age = np.array([50, 55, 80])\n",
    "\n",
    "# Get younger ages\n",
    "younger_ages = age[age < 80]\n",
    "younger_ages"
   ]
  },
  {
   "cell_type": "code",
   "execution_count": 21,
   "id": "ab3789d3",
   "metadata": {},
   "outputs": [
    {
     "data": {
      "text/plain": [
       "array([55, 60])"
      ]
     },
     "execution_count": 21,
     "metadata": {},
     "output_type": "execute_result"
    }
   ],
   "source": [
    "# Make them all five years older\n",
    "new_ages = younger_ages + 5\n",
    "new_ages"
   ]
  },
  {
   "cell_type": "code",
   "execution_count": 22,
   "id": "8b81a224",
   "metadata": {},
   "outputs": [
    {
     "data": {
      "text/plain": [
       "array([55, 60, 80])"
      ]
     },
     "execution_count": 22,
     "metadata": {},
     "output_type": "execute_result"
    }
   ],
   "source": [
    "# Re-insert\n",
    "age[age < 80] = new_ages\n",
    "age"
   ]
  },
  {
   "cell_type": "markdown",
   "id": "7b284ec8",
   "metadata": {},
   "source": [
    "Note that this last operation worked because the vector on the left side of the assignment operator had a length of two, and the new vector on the right-hand side was also of length two, so numpy could match the entries being subset on the left to entries on the right one-to-one.\n",
    "\n",
    "But while we *can* do this is all these separate steps, we can also collapse this:"
   ]
  },
  {
   "cell_type": "code",
   "execution_count": 23,
   "id": "9abba1be",
   "metadata": {},
   "outputs": [],
   "source": [
    "age = np.array([50, 55, 80])"
   ]
  },
  {
   "cell_type": "code",
   "execution_count": 24,
   "id": "f63de605",
   "metadata": {},
   "outputs": [
    {
     "data": {
      "text/plain": [
       "array([55, 60, 80])"
      ]
     },
     "execution_count": 24,
     "metadata": {},
     "output_type": "execute_result"
    }
   ],
   "source": [
    "age[age < 80] = age[age < 80] + 5\n",
    "age"
   ]
  },
  {
   "cell_type": "markdown",
   "id": "cd9435a3",
   "metadata": {},
   "source": [
    "Again, note this only worked because we were careful to ensure that the vector on the right of the assignment operator \"fit\" into the space being subset on the left! This is a trick we use a lot in data science, so make sure you're comfortable with it before proceeding. "
   ]
  },
  {
   "cell_type": "markdown",
   "id": "f819d442",
   "metadata": {},
   "source": [
    "## Modifying Vectors and Data Types"
   ]
  },
  {
   "cell_type": "markdown",
   "id": "d7b66a0d",
   "metadata": {},
   "source": [
    "You may not have noticed, but up till now we've only being doing \"like-for-like\" substitutions. For example, when we changed an entry in `age`, we were always replacing one `int` with another.\n",
    "\n",
    "This is important, because as we discussed in our last reading, vectors are *homogeneously typed*, meaning that unlike lists, you can't put different types of data in an array.\n",
    "\n",
    "Now when we're *creating* a vector, numpy will use type promotion to pick a type that accommodates everything you're putting into an array. For example, if I pass both bools and integers to `np.array()`, it will just type promote everything to be integers:"
   ]
  },
  {
   "cell_type": "code",
   "execution_count": 25,
   "id": "bb3fd18c",
   "metadata": {},
   "outputs": [
    {
     "data": {
      "text/plain": [
       "array([1, 0, 7])"
      ]
     },
     "execution_count": 25,
     "metadata": {},
     "output_type": "execute_result"
    }
   ],
   "source": [
    "np.array([True, False, 7])"
   ]
  },
  {
   "cell_type": "markdown",
   "id": "7137445b",
   "metadata": {},
   "source": [
    "But once a vector has been created, numpy stops being so considerate: if you try and cram data of a different type into a vector of a given type, it will try to *coerce* the data into the established type of the array. \n",
    "\n",
    "For example, if we try and cram 7 into an array that's already of type `bool`, numpy will *coerce* 7 into type bool (e.g. run `Boolean(7)`), which will turn `7` into `True` *even though this is causing information to be lost*:"
   ]
  },
  {
   "cell_type": "code",
   "execution_count": 26,
   "id": "0b596a71",
   "metadata": {},
   "outputs": [
    {
     "data": {
      "text/plain": [
       "array([ True, False])"
      ]
     },
     "execution_count": 26,
     "metadata": {},
     "output_type": "execute_result"
    }
   ],
   "source": [
    "bool_vector = np.array([True, False])\n",
    "bool_vector"
   ]
  },
  {
   "cell_type": "code",
   "execution_count": 27,
   "id": "73c3357d",
   "metadata": {},
   "outputs": [
    {
     "data": {
      "text/plain": [
       "array([ True,  True])"
      ]
     },
     "execution_count": 27,
     "metadata": {},
     "output_type": "execute_result"
    }
   ],
   "source": [
    "bool_vector[1] = 7\n",
    "bool_vector"
   ]
  },
  {
   "cell_type": "markdown",
   "id": "481ab511",
   "metadata": {},
   "source": [
    "Similarly, if you try and put a floating point number into an integer vector, that float will be type coerced into an integer, which is accomplished by just truncating any information after the decimal:"
   ]
  },
  {
   "cell_type": "code",
   "execution_count": 28,
   "id": "4d0c32ca",
   "metadata": {},
   "outputs": [
    {
     "data": {
      "text/plain": [
       "array([1, 2, 3])"
      ]
     },
     "execution_count": 28,
     "metadata": {},
     "output_type": "execute_result"
    }
   ],
   "source": [
    "int_vector = np.array([1, 2, 3])\n",
    "int_vector"
   ]
  },
  {
   "cell_type": "code",
   "execution_count": 29,
   "id": "2df72f63",
   "metadata": {},
   "outputs": [
    {
     "data": {
      "text/plain": [
       "array([42,  2,  3])"
      ]
     },
     "execution_count": 29,
     "metadata": {},
     "output_type": "execute_result"
    }
   ],
   "source": [
    "int_vector[0] = 42.989723798729874\n",
    "int_vector"
   ]
  },
  {
   "cell_type": "markdown",
   "id": "245c2e9f",
   "metadata": {},
   "source": [
    "This is why, as we mentioned in the last reading, you might not always want to let numpy pick your datatypes for you. Suppose in the example above, for example, you know you might later need to put a floating point number into `int_vector` -- you could instead tell numpy to make it a floating point number vector *at creation*:"
   ]
  },
  {
   "cell_type": "code",
   "execution_count": 30,
   "id": "199166d1",
   "metadata": {},
   "outputs": [
    {
     "data": {
      "text/plain": [
       "array([42.9897238,  2.       ,  3.       ])"
      ]
     },
     "execution_count": 30,
     "metadata": {},
     "output_type": "execute_result"
    }
   ],
   "source": [
    "no_longer_an_int_vector = np.array([1, 2, 3], dtype=\"float\")\n",
    "no_longer_an_int_vector[0] = 42.989723798729874\n",
    "no_longer_an_int_vector"
   ]
  },
  {
   "cell_type": "markdown",
   "id": "0e56b8ec",
   "metadata": {},
   "source": [
    "I know this can be a little confusing, so here's a recap:\n",
    "\n",
    "- When *creating* a vector, numpy will do everything it can to ensure that you don't lose any information by type *promoting* your data to the lowest type that *preserves all the information in your data*. \n",
    "- Once a vector has been created, numpy's hands are tied, so it will use type *coercion* to force the data you're trying to put into your existing vector into the established type, *even if that causes information loss.*"
   ]
  },
  {
   "cell_type": "markdown",
   "metadata": {},
   "source": [
    "## Recap\n",
    "\n",
    "- Vectors can be subset by index, with a logical, or by name\n",
    "- Subsetting with logicals allows you to extract subsets based on the values of vector elements. \n",
    "- Assigning values to subsets modifies subsets of vectors. "
   ]
  }
 ],
 "metadata": {
  "interpreter": {
   "hash": "3e0a5228cb9726a24d36227c69ed0d3aac98cecda769d1c9adb080711d57f90d"
  },
  "jupytext": {
   "cell_metadata_filter": "-all",
   "main_language": "R",
   "notebook_metadata_filter": "-all"
  },
  "kernelspec": {
   "display_name": "R",
   "language": "python",
   "name": "python3"
  },
  "language_info": {
   "codemirror_mode": {
    "name": "ipython",
    "version": 3
   },
   "file_extension": ".py",
   "mimetype": "text/x-python",
   "name": "python",
   "nbconvert_exporter": "python",
   "pygments_lexer": "ipython3",
   "version": "3.9.7"
  }
 },
 "nbformat": 4,
 "nbformat_minor": 5
}
