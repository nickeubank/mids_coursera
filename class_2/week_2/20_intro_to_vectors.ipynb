{
 "cells": [
  {
   "cell_type": "markdown",
   "id": "5b7dda17",
   "metadata": {},
   "source": [
    "# Working with Vectors\n",
    "\n",
    "In this reading, we'll introduce you to the most basic form of the numpy array: the vector! We'll start by helping to contextualize and explain why we use vectors, then we'll talk about how to create a vector and use it to do mathematical operations. \n",
    "\n",
    "## Vectors in Context\n",
    "\n",
    "As we mentioned in our last reading, the fundamental workhorse of data science in python in the numpy array. While all numpy arrays are similar, they do come in range of flavors depending on the number of dimensions along which they organize the data they contain:\n",
    "\n",
    "\n",
    "![numpy array example image](img/arrays_w_axis.png)\n",
    "\n",
    "The simplest form of the numpy array is a one-dimensional array, also known as a *vector*. Vectors are a building block of data science because they are often used to represent a collection of different *measurements* or *observations* of the same thing. For example, one may use a vector to hold the heights of everyone in a classroom, or a series of measurements of one's heart rate taken over time.\n",
    "\n",
    "When we move from one dimension to two, the resulting array is also known as a *matrix*. Matrices (the plural of matrix) are commonly used to represent data in two different ways. \n",
    "\n",
    "In the first, we can create a matrix by placing lots of vectors side by side so that each column becomes a different property being measured, and each row becomes a single entity whose properties are being measured. For example, you could imagine storing data about customers in a matrix, where each row is a different individual customer, and each column is a different type of data being collected (days since customer's last purchase, total dollars customer has spent at store, customer age, etc.).\n",
    "\n",
    "In the second, our matrix may represent fundamentally two-dimensional data, like a picture. A simple black and white image, for example, can be represented by a matrix where the value in each cell is the darkness of the corresponding pixel, and a color image can be created by combining multiple matrices -- one matrix for the amount of blue in each pixel, one for the amount of red, and one for the amount of green. \n",
    "\n",
    "While vectors and matrices are probably the most used types of arrays in data science, arrays can be extended into as many dimensions as one wants! For example, we could represent that color image we just described not with three matrices, but with one three-dimensional array composed of the three stacked matrices. Or we might also want to work with a three-dimensional array to represent three-dimensional data, like the results of an MRI scan of a brain with MRI signal strength in each cell, or a climate model with temperatures at a given location and altitude in each cell. Indeed, even higher dimensional arrays are commonly used, even if they're harder to visualize -- for example, if we wanted to model how a three-dimensional climate model changes over time, we could think of that as a series of three-dimensional arrays (each representing the world at a given time) stacked along a fourth dimension (time)!\n",
    "\n",
    "## Vectors\n",
    "\n",
    "All the flexibility that makes arrays so powerful can also be **really** overwhelming, so while it's helpful for you to know a little about why arrays are so powerful, we'll start our lesson by just getting a firm grasp on how to work with the simplest form of arrays -- the vector. \n",
    "\n",
    "Then, once we feel really comfortable with vectors, we'll talk about how everything you've learned about manipulating vectors can be easily generalized to these higher-dimensional arrays. Because as we'll see, the real magic of arrays isn't that they come in so many flavors -- it's that arrays follow the same logic whether they're simple one-dimensional vectors or 10 dimensional tensors.\n",
    "\n",
    "### Creating a Vector\n",
    "\n",
    "Vectors are one-dimensional arrays, which means they have two key properties: first, they organize all their data in a line along one dimension (like the lists you saw in your previous readings), and second they are *homogeneously typed*, meaning each vector only holds data of one type (integer, floating point number, etc.)."
   ]
  },
  {
   "cell_type": "markdown",
   "id": "503b0ecb",
   "metadata": {},
   "source": [
    "The simplest way to create a vector is with the `np.array()` function and a list:"
   ]
  },
  {
   "cell_type": "code",
   "execution_count": 1,
   "id": "7285fecd",
   "metadata": {},
   "outputs": [
    {
     "data": {
      "text/plain": [
       "array([1, 2, 3])"
      ]
     },
     "execution_count": 1,
     "metadata": {},
     "output_type": "execute_result"
    }
   ],
   "source": [
    "import numpy as np\n",
    "\n",
    "# A vector of ints\n",
    "an_integer_vector = np.array([1, 2, 3])\n",
    "an_integer_vector"
   ]
  },
  {
   "cell_type": "markdown",
   "id": "1e2789c4",
   "metadata": {},
   "source": [
    "When you create a vector this way, numpy will do it's best to infer the type of data you want the vector to store based on the data you provided it. You can see what it guessed by checking the `.dtype` attribute of your array:"
   ]
  },
  {
   "cell_type": "code",
   "execution_count": 2,
   "id": "21cee23c",
   "metadata": {},
   "outputs": [
    {
     "data": {
      "text/plain": [
       "dtype('int64')"
      ]
     },
     "execution_count": 2,
     "metadata": {},
     "output_type": "execute_result"
    }
   ],
   "source": [
    "an_integer_vector.dtype"
   ]
  },
  {
   "cell_type": "markdown",
   "id": "26b9e103",
   "metadata": {},
   "source": [
    "We'll talk more about numpy data types, but for now it's sufficient to know that `int64` is a kind of integer. So in this case, you passed `np.array()` a list of three integers, so it chose to create an array of integers!"
   ]
  },
  {
   "cell_type": "markdown",
   "id": "47225520",
   "metadata": {},
   "source": [
    "Vectors aren't limited to integers, or course -- we can also create vectors of floating point numbers (numbers with decimal components), Booleans, or strings!"
   ]
  },
  {
   "cell_type": "code",
   "execution_count": 3,
   "id": "7b767eb7",
   "metadata": {},
   "outputs": [
    {
     "data": {
      "text/plain": [
       "array([1.7 , 2.  , 3.14])"
      ]
     },
     "execution_count": 3,
     "metadata": {},
     "output_type": "execute_result"
    }
   ],
   "source": [
    "# A vector of floats\n",
    "a_float_vector = np.array([1.7, 2, 3.14])\n",
    "a_float_vector"
   ]
  },
  {
   "cell_type": "code",
   "execution_count": 4,
   "id": "a7d5926e",
   "metadata": {},
   "outputs": [
    {
     "data": {
      "text/plain": [
       "dtype('float64')"
      ]
     },
     "execution_count": 4,
     "metadata": {},
     "output_type": "execute_result"
    }
   ],
   "source": [
    "a_float_vector.dtype"
   ]
  },
  {
   "cell_type": "code",
   "execution_count": 5,
   "id": "d275df48",
   "metadata": {},
   "outputs": [
    {
     "data": {
      "text/plain": [
       "dtype('bool')"
      ]
     },
     "execution_count": 5,
     "metadata": {},
     "output_type": "execute_result"
    }
   ],
   "source": [
    "# A vector of booleans\n",
    "a_boolean_vector = np.array([True, False, True])\n",
    "a_boolean_vector\n",
    "\n",
    "a_boolean_vector.dtype"
   ]
  },
  {
   "cell_type": "code",
   "execution_count": 6,
   "id": "69b43582",
   "metadata": {},
   "outputs": [
    {
     "data": {
      "text/plain": [
       "array(['Lassie', '盼盼', 'Hachi', 'Flipper', '🐄'], dtype='<U7')"
      ]
     },
     "execution_count": 6,
     "metadata": {},
     "output_type": "execute_result"
    }
   ],
   "source": [
    "# A vector of strings\n",
    "# (Note numpy is entirely happy with unicode\n",
    "# characters like emojis or Chinese characters!)\n",
    "\n",
    "a_string_vector = np.array([\"Lassie\", \"盼盼\", \"Hachi\", \"Flipper\", \"🐄\"])\n",
    "a_string_vector"
   ]
  },
  {
   "cell_type": "code",
   "execution_count": 7,
   "id": "94a6dd48",
   "metadata": {},
   "outputs": [
    {
     "data": {
      "text/plain": [
       "dtype('<U7')"
      ]
     },
     "execution_count": 7,
     "metadata": {},
     "output_type": "execute_result"
    }
   ],
   "source": [
    "# Data types for strings look especially strange -- \n",
    "# we'll talk about that below! Here, the U7 means \n",
    "# this is storing Unicode strings of length 7, \n",
    "# (but it won't hold any that are longer!).\n",
    "# Don't worry if that doesn't mean anything to you.\n",
    "a_string_vector.dtype"
   ]
  },
  {
   "cell_type": "markdown",
   "id": "f3333a26",
   "metadata": {},
   "source": [
    "Of course, vectors wouldn't be useful if we had to create a list and pass it to `np.array` anytime we wanted an array, so there are two other primary ways to get arrays. \n",
    "\n",
    "First, we can read in data from a file. In reality, this will *probably* be the method you use most for getting data in your career, though we won't really get into reading in data from files till a later lesson.\n",
    "\n",
    "Second, we can use any one of a number of helper functions designed to generate especially helpful arrays. For example:"
   ]
  },
  {
   "cell_type": "code",
   "execution_count": 8,
   "id": "948df16e",
   "metadata": {},
   "outputs": [
    {
     "data": {
      "text/plain": [
       "array([0, 1, 2, 3, 4, 5, 6, 7, 8, 9])"
      ]
     },
     "execution_count": 8,
     "metadata": {},
     "output_type": "execute_result"
    }
   ],
   "source": [
    "# Numbers from 0 to 10\n",
    "np.arange(10)"
   ]
  },
  {
   "cell_type": "code",
   "execution_count": 9,
   "id": "934a9d09",
   "metadata": {},
   "outputs": [
    {
     "data": {
      "text/plain": [
       "array([1., 1., 1.])"
      ]
     },
     "execution_count": 9,
     "metadata": {},
     "output_type": "execute_result"
    }
   ],
   "source": [
    "# Ones\n",
    "np.ones(3)"
   ]
  },
  {
   "cell_type": "code",
   "execution_count": 10,
   "id": "14be61f0",
   "metadata": {},
   "outputs": [
    {
     "data": {
      "text/plain": [
       "array([0., 0., 0.])"
      ]
     },
     "execution_count": 10,
     "metadata": {},
     "output_type": "execute_result"
    }
   ],
   "source": [
    "# Zeros\n",
    "np.zeros(3)"
   ]
  },
  {
   "cell_type": "code",
   "execution_count": 11,
   "id": "307ce1dc",
   "metadata": {},
   "outputs": [
    {
     "data": {
      "text/plain": [
       "array([0.3130154 , 0.68489021, 0.08976362])"
      ]
     },
     "execution_count": 11,
     "metadata": {},
     "output_type": "execute_result"
    }
   ],
   "source": [
    "# An array of random values \n",
    "# distributed uniformally between 0 and 1\n",
    "np.random.rand(3)"
   ]
  },
  {
   "cell_type": "markdown",
   "id": "a88aec19",
   "metadata": {},
   "source": [
    "### Numpy Data Types\n",
    "\n",
    "As we saw above, the way numpy writes out data types looks a little different from what we've previously seen from Python. For example, in Python the number 1 is just an `int`:"
   ]
  },
  {
   "cell_type": "code",
   "execution_count": 12,
   "id": "79031ef9",
   "metadata": {},
   "outputs": [
    {
     "data": {
      "text/plain": [
       "int"
      ]
     },
     "execution_count": 12,
     "metadata": {},
     "output_type": "execute_result"
    }
   ],
   "source": [
    "type(1)"
   ]
  },
  {
   "cell_type": "markdown",
   "id": "c285bbca",
   "metadata": {},
   "source": [
    "And a floating point number like 3.14 is a `float`:"
   ]
  },
  {
   "cell_type": "code",
   "execution_count": 13,
   "id": "7268c80a",
   "metadata": {},
   "outputs": [
    {
     "data": {
      "text/plain": [
       "float"
      ]
     },
     "execution_count": 13,
     "metadata": {},
     "output_type": "execute_result"
    }
   ],
   "source": [
    "type(3.14)"
   ]
  },
  {
   "cell_type": "markdown",
   "id": "efb0543c",
   "metadata": {},
   "source": [
    "In numpy, by contrast, we also see these trailing numbers (e.g. `int64` and `float64`). Those trailing numbers just indicate the number of bits (individual 1s and 0s) that numpy is using to store each integer or floating point number. On any modern computer, numpy will default to 64 bits. This is a complexity you really don't need to worry about for now, but basically it's there because you can tell numpy to allocate fewer bits to storing numbers if you want your data to take up less memory *and* you're ok with the trade-offs that come with allocating fewer bits to storing a number (e.g. if you move from `float64` to `float16`, numpy will start ignoring many of the trailing digits of very long numbers).\n",
    "\n",
    "If at any point you want to control the type of your array (instead of having numpy guess), you can pass an argument to the `dtype` keyword when using `np.array()`. For example, if I want to make sure my array is an array of floats even if the data I'm putting in could be treated as integers, I could type:"
   ]
  },
  {
   "cell_type": "code",
   "execution_count": 14,
   "id": "e5d6c407",
   "metadata": {},
   "outputs": [
    {
     "data": {
      "text/plain": [
       "array([1., 2.])"
      ]
     },
     "execution_count": 14,
     "metadata": {},
     "output_type": "execute_result"
    }
   ],
   "source": [
    "as_a_float = np.array([1, 2], dtype=\"float\")\n",
    "as_a_float"
   ]
  },
  {
   "cell_type": "code",
   "execution_count": 15,
   "id": "c64741ae",
   "metadata": {},
   "outputs": [
    {
     "data": {
      "text/plain": [
       "dtype('float64')"
      ]
     },
     "execution_count": 15,
     "metadata": {},
     "output_type": "execute_result"
    }
   ],
   "source": [
    "as_a_float.dtype"
   ]
  },
  {
   "cell_type": "markdown",
   "id": "e1bdf2a2",
   "metadata": {},
   "source": [
    "We'll talk more about when you might want to do that in a later reading. \n",
    "\n",
    "(Also, note I didn't have to say `float64` -- if you don't give a number when specifying a type, numpy will just use it's own default, which is usually 64.)"
   ]
  },
  {
   "cell_type": "markdown",
   "id": "9507a047",
   "metadata": {},
   "source": [
    "## Exercises\n",
    "\n",
    "1. Create a vector with all the prime numbers between 0 and 10 (e.g., just type the prime numbers in a vector).\n",
    "2. Use `len()` to get the number of numbers you put into your vector.\n",
    "3. Access the `.size` attribute to get the same number (just a different way!)\n",
    "4. What do you think is the `dtype` of vector? Answer without running any code.\n",
    "5. Now access the `.dtype` attribute -- were you correct?"
   ]
  }
 ],
 "metadata": {
  "interpreter": {
   "hash": "3e0a5228cb9726a24d36227c69ed0d3aac98cecda769d1c9adb080711d57f90d"
  },
  "jupytext": {
   "cell_metadata_filter": "-all",
   "main_language": "R",
   "notebook_metadata_filter": "-all"
  },
  "kernelspec": {
   "display_name": "R",
   "language": "python",
   "name": "python3"
  },
  "language_info": {
   "codemirror_mode": {
    "name": "ipython",
    "version": 3
   },
   "file_extension": ".py",
   "mimetype": "text/x-python",
   "name": "python",
   "nbconvert_exporter": "python",
   "pygments_lexer": "ipython3",
   "version": "3.9.7"
  }
 },
 "nbformat": 4,
 "nbformat_minor": 5
}
