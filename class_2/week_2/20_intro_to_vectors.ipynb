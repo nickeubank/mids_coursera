{
 "cells": [
  {
   "cell_type": "markdown",
   "metadata": {},
   "source": [
    "# Intro to Vectors\n",
    "\n",
    "In this reading, we'll learn about the most basic type of numpy array: the vector. Vectors are arrays that organize their contents along a single dimension, basically the same way data is organized in a `list`. So for example, if I created a vector with the numbers 42, 47, and -1, our vector would store those numbers in order, and I could extract individual elements from my vector by their *index* (their ordering):"
   ]
  },
  {
   "cell_type": "code",
   "execution_count": 1,
   "id": "5a155039",
   "metadata": {},
   "outputs": [
    {
     "data": {
      "text/plain": [
       "array([42, 47, -1])"
      ]
     },
     "execution_count": 1,
     "metadata": {},
     "output_type": "execute_result"
    }
   ],
   "source": [
    "import numpy as np\n",
    "my_vector = np.array([42, 47, -1])\n",
    "my_vector"
   ]
  },
  {
   "cell_type": "code",
   "execution_count": 2,
   "id": "f1327784",
   "metadata": {},
   "outputs": [
    {
     "data": {
      "text/plain": [
       "47"
      ]
     },
     "execution_count": 2,
     "metadata": {},
     "output_type": "execute_result"
    }
   ],
   "source": [
    "# Extract by single index\n",
    "my_vector[1]"
   ]
  },
  {
   "cell_type": "code",
   "execution_count": 3,
   "id": "4ea34840",
   "metadata": {},
   "outputs": [
    {
     "data": {
      "text/plain": [
       "array([47])"
      ]
     },
     "execution_count": 3,
     "metadata": {},
     "output_type": "execute_result"
    }
   ],
   "source": [
    "# Or slice\n",
    "my_vector[1:2]"
   ]
  },
  {
   "cell_type": "markdown",
   "id": "0ca9eb36",
   "metadata": {},
   "source": [
    "But while we can extract elements from a vector the same way we would from a list, vectors and lists differ in a number of ways, the most important of which is that vectors can only hold *one* data type. That means that if we tried to insert a floating point number (number with decimals) into this vector of integers:"
   ]
  },
  {
   "cell_type": "code",
   "execution_count": 4,
   "id": "21613681",
   "metadata": {},
   "outputs": [
    {
     "data": {
      "text/plain": [
       "array([ 7, 47, -1])"
      ]
     },
     "execution_count": 4,
     "metadata": {},
     "output_type": "execute_result"
    }
   ],
   "source": [
    "my_vector[0] = 7.32\n",
    "my_vector"
   ]
  },
  {
   "cell_type": "markdown",
   "id": "0a65b5ab",
   "metadata": {},
   "source": [
    "numpy will convert our floating point number (7.32) into an integer before putting it into the vector. And that's why instead of 7.32 appearing in our vector, we now have 7 (the result of `integer(7.32)`)."
   ]
  },
  {
   "cell_type": "markdown",
   "id": "1b4a30e2",
   "metadata": {},
   "source": [
    "## Why Do We Need Vectors? \n",
    "\n",
    "\"If vectors are *basically* like lists, except that they can only store data of one type, why on earth do we need them?\" I hear you asking.\n",
    "\n",
    "Speed and memory usage.\n",
    "\n",
    "As we mentioned in our last reading, lists are flexible, but that flexibility comes at the cost of performance and memory usage. In other words, if lists and cars were vehicles, lists would be 18 wheelers -- lots of space to store stuff, but big and hard to get around -- and numpy vectors would be sports cars -- small and fast, not much storage.\n",
    "\n",
    "How much slower? Well, to illustrate let's create a list with all the numbers from one to a billion and sum them with regular Python; then let's do the same thing with numpy vectors and compare the result:"
   ]
  },
  {
   "cell_type": "code",
   "execution_count": 5,
   "id": "fcd4b908",
   "metadata": {},
   "outputs": [],
   "source": [
    "# Remember `range` doesn't include the last number,\n",
    "# so I have to go up to 1_000_000_001 to actually get all\n",
    "# the numbers from 1 to 1_000_000_000\n",
    "\n",
    "# Make list\n",
    "one_to_billion_list = list(range(1, 1_000_000_001))\n",
    "\n",
    "# May array\n",
    "one_to_billion_vector = np.arange(1, 1_000_000_001)\n"
   ]
  },
  {
   "cell_type": "code",
   "execution_count": 6,
   "id": "ed096680",
   "metadata": {},
   "outputs": [
    {
     "name": "stdout",
     "output_type": "stream",
     "text": [
      "CPU times: user 11.8 s, sys: 35.8 s, total: 47.7 s\n",
      "Wall time: 1min 5s\n"
     ]
    },
    {
     "data": {
      "text/plain": [
       "500000000500000000"
      ]
     },
     "execution_count": 6,
     "metadata": {},
     "output_type": "execute_result"
    }
   ],
   "source": [
    "%time sum(one_to_billion_list)"
   ]
  },
  {
   "cell_type": "code",
   "execution_count": 7,
   "id": "97bdfaa9",
   "metadata": {},
   "outputs": [
    {
     "name": "stdout",
     "output_type": "stream",
     "text": [
      "CPU times: user 1.77 s, sys: 5.95 s, total: 7.72 s\n",
      "Wall time: 10.1 s\n"
     ]
    },
    {
     "data": {
      "text/plain": [
       "500000000500000000"
      ]
     },
     "execution_count": 7,
     "metadata": {},
     "output_type": "execute_result"
    }
   ],
   "source": [
    "%time np.sum(one_to_billion_vector)"
   ]
  },
  {
   "cell_type": "markdown",
   "id": "9ee42353",
   "metadata": {},
   "source": [
    "So on my 2019 Macbook Pro with 32GB RAM, that took about ~1 minute with regular Python; ~10 seconds with numpy. That's more than a 50x speedup, just for that simple calculation.\n",
    "\n",
    "But that's not all -- to create that list, regular Python required over **35GB** of RAM, while numpy only used about 6GB."
   ]
  },
  {
   "cell_type": "markdown",
   "id": "7a4bb7e0",
   "metadata": {},
   "source": [
    "This is, of course, a toy example. But storing large collections of numbers and manipulating them quickly is at the heart of data science, and these differences in speed and storage efficiency are precisely why we use numpy arrays instead of regular Python objects like lists. "
   ]
  },
  {
   "cell_type": "markdown",
   "metadata": {},
   "source": [
    "## Creating vectors\n",
    "\n",
    "Now that we've motivated our interest in vectors, let's get into their basic usage.\n",
    "\n",
    "The simplest way to create a vector is with the `np.array()` function and a list:"
   ]
  },
  {
   "cell_type": "code",
   "execution_count": 9,
   "id": "7285fecd",
   "metadata": {},
   "outputs": [
    {
     "data": {
      "text/plain": [
       "array([1, 2, 3])"
      ]
     },
     "execution_count": 9,
     "metadata": {},
     "output_type": "execute_result"
    }
   ],
   "source": [
    "# A vector of ints\n",
    "an_integer_vector = np.array([1, 2, 3])\n",
    "an_integer_vector"
   ]
  },
  {
   "cell_type": "markdown",
   "id": "47225520",
   "metadata": {},
   "source": [
    "Vectors aren't limited to integers, however -- we can also create vectors of floating point numbers (numbers with decimal components), Booleans, or strings!"
   ]
  },
  {
   "cell_type": "code",
   "execution_count": 10,
   "id": "7b767eb7",
   "metadata": {},
   "outputs": [
    {
     "data": {
      "text/plain": [
       "array([1.7 , 2.  , 3.14])"
      ]
     },
     "execution_count": 10,
     "metadata": {},
     "output_type": "execute_result"
    }
   ],
   "source": [
    "# A vector of floats\n",
    "a_float_vector = np.array([1.7, 2, 3.14])\n",
    "a_float_vector"
   ]
  },
  {
   "cell_type": "code",
   "execution_count": 11,
   "id": "d275df48",
   "metadata": {},
   "outputs": [
    {
     "data": {
      "text/plain": [
       "array([ True, False,  True])"
      ]
     },
     "execution_count": 11,
     "metadata": {},
     "output_type": "execute_result"
    }
   ],
   "source": [
    "# A vector of booleans\n",
    "a_boolean_vector = np.array([True, False, True])\n",
    "a_boolean_vector"
   ]
  },
  {
   "cell_type": "code",
   "execution_count": 12,
   "metadata": {},
   "outputs": [
    {
     "data": {
      "text/plain": [
       "array(['Red', 'Green', 'Purple'], dtype='<U6')"
      ]
     },
     "execution_count": 12,
     "metadata": {},
     "output_type": "execute_result"
    }
   ],
   "source": [
    "# A vector of strings\n",
    "a_string_vector = np.array([\"Red\", \"Green\", \"Purple\"])\n",
    "a_string_vector\n"
   ]
  },
  {
   "cell_type": "markdown",
   "id": "f3333a26",
   "metadata": {},
   "source": [
    "But vectors wouldn't be useful if we had to create a list and pass it to `np.array` anytime we wanted an array, so we also have a number of functions for generating common types of vectors:"
   ]
  },
  {
   "cell_type": "code",
   "execution_count": 13,
   "id": "948df16e",
   "metadata": {},
   "outputs": [
    {
     "data": {
      "text/plain": [
       "array([0, 1, 2, 3, 4, 5, 6, 7, 8, 9])"
      ]
     },
     "execution_count": 13,
     "metadata": {},
     "output_type": "execute_result"
    }
   ],
   "source": [
    "# Numbers from 0 to 10\n",
    "np.arange(10)"
   ]
  },
  {
   "cell_type": "code",
   "execution_count": 14,
   "id": "934a9d09",
   "metadata": {},
   "outputs": [
    {
     "data": {
      "text/plain": [
       "array([1., 1., 1.])"
      ]
     },
     "execution_count": 14,
     "metadata": {},
     "output_type": "execute_result"
    }
   ],
   "source": [
    "# Ones\n",
    "np.ones(3)"
   ]
  },
  {
   "cell_type": "code",
   "execution_count": 15,
   "id": "14be61f0",
   "metadata": {},
   "outputs": [
    {
     "data": {
      "text/plain": [
       "array([0., 0., 0.])"
      ]
     },
     "execution_count": 15,
     "metadata": {},
     "output_type": "execute_result"
    }
   ],
   "source": [
    "# Zeros\n",
    "np.zeros(3)"
   ]
  },
  {
   "cell_type": "markdown",
   "id": "d6610eae",
   "metadata": {},
   "source": [
    "(Note that numpy writes the ones and zeros vectors with decimals after the numbers -- that's how numpy tells you that those are being stored as floating point numbers (floats), not integers). We can also see this with the `.dtype` attribute:"
   ]
  },
  {
   "cell_type": "code",
   "execution_count": 16,
   "id": "4c3f74ea",
   "metadata": {},
   "outputs": [
    {
     "data": {
      "text/plain": [
       "array([0., 0., 0.])"
      ]
     },
     "execution_count": 16,
     "metadata": {},
     "output_type": "execute_result"
    }
   ],
   "source": [
    "my_zeros = np.zeros(3)\n",
    "my_zeros"
   ]
  },
  {
   "cell_type": "code",
   "execution_count": 17,
   "id": "7b53342a",
   "metadata": {},
   "outputs": [
    {
     "data": {
      "text/plain": [
       "dtype('float64')"
      ]
     },
     "execution_count": 17,
     "metadata": {},
     "output_type": "execute_result"
    }
   ],
   "source": [
    "my_zeros.dtype"
   ]
  },
  {
   "cell_type": "markdown",
   "metadata": {},
   "source": [
    "## Vector Math\n",
    "\n",
    "If vectors were just for storing data, they wouldn't be super useful. But one of the best things about vectors is that we can use them to do mathematical operations efficiently.\n",
    "\n",
    "If you do math with two vectors, one of which has length one, you basically just get the operation applied to every entry.\n"
   ]
  },
  {
   "cell_type": "code",
   "execution_count": 18,
   "metadata": {},
   "outputs": [
    {
     "data": {
      "text/plain": [
       "array([0, 1, 2, 3, 4, 5, 6, 7, 8, 9])"
      ]
     },
     "execution_count": 18,
     "metadata": {},
     "output_type": "execute_result"
    }
   ],
   "source": [
    "# Here's what we'll start with\n",
    "numbers = np.arange(10)\n",
    "numbers\n"
   ]
  },
  {
   "cell_type": "code",
   "execution_count": 19,
   "metadata": {},
   "outputs": [
    {
     "data": {
      "text/plain": [
       "array([0. , 0.1, 0.2, 0.3, 0.4, 0.5, 0.6, 0.7, 0.8, 0.9])"
      ]
     },
     "execution_count": 19,
     "metadata": {},
     "output_type": "execute_result"
    }
   ],
   "source": [
    "# You can modify all values in a vector \n",
    "# by doing math with a vector of length 1\n",
    "numbers / 10"
   ]
  },
  {
   "cell_type": "code",
   "execution_count": 20,
   "metadata": {},
   "outputs": [
    {
     "data": {
      "text/plain": [
       "array([10, 11, 12, 13, 14, 15, 16, 17, 18, 19])"
      ]
     },
     "execution_count": 20,
     "metadata": {},
     "output_type": "execute_result"
    }
   ],
   "source": [
    "numbers + 10"
   ]
  },
  {
   "cell_type": "markdown",
   "metadata": {},
   "source": [
    "The same thing happens with mathematical functions -- the function gets applied to each entry:"
   ]
  },
  {
   "cell_type": "code",
   "execution_count": 21,
   "metadata": {},
   "outputs": [
    {
     "data": {
      "text/plain": [
       "array([0.        , 1.        , 1.41421356, 1.73205081, 2.        ,\n",
       "       2.23606798, 2.44948974, 2.64575131, 2.82842712, 3.        ])"
      ]
     },
     "execution_count": 21,
     "metadata": {},
     "output_type": "execute_result"
    }
   ],
   "source": [
    "# Modify a vector using a function\n",
    "np.sqrt(numbers) #square root\n"
   ]
  },
  {
   "cell_type": "code",
   "execution_count": 22,
   "metadata": {},
   "outputs": [
    {
     "data": {
      "text/plain": [
       "array([1.00000000e+00, 2.71828183e+00, 7.38905610e+00, 2.00855369e+01,\n",
       "       5.45981500e+01, 1.48413159e+02, 4.03428793e+02, 1.09663316e+03,\n",
       "       2.98095799e+03, 8.10308393e+03])"
      ]
     },
     "execution_count": 22,
     "metadata": {},
     "output_type": "execute_result"
    }
   ],
   "source": [
    "np.exp(numbers) #exponentiate"
   ]
  },
  {
   "cell_type": "markdown",
   "metadata": {},
   "source": [
    "If you have two vectors of the same length, mathematical operations will occur \"element-wise\", meaning the mathematical operation will be applied to the two 1st entries, then the two 2nd entries, then the two 3rd entries, etc. For example, if we were to add our vector of the values 1 through 10 to a vector with five 0s, then five 1s, numpy would do the following:\n",
    "\n",
    "```\n",
    "0    +     0    =    0  +  0    =    0 \n",
    "1    +     0    =    1  +  0    =    1 \n",
    "2    +     0    =    2  +  0    =    2 \n",
    "3    +     0    =    3  +  0    =    3 \n",
    "4    +     0    =    4  +  0    =    4 \n",
    "5    +     1    =    5  +  1    =    6 \n",
    "6    +     1    =    6  +  1    =    7 \n",
    "7    +     1    =    7  +  1    =    8 \n",
    "8    +     1    =    8  +  1    =    9 \n",
    "9    +     1    =    9  +  1    =    10\n",
    "```\n",
    "\n",
    "(Obviously, numpy likes to print out vectors sideways, but personally I think of them as column vectors, so have written them out like that here).\n"
   ]
  },
  {
   "cell_type": "code",
   "execution_count": 23,
   "metadata": {},
   "outputs": [
    {
     "data": {
      "text/plain": [
       "array([ 0,  1,  2,  3,  4,  6,  7,  8,  9, 10])"
      ]
     },
     "execution_count": 23,
     "metadata": {},
     "output_type": "execute_result"
    }
   ],
   "source": [
    "# Two vectors with the same number of elements \n",
    "numbers2 = np.array([0, 0, 0, 0, 0, 1, 1, 1, 1, 1])\n",
    "numbers3 = numbers2 + numbers\n",
    "numbers3\n"
   ]
  },
  {
   "cell_type": "markdown",
   "metadata": {},
   "source": [
    "## Summarizing vectors \n",
    "\n",
    "We often want to get summary statistics from a vector --- that is, learn something general about it by looking beyond its constituent elements. If we have a vector in which each element represents a person's height, for example, we may want to know who the shortest or tallest person is, what the median or mean height is, what the standard deviation is. \n",
    "\n",
    "For that, numpy provides a huge range of numeric functions:"
   ]
  },
  {
   "cell_type": "code",
   "execution_count": 24,
   "metadata": {},
   "outputs": [
    {
     "data": {
      "text/plain": [
       "4.5"
      ]
     },
     "execution_count": 24,
     "metadata": {},
     "output_type": "execute_result"
    }
   ],
   "source": [
    "np.mean(numbers)"
   ]
  },
  {
   "cell_type": "code",
   "execution_count": 25,
   "id": "7da84ce3",
   "metadata": {},
   "outputs": [
    {
     "data": {
      "text/plain": [
       "9"
      ]
     },
     "execution_count": 25,
     "metadata": {},
     "output_type": "execute_result"
    }
   ],
   "source": [
    "np.max(numbers)"
   ]
  },
  {
   "cell_type": "markdown",
   "metadata": {},
   "source": [
    "Here's a short (very incomplete!) list of these kinds of functions:"
   ]
  },
  {
   "cell_type": "markdown",
   "id": "be1a8ee8",
   "metadata": {},
   "source": [
    "```python\n",
    "len(numbers) #number of elements \n",
    "np.max(numbers) #maximum value\n",
    "np.min(numbers) #minimum value\n",
    "np.sum(numbers) #sum of all values in the vector\n",
    "np.mean(numbers) #mean\n",
    "np.median(numbers) #median\n",
    "np.var(numbers) #variance\n",
    "np.sd(numbers) #standard deviation\n",
    "np.quantile(numbers) #percentiles in intervals of .25 \n",
    "```"
   ]
  },
  {
   "cell_type": "markdown",
   "metadata": {},
   "source": [
    "**Don't** worry about memorizing these or anything -- basically, you just need to have a sense of the kinds of things you can do with functions, and if you ever need one can can't remember the name of the function, you can google it to get the specific function name. "
   ]
  },
  {
   "cell_type": "markdown",
   "metadata": {},
   "source": [
    "## Type Promotion"
   ]
  },
  {
   "cell_type": "markdown",
   "metadata": {},
   "source": [
    "There's one last lesson that's worth learning about vectors, because it can get you in trouble. \n",
    "\n",
    "As noted above, vectors can only contain one type of data, but if you try pass a list with different kinds of data to `np.array`, numpy will try and be clever and *find* a way to put all that data in one array by doing something called \"Type Promotion.\" Type promotion is the practice of converting all the data you give it to the same type. For example, if I tried to create a vector by combining a string vector and a numeric vector, numpy would convert the numeric value to a string so all the data could fit in a string vector:\n"
   ]
  },
  {
   "cell_type": "code",
   "execution_count": 26,
   "metadata": {},
   "outputs": [
    {
     "data": {
      "text/plain": [
       "array(['Nick', '42'], dtype='<U21')"
      ]
     },
     "execution_count": 26,
     "metadata": {},
     "output_type": "execute_result"
    }
   ],
   "source": [
    "np.array([\"Nick\", 42])"
   ]
  },
  {
   "cell_type": "markdown",
   "metadata": {},
   "source": [
    "Why did numpy convert `42` to `\"42\"` and not convert `\"Nick\"` to a numeric type? Well because `\"Nick\"` can't be represented as a numeric type in any meaningful sense while any number (like `42`) can always be represented as a character in a meaningful way.\n",
    "\n",
    "Indeed, there's a hierarchy of data types, where a type lower on the hierarchy can **always** be converted into something higher in the order, but not the other way around. That hierarchy is:\n",
    "\n",
    "`Boolean` --> `integer` --> `float` --> `string`\n",
    "\n",
    "When Python is asked to combine data of different types, it will try to move things up this hierarchy by the smallest amount possible in order to make everything the same type.\n",
    "\n",
    "(Note there are individual cases that can move backwards -- the character `\"5\"` could logically be turned into `5` -- but you can't always convert a character to a numeric, so for consistently R only moves in directions that are **always** possible. \n",
    "\n",
    "For example, if you combine `Boolean` and `float` vectors, Python will convert all of the data into `float` (Remember from our previous reading that Python thinks of `True` as being like `1`, and `False` as being like `0`).\n"
   ]
  },
  {
   "cell_type": "code",
   "execution_count": 27,
   "metadata": {},
   "outputs": [
    {
     "data": {
      "text/plain": [
       "array([1. , 2.4, 1. ])"
      ]
     },
     "execution_count": 27,
     "metadata": {},
     "output_type": "execute_result"
    }
   ],
   "source": [
    "np.array([1, 2.4, True])"
   ]
  },
  {
   "cell_type": "markdown",
   "metadata": {},
   "source": [
    "But it **doesn't** convert that data into a `string` vector (even though it could!) because it's trying to make the smallest movements up that hierarchy that it can. \n",
    "\n",
    "But if we try to combine `Boolean`, `float`, *and* `string` data, Python would be forced to convert everything into a `string` vector:"
   ]
  },
  {
   "cell_type": "code",
   "execution_count": 28,
   "metadata": {},
   "outputs": [
    {
     "data": {
      "text/plain": [
       "array(['True', '42', 'Julio'], dtype='<U21')"
      ]
     },
     "execution_count": 28,
     "metadata": {},
     "output_type": "execute_result"
    }
   ],
   "source": [
    "np.array([True, 42, \"Julio\"])"
   ]
  },
  {
   "cell_type": "markdown",
   "metadata": {},
   "source": [
    "## Recap\n",
    "\n",
    "- Vectors are collections of data of the same type. \n",
    "- Vectors can be created with the `np.array()` function. \n",
    "- You can easily do math between any vector and a vector of length 1, or a vector of the same length. \n",
    "- You *can* do math between vectors of different lengths that aren't length 1, but... the way it works is weird, so don't. \n",
    "- If data of different types are passed to the `np.array()` function, it will type promote them to the lowest type that can store all the input types. "
   ]
  },
  {
   "cell_type": "markdown",
   "metadata": {},
   "source": [
    "## Next Steps\n",
    "\n",
    "Now that we're familiar with vectors, [it's time to learn to manipulate them!](manipulating_vectors.ipynb)"
   ]
  }
 ],
 "metadata": {
  "interpreter": {
   "hash": "3e0a5228cb9726a24d36227c69ed0d3aac98cecda769d1c9adb080711d57f90d"
  },
  "jupytext": {
   "cell_metadata_filter": "-all",
   "main_language": "R",
   "notebook_metadata_filter": "-all"
  },
  "kernelspec": {
   "display_name": "R",
   "language": "python",
   "name": "python3"
  },
  "language_info": {
   "codemirror_mode": {
    "name": "ipython",
    "version": 3
   },
   "file_extension": ".py",
   "mimetype": "text/x-python",
   "name": "python",
   "nbconvert_exporter": "python",
   "pygments_lexer": "ipython3",
   "version": "3.9.7"
  }
 },
 "nbformat": 4,
 "nbformat_minor": 5
}
