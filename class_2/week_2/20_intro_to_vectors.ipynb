{
 "cells": [
  {
   "cell_type": "markdown",
   "id": "5b7dda17",
   "metadata": {},
   "source": [
    "# Working with Vectors\n",
    "\n",
    "In this reading, we'll introduce you to the most basic form of the numpy array: the vector! We'll start by helping to contextualize and explain why we use vectors, then we'll talk about how to create a vector and use it to do mathematical operations. \n",
    "\n",
    "## Vectors in Context\n",
    "\n",
    "As we mentioned in our last reading, the fundamental workhorse of data science in python in the numpy array. While all numpy arrays are similar, they do come in range of flavors depending on the number of dimensions along which they organize the data they contain:\n",
    "\n",
    "[Add a well formatted image that looks something like the following here, though with numbers clearly in the boxes:\n",
    "\n",
    "![numpy array example image](images/numpy_array_flavors.png)\n",
    "\n",
    "The simplest form of the numpy array is a one-dimensional array, also known as a *vector*. Vectors are a building block of data science because they are often used to represent a collection of different *measurements* or *observations* of the same thing. For example, one may use a vector to hold the heights of everyone in a classroom, or a series of measurements of one's heart rate taken over time.\n",
    "\n",
    "When we move from one dimension to two, the resulting array is also known as a *matrix*. Matrices (the plural of matrix) are commonly used to represent data in two different ways. \n",
    "\n",
    "In the first, we can create a matrix by placing lots of vectors side by side so that each column becomes a different property being measured, and each row becomes a single entity whose properties are being measured. For example, you could imagine storing data about customers in a matrix, where each row is a different individual customer, and each column is a different type of data being collected (days since customer's last purchase, total dollars customer has spent at store, customer age, etc.).\n",
    "\n",
    "In the second, our matrix may represent fundamentally two-dimensional data, like a picture. A simple black and white image, for example, can be represented by a matrix where the value in each cell is the darkness of the corresponding pixel, and a color image can be created by combining multiple matrices -- one matrix for the amount of blue in each pixel, one for the amount of red, and one for the amount of green. \n",
    "\n",
    "While vectors and matrices are probably the most used types of arrays in data science, arrays can be extended into as many dimensions as one wants! For example, we could represent that color image we just described not with three matrices, but with one three-dimensional array composed of the three stacked matrices. Or we might also want to work with a three-dimensional array to represent three-dimensional data, like the results of an MRI scan of a brain with MRI signal strength in each cell, or a climate model with temperatures at a given location and altitude in each cell. Indeed, even higher dimensional arrays are commonly used, even if they're harder to visualize -- for example, if we wanted to model how a three-dimensional climate model changes over time, we could think of that as a series of three-dimensional arrays (each representing the world at a given time) stacked along a fourth dimension (time)!\n",
    "\n",
    "## Vectors\n",
    "\n",
    "All the flexibility that makes arrays so powerful can also be **really** overwhelming, so while it's helpful for you to know a little about why arrays are so powerful, we'll start our lesson by just getting a firm grasp on how to work with the simplest form of arrays -- the vector. \n",
    "\n",
    "Then, once we feel really comfortable with vectors, we'll talk about how everything you've learned about manipulating vectors can be easily generalized to these higher-dimensional arrays. Because as we'll see, the real magic of arrays isn't that they come in so many flavors -- it's that arrays follow the same logic whether they're simple one-dimensional vectors or 10 dimensional tensors.\n",
    "\n",
    "### Creating a Vector\n",
    "\n",
    "Vectors are one-dimensional arrays, which means they have two key properties: first, they organize all their data in a line along one dimension (like the lists you saw in your previous readings), and second they are *homogeneously typed*, meaning each vector only holds data of one type (integer, floating point number, etc.)."
   ]
  },
  {
   "cell_type": "markdown",
   "id": "503b0ecb",
   "metadata": {},
   "source": [
    "The simplest way to create a vector is with the `np.array()` function and a list:"
   ]
  },
  {
   "cell_type": "code",
   "execution_count": 28,
   "id": "7285fecd",
   "metadata": {},
   "outputs": [
    {
     "data": {
      "text/plain": [
       "array([1, 2, 3])"
      ]
     },
     "execution_count": 28,
     "metadata": {},
     "output_type": "execute_result"
    }
   ],
   "source": [
    "import numpy as np\n",
    "\n",
    "# A vector of ints\n",
    "an_integer_vector = np.array([1, 2, 3])\n",
    "an_integer_vector"
   ]
  },
  {
   "cell_type": "markdown",
   "id": "1e2789c4",
   "metadata": {},
   "source": [
    "When you create a vector this way, numpy will do it's best to infer the type of data you want the vector to store based on the data you provided it. You can see what it guessed by checking the `.dtype` attribute of your array:"
   ]
  },
  {
   "cell_type": "code",
   "execution_count": 29,
   "id": "21cee23c",
   "metadata": {},
   "outputs": [
    {
     "data": {
      "text/plain": [
       "dtype('int64')"
      ]
     },
     "execution_count": 29,
     "metadata": {},
     "output_type": "execute_result"
    }
   ],
   "source": [
    "an_integer_vector.dtype"
   ]
  },
  {
   "cell_type": "markdown",
   "id": "26b9e103",
   "metadata": {},
   "source": [
    "We'll talk more about numpy data types, but for now it's sufficient to know that `int64` is a kind of integer. So in this case, you passed `np.array()` a list of three integers, so it chose to create an array of integers!"
   ]
  },
  {
   "cell_type": "markdown",
   "id": "47225520",
   "metadata": {},
   "source": [
    "Vectors aren't limited to integers, or course -- we can also create vectors of floating point numbers (numbers with decimal components), Booleans, or strings!"
   ]
  },
  {
   "cell_type": "code",
   "execution_count": 30,
   "id": "7b767eb7",
   "metadata": {},
   "outputs": [
    {
     "data": {
      "text/plain": [
       "array([1.7 , 2.  , 3.14])"
      ]
     },
     "execution_count": 30,
     "metadata": {},
     "output_type": "execute_result"
    }
   ],
   "source": [
    "# A vector of floats\n",
    "a_float_vector = np.array([1.7, 2, 3.14])\n",
    "a_float_vector"
   ]
  },
  {
   "cell_type": "code",
   "execution_count": 31,
   "id": "a7d5926e",
   "metadata": {},
   "outputs": [
    {
     "data": {
      "text/plain": [
       "dtype('float64')"
      ]
     },
     "execution_count": 31,
     "metadata": {},
     "output_type": "execute_result"
    }
   ],
   "source": [
    "a_float_vector.dtype"
   ]
  },
  {
   "cell_type": "code",
   "execution_count": 32,
   "id": "d275df48",
   "metadata": {},
   "outputs": [
    {
     "data": {
      "text/plain": [
       "dtype('bool')"
      ]
     },
     "execution_count": 32,
     "metadata": {},
     "output_type": "execute_result"
    }
   ],
   "source": [
    "# A vector of booleans\n",
    "a_boolean_vector = np.array([True, False, True])\n",
    "a_boolean_vector\n",
    "\n",
    "a_boolean_vector.dtype"
   ]
  },
  {
   "cell_type": "code",
   "execution_count": 33,
   "id": "69b43582",
   "metadata": {},
   "outputs": [
    {
     "data": {
      "text/plain": [
       "array(['Red', 'Green', 'Purple'], dtype='<U6')"
      ]
     },
     "execution_count": 33,
     "metadata": {},
     "output_type": "execute_result"
    }
   ],
   "source": [
    "# A vector of strings\n",
    "a_string_vector = np.array([\"Red\", \"Green\", \"Purple\"])\n",
    "a_string_vector"
   ]
  },
  {
   "cell_type": "code",
   "execution_count": 34,
   "id": "94a6dd48",
   "metadata": {},
   "outputs": [
    {
     "data": {
      "text/plain": [
       "dtype('<U6')"
      ]
     },
     "execution_count": 34,
     "metadata": {},
     "output_type": "execute_result"
    }
   ],
   "source": [
    "# Data types for strings look especially strange -- \n",
    "# we'll talk about that below!\n",
    "a_string_vector.dtype"
   ]
  },
  {
   "cell_type": "markdown",
   "id": "f3333a26",
   "metadata": {},
   "source": [
    "Of course, vectors wouldn't be useful if we had to create a list and pass it to `np.array` anytime we wanted an array, so there are two other primary ways to get arrays. \n",
    "\n",
    "First, we can read in data from a file. In reality, this will *probably* be the method you use most for getting data in your career, though we won't really get into reading in data from files till a later lesson.\n",
    "\n",
    "Second, we can use any one of a number of helper functions designed to generate especially helpful arrays. For example:"
   ]
  },
  {
   "cell_type": "code",
   "execution_count": 35,
   "id": "948df16e",
   "metadata": {},
   "outputs": [
    {
     "data": {
      "text/plain": [
       "array([0, 1, 2, 3, 4, 5, 6, 7, 8, 9])"
      ]
     },
     "execution_count": 35,
     "metadata": {},
     "output_type": "execute_result"
    }
   ],
   "source": [
    "# Numbers from 0 to 10\n",
    "np.arange(10)"
   ]
  },
  {
   "cell_type": "code",
   "execution_count": 36,
   "id": "934a9d09",
   "metadata": {},
   "outputs": [
    {
     "data": {
      "text/plain": [
       "array([1., 1., 1.])"
      ]
     },
     "execution_count": 36,
     "metadata": {},
     "output_type": "execute_result"
    }
   ],
   "source": [
    "# Ones\n",
    "np.ones(3)"
   ]
  },
  {
   "cell_type": "code",
   "execution_count": 37,
   "id": "14be61f0",
   "metadata": {},
   "outputs": [
    {
     "data": {
      "text/plain": [
       "array([0., 0., 0.])"
      ]
     },
     "execution_count": 37,
     "metadata": {},
     "output_type": "execute_result"
    }
   ],
   "source": [
    "# Zeros\n",
    "np.zeros(3)"
   ]
  },
  {
   "cell_type": "code",
   "execution_count": 38,
   "id": "307ce1dc",
   "metadata": {},
   "outputs": [
    {
     "data": {
      "text/plain": [
       "array([0.38409829, 0.84690088, 0.15466977])"
      ]
     },
     "execution_count": 38,
     "metadata": {},
     "output_type": "execute_result"
    }
   ],
   "source": [
    "# An array of random values \n",
    "# distributed uniformally between 0 and 1\n",
    "np.random.rand(3)"
   ]
  },
  {
   "cell_type": "markdown",
   "id": "a88aec19",
   "metadata": {},
   "source": [
    "### Numpy Data Types\n",
    "\n",
    "As we saw above, the way numpy writes out data types looks a little different from what we've previously seen from Python. For example, in Python the number 1 is just an `int`:"
   ]
  },
  {
   "cell_type": "code",
   "execution_count": 39,
   "id": "79031ef9",
   "metadata": {},
   "outputs": [
    {
     "data": {
      "text/plain": [
       "int"
      ]
     },
     "execution_count": 39,
     "metadata": {},
     "output_type": "execute_result"
    }
   ],
   "source": [
    "type(1)"
   ]
  },
  {
   "cell_type": "markdown",
   "id": "c285bbca",
   "metadata": {},
   "source": [
    "And a floating point number like 3.14 is a `float`:"
   ]
  },
  {
   "cell_type": "code",
   "execution_count": 40,
   "id": "7268c80a",
   "metadata": {},
   "outputs": [
    {
     "data": {
      "text/plain": [
       "float"
      ]
     },
     "execution_count": 40,
     "metadata": {},
     "output_type": "execute_result"
    }
   ],
   "source": [
    "type(3.14)"
   ]
  },
  {
   "cell_type": "markdown",
   "id": "efb0543c",
   "metadata": {},
   "source": [
    "In numpy, by contrast, we also see these trailing numbers (e.g. `int64` and `float64`). Those trailing numbers just indicate the number of bits (individual 1s and 0s) that numpy is using to store each integer or floating point number. On any modern computer, numpy will default to 64 bits. This is a complexity you really don't need to worry about for now, but basically it's there because you can tell numpy to allocate fewer bits to storing numbers if you want your data to take up less memory *and* you're ok with the trade-offs that come with allocating fewer bits to storing a number (e.g. if you move from `float64` to `float16`, numpy will start ignoring many of the trailing digits of very long numbers).\n",
    "\n",
    "If at any point you want to control the type of your array (instead of having numpy guess), you can pass an argument to the `dtype` keyword when using `np.array()`. For example, if I want to make sure my array is an array of floats even if the data I'm putting in could be treated as integers, I could type:"
   ]
  },
  {
   "cell_type": "code",
   "execution_count": 41,
   "id": "e5d6c407",
   "metadata": {},
   "outputs": [
    {
     "data": {
      "text/plain": [
       "array([1., 2.])"
      ]
     },
     "execution_count": 41,
     "metadata": {},
     "output_type": "execute_result"
    }
   ],
   "source": [
    "as_a_float = np.array([1, 2], dtype=\"float\")\n",
    "as_a_float"
   ]
  },
  {
   "cell_type": "code",
   "execution_count": 42,
   "id": "c64741ae",
   "metadata": {},
   "outputs": [
    {
     "data": {
      "text/plain": [
       "dtype('float64')"
      ]
     },
     "execution_count": 42,
     "metadata": {},
     "output_type": "execute_result"
    }
   ],
   "source": [
    "as_a_float.dtype"
   ]
  },
  {
   "cell_type": "markdown",
   "id": "e1bdf2a2",
   "metadata": {},
   "source": [
    "We'll talk more about when you might want to do that in a later reading. \n",
    "\n",
    "(Also, note I didn't have to say `float64` -- if you don't give a number when specifying a type, numpy will just use it's own default, which is usually 64.)"
   ]
  },
  {
   "cell_type": "markdown",
   "id": "30f88b4b",
   "metadata": {},
   "source": [
    "## Vector Math\n",
    "\n",
    "If vectors were just for storing data, they wouldn't be super useful. But one of the best things about vectors is that we can use them to do mathematical operations efficiently.\n",
    "\n",
    "If you do math with two vectors, one of which has length one, you basically just get the operation applied to every entry.\n"
   ]
  },
  {
   "cell_type": "code",
   "execution_count": 43,
   "id": "c4f22e47",
   "metadata": {},
   "outputs": [
    {
     "data": {
      "text/plain": [
       "array([0, 1, 2, 3, 4])"
      ]
     },
     "execution_count": 43,
     "metadata": {},
     "output_type": "execute_result"
    }
   ],
   "source": [
    "# Here's what we'll start with\n",
    "numbers = np.arange(5)\n",
    "numbers\n"
   ]
  },
  {
   "cell_type": "code",
   "execution_count": 44,
   "id": "6f244ccc",
   "metadata": {},
   "outputs": [
    {
     "data": {
      "text/plain": [
       "array([0. , 0.1, 0.2, 0.3, 0.4])"
      ]
     },
     "execution_count": 44,
     "metadata": {},
     "output_type": "execute_result"
    }
   ],
   "source": [
    "# You can modify all values in a vector \n",
    "# by doing math with a vector of length 1\n",
    "numbers / 10"
   ]
  },
  {
   "cell_type": "code",
   "execution_count": 45,
   "id": "a02f568a",
   "metadata": {},
   "outputs": [
    {
     "data": {
      "text/plain": [
       "array([10, 11, 12, 13, 14])"
      ]
     },
     "execution_count": 45,
     "metadata": {},
     "output_type": "execute_result"
    }
   ],
   "source": [
    "numbers + 10"
   ]
  },
  {
   "cell_type": "markdown",
   "id": "ca9adf16",
   "metadata": {},
   "source": [
    "The same thing happens with mathematical functions -- the function gets applied to each entry:"
   ]
  },
  {
   "cell_type": "code",
   "execution_count": 46,
   "id": "cc8fc949",
   "metadata": {},
   "outputs": [
    {
     "data": {
      "text/plain": [
       "array([0.        , 1.        , 1.41421356, 1.73205081, 2.        ])"
      ]
     },
     "execution_count": 46,
     "metadata": {},
     "output_type": "execute_result"
    }
   ],
   "source": [
    "# Modify a vector using a function\n",
    "np.sqrt(numbers) #square root\n"
   ]
  },
  {
   "cell_type": "code",
   "execution_count": 47,
   "id": "1309b917",
   "metadata": {},
   "outputs": [
    {
     "data": {
      "text/plain": [
       "array([ 1.        ,  2.71828183,  7.3890561 , 20.08553692, 54.59815003])"
      ]
     },
     "execution_count": 47,
     "metadata": {},
     "output_type": "execute_result"
    }
   ],
   "source": [
    "np.exp(numbers) #exponentiate"
   ]
  },
  {
   "cell_type": "markdown",
   "id": "7b983dca",
   "metadata": {},
   "source": [
    "If you have two vectors of the same length, mathematical operations will occur \"element-wise\", meaning the mathematical operation will be applied to the two 1st entries, then the two 2nd entries, then the two 3rd entries, etc. For example, if we were to add our vector of the values 0 through 4 to a vector with two 0s, then two 1s, then a 0 numpy would do the following:\n",
    "\n",
    "```\n",
    "0    +     0    =    0  +  0    =    0 \n",
    "1    +     0    =    1  +  0    =    1 \n",
    "2    +     1    =    2  +  1    =    3 \n",
    "3    +     1    =    3  +  1    =    4 \n",
    "4    +     0    =    4  +  0    =    4 \n",
    "```\n",
    "\n",
    "(Obviously, numpy likes to print out vectors sideways, but personally I think of them as column vectors, so have written them out like that here).\n"
   ]
  },
  {
   "cell_type": "code",
   "execution_count": 48,
   "id": "1fd8c68a",
   "metadata": {},
   "outputs": [
    {
     "data": {
      "text/plain": [
       "array([0, 1, 3, 4, 4])"
      ]
     },
     "execution_count": 48,
     "metadata": {},
     "output_type": "execute_result"
    }
   ],
   "source": [
    "# Two vectors with the same number of elements \n",
    "numbers2 = np.array([0, 0, 1, 1, 0])\n",
    "numbers3 = numbers2 + numbers\n",
    "numbers3\n"
   ]
  },
  {
   "cell_type": "markdown",
   "id": "ba046896",
   "metadata": {},
   "source": [
    "## Summarizing vectors \n",
    "\n",
    "We often want to get summary statistics from a vector --- that is, learn something general about it by looking beyond its constituent elements. If we have a vector in which each element represents a person's height, for example, we may want to know who the shortest or tallest person is, what the median or mean height is, what the standard deviation is. \n",
    "\n",
    "For that, numpy provides a huge range of numeric functions:"
   ]
  },
  {
   "cell_type": "code",
   "execution_count": 49,
   "id": "e56b858a",
   "metadata": {},
   "outputs": [
    {
     "data": {
      "text/plain": [
       "2.0"
      ]
     },
     "execution_count": 49,
     "metadata": {},
     "output_type": "execute_result"
    }
   ],
   "source": [
    "np.mean(numbers)"
   ]
  },
  {
   "cell_type": "code",
   "execution_count": 50,
   "id": "7da84ce3",
   "metadata": {},
   "outputs": [
    {
     "data": {
      "text/plain": [
       "4"
      ]
     },
     "execution_count": 50,
     "metadata": {},
     "output_type": "execute_result"
    }
   ],
   "source": [
    "np.max(numbers)"
   ]
  },
  {
   "cell_type": "markdown",
   "id": "b1bc2081",
   "metadata": {},
   "source": [
    "Here's a short (very incomplete!) list of these kinds of functions:"
   ]
  },
  {
   "cell_type": "markdown",
   "id": "be1a8ee8",
   "metadata": {},
   "source": [
    "```python\n",
    "len(numbers) #number of elements \n",
    "np.max(numbers) #maximum value\n",
    "np.min(numbers) #minimum value\n",
    "np.sum(numbers) #sum of all values in the vector\n",
    "np.mean(numbers) #mean\n",
    "np.median(numbers) #median\n",
    "np.var(numbers) #variance\n",
    "np.sd(numbers) #standard deviation\n",
    "np.quantile(numbers) #percentiles in intervals of .25 \n",
    "```"
   ]
  },
  {
   "cell_type": "markdown",
   "id": "754fcb29",
   "metadata": {},
   "source": [
    "**Don't** worry about memorizing these or anything -- basically, you just need to have a sense of the kinds of things you can do with functions, and if you ever need one can can't remember the name of the function, you can google it to get the specific function name. "
   ]
  },
  {
   "cell_type": "markdown",
   "id": "d724418f",
   "metadata": {},
   "source": [
    "## Type Promotion"
   ]
  },
  {
   "cell_type": "markdown",
   "id": "eda1eb38",
   "metadata": {},
   "source": [
    "There's one last lesson that's worth learning about vectors, because it can get you in trouble. \n",
    "\n",
    "As noted above, vectors can only contain one type of data, but if you try pass a list with different kinds of data to `np.array`, numpy will try and be clever and *find* a way to put all that data in one array by doing something called \"Type Promotion.\" Type promotion is the practice of converting all the data you give it to the same type. For example, if I tried to create a vector by combining a string vector and a numeric vector, numpy would convert the numeric value to a string so all the data could fit in a string vector:\n"
   ]
  },
  {
   "cell_type": "code",
   "execution_count": 51,
   "id": "913b47b7",
   "metadata": {},
   "outputs": [
    {
     "data": {
      "text/plain": [
       "array(['Nick', '42'], dtype='<U21')"
      ]
     },
     "execution_count": 51,
     "metadata": {},
     "output_type": "execute_result"
    }
   ],
   "source": [
    "np.array([\"Nick\", 42])"
   ]
  },
  {
   "cell_type": "markdown",
   "id": "20b03368",
   "metadata": {},
   "source": [
    "Why did numpy convert `42` to `\"42\"` and not convert `\"Nick\"` to a numeric type? Well because `\"Nick\"` can't be represented as a numeric type in any meaningful sense while any number (like `42`) can always be represented as a character in a meaningful way.\n",
    "\n",
    "Indeed, there's a hierarchy of data types, where a type lower on the hierarchy can **always** be converted into something higher in the order, but not the other way around. That hierarchy is:\n",
    "\n",
    "`Boolean` --> `integer` --> `float` --> `string`\n",
    "\n",
    "When Python is asked to combine data of different types, it will try to move things up this hierarchy by the smallest amount possible in order to make everything the same type.\n",
    "\n",
    "(Note there are individual cases that can move backwards -- the character `\"5\"` could logically be turned into `5` -- but you can't always convert a character to a numeric, so for consistently R only moves in directions that are **always** possible. \n",
    "\n",
    "For example, if you combine `Boolean` and `float` vectors, Python will convert all of the data into `float` (Remember from our previous reading that Python thinks of `True` as being like `1`, and `False` as being like `0`).\n"
   ]
  },
  {
   "cell_type": "code",
   "execution_count": 52,
   "id": "e5cd0593",
   "metadata": {},
   "outputs": [
    {
     "data": {
      "text/plain": [
       "array([1. , 2.4, 1. ])"
      ]
     },
     "execution_count": 52,
     "metadata": {},
     "output_type": "execute_result"
    }
   ],
   "source": [
    "np.array([1, 2.4, True])"
   ]
  },
  {
   "cell_type": "markdown",
   "id": "2eca3650",
   "metadata": {},
   "source": [
    "But it **doesn't** convert that data into a `string` vector (even though it could!) because it's trying to make the smallest movements up that hierarchy that it can. \n",
    "\n",
    "But if we try to combine `Boolean`, `float`, *and* `string` data, Python would be forced to convert everything into a `string` vector:"
   ]
  },
  {
   "cell_type": "code",
   "execution_count": 53,
   "id": "6f9a9406",
   "metadata": {},
   "outputs": [
    {
     "data": {
      "text/plain": [
       "array(['True', '42', 'Julio'], dtype='<U21')"
      ]
     },
     "execution_count": 53,
     "metadata": {},
     "output_type": "execute_result"
    }
   ],
   "source": [
    "np.array([True, 42, \"Julio\"])"
   ]
  },
  {
   "cell_type": "markdown",
   "id": "10edb29d",
   "metadata": {},
   "source": [
    "## Recap\n",
    "\n",
    "- Vectors are collections of data of the same type. \n",
    "- Vectors can be created with the `np.array()` function. \n",
    "- You can easily do math between any vector and a vector of length 1, or a vector of the same length. \n",
    "- You *can* do math between vectors of different lengths that aren't length 1, but... the way it works is weird, so don't. \n",
    "- If data of different types are passed to the `np.array()` function, it will type promote them to the lowest type that can store all the input types. "
   ]
  },
  {
   "cell_type": "markdown",
   "id": "7c5d0044",
   "metadata": {},
   "source": [
    "## Next Steps\n",
    "\n",
    "Now that we're familiar with vectors, [it's time to learn to manipulate them!](manipulating_vectors.ipynb)"
   ]
  }
 ],
 "metadata": {
  "interpreter": {
   "hash": "3e0a5228cb9726a24d36227c69ed0d3aac98cecda769d1c9adb080711d57f90d"
  },
  "jupytext": {
   "cell_metadata_filter": "-all",
   "main_language": "R",
   "notebook_metadata_filter": "-all"
  },
  "kernelspec": {
   "display_name": "R",
   "language": "python",
   "name": "python3"
  },
  "language_info": {
   "codemirror_mode": {
    "name": "ipython",
    "version": 3
   },
   "file_extension": ".py",
   "mimetype": "text/x-python",
   "name": "python",
   "nbconvert_exporter": "python",
   "pygments_lexer": "ipython3",
   "version": "3.9.7"
  }
 },
 "nbformat": 4,
 "nbformat_minor": 5
}
