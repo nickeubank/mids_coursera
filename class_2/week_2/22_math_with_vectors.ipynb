{
 "cells": [
  {
   "cell_type": "markdown",
   "id": "30f88b4b",
   "metadata": {},
   "source": [
    "# Doing Math With Vectors\n",
    "\n",
    "If vectors were just for storing data, they wouldn't be super useful. But one of the best things about vectors is that we can use them to do mathematical operations efficiently.\n",
    "\n",
    "If you do math with two vectors, one of which has length one, you basically just get the operation applied to every entry.\n"
   ]
  },
  {
   "cell_type": "code",
   "execution_count": null,
   "id": "c4f22e47",
   "metadata": {},
   "outputs": [
    {
     "data": {
      "text/plain": [
       "array([0, 1, 2, 3, 4])"
      ]
     },
     "metadata": {},
     "output_type": "display_data"
    }
   ],
   "source": [
    "import numpy as np\n",
    "\n",
    "# Here's what we'll start with\n",
    "numbers = np.arange(5)\n",
    "numbers\n"
   ]
  },
  {
   "cell_type": "code",
   "execution_count": null,
   "id": "6f244ccc",
   "metadata": {},
   "outputs": [
    {
     "data": {
      "text/plain": [
       "array([0. , 0.1, 0.2, 0.3, 0.4])"
      ]
     },
     "metadata": {},
     "output_type": "display_data"
    }
   ],
   "source": [
    "# You can modify all values in a vector \n",
    "# by doing math with a vector of length 1\n",
    "numbers / 10"
   ]
  },
  {
   "cell_type": "code",
   "execution_count": null,
   "id": "a02f568a",
   "metadata": {},
   "outputs": [
    {
     "data": {
      "text/plain": [
       "array([10, 11, 12, 13, 14])"
      ]
     },
     "metadata": {},
     "output_type": "display_data"
    }
   ],
   "source": [
    "numbers + 10"
   ]
  },
  {
   "cell_type": "markdown",
   "id": "ca9adf16",
   "metadata": {},
   "source": [
    "The same thing happens with mathematical functions -- the function gets applied to each entry:"
   ]
  },
  {
   "cell_type": "code",
   "execution_count": null,
   "id": "cc8fc949",
   "metadata": {},
   "outputs": [
    {
     "data": {
      "text/plain": [
       "array([0.        , 1.        , 1.41421356, 1.73205081, 2.        ])"
      ]
     },
     "metadata": {},
     "output_type": "display_data"
    }
   ],
   "source": [
    "# Modify a vector using a function\n",
    "np.sqrt(numbers) #square root\n"
   ]
  },
  {
   "cell_type": "code",
   "execution_count": null,
   "id": "1309b917",
   "metadata": {},
   "outputs": [
    {
     "data": {
      "text/plain": [
       "array([ 1.        ,  2.71828183,  7.3890561 , 20.08553692, 54.59815003])"
      ]
     },
     "metadata": {},
     "output_type": "display_data"
    }
   ],
   "source": [
    "np.exp(numbers) #exponentiate"
   ]
  },
  {
   "cell_type": "markdown",
   "id": "7b983dca",
   "metadata": {},
   "source": [
    "If you have two vectors of the same length, mathematical operations will occur \"element-wise\", meaning the mathematical operation will be applied to the two 1st entries, then the two 2nd entries, then the two 3rd entries, etc. For example, if we were to add our vector of the values 0 through 4 to a vector with two 0s, then two 1s, then a 0 numpy would do the following:\n",
    "\n",
    "```\n",
    "0    +     0    =    0  +  0    =    0 \n",
    "1    +     0    =    1  +  0    =    1 \n",
    "2    +     1    =    2  +  1    =    3 \n",
    "3    +     1    =    3  +  1    =    4 \n",
    "4    +     0    =    4  +  0    =    4 \n",
    "```\n",
    "\n",
    "(Obviously, numpy likes to print out vectors sideways, but personally I think of them as column vectors, so have written them out like that here).\n"
   ]
  },
  {
   "cell_type": "code",
   "execution_count": null,
   "id": "1fd8c68a",
   "metadata": {},
   "outputs": [
    {
     "data": {
      "text/plain": [
       "array([0, 1, 3, 4, 4])"
      ]
     },
     "metadata": {},
     "output_type": "display_data"
    }
   ],
   "source": [
    "# Two vectors with the same number of elements \n",
    "numbers2 = np.array([0, 0, 1, 1, 0])\n",
    "numbers3 = numbers2 + numbers\n",
    "numbers3\n"
   ]
  },
  {
   "cell_type": "markdown",
   "id": "da70de46",
   "metadata": {},
   "source": [
    "However, note that one can only do this type of element-wise operation with numpy vectors if they are the same length, or you're working with scalar values / vectors of length one. If you try an operation with two vectors of different length, and one *isn't* of size one, you get an error that, for the moment, will feel a little cryptic but which we'll dive into in detail soon:\n",
    "\n",
    "```python\n",
    "vect1 = np.array([1, 2, 3])\n",
    "vect2 = np.array([1, 2, 3, 4, 5, 6])\n",
    "vect1 + vect2\n",
    "\n",
    "---------------------------------------------------------------------------\n",
    "ValueError                                Traceback (most recent call last)\n",
    "/var/folders/tj/s8f2_ks15h315z5thvtnhz8r0000gp/T/ipykernel_30350/1706447136.py in <module>\n",
    "      1 vect1 = np.array([1, 2, 3])\n",
    "      2 vect2 = np.array([1, 2, 3, 4, 5, 6])\n",
    "----> 3 vect1 + vect2\n",
    "\n",
    "ValueError: operands could not be broadcast together with shapes (3,) (6,) \n",
    "```"
   ]
  },
  {
   "cell_type": "markdown",
   "id": "ba046896",
   "metadata": {},
   "source": [
    "## Summarizing vectors \n",
    "\n",
    "We often want to get summary statistics from a vector --- that is, learn something general about it by looking beyond its constituent elements. If we have a vector in which each element represents a person's height, for example, we may want to know who the shortest or tallest person is, what the median or mean height is, what the standard deviation is. \n",
    "\n",
    "For that, numpy provides a huge range of numeric functions:"
   ]
  },
  {
   "cell_type": "code",
   "execution_count": null,
   "id": "e56b858a",
   "metadata": {},
   "outputs": [
    {
     "data": {
      "text/plain": [
       "2.0"
      ]
     },
     "metadata": {},
     "output_type": "display_data"
    }
   ],
   "source": [
    "np.mean(numbers)"
   ]
  },
  {
   "cell_type": "code",
   "execution_count": null,
   "id": "7da84ce3",
   "metadata": {},
   "outputs": [
    {
     "data": {
      "text/plain": [
       "4"
      ]
     },
     "metadata": {},
     "output_type": "display_data"
    }
   ],
   "source": [
    "np.max(numbers)"
   ]
  },
  {
   "cell_type": "markdown",
   "id": "b1bc2081",
   "metadata": {},
   "source": [
    "Here's a short (very incomplete!) list of these kinds of functions:"
   ]
  },
  {
   "cell_type": "markdown",
   "id": "be1a8ee8",
   "metadata": {},
   "source": [
    "```python\n",
    "len(numbers) #number of elements \n",
    "np.max(numbers) #maximum value\n",
    "np.min(numbers) #minimum value\n",
    "np.sum(numbers) #sum of all values in the vector\n",
    "np.mean(numbers) #mean\n",
    "np.median(numbers) #median\n",
    "np.var(numbers) #variance\n",
    "np.sd(numbers) #standard deviation\n",
    "np.quantile(numbers) #percentiles in intervals of .25 \n",
    "```"
   ]
  },
  {
   "cell_type": "markdown",
   "id": "754fcb29",
   "metadata": {},
   "source": [
    "**Don't** worry about memorizing these or anything -- basically, you just need to have a sense of the kinds of things you can do with functions, and if you ever need one can can't remember the name of the function, you can google it to get the specific function name. "
   ]
  }
 ],
 "metadata": {
  "language_info": {
   "name": "python"
  },
  "orig_nbformat": 4
 },
 "nbformat": 4,
 "nbformat_minor": 2
}
